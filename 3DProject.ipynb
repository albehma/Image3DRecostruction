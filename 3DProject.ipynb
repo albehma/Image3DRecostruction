{
  "nbformat": 4,
  "nbformat_minor": 0,
  "metadata": {
    "accelerator": "GPU",
    "colab": {
      "name": "3DProject.ipynb",
      "provenance": [],
      "collapsed_sections": [],
      "toc_visible": true,
      "include_colab_link": true
    },
    "kernelspec": {
      "display_name": "Python 3",
      "name": "python3"
    }
  },
  "cells": [
    {
      "cell_type": "markdown",
      "metadata": {
        "id": "view-in-github",
        "colab_type": "text"
      },
      "source": [
        "<a href=\"https://colab.research.google.com/github/albehma/Image3DRecostruction/blob/main/3DProject.ipynb\" target=\"_parent\"><img src=\"https://colab.research.google.com/assets/colab-badge.svg\" alt=\"Open In Colab\"/></a>"
      ]
    },
    {
      "cell_type": "markdown",
      "metadata": {
        "id": "EBelvGUMz0zb"
      },
      "source": [
        "#Project B.3 by Alberto Mautone and Arina Prostakova\n",
        "**Local feature compression using autoencoders - embedded machine learning**\n",
        "\n",
        "Design a compression strategy for local SURF descriptors using autoencoders. Training data can be generated using the images of dataset Portello\n",
        "and Castle. Testing must be done on dataset FountainP-11 and Tiso (available at https://github.com/openMVG/SfM_quality_evaluation/tree/master/Benchmarking_Camera_Calibration_2008 and http://www.dei.unipd.it/~sim1mil/materiale/3Drecon/). Software must be implemented in Python\n",
        "TF (Keras).\n",
        "\n",
        "> **Testing on ML boards**\n",
        ">\n",
        "> Final tests will be carried on ST Microelectronics chipset\n",
        "STM32L476. Using the STM suite it is possible to deploy the json and h5 models (trained in Keras) on the\n",
        "board, as well as controlling input and output. The designed autoencoder must be deployed on this ML board\n",
        "and evaluated in terms of power comsumption and speed\n",
        "(STM suite provides these diagnostics).\n",
        ">\n",
        "> Programming languages: Python.\n",
        ">\n",
        "> The ML boards are courtesy of ST Microelectronics."
      ]
    },
    {
      "cell_type": "markdown",
      "metadata": {
        "id": "56bzETaOQY3B"
      },
      "source": [
        "## Importing data using GDrive"
      ]
    },
    {
      "cell_type": "code",
      "metadata": {
        "colab": {
          "base_uri": "https://localhost:8080/"
        },
        "id": "hokSrERHSMeg",
        "outputId": "f5a0ac4f-4504-486f-980b-ffba6c593465"
      },
      "source": [
        "from google.colab import drive\n",
        "drive.mount('/gdrive', force_remount=True)"
      ],
      "execution_count": null,
      "outputs": [
        {
          "output_type": "stream",
          "text": [
            "Mounted at /gdrive\n"
          ],
          "name": "stdout"
        }
      ]
    },
    {
      "cell_type": "code",
      "metadata": {
        "colab": {
          "base_uri": "https://localhost:8080/"
        },
        "id": "xTqo-m106QFZ",
        "outputId": "3796d2ee-2971-49a1-f7eb-a414c958b5fa"
      },
      "source": [
        "cd /gdrive/My Drive/3DAR_project/"
      ],
      "execution_count": null,
      "outputs": [
        {
          "output_type": "stream",
          "text": [
            "/gdrive/.shortcut-targets-by-id/1nl7Gp0oMlyRlWl7RuNHeJ5o1UaSHy5cf/3DAR_project\n"
          ],
          "name": "stdout"
        }
      ]
    },
    {
      "cell_type": "code",
      "metadata": {
        "colab": {
          "base_uri": "https://localhost:8080/"
        },
        "id": "PQeV7RXs6Z_p",
        "outputId": "a20938c5-8585-4ed0-a13b-5a3fd6891207"
      },
      "source": [
        "ls"
      ],
      "execution_count": null,
      "outputs": [
        {
          "output_type": "stream",
          "text": [
            "autoencoder_json_100.json        autoencoder_model_tanh.h5\n",
            "autoencoder_json_100_noreg.json  autoencoder_weights_100.h5\n",
            "autoencoder_json_60.json         autoencoder_weights_100_noreg.h5\n",
            "autoencoder_model_100.h5         autoencoder_weights_60.h5\n",
            "autoencoder_model_100_noreg.h5   \u001b[0m\u001b[01;34mcastle_keypoints\u001b[0m/\n",
            "autoencoder_model_60.h5          \u001b[01;34mportello_keypoints\u001b[0m/\n",
            "autoencoder_model.h5             \u001b[01;34mtest_data\u001b[0m/\n"
          ],
          "name": "stdout"
        }
      ]
    },
    {
      "cell_type": "code",
      "metadata": {
        "id": "Mj3h0bif5Nfp"
      },
      "source": [
        "#training datasets\n",
        "portello_link = 'https://github.com/arina-pro/3d-ar-project/tree/main/portello'\n",
        "castle_link = 'https://github.com/openMVG/SfM_quality_evaluation/tree/master/Benchmarking_Camera_Calibration_2008/castle-P30/images'"
      ],
      "execution_count": null,
      "outputs": []
    },
    {
      "cell_type": "code",
      "metadata": {
        "id": "OwJohkf15c55"
      },
      "source": [
        "#testing datasets\n",
        "fountain_link = 'https://github.com/openMVG/SfM_quality_evaluation/tree/master/Benchmarking_Camera_Calibration_2008/fountain-P11/images'\n",
        "tiso_link = 'https://github.com/arina-pro/3d-ar-project/tree/main/tiso'"
      ],
      "execution_count": null,
      "outputs": []
    },
    {
      "cell_type": "markdown",
      "metadata": {
        "id": "mV_0goyYQp88"
      },
      "source": [
        "## Extracting SURF features"
      ]
    },
    {
      "cell_type": "code",
      "metadata": {
        "colab": {
          "base_uri": "https://localhost:8080/"
        },
        "id": "Lq7n6azxr2fZ",
        "outputId": "4488ce6d-8a40-4639-92f6-69597c505956"
      },
      "source": [
        "#Packages to use SURF\n",
        "!pip install opencv-python==3.4.2.17\n",
        "!pip install opencv-contrib-python==3.4.2.17"
      ],
      "execution_count": null,
      "outputs": [
        {
          "output_type": "stream",
          "text": [
            "Collecting opencv-python==3.4.2.17\n",
            "\u001b[?25l  Downloading https://files.pythonhosted.org/packages/53/e0/21c8964fa8ef50842ebefaa7346a3cf0e37b56c8ecd97ed6bd2dbe577705/opencv_python-3.4.2.17-cp36-cp36m-manylinux1_x86_64.whl (25.0MB)\n",
            "\u001b[K     |████████████████████████████████| 25.0MB 3.4MB/s \n",
            "\u001b[?25hRequirement already satisfied: numpy>=1.11.3 in /usr/local/lib/python3.6/dist-packages (from opencv-python==3.4.2.17) (1.19.4)\n",
            "\u001b[31mERROR: albumentations 0.1.12 has requirement imgaug<0.2.7,>=0.2.5, but you'll have imgaug 0.2.9 which is incompatible.\u001b[0m\n",
            "Installing collected packages: opencv-python\n",
            "  Found existing installation: opencv-python 4.1.2.30\n",
            "    Uninstalling opencv-python-4.1.2.30:\n",
            "      Successfully uninstalled opencv-python-4.1.2.30\n",
            "Successfully installed opencv-python-3.4.2.17\n",
            "Collecting opencv-contrib-python==3.4.2.17\n",
            "\u001b[?25l  Downloading https://files.pythonhosted.org/packages/61/29/fc60b2de1713aa92946992544329f20ccb5e4ba26290f403e04b7da44105/opencv_contrib_python-3.4.2.17-cp36-cp36m-manylinux1_x86_64.whl (30.6MB)\n",
            "\u001b[K     |████████████████████████████████| 30.6MB 159kB/s \n",
            "\u001b[?25hRequirement already satisfied: numpy>=1.11.3 in /usr/local/lib/python3.6/dist-packages (from opencv-contrib-python==3.4.2.17) (1.19.4)\n",
            "Installing collected packages: opencv-contrib-python\n",
            "  Found existing installation: opencv-contrib-python 4.1.2.30\n",
            "    Uninstalling opencv-contrib-python-4.1.2.30:\n",
            "      Successfully uninstalled opencv-contrib-python-4.1.2.30\n",
            "Successfully installed opencv-contrib-python-3.4.2.17\n"
          ],
          "name": "stdout"
        }
      ]
    },
    {
      "cell_type": "code",
      "metadata": {
        "id": "6dy-iP-VTibt"
      },
      "source": [
        "import numpy as np\n",
        "import pandas as pd\n",
        "import cv2\n",
        "from google.colab.patches import cv2_imshow # for image display\n",
        "from skimage import io\n",
        "from PIL import Image \n",
        "import matplotlib.pylab as plt"
      ],
      "execution_count": null,
      "outputs": []
    },
    {
      "cell_type": "code",
      "metadata": {
        "colab": {
          "base_uri": "https://localhost:8080/"
        },
        "id": "UhzhXe3LnaLb",
        "outputId": "d49316fd-3f72-4f0b-c79d-c8f8cd4d4501"
      },
      "source": [
        "#version check\n",
        "print(cv2.__version__)"
      ],
      "execution_count": null,
      "outputs": [
        {
          "output_type": "stream",
          "text": [
            "3.4.2\n"
          ],
          "name": "stdout"
        }
      ]
    },
    {
      "cell_type": "code",
      "metadata": {
        "id": "kwWAw9xFoYW_"
      },
      "source": [
        "#Getting a SURF descriptor\n",
        "surf = cv2.xfeatures2d.SURF_create() #for training we're using no threshold\n",
        "surf.setExtended(True)"
      ],
      "execution_count": null,
      "outputs": []
    },
    {
      "cell_type": "code",
      "metadata": {
        "id": "LKJCE3zNsbKr"
      },
      "source": [
        "import glob\n",
        "#PORTELLO\n",
        "path = glob.glob(\"/content/*.jpg\")\n",
        "cv_img = []\n",
        "for img in path:\n",
        "    n = cv2.imread(img)\n",
        "    cv_img.append(n)"
      ],
      "execution_count": null,
      "outputs": []
    },
    {
      "cell_type": "code",
      "metadata": {
        "id": "-lX7Q4Kcp9r8"
      },
      "source": [
        "import csv"
      ],
      "execution_count": null,
      "outputs": []
    },
    {
      "cell_type": "code",
      "metadata": {
        "colab": {
          "base_uri": "https://localhost:8080/",
          "height": 17
        },
        "id": "yCTI2vqYuHjG",
        "outputId": "51f77e44-4771-43af-a1c9-2c99f0552f3c"
      },
      "source": [
        "from google.colab import files\n",
        "\n",
        "for k in range(len(cv_img)):\n",
        "  portello = cv_img[k]\n",
        "  keypoints_surf, descriptors = surf.detectAndCompute(portello, None)\n",
        "  file_name = \"portello\" + str(k) + \".txt\"\n",
        "  File_object = open(file_name, \"w\")\n",
        "  for i in range(descriptors.shape[0]):\n",
        "    File_object.write(\"[\")\n",
        "    for j in range(descriptors.shape[1]):\n",
        "      if (j==descriptors.shape[1]-1):\n",
        "        File_object.write(str(descriptors[i][j]))\n",
        "      else:\n",
        "        File_object.write(str(descriptors[i][j])+\", \")\n",
        "    File_object.write(\"]\\n\")\n",
        "  File_object.close()\n",
        "  File_object = open(file_name, \"r\")\n",
        "  File_object.read()\n",
        "  files.download(file_name)"
      ],
      "execution_count": null,
      "outputs": [
        {
          "output_type": "display_data",
          "data": {
            "application/javascript": [
              "\n",
              "    async function download(id, filename, size) {\n",
              "      if (!google.colab.kernel.accessAllowed) {\n",
              "        return;\n",
              "      }\n",
              "      const div = document.createElement('div');\n",
              "      const label = document.createElement('label');\n",
              "      label.textContent = `Downloading \"${filename}\": `;\n",
              "      div.appendChild(label);\n",
              "      const progress = document.createElement('progress');\n",
              "      progress.max = size;\n",
              "      div.appendChild(progress);\n",
              "      document.body.appendChild(div);\n",
              "\n",
              "      const buffers = [];\n",
              "      let downloaded = 0;\n",
              "\n",
              "      const channel = await google.colab.kernel.comms.open(id);\n",
              "      // Send a message to notify the kernel that we're ready.\n",
              "      channel.send({})\n",
              "\n",
              "      for await (const message of channel.messages) {\n",
              "        // Send a message to notify the kernel that we're ready.\n",
              "        channel.send({})\n",
              "        if (message.buffers) {\n",
              "          for (const buffer of message.buffers) {\n",
              "            buffers.push(buffer);\n",
              "            downloaded += buffer.byteLength;\n",
              "            progress.value = downloaded;\n",
              "          }\n",
              "        }\n",
              "      }\n",
              "      const blob = new Blob(buffers, {type: 'application/binary'});\n",
              "      const a = document.createElement('a');\n",
              "      a.href = window.URL.createObjectURL(blob);\n",
              "      a.download = filename;\n",
              "      div.appendChild(a);\n",
              "      a.click();\n",
              "      div.remove();\n",
              "    }\n",
              "  "
            ],
            "text/plain": [
              "<IPython.core.display.Javascript object>"
            ]
          },
          "metadata": {
            "tags": []
          }
        },
        {
          "output_type": "display_data",
          "data": {
            "application/javascript": [
              "download(\"download_68bb48b4-4e63-47b7-8a0c-da3675b852ae\", \"portello0.txt\", 9802116)"
            ],
            "text/plain": [
              "<IPython.core.display.Javascript object>"
            ]
          },
          "metadata": {
            "tags": []
          }
        },
        {
          "output_type": "display_data",
          "data": {
            "application/javascript": [
              "\n",
              "    async function download(id, filename, size) {\n",
              "      if (!google.colab.kernel.accessAllowed) {\n",
              "        return;\n",
              "      }\n",
              "      const div = document.createElement('div');\n",
              "      const label = document.createElement('label');\n",
              "      label.textContent = `Downloading \"${filename}\": `;\n",
              "      div.appendChild(label);\n",
              "      const progress = document.createElement('progress');\n",
              "      progress.max = size;\n",
              "      div.appendChild(progress);\n",
              "      document.body.appendChild(div);\n",
              "\n",
              "      const buffers = [];\n",
              "      let downloaded = 0;\n",
              "\n",
              "      const channel = await google.colab.kernel.comms.open(id);\n",
              "      // Send a message to notify the kernel that we're ready.\n",
              "      channel.send({})\n",
              "\n",
              "      for await (const message of channel.messages) {\n",
              "        // Send a message to notify the kernel that we're ready.\n",
              "        channel.send({})\n",
              "        if (message.buffers) {\n",
              "          for (const buffer of message.buffers) {\n",
              "            buffers.push(buffer);\n",
              "            downloaded += buffer.byteLength;\n",
              "            progress.value = downloaded;\n",
              "          }\n",
              "        }\n",
              "      }\n",
              "      const blob = new Blob(buffers, {type: 'application/binary'});\n",
              "      const a = document.createElement('a');\n",
              "      a.href = window.URL.createObjectURL(blob);\n",
              "      a.download = filename;\n",
              "      div.appendChild(a);\n",
              "      a.click();\n",
              "      div.remove();\n",
              "    }\n",
              "  "
            ],
            "text/plain": [
              "<IPython.core.display.Javascript object>"
            ]
          },
          "metadata": {
            "tags": []
          }
        },
        {
          "output_type": "display_data",
          "data": {
            "application/javascript": [
              "download(\"download_a0cc8ee8-f7f0-4c00-af57-24394d72d227\", \"portello1.txt\", 8213734)"
            ],
            "text/plain": [
              "<IPython.core.display.Javascript object>"
            ]
          },
          "metadata": {
            "tags": []
          }
        },
        {
          "output_type": "display_data",
          "data": {
            "application/javascript": [
              "\n",
              "    async function download(id, filename, size) {\n",
              "      if (!google.colab.kernel.accessAllowed) {\n",
              "        return;\n",
              "      }\n",
              "      const div = document.createElement('div');\n",
              "      const label = document.createElement('label');\n",
              "      label.textContent = `Downloading \"${filename}\": `;\n",
              "      div.appendChild(label);\n",
              "      const progress = document.createElement('progress');\n",
              "      progress.max = size;\n",
              "      div.appendChild(progress);\n",
              "      document.body.appendChild(div);\n",
              "\n",
              "      const buffers = [];\n",
              "      let downloaded = 0;\n",
              "\n",
              "      const channel = await google.colab.kernel.comms.open(id);\n",
              "      // Send a message to notify the kernel that we're ready.\n",
              "      channel.send({})\n",
              "\n",
              "      for await (const message of channel.messages) {\n",
              "        // Send a message to notify the kernel that we're ready.\n",
              "        channel.send({})\n",
              "        if (message.buffers) {\n",
              "          for (const buffer of message.buffers) {\n",
              "            buffers.push(buffer);\n",
              "            downloaded += buffer.byteLength;\n",
              "            progress.value = downloaded;\n",
              "          }\n",
              "        }\n",
              "      }\n",
              "      const blob = new Blob(buffers, {type: 'application/binary'});\n",
              "      const a = document.createElement('a');\n",
              "      a.href = window.URL.createObjectURL(blob);\n",
              "      a.download = filename;\n",
              "      div.appendChild(a);\n",
              "      a.click();\n",
              "      div.remove();\n",
              "    }\n",
              "  "
            ],
            "text/plain": [
              "<IPython.core.display.Javascript object>"
            ]
          },
          "metadata": {
            "tags": []
          }
        },
        {
          "output_type": "display_data",
          "data": {
            "application/javascript": [
              "download(\"download_d9699fad-1955-4e72-b313-d95e91d2b9e9\", \"portello2.txt\", 8256413)"
            ],
            "text/plain": [
              "<IPython.core.display.Javascript object>"
            ]
          },
          "metadata": {
            "tags": []
          }
        },
        {
          "output_type": "display_data",
          "data": {
            "application/javascript": [
              "\n",
              "    async function download(id, filename, size) {\n",
              "      if (!google.colab.kernel.accessAllowed) {\n",
              "        return;\n",
              "      }\n",
              "      const div = document.createElement('div');\n",
              "      const label = document.createElement('label');\n",
              "      label.textContent = `Downloading \"${filename}\": `;\n",
              "      div.appendChild(label);\n",
              "      const progress = document.createElement('progress');\n",
              "      progress.max = size;\n",
              "      div.appendChild(progress);\n",
              "      document.body.appendChild(div);\n",
              "\n",
              "      const buffers = [];\n",
              "      let downloaded = 0;\n",
              "\n",
              "      const channel = await google.colab.kernel.comms.open(id);\n",
              "      // Send a message to notify the kernel that we're ready.\n",
              "      channel.send({})\n",
              "\n",
              "      for await (const message of channel.messages) {\n",
              "        // Send a message to notify the kernel that we're ready.\n",
              "        channel.send({})\n",
              "        if (message.buffers) {\n",
              "          for (const buffer of message.buffers) {\n",
              "            buffers.push(buffer);\n",
              "            downloaded += buffer.byteLength;\n",
              "            progress.value = downloaded;\n",
              "          }\n",
              "        }\n",
              "      }\n",
              "      const blob = new Blob(buffers, {type: 'application/binary'});\n",
              "      const a = document.createElement('a');\n",
              "      a.href = window.URL.createObjectURL(blob);\n",
              "      a.download = filename;\n",
              "      div.appendChild(a);\n",
              "      a.click();\n",
              "      div.remove();\n",
              "    }\n",
              "  "
            ],
            "text/plain": [
              "<IPython.core.display.Javascript object>"
            ]
          },
          "metadata": {
            "tags": []
          }
        },
        {
          "output_type": "display_data",
          "data": {
            "application/javascript": [
              "download(\"download_2b979ba6-f48d-4fe3-b1db-9f2f6620648d\", \"portello3.txt\", 7846960)"
            ],
            "text/plain": [
              "<IPython.core.display.Javascript object>"
            ]
          },
          "metadata": {
            "tags": []
          }
        },
        {
          "output_type": "display_data",
          "data": {
            "application/javascript": [
              "\n",
              "    async function download(id, filename, size) {\n",
              "      if (!google.colab.kernel.accessAllowed) {\n",
              "        return;\n",
              "      }\n",
              "      const div = document.createElement('div');\n",
              "      const label = document.createElement('label');\n",
              "      label.textContent = `Downloading \"${filename}\": `;\n",
              "      div.appendChild(label);\n",
              "      const progress = document.createElement('progress');\n",
              "      progress.max = size;\n",
              "      div.appendChild(progress);\n",
              "      document.body.appendChild(div);\n",
              "\n",
              "      const buffers = [];\n",
              "      let downloaded = 0;\n",
              "\n",
              "      const channel = await google.colab.kernel.comms.open(id);\n",
              "      // Send a message to notify the kernel that we're ready.\n",
              "      channel.send({})\n",
              "\n",
              "      for await (const message of channel.messages) {\n",
              "        // Send a message to notify the kernel that we're ready.\n",
              "        channel.send({})\n",
              "        if (message.buffers) {\n",
              "          for (const buffer of message.buffers) {\n",
              "            buffers.push(buffer);\n",
              "            downloaded += buffer.byteLength;\n",
              "            progress.value = downloaded;\n",
              "          }\n",
              "        }\n",
              "      }\n",
              "      const blob = new Blob(buffers, {type: 'application/binary'});\n",
              "      const a = document.createElement('a');\n",
              "      a.href = window.URL.createObjectURL(blob);\n",
              "      a.download = filename;\n",
              "      div.appendChild(a);\n",
              "      a.click();\n",
              "      div.remove();\n",
              "    }\n",
              "  "
            ],
            "text/plain": [
              "<IPython.core.display.Javascript object>"
            ]
          },
          "metadata": {
            "tags": []
          }
        },
        {
          "output_type": "display_data",
          "data": {
            "application/javascript": [
              "download(\"download_370a0c5d-7d18-4dda-a433-af3114c3a3ec\", \"portello4.txt\", 7693367)"
            ],
            "text/plain": [
              "<IPython.core.display.Javascript object>"
            ]
          },
          "metadata": {
            "tags": []
          }
        },
        {
          "output_type": "display_data",
          "data": {
            "application/javascript": [
              "\n",
              "    async function download(id, filename, size) {\n",
              "      if (!google.colab.kernel.accessAllowed) {\n",
              "        return;\n",
              "      }\n",
              "      const div = document.createElement('div');\n",
              "      const label = document.createElement('label');\n",
              "      label.textContent = `Downloading \"${filename}\": `;\n",
              "      div.appendChild(label);\n",
              "      const progress = document.createElement('progress');\n",
              "      progress.max = size;\n",
              "      div.appendChild(progress);\n",
              "      document.body.appendChild(div);\n",
              "\n",
              "      const buffers = [];\n",
              "      let downloaded = 0;\n",
              "\n",
              "      const channel = await google.colab.kernel.comms.open(id);\n",
              "      // Send a message to notify the kernel that we're ready.\n",
              "      channel.send({})\n",
              "\n",
              "      for await (const message of channel.messages) {\n",
              "        // Send a message to notify the kernel that we're ready.\n",
              "        channel.send({})\n",
              "        if (message.buffers) {\n",
              "          for (const buffer of message.buffers) {\n",
              "            buffers.push(buffer);\n",
              "            downloaded += buffer.byteLength;\n",
              "            progress.value = downloaded;\n",
              "          }\n",
              "        }\n",
              "      }\n",
              "      const blob = new Blob(buffers, {type: 'application/binary'});\n",
              "      const a = document.createElement('a');\n",
              "      a.href = window.URL.createObjectURL(blob);\n",
              "      a.download = filename;\n",
              "      div.appendChild(a);\n",
              "      a.click();\n",
              "      div.remove();\n",
              "    }\n",
              "  "
            ],
            "text/plain": [
              "<IPython.core.display.Javascript object>"
            ]
          },
          "metadata": {
            "tags": []
          }
        },
        {
          "output_type": "display_data",
          "data": {
            "application/javascript": [
              "download(\"download_ad21642c-82d9-462e-ab09-111ad798e290\", \"portello5.txt\", 9456870)"
            ],
            "text/plain": [
              "<IPython.core.display.Javascript object>"
            ]
          },
          "metadata": {
            "tags": []
          }
        },
        {
          "output_type": "display_data",
          "data": {
            "application/javascript": [
              "\n",
              "    async function download(id, filename, size) {\n",
              "      if (!google.colab.kernel.accessAllowed) {\n",
              "        return;\n",
              "      }\n",
              "      const div = document.createElement('div');\n",
              "      const label = document.createElement('label');\n",
              "      label.textContent = `Downloading \"${filename}\": `;\n",
              "      div.appendChild(label);\n",
              "      const progress = document.createElement('progress');\n",
              "      progress.max = size;\n",
              "      div.appendChild(progress);\n",
              "      document.body.appendChild(div);\n",
              "\n",
              "      const buffers = [];\n",
              "      let downloaded = 0;\n",
              "\n",
              "      const channel = await google.colab.kernel.comms.open(id);\n",
              "      // Send a message to notify the kernel that we're ready.\n",
              "      channel.send({})\n",
              "\n",
              "      for await (const message of channel.messages) {\n",
              "        // Send a message to notify the kernel that we're ready.\n",
              "        channel.send({})\n",
              "        if (message.buffers) {\n",
              "          for (const buffer of message.buffers) {\n",
              "            buffers.push(buffer);\n",
              "            downloaded += buffer.byteLength;\n",
              "            progress.value = downloaded;\n",
              "          }\n",
              "        }\n",
              "      }\n",
              "      const blob = new Blob(buffers, {type: 'application/binary'});\n",
              "      const a = document.createElement('a');\n",
              "      a.href = window.URL.createObjectURL(blob);\n",
              "      a.download = filename;\n",
              "      div.appendChild(a);\n",
              "      a.click();\n",
              "      div.remove();\n",
              "    }\n",
              "  "
            ],
            "text/plain": [
              "<IPython.core.display.Javascript object>"
            ]
          },
          "metadata": {
            "tags": []
          }
        },
        {
          "output_type": "display_data",
          "data": {
            "application/javascript": [
              "download(\"download_c88c8dd4-58a0-4ded-b064-75342f59f5cf\", \"portello6.txt\", 7434569)"
            ],
            "text/plain": [
              "<IPython.core.display.Javascript object>"
            ]
          },
          "metadata": {
            "tags": []
          }
        },
        {
          "output_type": "display_data",
          "data": {
            "application/javascript": [
              "\n",
              "    async function download(id, filename, size) {\n",
              "      if (!google.colab.kernel.accessAllowed) {\n",
              "        return;\n",
              "      }\n",
              "      const div = document.createElement('div');\n",
              "      const label = document.createElement('label');\n",
              "      label.textContent = `Downloading \"${filename}\": `;\n",
              "      div.appendChild(label);\n",
              "      const progress = document.createElement('progress');\n",
              "      progress.max = size;\n",
              "      div.appendChild(progress);\n",
              "      document.body.appendChild(div);\n",
              "\n",
              "      const buffers = [];\n",
              "      let downloaded = 0;\n",
              "\n",
              "      const channel = await google.colab.kernel.comms.open(id);\n",
              "      // Send a message to notify the kernel that we're ready.\n",
              "      channel.send({})\n",
              "\n",
              "      for await (const message of channel.messages) {\n",
              "        // Send a message to notify the kernel that we're ready.\n",
              "        channel.send({})\n",
              "        if (message.buffers) {\n",
              "          for (const buffer of message.buffers) {\n",
              "            buffers.push(buffer);\n",
              "            downloaded += buffer.byteLength;\n",
              "            progress.value = downloaded;\n",
              "          }\n",
              "        }\n",
              "      }\n",
              "      const blob = new Blob(buffers, {type: 'application/binary'});\n",
              "      const a = document.createElement('a');\n",
              "      a.href = window.URL.createObjectURL(blob);\n",
              "      a.download = filename;\n",
              "      div.appendChild(a);\n",
              "      a.click();\n",
              "      div.remove();\n",
              "    }\n",
              "  "
            ],
            "text/plain": [
              "<IPython.core.display.Javascript object>"
            ]
          },
          "metadata": {
            "tags": []
          }
        },
        {
          "output_type": "display_data",
          "data": {
            "application/javascript": [
              "download(\"download_ef033dc9-f6f7-4ab3-baf7-5db17632f241\", \"portello7.txt\", 8959727)"
            ],
            "text/plain": [
              "<IPython.core.display.Javascript object>"
            ]
          },
          "metadata": {
            "tags": []
          }
        },
        {
          "output_type": "display_data",
          "data": {
            "application/javascript": [
              "\n",
              "    async function download(id, filename, size) {\n",
              "      if (!google.colab.kernel.accessAllowed) {\n",
              "        return;\n",
              "      }\n",
              "      const div = document.createElement('div');\n",
              "      const label = document.createElement('label');\n",
              "      label.textContent = `Downloading \"${filename}\": `;\n",
              "      div.appendChild(label);\n",
              "      const progress = document.createElement('progress');\n",
              "      progress.max = size;\n",
              "      div.appendChild(progress);\n",
              "      document.body.appendChild(div);\n",
              "\n",
              "      const buffers = [];\n",
              "      let downloaded = 0;\n",
              "\n",
              "      const channel = await google.colab.kernel.comms.open(id);\n",
              "      // Send a message to notify the kernel that we're ready.\n",
              "      channel.send({})\n",
              "\n",
              "      for await (const message of channel.messages) {\n",
              "        // Send a message to notify the kernel that we're ready.\n",
              "        channel.send({})\n",
              "        if (message.buffers) {\n",
              "          for (const buffer of message.buffers) {\n",
              "            buffers.push(buffer);\n",
              "            downloaded += buffer.byteLength;\n",
              "            progress.value = downloaded;\n",
              "          }\n",
              "        }\n",
              "      }\n",
              "      const blob = new Blob(buffers, {type: 'application/binary'});\n",
              "      const a = document.createElement('a');\n",
              "      a.href = window.URL.createObjectURL(blob);\n",
              "      a.download = filename;\n",
              "      div.appendChild(a);\n",
              "      a.click();\n",
              "      div.remove();\n",
              "    }\n",
              "  "
            ],
            "text/plain": [
              "<IPython.core.display.Javascript object>"
            ]
          },
          "metadata": {
            "tags": []
          }
        },
        {
          "output_type": "display_data",
          "data": {
            "application/javascript": [
              "download(\"download_315719e0-e04e-4cbe-b3b2-bb2fa16e4b31\", \"portello8.txt\", 8579600)"
            ],
            "text/plain": [
              "<IPython.core.display.Javascript object>"
            ]
          },
          "metadata": {
            "tags": []
          }
        },
        {
          "output_type": "display_data",
          "data": {
            "application/javascript": [
              "\n",
              "    async function download(id, filename, size) {\n",
              "      if (!google.colab.kernel.accessAllowed) {\n",
              "        return;\n",
              "      }\n",
              "      const div = document.createElement('div');\n",
              "      const label = document.createElement('label');\n",
              "      label.textContent = `Downloading \"${filename}\": `;\n",
              "      div.appendChild(label);\n",
              "      const progress = document.createElement('progress');\n",
              "      progress.max = size;\n",
              "      div.appendChild(progress);\n",
              "      document.body.appendChild(div);\n",
              "\n",
              "      const buffers = [];\n",
              "      let downloaded = 0;\n",
              "\n",
              "      const channel = await google.colab.kernel.comms.open(id);\n",
              "      // Send a message to notify the kernel that we're ready.\n",
              "      channel.send({})\n",
              "\n",
              "      for await (const message of channel.messages) {\n",
              "        // Send a message to notify the kernel that we're ready.\n",
              "        channel.send({})\n",
              "        if (message.buffers) {\n",
              "          for (const buffer of message.buffers) {\n",
              "            buffers.push(buffer);\n",
              "            downloaded += buffer.byteLength;\n",
              "            progress.value = downloaded;\n",
              "          }\n",
              "        }\n",
              "      }\n",
              "      const blob = new Blob(buffers, {type: 'application/binary'});\n",
              "      const a = document.createElement('a');\n",
              "      a.href = window.URL.createObjectURL(blob);\n",
              "      a.download = filename;\n",
              "      div.appendChild(a);\n",
              "      a.click();\n",
              "      div.remove();\n",
              "    }\n",
              "  "
            ],
            "text/plain": [
              "<IPython.core.display.Javascript object>"
            ]
          },
          "metadata": {
            "tags": []
          }
        },
        {
          "output_type": "display_data",
          "data": {
            "application/javascript": [
              "download(\"download_06aecec9-1fee-4a7c-a89e-39579b6e3558\", \"portello9.txt\", 7505170)"
            ],
            "text/plain": [
              "<IPython.core.display.Javascript object>"
            ]
          },
          "metadata": {
            "tags": []
          }
        },
        {
          "output_type": "display_data",
          "data": {
            "application/javascript": [
              "\n",
              "    async function download(id, filename, size) {\n",
              "      if (!google.colab.kernel.accessAllowed) {\n",
              "        return;\n",
              "      }\n",
              "      const div = document.createElement('div');\n",
              "      const label = document.createElement('label');\n",
              "      label.textContent = `Downloading \"${filename}\": `;\n",
              "      div.appendChild(label);\n",
              "      const progress = document.createElement('progress');\n",
              "      progress.max = size;\n",
              "      div.appendChild(progress);\n",
              "      document.body.appendChild(div);\n",
              "\n",
              "      const buffers = [];\n",
              "      let downloaded = 0;\n",
              "\n",
              "      const channel = await google.colab.kernel.comms.open(id);\n",
              "      // Send a message to notify the kernel that we're ready.\n",
              "      channel.send({})\n",
              "\n",
              "      for await (const message of channel.messages) {\n",
              "        // Send a message to notify the kernel that we're ready.\n",
              "        channel.send({})\n",
              "        if (message.buffers) {\n",
              "          for (const buffer of message.buffers) {\n",
              "            buffers.push(buffer);\n",
              "            downloaded += buffer.byteLength;\n",
              "            progress.value = downloaded;\n",
              "          }\n",
              "        }\n",
              "      }\n",
              "      const blob = new Blob(buffers, {type: 'application/binary'});\n",
              "      const a = document.createElement('a');\n",
              "      a.href = window.URL.createObjectURL(blob);\n",
              "      a.download = filename;\n",
              "      div.appendChild(a);\n",
              "      a.click();\n",
              "      div.remove();\n",
              "    }\n",
              "  "
            ],
            "text/plain": [
              "<IPython.core.display.Javascript object>"
            ]
          },
          "metadata": {
            "tags": []
          }
        },
        {
          "output_type": "display_data",
          "data": {
            "application/javascript": [
              "download(\"download_4c555d53-3e4c-4131-aea7-65d3ca9bef71\", \"portello10.txt\", 8988807)"
            ],
            "text/plain": [
              "<IPython.core.display.Javascript object>"
            ]
          },
          "metadata": {
            "tags": []
          }
        },
        {
          "output_type": "display_data",
          "data": {
            "application/javascript": [
              "\n",
              "    async function download(id, filename, size) {\n",
              "      if (!google.colab.kernel.accessAllowed) {\n",
              "        return;\n",
              "      }\n",
              "      const div = document.createElement('div');\n",
              "      const label = document.createElement('label');\n",
              "      label.textContent = `Downloading \"${filename}\": `;\n",
              "      div.appendChild(label);\n",
              "      const progress = document.createElement('progress');\n",
              "      progress.max = size;\n",
              "      div.appendChild(progress);\n",
              "      document.body.appendChild(div);\n",
              "\n",
              "      const buffers = [];\n",
              "      let downloaded = 0;\n",
              "\n",
              "      const channel = await google.colab.kernel.comms.open(id);\n",
              "      // Send a message to notify the kernel that we're ready.\n",
              "      channel.send({})\n",
              "\n",
              "      for await (const message of channel.messages) {\n",
              "        // Send a message to notify the kernel that we're ready.\n",
              "        channel.send({})\n",
              "        if (message.buffers) {\n",
              "          for (const buffer of message.buffers) {\n",
              "            buffers.push(buffer);\n",
              "            downloaded += buffer.byteLength;\n",
              "            progress.value = downloaded;\n",
              "          }\n",
              "        }\n",
              "      }\n",
              "      const blob = new Blob(buffers, {type: 'application/binary'});\n",
              "      const a = document.createElement('a');\n",
              "      a.href = window.URL.createObjectURL(blob);\n",
              "      a.download = filename;\n",
              "      div.appendChild(a);\n",
              "      a.click();\n",
              "      div.remove();\n",
              "    }\n",
              "  "
            ],
            "text/plain": [
              "<IPython.core.display.Javascript object>"
            ]
          },
          "metadata": {
            "tags": []
          }
        },
        {
          "output_type": "display_data",
          "data": {
            "application/javascript": [
              "download(\"download_3b2b6014-b6a7-4055-9e9a-7d1955f5d7be\", \"portello11.txt\", 6463139)"
            ],
            "text/plain": [
              "<IPython.core.display.Javascript object>"
            ]
          },
          "metadata": {
            "tags": []
          }
        },
        {
          "output_type": "display_data",
          "data": {
            "application/javascript": [
              "\n",
              "    async function download(id, filename, size) {\n",
              "      if (!google.colab.kernel.accessAllowed) {\n",
              "        return;\n",
              "      }\n",
              "      const div = document.createElement('div');\n",
              "      const label = document.createElement('label');\n",
              "      label.textContent = `Downloading \"${filename}\": `;\n",
              "      div.appendChild(label);\n",
              "      const progress = document.createElement('progress');\n",
              "      progress.max = size;\n",
              "      div.appendChild(progress);\n",
              "      document.body.appendChild(div);\n",
              "\n",
              "      const buffers = [];\n",
              "      let downloaded = 0;\n",
              "\n",
              "      const channel = await google.colab.kernel.comms.open(id);\n",
              "      // Send a message to notify the kernel that we're ready.\n",
              "      channel.send({})\n",
              "\n",
              "      for await (const message of channel.messages) {\n",
              "        // Send a message to notify the kernel that we're ready.\n",
              "        channel.send({})\n",
              "        if (message.buffers) {\n",
              "          for (const buffer of message.buffers) {\n",
              "            buffers.push(buffer);\n",
              "            downloaded += buffer.byteLength;\n",
              "            progress.value = downloaded;\n",
              "          }\n",
              "        }\n",
              "      }\n",
              "      const blob = new Blob(buffers, {type: 'application/binary'});\n",
              "      const a = document.createElement('a');\n",
              "      a.href = window.URL.createObjectURL(blob);\n",
              "      a.download = filename;\n",
              "      div.appendChild(a);\n",
              "      a.click();\n",
              "      div.remove();\n",
              "    }\n",
              "  "
            ],
            "text/plain": [
              "<IPython.core.display.Javascript object>"
            ]
          },
          "metadata": {
            "tags": []
          }
        },
        {
          "output_type": "display_data",
          "data": {
            "application/javascript": [
              "download(\"download_96e8cfa8-3e18-4907-95d5-7b2a7ad5f16b\", \"portello12.txt\", 10042807)"
            ],
            "text/plain": [
              "<IPython.core.display.Javascript object>"
            ]
          },
          "metadata": {
            "tags": []
          }
        },
        {
          "output_type": "display_data",
          "data": {
            "application/javascript": [
              "\n",
              "    async function download(id, filename, size) {\n",
              "      if (!google.colab.kernel.accessAllowed) {\n",
              "        return;\n",
              "      }\n",
              "      const div = document.createElement('div');\n",
              "      const label = document.createElement('label');\n",
              "      label.textContent = `Downloading \"${filename}\": `;\n",
              "      div.appendChild(label);\n",
              "      const progress = document.createElement('progress');\n",
              "      progress.max = size;\n",
              "      div.appendChild(progress);\n",
              "      document.body.appendChild(div);\n",
              "\n",
              "      const buffers = [];\n",
              "      let downloaded = 0;\n",
              "\n",
              "      const channel = await google.colab.kernel.comms.open(id);\n",
              "      // Send a message to notify the kernel that we're ready.\n",
              "      channel.send({})\n",
              "\n",
              "      for await (const message of channel.messages) {\n",
              "        // Send a message to notify the kernel that we're ready.\n",
              "        channel.send({})\n",
              "        if (message.buffers) {\n",
              "          for (const buffer of message.buffers) {\n",
              "            buffers.push(buffer);\n",
              "            downloaded += buffer.byteLength;\n",
              "            progress.value = downloaded;\n",
              "          }\n",
              "        }\n",
              "      }\n",
              "      const blob = new Blob(buffers, {type: 'application/binary'});\n",
              "      const a = document.createElement('a');\n",
              "      a.href = window.URL.createObjectURL(blob);\n",
              "      a.download = filename;\n",
              "      div.appendChild(a);\n",
              "      a.click();\n",
              "      div.remove();\n",
              "    }\n",
              "  "
            ],
            "text/plain": [
              "<IPython.core.display.Javascript object>"
            ]
          },
          "metadata": {
            "tags": []
          }
        },
        {
          "output_type": "display_data",
          "data": {
            "application/javascript": [
              "download(\"download_041f68ec-862e-4795-a9c0-b6ee63e12bc0\", \"portello13.txt\", 7238505)"
            ],
            "text/plain": [
              "<IPython.core.display.Javascript object>"
            ]
          },
          "metadata": {
            "tags": []
          }
        },
        {
          "output_type": "display_data",
          "data": {
            "application/javascript": [
              "\n",
              "    async function download(id, filename, size) {\n",
              "      if (!google.colab.kernel.accessAllowed) {\n",
              "        return;\n",
              "      }\n",
              "      const div = document.createElement('div');\n",
              "      const label = document.createElement('label');\n",
              "      label.textContent = `Downloading \"${filename}\": `;\n",
              "      div.appendChild(label);\n",
              "      const progress = document.createElement('progress');\n",
              "      progress.max = size;\n",
              "      div.appendChild(progress);\n",
              "      document.body.appendChild(div);\n",
              "\n",
              "      const buffers = [];\n",
              "      let downloaded = 0;\n",
              "\n",
              "      const channel = await google.colab.kernel.comms.open(id);\n",
              "      // Send a message to notify the kernel that we're ready.\n",
              "      channel.send({})\n",
              "\n",
              "      for await (const message of channel.messages) {\n",
              "        // Send a message to notify the kernel that we're ready.\n",
              "        channel.send({})\n",
              "        if (message.buffers) {\n",
              "          for (const buffer of message.buffers) {\n",
              "            buffers.push(buffer);\n",
              "            downloaded += buffer.byteLength;\n",
              "            progress.value = downloaded;\n",
              "          }\n",
              "        }\n",
              "      }\n",
              "      const blob = new Blob(buffers, {type: 'application/binary'});\n",
              "      const a = document.createElement('a');\n",
              "      a.href = window.URL.createObjectURL(blob);\n",
              "      a.download = filename;\n",
              "      div.appendChild(a);\n",
              "      a.click();\n",
              "      div.remove();\n",
              "    }\n",
              "  "
            ],
            "text/plain": [
              "<IPython.core.display.Javascript object>"
            ]
          },
          "metadata": {
            "tags": []
          }
        },
        {
          "output_type": "display_data",
          "data": {
            "application/javascript": [
              "download(\"download_8172ce13-e75d-4a2b-aad6-5acb58a4cc0d\", \"portello14.txt\", 6418731)"
            ],
            "text/plain": [
              "<IPython.core.display.Javascript object>"
            ]
          },
          "metadata": {
            "tags": []
          }
        },
        {
          "output_type": "display_data",
          "data": {
            "application/javascript": [
              "\n",
              "    async function download(id, filename, size) {\n",
              "      if (!google.colab.kernel.accessAllowed) {\n",
              "        return;\n",
              "      }\n",
              "      const div = document.createElement('div');\n",
              "      const label = document.createElement('label');\n",
              "      label.textContent = `Downloading \"${filename}\": `;\n",
              "      div.appendChild(label);\n",
              "      const progress = document.createElement('progress');\n",
              "      progress.max = size;\n",
              "      div.appendChild(progress);\n",
              "      document.body.appendChild(div);\n",
              "\n",
              "      const buffers = [];\n",
              "      let downloaded = 0;\n",
              "\n",
              "      const channel = await google.colab.kernel.comms.open(id);\n",
              "      // Send a message to notify the kernel that we're ready.\n",
              "      channel.send({})\n",
              "\n",
              "      for await (const message of channel.messages) {\n",
              "        // Send a message to notify the kernel that we're ready.\n",
              "        channel.send({})\n",
              "        if (message.buffers) {\n",
              "          for (const buffer of message.buffers) {\n",
              "            buffers.push(buffer);\n",
              "            downloaded += buffer.byteLength;\n",
              "            progress.value = downloaded;\n",
              "          }\n",
              "        }\n",
              "      }\n",
              "      const blob = new Blob(buffers, {type: 'application/binary'});\n",
              "      const a = document.createElement('a');\n",
              "      a.href = window.URL.createObjectURL(blob);\n",
              "      a.download = filename;\n",
              "      div.appendChild(a);\n",
              "      a.click();\n",
              "      div.remove();\n",
              "    }\n",
              "  "
            ],
            "text/plain": [
              "<IPython.core.display.Javascript object>"
            ]
          },
          "metadata": {
            "tags": []
          }
        },
        {
          "output_type": "display_data",
          "data": {
            "application/javascript": [
              "download(\"download_5ea51378-73d4-4e58-b9a4-5b1163aa7c78\", \"portello15.txt\", 8060493)"
            ],
            "text/plain": [
              "<IPython.core.display.Javascript object>"
            ]
          },
          "metadata": {
            "tags": []
          }
        },
        {
          "output_type": "display_data",
          "data": {
            "application/javascript": [
              "\n",
              "    async function download(id, filename, size) {\n",
              "      if (!google.colab.kernel.accessAllowed) {\n",
              "        return;\n",
              "      }\n",
              "      const div = document.createElement('div');\n",
              "      const label = document.createElement('label');\n",
              "      label.textContent = `Downloading \"${filename}\": `;\n",
              "      div.appendChild(label);\n",
              "      const progress = document.createElement('progress');\n",
              "      progress.max = size;\n",
              "      div.appendChild(progress);\n",
              "      document.body.appendChild(div);\n",
              "\n",
              "      const buffers = [];\n",
              "      let downloaded = 0;\n",
              "\n",
              "      const channel = await google.colab.kernel.comms.open(id);\n",
              "      // Send a message to notify the kernel that we're ready.\n",
              "      channel.send({})\n",
              "\n",
              "      for await (const message of channel.messages) {\n",
              "        // Send a message to notify the kernel that we're ready.\n",
              "        channel.send({})\n",
              "        if (message.buffers) {\n",
              "          for (const buffer of message.buffers) {\n",
              "            buffers.push(buffer);\n",
              "            downloaded += buffer.byteLength;\n",
              "            progress.value = downloaded;\n",
              "          }\n",
              "        }\n",
              "      }\n",
              "      const blob = new Blob(buffers, {type: 'application/binary'});\n",
              "      const a = document.createElement('a');\n",
              "      a.href = window.URL.createObjectURL(blob);\n",
              "      a.download = filename;\n",
              "      div.appendChild(a);\n",
              "      a.click();\n",
              "      div.remove();\n",
              "    }\n",
              "  "
            ],
            "text/plain": [
              "<IPython.core.display.Javascript object>"
            ]
          },
          "metadata": {
            "tags": []
          }
        },
        {
          "output_type": "display_data",
          "data": {
            "application/javascript": [
              "download(\"download_390e3242-6b4f-467b-8ef0-29269cf4828d\", \"portello16.txt\", 9182393)"
            ],
            "text/plain": [
              "<IPython.core.display.Javascript object>"
            ]
          },
          "metadata": {
            "tags": []
          }
        },
        {
          "output_type": "display_data",
          "data": {
            "application/javascript": [
              "\n",
              "    async function download(id, filename, size) {\n",
              "      if (!google.colab.kernel.accessAllowed) {\n",
              "        return;\n",
              "      }\n",
              "      const div = document.createElement('div');\n",
              "      const label = document.createElement('label');\n",
              "      label.textContent = `Downloading \"${filename}\": `;\n",
              "      div.appendChild(label);\n",
              "      const progress = document.createElement('progress');\n",
              "      progress.max = size;\n",
              "      div.appendChild(progress);\n",
              "      document.body.appendChild(div);\n",
              "\n",
              "      const buffers = [];\n",
              "      let downloaded = 0;\n",
              "\n",
              "      const channel = await google.colab.kernel.comms.open(id);\n",
              "      // Send a message to notify the kernel that we're ready.\n",
              "      channel.send({})\n",
              "\n",
              "      for await (const message of channel.messages) {\n",
              "        // Send a message to notify the kernel that we're ready.\n",
              "        channel.send({})\n",
              "        if (message.buffers) {\n",
              "          for (const buffer of message.buffers) {\n",
              "            buffers.push(buffer);\n",
              "            downloaded += buffer.byteLength;\n",
              "            progress.value = downloaded;\n",
              "          }\n",
              "        }\n",
              "      }\n",
              "      const blob = new Blob(buffers, {type: 'application/binary'});\n",
              "      const a = document.createElement('a');\n",
              "      a.href = window.URL.createObjectURL(blob);\n",
              "      a.download = filename;\n",
              "      div.appendChild(a);\n",
              "      a.click();\n",
              "      div.remove();\n",
              "    }\n",
              "  "
            ],
            "text/plain": [
              "<IPython.core.display.Javascript object>"
            ]
          },
          "metadata": {
            "tags": []
          }
        },
        {
          "output_type": "display_data",
          "data": {
            "application/javascript": [
              "download(\"download_c19b054e-b1d4-4ef2-bffa-293f9a70df0e\", \"portello17.txt\", 8150665)"
            ],
            "text/plain": [
              "<IPython.core.display.Javascript object>"
            ]
          },
          "metadata": {
            "tags": []
          }
        },
        {
          "output_type": "display_data",
          "data": {
            "application/javascript": [
              "\n",
              "    async function download(id, filename, size) {\n",
              "      if (!google.colab.kernel.accessAllowed) {\n",
              "        return;\n",
              "      }\n",
              "      const div = document.createElement('div');\n",
              "      const label = document.createElement('label');\n",
              "      label.textContent = `Downloading \"${filename}\": `;\n",
              "      div.appendChild(label);\n",
              "      const progress = document.createElement('progress');\n",
              "      progress.max = size;\n",
              "      div.appendChild(progress);\n",
              "      document.body.appendChild(div);\n",
              "\n",
              "      const buffers = [];\n",
              "      let downloaded = 0;\n",
              "\n",
              "      const channel = await google.colab.kernel.comms.open(id);\n",
              "      // Send a message to notify the kernel that we're ready.\n",
              "      channel.send({})\n",
              "\n",
              "      for await (const message of channel.messages) {\n",
              "        // Send a message to notify the kernel that we're ready.\n",
              "        channel.send({})\n",
              "        if (message.buffers) {\n",
              "          for (const buffer of message.buffers) {\n",
              "            buffers.push(buffer);\n",
              "            downloaded += buffer.byteLength;\n",
              "            progress.value = downloaded;\n",
              "          }\n",
              "        }\n",
              "      }\n",
              "      const blob = new Blob(buffers, {type: 'application/binary'});\n",
              "      const a = document.createElement('a');\n",
              "      a.href = window.URL.createObjectURL(blob);\n",
              "      a.download = filename;\n",
              "      div.appendChild(a);\n",
              "      a.click();\n",
              "      div.remove();\n",
              "    }\n",
              "  "
            ],
            "text/plain": [
              "<IPython.core.display.Javascript object>"
            ]
          },
          "metadata": {
            "tags": []
          }
        },
        {
          "output_type": "display_data",
          "data": {
            "application/javascript": [
              "download(\"download_d366830d-0f61-4876-863a-93e75603b902\", \"portello18.txt\", 7533799)"
            ],
            "text/plain": [
              "<IPython.core.display.Javascript object>"
            ]
          },
          "metadata": {
            "tags": []
          }
        },
        {
          "output_type": "display_data",
          "data": {
            "application/javascript": [
              "\n",
              "    async function download(id, filename, size) {\n",
              "      if (!google.colab.kernel.accessAllowed) {\n",
              "        return;\n",
              "      }\n",
              "      const div = document.createElement('div');\n",
              "      const label = document.createElement('label');\n",
              "      label.textContent = `Downloading \"${filename}\": `;\n",
              "      div.appendChild(label);\n",
              "      const progress = document.createElement('progress');\n",
              "      progress.max = size;\n",
              "      div.appendChild(progress);\n",
              "      document.body.appendChild(div);\n",
              "\n",
              "      const buffers = [];\n",
              "      let downloaded = 0;\n",
              "\n",
              "      const channel = await google.colab.kernel.comms.open(id);\n",
              "      // Send a message to notify the kernel that we're ready.\n",
              "      channel.send({})\n",
              "\n",
              "      for await (const message of channel.messages) {\n",
              "        // Send a message to notify the kernel that we're ready.\n",
              "        channel.send({})\n",
              "        if (message.buffers) {\n",
              "          for (const buffer of message.buffers) {\n",
              "            buffers.push(buffer);\n",
              "            downloaded += buffer.byteLength;\n",
              "            progress.value = downloaded;\n",
              "          }\n",
              "        }\n",
              "      }\n",
              "      const blob = new Blob(buffers, {type: 'application/binary'});\n",
              "      const a = document.createElement('a');\n",
              "      a.href = window.URL.createObjectURL(blob);\n",
              "      a.download = filename;\n",
              "      div.appendChild(a);\n",
              "      a.click();\n",
              "      div.remove();\n",
              "    }\n",
              "  "
            ],
            "text/plain": [
              "<IPython.core.display.Javascript object>"
            ]
          },
          "metadata": {
            "tags": []
          }
        },
        {
          "output_type": "display_data",
          "data": {
            "application/javascript": [
              "download(\"download_23d2085f-2fc7-449c-bf6d-f387e076a19f\", \"portello19.txt\", 8220660)"
            ],
            "text/plain": [
              "<IPython.core.display.Javascript object>"
            ]
          },
          "metadata": {
            "tags": []
          }
        },
        {
          "output_type": "display_data",
          "data": {
            "application/javascript": [
              "\n",
              "    async function download(id, filename, size) {\n",
              "      if (!google.colab.kernel.accessAllowed) {\n",
              "        return;\n",
              "      }\n",
              "      const div = document.createElement('div');\n",
              "      const label = document.createElement('label');\n",
              "      label.textContent = `Downloading \"${filename}\": `;\n",
              "      div.appendChild(label);\n",
              "      const progress = document.createElement('progress');\n",
              "      progress.max = size;\n",
              "      div.appendChild(progress);\n",
              "      document.body.appendChild(div);\n",
              "\n",
              "      const buffers = [];\n",
              "      let downloaded = 0;\n",
              "\n",
              "      const channel = await google.colab.kernel.comms.open(id);\n",
              "      // Send a message to notify the kernel that we're ready.\n",
              "      channel.send({})\n",
              "\n",
              "      for await (const message of channel.messages) {\n",
              "        // Send a message to notify the kernel that we're ready.\n",
              "        channel.send({})\n",
              "        if (message.buffers) {\n",
              "          for (const buffer of message.buffers) {\n",
              "            buffers.push(buffer);\n",
              "            downloaded += buffer.byteLength;\n",
              "            progress.value = downloaded;\n",
              "          }\n",
              "        }\n",
              "      }\n",
              "      const blob = new Blob(buffers, {type: 'application/binary'});\n",
              "      const a = document.createElement('a');\n",
              "      a.href = window.URL.createObjectURL(blob);\n",
              "      a.download = filename;\n",
              "      div.appendChild(a);\n",
              "      a.click();\n",
              "      div.remove();\n",
              "    }\n",
              "  "
            ],
            "text/plain": [
              "<IPython.core.display.Javascript object>"
            ]
          },
          "metadata": {
            "tags": []
          }
        },
        {
          "output_type": "display_data",
          "data": {
            "application/javascript": [
              "download(\"download_f2d549ce-3cc0-4502-b9cb-016c3e24a478\", \"portello20.txt\", 8422607)"
            ],
            "text/plain": [
              "<IPython.core.display.Javascript object>"
            ]
          },
          "metadata": {
            "tags": []
          }
        },
        {
          "output_type": "display_data",
          "data": {
            "application/javascript": [
              "\n",
              "    async function download(id, filename, size) {\n",
              "      if (!google.colab.kernel.accessAllowed) {\n",
              "        return;\n",
              "      }\n",
              "      const div = document.createElement('div');\n",
              "      const label = document.createElement('label');\n",
              "      label.textContent = `Downloading \"${filename}\": `;\n",
              "      div.appendChild(label);\n",
              "      const progress = document.createElement('progress');\n",
              "      progress.max = size;\n",
              "      div.appendChild(progress);\n",
              "      document.body.appendChild(div);\n",
              "\n",
              "      const buffers = [];\n",
              "      let downloaded = 0;\n",
              "\n",
              "      const channel = await google.colab.kernel.comms.open(id);\n",
              "      // Send a message to notify the kernel that we're ready.\n",
              "      channel.send({})\n",
              "\n",
              "      for await (const message of channel.messages) {\n",
              "        // Send a message to notify the kernel that we're ready.\n",
              "        channel.send({})\n",
              "        if (message.buffers) {\n",
              "          for (const buffer of message.buffers) {\n",
              "            buffers.push(buffer);\n",
              "            downloaded += buffer.byteLength;\n",
              "            progress.value = downloaded;\n",
              "          }\n",
              "        }\n",
              "      }\n",
              "      const blob = new Blob(buffers, {type: 'application/binary'});\n",
              "      const a = document.createElement('a');\n",
              "      a.href = window.URL.createObjectURL(blob);\n",
              "      a.download = filename;\n",
              "      div.appendChild(a);\n",
              "      a.click();\n",
              "      div.remove();\n",
              "    }\n",
              "  "
            ],
            "text/plain": [
              "<IPython.core.display.Javascript object>"
            ]
          },
          "metadata": {
            "tags": []
          }
        },
        {
          "output_type": "display_data",
          "data": {
            "application/javascript": [
              "download(\"download_91b88994-00bc-4563-a5a0-50be5afd7f52\", \"portello21.txt\", 6939217)"
            ],
            "text/plain": [
              "<IPython.core.display.Javascript object>"
            ]
          },
          "metadata": {
            "tags": []
          }
        },
        {
          "output_type": "display_data",
          "data": {
            "application/javascript": [
              "\n",
              "    async function download(id, filename, size) {\n",
              "      if (!google.colab.kernel.accessAllowed) {\n",
              "        return;\n",
              "      }\n",
              "      const div = document.createElement('div');\n",
              "      const label = document.createElement('label');\n",
              "      label.textContent = `Downloading \"${filename}\": `;\n",
              "      div.appendChild(label);\n",
              "      const progress = document.createElement('progress');\n",
              "      progress.max = size;\n",
              "      div.appendChild(progress);\n",
              "      document.body.appendChild(div);\n",
              "\n",
              "      const buffers = [];\n",
              "      let downloaded = 0;\n",
              "\n",
              "      const channel = await google.colab.kernel.comms.open(id);\n",
              "      // Send a message to notify the kernel that we're ready.\n",
              "      channel.send({})\n",
              "\n",
              "      for await (const message of channel.messages) {\n",
              "        // Send a message to notify the kernel that we're ready.\n",
              "        channel.send({})\n",
              "        if (message.buffers) {\n",
              "          for (const buffer of message.buffers) {\n",
              "            buffers.push(buffer);\n",
              "            downloaded += buffer.byteLength;\n",
              "            progress.value = downloaded;\n",
              "          }\n",
              "        }\n",
              "      }\n",
              "      const blob = new Blob(buffers, {type: 'application/binary'});\n",
              "      const a = document.createElement('a');\n",
              "      a.href = window.URL.createObjectURL(blob);\n",
              "      a.download = filename;\n",
              "      div.appendChild(a);\n",
              "      a.click();\n",
              "      div.remove();\n",
              "    }\n",
              "  "
            ],
            "text/plain": [
              "<IPython.core.display.Javascript object>"
            ]
          },
          "metadata": {
            "tags": []
          }
        },
        {
          "output_type": "display_data",
          "data": {
            "application/javascript": [
              "download(\"download_0ee6cfa7-80fc-4222-b381-79135f0afac2\", \"portello22.txt\", 9219085)"
            ],
            "text/plain": [
              "<IPython.core.display.Javascript object>"
            ]
          },
          "metadata": {
            "tags": []
          }
        },
        {
          "output_type": "display_data",
          "data": {
            "application/javascript": [
              "\n",
              "    async function download(id, filename, size) {\n",
              "      if (!google.colab.kernel.accessAllowed) {\n",
              "        return;\n",
              "      }\n",
              "      const div = document.createElement('div');\n",
              "      const label = document.createElement('label');\n",
              "      label.textContent = `Downloading \"${filename}\": `;\n",
              "      div.appendChild(label);\n",
              "      const progress = document.createElement('progress');\n",
              "      progress.max = size;\n",
              "      div.appendChild(progress);\n",
              "      document.body.appendChild(div);\n",
              "\n",
              "      const buffers = [];\n",
              "      let downloaded = 0;\n",
              "\n",
              "      const channel = await google.colab.kernel.comms.open(id);\n",
              "      // Send a message to notify the kernel that we're ready.\n",
              "      channel.send({})\n",
              "\n",
              "      for await (const message of channel.messages) {\n",
              "        // Send a message to notify the kernel that we're ready.\n",
              "        channel.send({})\n",
              "        if (message.buffers) {\n",
              "          for (const buffer of message.buffers) {\n",
              "            buffers.push(buffer);\n",
              "            downloaded += buffer.byteLength;\n",
              "            progress.value = downloaded;\n",
              "          }\n",
              "        }\n",
              "      }\n",
              "      const blob = new Blob(buffers, {type: 'application/binary'});\n",
              "      const a = document.createElement('a');\n",
              "      a.href = window.URL.createObjectURL(blob);\n",
              "      a.download = filename;\n",
              "      div.appendChild(a);\n",
              "      a.click();\n",
              "      div.remove();\n",
              "    }\n",
              "  "
            ],
            "text/plain": [
              "<IPython.core.display.Javascript object>"
            ]
          },
          "metadata": {
            "tags": []
          }
        },
        {
          "output_type": "display_data",
          "data": {
            "application/javascript": [
              "download(\"download_6c3ce812-8adb-4e58-bb15-9b34d173b37c\", \"portello23.txt\", 9894268)"
            ],
            "text/plain": [
              "<IPython.core.display.Javascript object>"
            ]
          },
          "metadata": {
            "tags": []
          }
        },
        {
          "output_type": "display_data",
          "data": {
            "application/javascript": [
              "\n",
              "    async function download(id, filename, size) {\n",
              "      if (!google.colab.kernel.accessAllowed) {\n",
              "        return;\n",
              "      }\n",
              "      const div = document.createElement('div');\n",
              "      const label = document.createElement('label');\n",
              "      label.textContent = `Downloading \"${filename}\": `;\n",
              "      div.appendChild(label);\n",
              "      const progress = document.createElement('progress');\n",
              "      progress.max = size;\n",
              "      div.appendChild(progress);\n",
              "      document.body.appendChild(div);\n",
              "\n",
              "      const buffers = [];\n",
              "      let downloaded = 0;\n",
              "\n",
              "      const channel = await google.colab.kernel.comms.open(id);\n",
              "      // Send a message to notify the kernel that we're ready.\n",
              "      channel.send({})\n",
              "\n",
              "      for await (const message of channel.messages) {\n",
              "        // Send a message to notify the kernel that we're ready.\n",
              "        channel.send({})\n",
              "        if (message.buffers) {\n",
              "          for (const buffer of message.buffers) {\n",
              "            buffers.push(buffer);\n",
              "            downloaded += buffer.byteLength;\n",
              "            progress.value = downloaded;\n",
              "          }\n",
              "        }\n",
              "      }\n",
              "      const blob = new Blob(buffers, {type: 'application/binary'});\n",
              "      const a = document.createElement('a');\n",
              "      a.href = window.URL.createObjectURL(blob);\n",
              "      a.download = filename;\n",
              "      div.appendChild(a);\n",
              "      a.click();\n",
              "      div.remove();\n",
              "    }\n",
              "  "
            ],
            "text/plain": [
              "<IPython.core.display.Javascript object>"
            ]
          },
          "metadata": {
            "tags": []
          }
        },
        {
          "output_type": "display_data",
          "data": {
            "application/javascript": [
              "download(\"download_193192b9-1710-4884-bcdd-4e4e6a84df77\", \"portello24.txt\", 7538632)"
            ],
            "text/plain": [
              "<IPython.core.display.Javascript object>"
            ]
          },
          "metadata": {
            "tags": []
          }
        },
        {
          "output_type": "display_data",
          "data": {
            "application/javascript": [
              "\n",
              "    async function download(id, filename, size) {\n",
              "      if (!google.colab.kernel.accessAllowed) {\n",
              "        return;\n",
              "      }\n",
              "      const div = document.createElement('div');\n",
              "      const label = document.createElement('label');\n",
              "      label.textContent = `Downloading \"${filename}\": `;\n",
              "      div.appendChild(label);\n",
              "      const progress = document.createElement('progress');\n",
              "      progress.max = size;\n",
              "      div.appendChild(progress);\n",
              "      document.body.appendChild(div);\n",
              "\n",
              "      const buffers = [];\n",
              "      let downloaded = 0;\n",
              "\n",
              "      const channel = await google.colab.kernel.comms.open(id);\n",
              "      // Send a message to notify the kernel that we're ready.\n",
              "      channel.send({})\n",
              "\n",
              "      for await (const message of channel.messages) {\n",
              "        // Send a message to notify the kernel that we're ready.\n",
              "        channel.send({})\n",
              "        if (message.buffers) {\n",
              "          for (const buffer of message.buffers) {\n",
              "            buffers.push(buffer);\n",
              "            downloaded += buffer.byteLength;\n",
              "            progress.value = downloaded;\n",
              "          }\n",
              "        }\n",
              "      }\n",
              "      const blob = new Blob(buffers, {type: 'application/binary'});\n",
              "      const a = document.createElement('a');\n",
              "      a.href = window.URL.createObjectURL(blob);\n",
              "      a.download = filename;\n",
              "      div.appendChild(a);\n",
              "      a.click();\n",
              "      div.remove();\n",
              "    }\n",
              "  "
            ],
            "text/plain": [
              "<IPython.core.display.Javascript object>"
            ]
          },
          "metadata": {
            "tags": []
          }
        },
        {
          "output_type": "display_data",
          "data": {
            "application/javascript": [
              "download(\"download_f69c3729-3355-429e-9c54-7b633dc170d1\", \"portello25.txt\", 7138665)"
            ],
            "text/plain": [
              "<IPython.core.display.Javascript object>"
            ]
          },
          "metadata": {
            "tags": []
          }
        },
        {
          "output_type": "display_data",
          "data": {
            "application/javascript": [
              "\n",
              "    async function download(id, filename, size) {\n",
              "      if (!google.colab.kernel.accessAllowed) {\n",
              "        return;\n",
              "      }\n",
              "      const div = document.createElement('div');\n",
              "      const label = document.createElement('label');\n",
              "      label.textContent = `Downloading \"${filename}\": `;\n",
              "      div.appendChild(label);\n",
              "      const progress = document.createElement('progress');\n",
              "      progress.max = size;\n",
              "      div.appendChild(progress);\n",
              "      document.body.appendChild(div);\n",
              "\n",
              "      const buffers = [];\n",
              "      let downloaded = 0;\n",
              "\n",
              "      const channel = await google.colab.kernel.comms.open(id);\n",
              "      // Send a message to notify the kernel that we're ready.\n",
              "      channel.send({})\n",
              "\n",
              "      for await (const message of channel.messages) {\n",
              "        // Send a message to notify the kernel that we're ready.\n",
              "        channel.send({})\n",
              "        if (message.buffers) {\n",
              "          for (const buffer of message.buffers) {\n",
              "            buffers.push(buffer);\n",
              "            downloaded += buffer.byteLength;\n",
              "            progress.value = downloaded;\n",
              "          }\n",
              "        }\n",
              "      }\n",
              "      const blob = new Blob(buffers, {type: 'application/binary'});\n",
              "      const a = document.createElement('a');\n",
              "      a.href = window.URL.createObjectURL(blob);\n",
              "      a.download = filename;\n",
              "      div.appendChild(a);\n",
              "      a.click();\n",
              "      div.remove();\n",
              "    }\n",
              "  "
            ],
            "text/plain": [
              "<IPython.core.display.Javascript object>"
            ]
          },
          "metadata": {
            "tags": []
          }
        },
        {
          "output_type": "display_data",
          "data": {
            "application/javascript": [
              "download(\"download_7f86f69d-a973-469a-b395-98f6e9133aac\", \"portello26.txt\", 6572035)"
            ],
            "text/plain": [
              "<IPython.core.display.Javascript object>"
            ]
          },
          "metadata": {
            "tags": []
          }
        },
        {
          "output_type": "display_data",
          "data": {
            "application/javascript": [
              "\n",
              "    async function download(id, filename, size) {\n",
              "      if (!google.colab.kernel.accessAllowed) {\n",
              "        return;\n",
              "      }\n",
              "      const div = document.createElement('div');\n",
              "      const label = document.createElement('label');\n",
              "      label.textContent = `Downloading \"${filename}\": `;\n",
              "      div.appendChild(label);\n",
              "      const progress = document.createElement('progress');\n",
              "      progress.max = size;\n",
              "      div.appendChild(progress);\n",
              "      document.body.appendChild(div);\n",
              "\n",
              "      const buffers = [];\n",
              "      let downloaded = 0;\n",
              "\n",
              "      const channel = await google.colab.kernel.comms.open(id);\n",
              "      // Send a message to notify the kernel that we're ready.\n",
              "      channel.send({})\n",
              "\n",
              "      for await (const message of channel.messages) {\n",
              "        // Send a message to notify the kernel that we're ready.\n",
              "        channel.send({})\n",
              "        if (message.buffers) {\n",
              "          for (const buffer of message.buffers) {\n",
              "            buffers.push(buffer);\n",
              "            downloaded += buffer.byteLength;\n",
              "            progress.value = downloaded;\n",
              "          }\n",
              "        }\n",
              "      }\n",
              "      const blob = new Blob(buffers, {type: 'application/binary'});\n",
              "      const a = document.createElement('a');\n",
              "      a.href = window.URL.createObjectURL(blob);\n",
              "      a.download = filename;\n",
              "      div.appendChild(a);\n",
              "      a.click();\n",
              "      div.remove();\n",
              "    }\n",
              "  "
            ],
            "text/plain": [
              "<IPython.core.display.Javascript object>"
            ]
          },
          "metadata": {
            "tags": []
          }
        },
        {
          "output_type": "display_data",
          "data": {
            "application/javascript": [
              "download(\"download_062d9b09-06ef-4c85-8f4e-725b62e2145d\", \"portello27.txt\", 6756479)"
            ],
            "text/plain": [
              "<IPython.core.display.Javascript object>"
            ]
          },
          "metadata": {
            "tags": []
          }
        },
        {
          "output_type": "display_data",
          "data": {
            "application/javascript": [
              "\n",
              "    async function download(id, filename, size) {\n",
              "      if (!google.colab.kernel.accessAllowed) {\n",
              "        return;\n",
              "      }\n",
              "      const div = document.createElement('div');\n",
              "      const label = document.createElement('label');\n",
              "      label.textContent = `Downloading \"${filename}\": `;\n",
              "      div.appendChild(label);\n",
              "      const progress = document.createElement('progress');\n",
              "      progress.max = size;\n",
              "      div.appendChild(progress);\n",
              "      document.body.appendChild(div);\n",
              "\n",
              "      const buffers = [];\n",
              "      let downloaded = 0;\n",
              "\n",
              "      const channel = await google.colab.kernel.comms.open(id);\n",
              "      // Send a message to notify the kernel that we're ready.\n",
              "      channel.send({})\n",
              "\n",
              "      for await (const message of channel.messages) {\n",
              "        // Send a message to notify the kernel that we're ready.\n",
              "        channel.send({})\n",
              "        if (message.buffers) {\n",
              "          for (const buffer of message.buffers) {\n",
              "            buffers.push(buffer);\n",
              "            downloaded += buffer.byteLength;\n",
              "            progress.value = downloaded;\n",
              "          }\n",
              "        }\n",
              "      }\n",
              "      const blob = new Blob(buffers, {type: 'application/binary'});\n",
              "      const a = document.createElement('a');\n",
              "      a.href = window.URL.createObjectURL(blob);\n",
              "      a.download = filename;\n",
              "      div.appendChild(a);\n",
              "      a.click();\n",
              "      div.remove();\n",
              "    }\n",
              "  "
            ],
            "text/plain": [
              "<IPython.core.display.Javascript object>"
            ]
          },
          "metadata": {
            "tags": []
          }
        },
        {
          "output_type": "display_data",
          "data": {
            "application/javascript": [
              "download(\"download_51096038-da8e-4ba6-9ff1-de478776538e\", \"portello28.txt\", 9905101)"
            ],
            "text/plain": [
              "<IPython.core.display.Javascript object>"
            ]
          },
          "metadata": {
            "tags": []
          }
        },
        {
          "output_type": "display_data",
          "data": {
            "application/javascript": [
              "\n",
              "    async function download(id, filename, size) {\n",
              "      if (!google.colab.kernel.accessAllowed) {\n",
              "        return;\n",
              "      }\n",
              "      const div = document.createElement('div');\n",
              "      const label = document.createElement('label');\n",
              "      label.textContent = `Downloading \"${filename}\": `;\n",
              "      div.appendChild(label);\n",
              "      const progress = document.createElement('progress');\n",
              "      progress.max = size;\n",
              "      div.appendChild(progress);\n",
              "      document.body.appendChild(div);\n",
              "\n",
              "      const buffers = [];\n",
              "      let downloaded = 0;\n",
              "\n",
              "      const channel = await google.colab.kernel.comms.open(id);\n",
              "      // Send a message to notify the kernel that we're ready.\n",
              "      channel.send({})\n",
              "\n",
              "      for await (const message of channel.messages) {\n",
              "        // Send a message to notify the kernel that we're ready.\n",
              "        channel.send({})\n",
              "        if (message.buffers) {\n",
              "          for (const buffer of message.buffers) {\n",
              "            buffers.push(buffer);\n",
              "            downloaded += buffer.byteLength;\n",
              "            progress.value = downloaded;\n",
              "          }\n",
              "        }\n",
              "      }\n",
              "      const blob = new Blob(buffers, {type: 'application/binary'});\n",
              "      const a = document.createElement('a');\n",
              "      a.href = window.URL.createObjectURL(blob);\n",
              "      a.download = filename;\n",
              "      div.appendChild(a);\n",
              "      a.click();\n",
              "      div.remove();\n",
              "    }\n",
              "  "
            ],
            "text/plain": [
              "<IPython.core.display.Javascript object>"
            ]
          },
          "metadata": {
            "tags": []
          }
        },
        {
          "output_type": "display_data",
          "data": {
            "application/javascript": [
              "download(\"download_a3105ee4-4920-4678-a596-f9e2bf2d4c71\", \"portello29.txt\", 8882621)"
            ],
            "text/plain": [
              "<IPython.core.display.Javascript object>"
            ]
          },
          "metadata": {
            "tags": []
          }
        },
        {
          "output_type": "display_data",
          "data": {
            "application/javascript": [
              "\n",
              "    async function download(id, filename, size) {\n",
              "      if (!google.colab.kernel.accessAllowed) {\n",
              "        return;\n",
              "      }\n",
              "      const div = document.createElement('div');\n",
              "      const label = document.createElement('label');\n",
              "      label.textContent = `Downloading \"${filename}\": `;\n",
              "      div.appendChild(label);\n",
              "      const progress = document.createElement('progress');\n",
              "      progress.max = size;\n",
              "      div.appendChild(progress);\n",
              "      document.body.appendChild(div);\n",
              "\n",
              "      const buffers = [];\n",
              "      let downloaded = 0;\n",
              "\n",
              "      const channel = await google.colab.kernel.comms.open(id);\n",
              "      // Send a message to notify the kernel that we're ready.\n",
              "      channel.send({})\n",
              "\n",
              "      for await (const message of channel.messages) {\n",
              "        // Send a message to notify the kernel that we're ready.\n",
              "        channel.send({})\n",
              "        if (message.buffers) {\n",
              "          for (const buffer of message.buffers) {\n",
              "            buffers.push(buffer);\n",
              "            downloaded += buffer.byteLength;\n",
              "            progress.value = downloaded;\n",
              "          }\n",
              "        }\n",
              "      }\n",
              "      const blob = new Blob(buffers, {type: 'application/binary'});\n",
              "      const a = document.createElement('a');\n",
              "      a.href = window.URL.createObjectURL(blob);\n",
              "      a.download = filename;\n",
              "      div.appendChild(a);\n",
              "      a.click();\n",
              "      div.remove();\n",
              "    }\n",
              "  "
            ],
            "text/plain": [
              "<IPython.core.display.Javascript object>"
            ]
          },
          "metadata": {
            "tags": []
          }
        },
        {
          "output_type": "display_data",
          "data": {
            "application/javascript": [
              "download(\"download_7796ea1e-5b4b-47f6-90b9-f33ec506b47e\", \"portello30.txt\", 8799438)"
            ],
            "text/plain": [
              "<IPython.core.display.Javascript object>"
            ]
          },
          "metadata": {
            "tags": []
          }
        },
        {
          "output_type": "display_data",
          "data": {
            "application/javascript": [
              "\n",
              "    async function download(id, filename, size) {\n",
              "      if (!google.colab.kernel.accessAllowed) {\n",
              "        return;\n",
              "      }\n",
              "      const div = document.createElement('div');\n",
              "      const label = document.createElement('label');\n",
              "      label.textContent = `Downloading \"${filename}\": `;\n",
              "      div.appendChild(label);\n",
              "      const progress = document.createElement('progress');\n",
              "      progress.max = size;\n",
              "      div.appendChild(progress);\n",
              "      document.body.appendChild(div);\n",
              "\n",
              "      const buffers = [];\n",
              "      let downloaded = 0;\n",
              "\n",
              "      const channel = await google.colab.kernel.comms.open(id);\n",
              "      // Send a message to notify the kernel that we're ready.\n",
              "      channel.send({})\n",
              "\n",
              "      for await (const message of channel.messages) {\n",
              "        // Send a message to notify the kernel that we're ready.\n",
              "        channel.send({})\n",
              "        if (message.buffers) {\n",
              "          for (const buffer of message.buffers) {\n",
              "            buffers.push(buffer);\n",
              "            downloaded += buffer.byteLength;\n",
              "            progress.value = downloaded;\n",
              "          }\n",
              "        }\n",
              "      }\n",
              "      const blob = new Blob(buffers, {type: 'application/binary'});\n",
              "      const a = document.createElement('a');\n",
              "      a.href = window.URL.createObjectURL(blob);\n",
              "      a.download = filename;\n",
              "      div.appendChild(a);\n",
              "      a.click();\n",
              "      div.remove();\n",
              "    }\n",
              "  "
            ],
            "text/plain": [
              "<IPython.core.display.Javascript object>"
            ]
          },
          "metadata": {
            "tags": []
          }
        },
        {
          "output_type": "display_data",
          "data": {
            "application/javascript": [
              "download(\"download_62709772-420d-4215-b786-9f90f8d10c94\", \"portello31.txt\", 9000257)"
            ],
            "text/plain": [
              "<IPython.core.display.Javascript object>"
            ]
          },
          "metadata": {
            "tags": []
          }
        },
        {
          "output_type": "display_data",
          "data": {
            "application/javascript": [
              "\n",
              "    async function download(id, filename, size) {\n",
              "      if (!google.colab.kernel.accessAllowed) {\n",
              "        return;\n",
              "      }\n",
              "      const div = document.createElement('div');\n",
              "      const label = document.createElement('label');\n",
              "      label.textContent = `Downloading \"${filename}\": `;\n",
              "      div.appendChild(label);\n",
              "      const progress = document.createElement('progress');\n",
              "      progress.max = size;\n",
              "      div.appendChild(progress);\n",
              "      document.body.appendChild(div);\n",
              "\n",
              "      const buffers = [];\n",
              "      let downloaded = 0;\n",
              "\n",
              "      const channel = await google.colab.kernel.comms.open(id);\n",
              "      // Send a message to notify the kernel that we're ready.\n",
              "      channel.send({})\n",
              "\n",
              "      for await (const message of channel.messages) {\n",
              "        // Send a message to notify the kernel that we're ready.\n",
              "        channel.send({})\n",
              "        if (message.buffers) {\n",
              "          for (const buffer of message.buffers) {\n",
              "            buffers.push(buffer);\n",
              "            downloaded += buffer.byteLength;\n",
              "            progress.value = downloaded;\n",
              "          }\n",
              "        }\n",
              "      }\n",
              "      const blob = new Blob(buffers, {type: 'application/binary'});\n",
              "      const a = document.createElement('a');\n",
              "      a.href = window.URL.createObjectURL(blob);\n",
              "      a.download = filename;\n",
              "      div.appendChild(a);\n",
              "      a.click();\n",
              "      div.remove();\n",
              "    }\n",
              "  "
            ],
            "text/plain": [
              "<IPython.core.display.Javascript object>"
            ]
          },
          "metadata": {
            "tags": []
          }
        },
        {
          "output_type": "display_data",
          "data": {
            "application/javascript": [
              "download(\"download_22085f00-2b82-4d7c-93a3-d6d9f0670a05\", \"portello32.txt\", 9011316)"
            ],
            "text/plain": [
              "<IPython.core.display.Javascript object>"
            ]
          },
          "metadata": {
            "tags": []
          }
        },
        {
          "output_type": "display_data",
          "data": {
            "application/javascript": [
              "\n",
              "    async function download(id, filename, size) {\n",
              "      if (!google.colab.kernel.accessAllowed) {\n",
              "        return;\n",
              "      }\n",
              "      const div = document.createElement('div');\n",
              "      const label = document.createElement('label');\n",
              "      label.textContent = `Downloading \"${filename}\": `;\n",
              "      div.appendChild(label);\n",
              "      const progress = document.createElement('progress');\n",
              "      progress.max = size;\n",
              "      div.appendChild(progress);\n",
              "      document.body.appendChild(div);\n",
              "\n",
              "      const buffers = [];\n",
              "      let downloaded = 0;\n",
              "\n",
              "      const channel = await google.colab.kernel.comms.open(id);\n",
              "      // Send a message to notify the kernel that we're ready.\n",
              "      channel.send({})\n",
              "\n",
              "      for await (const message of channel.messages) {\n",
              "        // Send a message to notify the kernel that we're ready.\n",
              "        channel.send({})\n",
              "        if (message.buffers) {\n",
              "          for (const buffer of message.buffers) {\n",
              "            buffers.push(buffer);\n",
              "            downloaded += buffer.byteLength;\n",
              "            progress.value = downloaded;\n",
              "          }\n",
              "        }\n",
              "      }\n",
              "      const blob = new Blob(buffers, {type: 'application/binary'});\n",
              "      const a = document.createElement('a');\n",
              "      a.href = window.URL.createObjectURL(blob);\n",
              "      a.download = filename;\n",
              "      div.appendChild(a);\n",
              "      a.click();\n",
              "      div.remove();\n",
              "    }\n",
              "  "
            ],
            "text/plain": [
              "<IPython.core.display.Javascript object>"
            ]
          },
          "metadata": {
            "tags": []
          }
        },
        {
          "output_type": "display_data",
          "data": {
            "application/javascript": [
              "download(\"download_4d9d85ee-e561-486e-9ac3-e0d7cfdcbc0c\", \"portello33.txt\", 7894617)"
            ],
            "text/plain": [
              "<IPython.core.display.Javascript object>"
            ]
          },
          "metadata": {
            "tags": []
          }
        },
        {
          "output_type": "display_data",
          "data": {
            "application/javascript": [
              "\n",
              "    async function download(id, filename, size) {\n",
              "      if (!google.colab.kernel.accessAllowed) {\n",
              "        return;\n",
              "      }\n",
              "      const div = document.createElement('div');\n",
              "      const label = document.createElement('label');\n",
              "      label.textContent = `Downloading \"${filename}\": `;\n",
              "      div.appendChild(label);\n",
              "      const progress = document.createElement('progress');\n",
              "      progress.max = size;\n",
              "      div.appendChild(progress);\n",
              "      document.body.appendChild(div);\n",
              "\n",
              "      const buffers = [];\n",
              "      let downloaded = 0;\n",
              "\n",
              "      const channel = await google.colab.kernel.comms.open(id);\n",
              "      // Send a message to notify the kernel that we're ready.\n",
              "      channel.send({})\n",
              "\n",
              "      for await (const message of channel.messages) {\n",
              "        // Send a message to notify the kernel that we're ready.\n",
              "        channel.send({})\n",
              "        if (message.buffers) {\n",
              "          for (const buffer of message.buffers) {\n",
              "            buffers.push(buffer);\n",
              "            downloaded += buffer.byteLength;\n",
              "            progress.value = downloaded;\n",
              "          }\n",
              "        }\n",
              "      }\n",
              "      const blob = new Blob(buffers, {type: 'application/binary'});\n",
              "      const a = document.createElement('a');\n",
              "      a.href = window.URL.createObjectURL(blob);\n",
              "      a.download = filename;\n",
              "      div.appendChild(a);\n",
              "      a.click();\n",
              "      div.remove();\n",
              "    }\n",
              "  "
            ],
            "text/plain": [
              "<IPython.core.display.Javascript object>"
            ]
          },
          "metadata": {
            "tags": []
          }
        },
        {
          "output_type": "display_data",
          "data": {
            "application/javascript": [
              "download(\"download_9e4de235-30d7-45d6-94b5-167e1b8a45be\", \"portello34.txt\", 8003500)"
            ],
            "text/plain": [
              "<IPython.core.display.Javascript object>"
            ]
          },
          "metadata": {
            "tags": []
          }
        },
        {
          "output_type": "display_data",
          "data": {
            "application/javascript": [
              "\n",
              "    async function download(id, filename, size) {\n",
              "      if (!google.colab.kernel.accessAllowed) {\n",
              "        return;\n",
              "      }\n",
              "      const div = document.createElement('div');\n",
              "      const label = document.createElement('label');\n",
              "      label.textContent = `Downloading \"${filename}\": `;\n",
              "      div.appendChild(label);\n",
              "      const progress = document.createElement('progress');\n",
              "      progress.max = size;\n",
              "      div.appendChild(progress);\n",
              "      document.body.appendChild(div);\n",
              "\n",
              "      const buffers = [];\n",
              "      let downloaded = 0;\n",
              "\n",
              "      const channel = await google.colab.kernel.comms.open(id);\n",
              "      // Send a message to notify the kernel that we're ready.\n",
              "      channel.send({})\n",
              "\n",
              "      for await (const message of channel.messages) {\n",
              "        // Send a message to notify the kernel that we're ready.\n",
              "        channel.send({})\n",
              "        if (message.buffers) {\n",
              "          for (const buffer of message.buffers) {\n",
              "            buffers.push(buffer);\n",
              "            downloaded += buffer.byteLength;\n",
              "            progress.value = downloaded;\n",
              "          }\n",
              "        }\n",
              "      }\n",
              "      const blob = new Blob(buffers, {type: 'application/binary'});\n",
              "      const a = document.createElement('a');\n",
              "      a.href = window.URL.createObjectURL(blob);\n",
              "      a.download = filename;\n",
              "      div.appendChild(a);\n",
              "      a.click();\n",
              "      div.remove();\n",
              "    }\n",
              "  "
            ],
            "text/plain": [
              "<IPython.core.display.Javascript object>"
            ]
          },
          "metadata": {
            "tags": []
          }
        },
        {
          "output_type": "display_data",
          "data": {
            "application/javascript": [
              "download(\"download_fda22c67-d675-4f5a-8656-42f318b581b6\", \"portello35.txt\", 10104609)"
            ],
            "text/plain": [
              "<IPython.core.display.Javascript object>"
            ]
          },
          "metadata": {
            "tags": []
          }
        },
        {
          "output_type": "display_data",
          "data": {
            "application/javascript": [
              "\n",
              "    async function download(id, filename, size) {\n",
              "      if (!google.colab.kernel.accessAllowed) {\n",
              "        return;\n",
              "      }\n",
              "      const div = document.createElement('div');\n",
              "      const label = document.createElement('label');\n",
              "      label.textContent = `Downloading \"${filename}\": `;\n",
              "      div.appendChild(label);\n",
              "      const progress = document.createElement('progress');\n",
              "      progress.max = size;\n",
              "      div.appendChild(progress);\n",
              "      document.body.appendChild(div);\n",
              "\n",
              "      const buffers = [];\n",
              "      let downloaded = 0;\n",
              "\n",
              "      const channel = await google.colab.kernel.comms.open(id);\n",
              "      // Send a message to notify the kernel that we're ready.\n",
              "      channel.send({})\n",
              "\n",
              "      for await (const message of channel.messages) {\n",
              "        // Send a message to notify the kernel that we're ready.\n",
              "        channel.send({})\n",
              "        if (message.buffers) {\n",
              "          for (const buffer of message.buffers) {\n",
              "            buffers.push(buffer);\n",
              "            downloaded += buffer.byteLength;\n",
              "            progress.value = downloaded;\n",
              "          }\n",
              "        }\n",
              "      }\n",
              "      const blob = new Blob(buffers, {type: 'application/binary'});\n",
              "      const a = document.createElement('a');\n",
              "      a.href = window.URL.createObjectURL(blob);\n",
              "      a.download = filename;\n",
              "      div.appendChild(a);\n",
              "      a.click();\n",
              "      div.remove();\n",
              "    }\n",
              "  "
            ],
            "text/plain": [
              "<IPython.core.display.Javascript object>"
            ]
          },
          "metadata": {
            "tags": []
          }
        },
        {
          "output_type": "display_data",
          "data": {
            "application/javascript": [
              "download(\"download_90ef4a0c-9a8c-4421-bc90-3812a03c7b72\", \"portello36.txt\", 9405976)"
            ],
            "text/plain": [
              "<IPython.core.display.Javascript object>"
            ]
          },
          "metadata": {
            "tags": []
          }
        },
        {
          "output_type": "display_data",
          "data": {
            "application/javascript": [
              "\n",
              "    async function download(id, filename, size) {\n",
              "      if (!google.colab.kernel.accessAllowed) {\n",
              "        return;\n",
              "      }\n",
              "      const div = document.createElement('div');\n",
              "      const label = document.createElement('label');\n",
              "      label.textContent = `Downloading \"${filename}\": `;\n",
              "      div.appendChild(label);\n",
              "      const progress = document.createElement('progress');\n",
              "      progress.max = size;\n",
              "      div.appendChild(progress);\n",
              "      document.body.appendChild(div);\n",
              "\n",
              "      const buffers = [];\n",
              "      let downloaded = 0;\n",
              "\n",
              "      const channel = await google.colab.kernel.comms.open(id);\n",
              "      // Send a message to notify the kernel that we're ready.\n",
              "      channel.send({})\n",
              "\n",
              "      for await (const message of channel.messages) {\n",
              "        // Send a message to notify the kernel that we're ready.\n",
              "        channel.send({})\n",
              "        if (message.buffers) {\n",
              "          for (const buffer of message.buffers) {\n",
              "            buffers.push(buffer);\n",
              "            downloaded += buffer.byteLength;\n",
              "            progress.value = downloaded;\n",
              "          }\n",
              "        }\n",
              "      }\n",
              "      const blob = new Blob(buffers, {type: 'application/binary'});\n",
              "      const a = document.createElement('a');\n",
              "      a.href = window.URL.createObjectURL(blob);\n",
              "      a.download = filename;\n",
              "      div.appendChild(a);\n",
              "      a.click();\n",
              "      div.remove();\n",
              "    }\n",
              "  "
            ],
            "text/plain": [
              "<IPython.core.display.Javascript object>"
            ]
          },
          "metadata": {
            "tags": []
          }
        },
        {
          "output_type": "display_data",
          "data": {
            "application/javascript": [
              "download(\"download_38ff0d3d-18b5-4efc-baf2-836d72eb36fb\", \"portello37.txt\", 9280221)"
            ],
            "text/plain": [
              "<IPython.core.display.Javascript object>"
            ]
          },
          "metadata": {
            "tags": []
          }
        },
        {
          "output_type": "display_data",
          "data": {
            "application/javascript": [
              "\n",
              "    async function download(id, filename, size) {\n",
              "      if (!google.colab.kernel.accessAllowed) {\n",
              "        return;\n",
              "      }\n",
              "      const div = document.createElement('div');\n",
              "      const label = document.createElement('label');\n",
              "      label.textContent = `Downloading \"${filename}\": `;\n",
              "      div.appendChild(label);\n",
              "      const progress = document.createElement('progress');\n",
              "      progress.max = size;\n",
              "      div.appendChild(progress);\n",
              "      document.body.appendChild(div);\n",
              "\n",
              "      const buffers = [];\n",
              "      let downloaded = 0;\n",
              "\n",
              "      const channel = await google.colab.kernel.comms.open(id);\n",
              "      // Send a message to notify the kernel that we're ready.\n",
              "      channel.send({})\n",
              "\n",
              "      for await (const message of channel.messages) {\n",
              "        // Send a message to notify the kernel that we're ready.\n",
              "        channel.send({})\n",
              "        if (message.buffers) {\n",
              "          for (const buffer of message.buffers) {\n",
              "            buffers.push(buffer);\n",
              "            downloaded += buffer.byteLength;\n",
              "            progress.value = downloaded;\n",
              "          }\n",
              "        }\n",
              "      }\n",
              "      const blob = new Blob(buffers, {type: 'application/binary'});\n",
              "      const a = document.createElement('a');\n",
              "      a.href = window.URL.createObjectURL(blob);\n",
              "      a.download = filename;\n",
              "      div.appendChild(a);\n",
              "      a.click();\n",
              "      div.remove();\n",
              "    }\n",
              "  "
            ],
            "text/plain": [
              "<IPython.core.display.Javascript object>"
            ]
          },
          "metadata": {
            "tags": []
          }
        },
        {
          "output_type": "display_data",
          "data": {
            "application/javascript": [
              "download(\"download_16f446e9-4b55-444a-a7f5-25f700f8346c\", \"portello38.txt\", 8083982)"
            ],
            "text/plain": [
              "<IPython.core.display.Javascript object>"
            ]
          },
          "metadata": {
            "tags": []
          }
        },
        {
          "output_type": "display_data",
          "data": {
            "application/javascript": [
              "\n",
              "    async function download(id, filename, size) {\n",
              "      if (!google.colab.kernel.accessAllowed) {\n",
              "        return;\n",
              "      }\n",
              "      const div = document.createElement('div');\n",
              "      const label = document.createElement('label');\n",
              "      label.textContent = `Downloading \"${filename}\": `;\n",
              "      div.appendChild(label);\n",
              "      const progress = document.createElement('progress');\n",
              "      progress.max = size;\n",
              "      div.appendChild(progress);\n",
              "      document.body.appendChild(div);\n",
              "\n",
              "      const buffers = [];\n",
              "      let downloaded = 0;\n",
              "\n",
              "      const channel = await google.colab.kernel.comms.open(id);\n",
              "      // Send a message to notify the kernel that we're ready.\n",
              "      channel.send({})\n",
              "\n",
              "      for await (const message of channel.messages) {\n",
              "        // Send a message to notify the kernel that we're ready.\n",
              "        channel.send({})\n",
              "        if (message.buffers) {\n",
              "          for (const buffer of message.buffers) {\n",
              "            buffers.push(buffer);\n",
              "            downloaded += buffer.byteLength;\n",
              "            progress.value = downloaded;\n",
              "          }\n",
              "        }\n",
              "      }\n",
              "      const blob = new Blob(buffers, {type: 'application/binary'});\n",
              "      const a = document.createElement('a');\n",
              "      a.href = window.URL.createObjectURL(blob);\n",
              "      a.download = filename;\n",
              "      div.appendChild(a);\n",
              "      a.click();\n",
              "      div.remove();\n",
              "    }\n",
              "  "
            ],
            "text/plain": [
              "<IPython.core.display.Javascript object>"
            ]
          },
          "metadata": {
            "tags": []
          }
        },
        {
          "output_type": "display_data",
          "data": {
            "application/javascript": [
              "download(\"download_5e9cdbb4-ded8-4ae6-8f90-caf30f8f46dd\", \"portello39.txt\", 9083806)"
            ],
            "text/plain": [
              "<IPython.core.display.Javascript object>"
            ]
          },
          "metadata": {
            "tags": []
          }
        },
        {
          "output_type": "display_data",
          "data": {
            "application/javascript": [
              "\n",
              "    async function download(id, filename, size) {\n",
              "      if (!google.colab.kernel.accessAllowed) {\n",
              "        return;\n",
              "      }\n",
              "      const div = document.createElement('div');\n",
              "      const label = document.createElement('label');\n",
              "      label.textContent = `Downloading \"${filename}\": `;\n",
              "      div.appendChild(label);\n",
              "      const progress = document.createElement('progress');\n",
              "      progress.max = size;\n",
              "      div.appendChild(progress);\n",
              "      document.body.appendChild(div);\n",
              "\n",
              "      const buffers = [];\n",
              "      let downloaded = 0;\n",
              "\n",
              "      const channel = await google.colab.kernel.comms.open(id);\n",
              "      // Send a message to notify the kernel that we're ready.\n",
              "      channel.send({})\n",
              "\n",
              "      for await (const message of channel.messages) {\n",
              "        // Send a message to notify the kernel that we're ready.\n",
              "        channel.send({})\n",
              "        if (message.buffers) {\n",
              "          for (const buffer of message.buffers) {\n",
              "            buffers.push(buffer);\n",
              "            downloaded += buffer.byteLength;\n",
              "            progress.value = downloaded;\n",
              "          }\n",
              "        }\n",
              "      }\n",
              "      const blob = new Blob(buffers, {type: 'application/binary'});\n",
              "      const a = document.createElement('a');\n",
              "      a.href = window.URL.createObjectURL(blob);\n",
              "      a.download = filename;\n",
              "      div.appendChild(a);\n",
              "      a.click();\n",
              "      div.remove();\n",
              "    }\n",
              "  "
            ],
            "text/plain": [
              "<IPython.core.display.Javascript object>"
            ]
          },
          "metadata": {
            "tags": []
          }
        },
        {
          "output_type": "display_data",
          "data": {
            "application/javascript": [
              "download(\"download_cf1b0914-f632-48a0-9ef8-0c3b7d096a8b\", \"portello40.txt\", 9595645)"
            ],
            "text/plain": [
              "<IPython.core.display.Javascript object>"
            ]
          },
          "metadata": {
            "tags": []
          }
        }
      ]
    },
    {
      "cell_type": "code",
      "metadata": {
        "colab": {
          "base_uri": "https://localhost:8080/"
        },
        "id": "xz0Yoffqm80e",
        "outputId": "839455cd-a553-4d17-cdcd-4fc771492cdd"
      },
      "source": [
        "import glob\n",
        "#CASTLE\n",
        "path = glob.glob(\"/content/*.jpg\")\n",
        "cv_img_castle = []\n",
        "for img in path:\n",
        "    n = cv2.imread(img)\n",
        "    cv_img_castle.append(n)\n",
        "print(len(cv_img_castle))"
      ],
      "execution_count": null,
      "outputs": [
        {
          "output_type": "stream",
          "text": [
            "30\n"
          ],
          "name": "stdout"
        }
      ]
    },
    {
      "cell_type": "code",
      "metadata": {
        "colab": {
          "base_uri": "https://localhost:8080/",
          "height": 527
        },
        "id": "9XWDBl6t8m4y",
        "outputId": "c92af38d-07ed-429d-fafe-b87af14cbb0b"
      },
      "source": [
        "from google.colab import files\n",
        "\n",
        "for k in range(len(cv_img_castle)):\n",
        "  castle = cv_img_castle[k]\n",
        "  keypoints_surf, descriptors = surf.detectAndCompute(castle, None)\n",
        "  file_name = \"_castle\" + str(k) + \".txt\"\n",
        "  File_object = open(file_name, \"w\")\n",
        "  for i in range(descriptors.shape[0]):\n",
        "    File_object.write(\"[\")\n",
        "    for j in range(descriptors.shape[1]):\n",
        "      if (j==descriptors.shape[1]-1):\n",
        "        File_object.write(str(descriptors[i][j]))\n",
        "      else:\n",
        "        File_object.write(str(descriptors[i][j])+\", \")\n",
        "    File_object.write(\"]\\n\")\n",
        "  File_object.close()\n",
        "  File_object = open(file_name, \"r\")\n",
        "  File_object.read()\n",
        "  files.download(file_name)"
      ],
      "execution_count": null,
      "outputs": [
        {
          "output_type": "display_data",
          "data": {
            "application/javascript": [
              "\n",
              "    async function download(id, filename, size) {\n",
              "      if (!google.colab.kernel.accessAllowed) {\n",
              "        return;\n",
              "      }\n",
              "      const div = document.createElement('div');\n",
              "      const label = document.createElement('label');\n",
              "      label.textContent = `Downloading \"${filename}\": `;\n",
              "      div.appendChild(label);\n",
              "      const progress = document.createElement('progress');\n",
              "      progress.max = size;\n",
              "      div.appendChild(progress);\n",
              "      document.body.appendChild(div);\n",
              "\n",
              "      const buffers = [];\n",
              "      let downloaded = 0;\n",
              "\n",
              "      const channel = await google.colab.kernel.comms.open(id);\n",
              "      // Send a message to notify the kernel that we're ready.\n",
              "      channel.send({})\n",
              "\n",
              "      for await (const message of channel.messages) {\n",
              "        // Send a message to notify the kernel that we're ready.\n",
              "        channel.send({})\n",
              "        if (message.buffers) {\n",
              "          for (const buffer of message.buffers) {\n",
              "            buffers.push(buffer);\n",
              "            downloaded += buffer.byteLength;\n",
              "            progress.value = downloaded;\n",
              "          }\n",
              "        }\n",
              "      }\n",
              "      const blob = new Blob(buffers, {type: 'application/binary'});\n",
              "      const a = document.createElement('a');\n",
              "      a.href = window.URL.createObjectURL(blob);\n",
              "      a.download = filename;\n",
              "      div.appendChild(a);\n",
              "      a.click();\n",
              "      div.remove();\n",
              "    }\n",
              "  "
            ],
            "text/plain": [
              "<IPython.core.display.Javascript object>"
            ]
          },
          "metadata": {
            "tags": []
          }
        },
        {
          "output_type": "display_data",
          "data": {
            "application/javascript": [
              "download(\"download_112608bd-730f-4489-bcf0-53e3c47ef603\", \"_castle0.txt\", 41084668)"
            ],
            "text/plain": [
              "<IPython.core.display.Javascript object>"
            ]
          },
          "metadata": {
            "tags": []
          }
        },
        {
          "output_type": "display_data",
          "data": {
            "application/javascript": [
              "\n",
              "    async function download(id, filename, size) {\n",
              "      if (!google.colab.kernel.accessAllowed) {\n",
              "        return;\n",
              "      }\n",
              "      const div = document.createElement('div');\n",
              "      const label = document.createElement('label');\n",
              "      label.textContent = `Downloading \"${filename}\": `;\n",
              "      div.appendChild(label);\n",
              "      const progress = document.createElement('progress');\n",
              "      progress.max = size;\n",
              "      div.appendChild(progress);\n",
              "      document.body.appendChild(div);\n",
              "\n",
              "      const buffers = [];\n",
              "      let downloaded = 0;\n",
              "\n",
              "      const channel = await google.colab.kernel.comms.open(id);\n",
              "      // Send a message to notify the kernel that we're ready.\n",
              "      channel.send({})\n",
              "\n",
              "      for await (const message of channel.messages) {\n",
              "        // Send a message to notify the kernel that we're ready.\n",
              "        channel.send({})\n",
              "        if (message.buffers) {\n",
              "          for (const buffer of message.buffers) {\n",
              "            buffers.push(buffer);\n",
              "            downloaded += buffer.byteLength;\n",
              "            progress.value = downloaded;\n",
              "          }\n",
              "        }\n",
              "      }\n",
              "      const blob = new Blob(buffers, {type: 'application/binary'});\n",
              "      const a = document.createElement('a');\n",
              "      a.href = window.URL.createObjectURL(blob);\n",
              "      a.download = filename;\n",
              "      div.appendChild(a);\n",
              "      a.click();\n",
              "      div.remove();\n",
              "    }\n",
              "  "
            ],
            "text/plain": [
              "<IPython.core.display.Javascript object>"
            ]
          },
          "metadata": {
            "tags": []
          }
        },
        {
          "output_type": "display_data",
          "data": {
            "application/javascript": [
              "download(\"download_c2d50cec-4530-48eb-bceb-99700a774e2b\", \"_castle1.txt\", 25460722)"
            ],
            "text/plain": [
              "<IPython.core.display.Javascript object>"
            ]
          },
          "metadata": {
            "tags": []
          }
        },
        {
          "output_type": "display_data",
          "data": {
            "application/javascript": [
              "\n",
              "    async function download(id, filename, size) {\n",
              "      if (!google.colab.kernel.accessAllowed) {\n",
              "        return;\n",
              "      }\n",
              "      const div = document.createElement('div');\n",
              "      const label = document.createElement('label');\n",
              "      label.textContent = `Downloading \"${filename}\": `;\n",
              "      div.appendChild(label);\n",
              "      const progress = document.createElement('progress');\n",
              "      progress.max = size;\n",
              "      div.appendChild(progress);\n",
              "      document.body.appendChild(div);\n",
              "\n",
              "      const buffers = [];\n",
              "      let downloaded = 0;\n",
              "\n",
              "      const channel = await google.colab.kernel.comms.open(id);\n",
              "      // Send a message to notify the kernel that we're ready.\n",
              "      channel.send({})\n",
              "\n",
              "      for await (const message of channel.messages) {\n",
              "        // Send a message to notify the kernel that we're ready.\n",
              "        channel.send({})\n",
              "        if (message.buffers) {\n",
              "          for (const buffer of message.buffers) {\n",
              "            buffers.push(buffer);\n",
              "            downloaded += buffer.byteLength;\n",
              "            progress.value = downloaded;\n",
              "          }\n",
              "        }\n",
              "      }\n",
              "      const blob = new Blob(buffers, {type: 'application/binary'});\n",
              "      const a = document.createElement('a');\n",
              "      a.href = window.URL.createObjectURL(blob);\n",
              "      a.download = filename;\n",
              "      div.appendChild(a);\n",
              "      a.click();\n",
              "      div.remove();\n",
              "    }\n",
              "  "
            ],
            "text/plain": [
              "<IPython.core.display.Javascript object>"
            ]
          },
          "metadata": {
            "tags": []
          }
        },
        {
          "output_type": "display_data",
          "data": {
            "application/javascript": [
              "download(\"download_d6cfb40e-1582-4994-aefa-2c4ad2e45b71\", \"_castle2.txt\", 20344020)"
            ],
            "text/plain": [
              "<IPython.core.display.Javascript object>"
            ]
          },
          "metadata": {
            "tags": []
          }
        },
        {
          "output_type": "display_data",
          "data": {
            "application/javascript": [
              "\n",
              "    async function download(id, filename, size) {\n",
              "      if (!google.colab.kernel.accessAllowed) {\n",
              "        return;\n",
              "      }\n",
              "      const div = document.createElement('div');\n",
              "      const label = document.createElement('label');\n",
              "      label.textContent = `Downloading \"${filename}\": `;\n",
              "      div.appendChild(label);\n",
              "      const progress = document.createElement('progress');\n",
              "      progress.max = size;\n",
              "      div.appendChild(progress);\n",
              "      document.body.appendChild(div);\n",
              "\n",
              "      const buffers = [];\n",
              "      let downloaded = 0;\n",
              "\n",
              "      const channel = await google.colab.kernel.comms.open(id);\n",
              "      // Send a message to notify the kernel that we're ready.\n",
              "      channel.send({})\n",
              "\n",
              "      for await (const message of channel.messages) {\n",
              "        // Send a message to notify the kernel that we're ready.\n",
              "        channel.send({})\n",
              "        if (message.buffers) {\n",
              "          for (const buffer of message.buffers) {\n",
              "            buffers.push(buffer);\n",
              "            downloaded += buffer.byteLength;\n",
              "            progress.value = downloaded;\n",
              "          }\n",
              "        }\n",
              "      }\n",
              "      const blob = new Blob(buffers, {type: 'application/binary'});\n",
              "      const a = document.createElement('a');\n",
              "      a.href = window.URL.createObjectURL(blob);\n",
              "      a.download = filename;\n",
              "      div.appendChild(a);\n",
              "      a.click();\n",
              "      div.remove();\n",
              "    }\n",
              "  "
            ],
            "text/plain": [
              "<IPython.core.display.Javascript object>"
            ]
          },
          "metadata": {
            "tags": []
          }
        },
        {
          "output_type": "display_data",
          "data": {
            "application/javascript": [
              "download(\"download_e485d60f-190c-48ea-9406-6532377e8553\", \"_castle3.txt\", 39259519)"
            ],
            "text/plain": [
              "<IPython.core.display.Javascript object>"
            ]
          },
          "metadata": {
            "tags": []
          }
        },
        {
          "output_type": "display_data",
          "data": {
            "application/javascript": [
              "\n",
              "    async function download(id, filename, size) {\n",
              "      if (!google.colab.kernel.accessAllowed) {\n",
              "        return;\n",
              "      }\n",
              "      const div = document.createElement('div');\n",
              "      const label = document.createElement('label');\n",
              "      label.textContent = `Downloading \"${filename}\": `;\n",
              "      div.appendChild(label);\n",
              "      const progress = document.createElement('progress');\n",
              "      progress.max = size;\n",
              "      div.appendChild(progress);\n",
              "      document.body.appendChild(div);\n",
              "\n",
              "      const buffers = [];\n",
              "      let downloaded = 0;\n",
              "\n",
              "      const channel = await google.colab.kernel.comms.open(id);\n",
              "      // Send a message to notify the kernel that we're ready.\n",
              "      channel.send({})\n",
              "\n",
              "      for await (const message of channel.messages) {\n",
              "        // Send a message to notify the kernel that we're ready.\n",
              "        channel.send({})\n",
              "        if (message.buffers) {\n",
              "          for (const buffer of message.buffers) {\n",
              "            buffers.push(buffer);\n",
              "            downloaded += buffer.byteLength;\n",
              "            progress.value = downloaded;\n",
              "          }\n",
              "        }\n",
              "      }\n",
              "      const blob = new Blob(buffers, {type: 'application/binary'});\n",
              "      const a = document.createElement('a');\n",
              "      a.href = window.URL.createObjectURL(blob);\n",
              "      a.download = filename;\n",
              "      div.appendChild(a);\n",
              "      a.click();\n",
              "      div.remove();\n",
              "    }\n",
              "  "
            ],
            "text/plain": [
              "<IPython.core.display.Javascript object>"
            ]
          },
          "metadata": {
            "tags": []
          }
        },
        {
          "output_type": "display_data",
          "data": {
            "application/javascript": [
              "download(\"download_d8e43237-0acc-4975-809e-b3029450b2ae\", \"_castle4.txt\", 41103292)"
            ],
            "text/plain": [
              "<IPython.core.display.Javascript object>"
            ]
          },
          "metadata": {
            "tags": []
          }
        },
        {
          "output_type": "display_data",
          "data": {
            "application/javascript": [
              "\n",
              "    async function download(id, filename, size) {\n",
              "      if (!google.colab.kernel.accessAllowed) {\n",
              "        return;\n",
              "      }\n",
              "      const div = document.createElement('div');\n",
              "      const label = document.createElement('label');\n",
              "      label.textContent = `Downloading \"${filename}\": `;\n",
              "      div.appendChild(label);\n",
              "      const progress = document.createElement('progress');\n",
              "      progress.max = size;\n",
              "      div.appendChild(progress);\n",
              "      document.body.appendChild(div);\n",
              "\n",
              "      const buffers = [];\n",
              "      let downloaded = 0;\n",
              "\n",
              "      const channel = await google.colab.kernel.comms.open(id);\n",
              "      // Send a message to notify the kernel that we're ready.\n",
              "      channel.send({})\n",
              "\n",
              "      for await (const message of channel.messages) {\n",
              "        // Send a message to notify the kernel that we're ready.\n",
              "        channel.send({})\n",
              "        if (message.buffers) {\n",
              "          for (const buffer of message.buffers) {\n",
              "            buffers.push(buffer);\n",
              "            downloaded += buffer.byteLength;\n",
              "            progress.value = downloaded;\n",
              "          }\n",
              "        }\n",
              "      }\n",
              "      const blob = new Blob(buffers, {type: 'application/binary'});\n",
              "      const a = document.createElement('a');\n",
              "      a.href = window.URL.createObjectURL(blob);\n",
              "      a.download = filename;\n",
              "      div.appendChild(a);\n",
              "      a.click();\n",
              "      div.remove();\n",
              "    }\n",
              "  "
            ],
            "text/plain": [
              "<IPython.core.display.Javascript object>"
            ]
          },
          "metadata": {
            "tags": []
          }
        },
        {
          "output_type": "display_data",
          "data": {
            "application/javascript": [
              "download(\"download_ff0f9dbf-9f18-42b4-9e52-c32a1b25c47e\", \"_castle5.txt\", 40957569)"
            ],
            "text/plain": [
              "<IPython.core.display.Javascript object>"
            ]
          },
          "metadata": {
            "tags": []
          }
        },
        {
          "output_type": "display_data",
          "data": {
            "application/javascript": [
              "\n",
              "    async function download(id, filename, size) {\n",
              "      if (!google.colab.kernel.accessAllowed) {\n",
              "        return;\n",
              "      }\n",
              "      const div = document.createElement('div');\n",
              "      const label = document.createElement('label');\n",
              "      label.textContent = `Downloading \"${filename}\": `;\n",
              "      div.appendChild(label);\n",
              "      const progress = document.createElement('progress');\n",
              "      progress.max = size;\n",
              "      div.appendChild(progress);\n",
              "      document.body.appendChild(div);\n",
              "\n",
              "      const buffers = [];\n",
              "      let downloaded = 0;\n",
              "\n",
              "      const channel = await google.colab.kernel.comms.open(id);\n",
              "      // Send a message to notify the kernel that we're ready.\n",
              "      channel.send({})\n",
              "\n",
              "      for await (const message of channel.messages) {\n",
              "        // Send a message to notify the kernel that we're ready.\n",
              "        channel.send({})\n",
              "        if (message.buffers) {\n",
              "          for (const buffer of message.buffers) {\n",
              "            buffers.push(buffer);\n",
              "            downloaded += buffer.byteLength;\n",
              "            progress.value = downloaded;\n",
              "          }\n",
              "        }\n",
              "      }\n",
              "      const blob = new Blob(buffers, {type: 'application/binary'});\n",
              "      const a = document.createElement('a');\n",
              "      a.href = window.URL.createObjectURL(blob);\n",
              "      a.download = filename;\n",
              "      div.appendChild(a);\n",
              "      a.click();\n",
              "      div.remove();\n",
              "    }\n",
              "  "
            ],
            "text/plain": [
              "<IPython.core.display.Javascript object>"
            ]
          },
          "metadata": {
            "tags": []
          }
        },
        {
          "output_type": "display_data",
          "data": {
            "application/javascript": [
              "download(\"download_66f60f14-9732-43a8-930b-ea8e81b812ab\", \"_castle6.txt\", 19460944)"
            ],
            "text/plain": [
              "<IPython.core.display.Javascript object>"
            ]
          },
          "metadata": {
            "tags": []
          }
        },
        {
          "output_type": "display_data",
          "data": {
            "application/javascript": [
              "\n",
              "    async function download(id, filename, size) {\n",
              "      if (!google.colab.kernel.accessAllowed) {\n",
              "        return;\n",
              "      }\n",
              "      const div = document.createElement('div');\n",
              "      const label = document.createElement('label');\n",
              "      label.textContent = `Downloading \"${filename}\": `;\n",
              "      div.appendChild(label);\n",
              "      const progress = document.createElement('progress');\n",
              "      progress.max = size;\n",
              "      div.appendChild(progress);\n",
              "      document.body.appendChild(div);\n",
              "\n",
              "      const buffers = [];\n",
              "      let downloaded = 0;\n",
              "\n",
              "      const channel = await google.colab.kernel.comms.open(id);\n",
              "      // Send a message to notify the kernel that we're ready.\n",
              "      channel.send({})\n",
              "\n",
              "      for await (const message of channel.messages) {\n",
              "        // Send a message to notify the kernel that we're ready.\n",
              "        channel.send({})\n",
              "        if (message.buffers) {\n",
              "          for (const buffer of message.buffers) {\n",
              "            buffers.push(buffer);\n",
              "            downloaded += buffer.byteLength;\n",
              "            progress.value = downloaded;\n",
              "          }\n",
              "        }\n",
              "      }\n",
              "      const blob = new Blob(buffers, {type: 'application/binary'});\n",
              "      const a = document.createElement('a');\n",
              "      a.href = window.URL.createObjectURL(blob);\n",
              "      a.download = filename;\n",
              "      div.appendChild(a);\n",
              "      a.click();\n",
              "      div.remove();\n",
              "    }\n",
              "  "
            ],
            "text/plain": [
              "<IPython.core.display.Javascript object>"
            ]
          },
          "metadata": {
            "tags": []
          }
        },
        {
          "output_type": "display_data",
          "data": {
            "application/javascript": [
              "download(\"download_48961e3c-89ea-4bf9-928a-9be19d4a33f4\", \"_castle7.txt\", 22773054)"
            ],
            "text/plain": [
              "<IPython.core.display.Javascript object>"
            ]
          },
          "metadata": {
            "tags": []
          }
        },
        {
          "output_type": "display_data",
          "data": {
            "application/javascript": [
              "\n",
              "    async function download(id, filename, size) {\n",
              "      if (!google.colab.kernel.accessAllowed) {\n",
              "        return;\n",
              "      }\n",
              "      const div = document.createElement('div');\n",
              "      const label = document.createElement('label');\n",
              "      label.textContent = `Downloading \"${filename}\": `;\n",
              "      div.appendChild(label);\n",
              "      const progress = document.createElement('progress');\n",
              "      progress.max = size;\n",
              "      div.appendChild(progress);\n",
              "      document.body.appendChild(div);\n",
              "\n",
              "      const buffers = [];\n",
              "      let downloaded = 0;\n",
              "\n",
              "      const channel = await google.colab.kernel.comms.open(id);\n",
              "      // Send a message to notify the kernel that we're ready.\n",
              "      channel.send({})\n",
              "\n",
              "      for await (const message of channel.messages) {\n",
              "        // Send a message to notify the kernel that we're ready.\n",
              "        channel.send({})\n",
              "        if (message.buffers) {\n",
              "          for (const buffer of message.buffers) {\n",
              "            buffers.push(buffer);\n",
              "            downloaded += buffer.byteLength;\n",
              "            progress.value = downloaded;\n",
              "          }\n",
              "        }\n",
              "      }\n",
              "      const blob = new Blob(buffers, {type: 'application/binary'});\n",
              "      const a = document.createElement('a');\n",
              "      a.href = window.URL.createObjectURL(blob);\n",
              "      a.download = filename;\n",
              "      div.appendChild(a);\n",
              "      a.click();\n",
              "      div.remove();\n",
              "    }\n",
              "  "
            ],
            "text/plain": [
              "<IPython.core.display.Javascript object>"
            ]
          },
          "metadata": {
            "tags": []
          }
        },
        {
          "output_type": "display_data",
          "data": {
            "application/javascript": [
              "download(\"download_1f008fdf-5bcd-4b99-8638-de9eb0f9ae0c\", \"_castle8.txt\", 24182613)"
            ],
            "text/plain": [
              "<IPython.core.display.Javascript object>"
            ]
          },
          "metadata": {
            "tags": []
          }
        },
        {
          "output_type": "display_data",
          "data": {
            "application/javascript": [
              "\n",
              "    async function download(id, filename, size) {\n",
              "      if (!google.colab.kernel.accessAllowed) {\n",
              "        return;\n",
              "      }\n",
              "      const div = document.createElement('div');\n",
              "      const label = document.createElement('label');\n",
              "      label.textContent = `Downloading \"${filename}\": `;\n",
              "      div.appendChild(label);\n",
              "      const progress = document.createElement('progress');\n",
              "      progress.max = size;\n",
              "      div.appendChild(progress);\n",
              "      document.body.appendChild(div);\n",
              "\n",
              "      const buffers = [];\n",
              "      let downloaded = 0;\n",
              "\n",
              "      const channel = await google.colab.kernel.comms.open(id);\n",
              "      // Send a message to notify the kernel that we're ready.\n",
              "      channel.send({})\n",
              "\n",
              "      for await (const message of channel.messages) {\n",
              "        // Send a message to notify the kernel that we're ready.\n",
              "        channel.send({})\n",
              "        if (message.buffers) {\n",
              "          for (const buffer of message.buffers) {\n",
              "            buffers.push(buffer);\n",
              "            downloaded += buffer.byteLength;\n",
              "            progress.value = downloaded;\n",
              "          }\n",
              "        }\n",
              "      }\n",
              "      const blob = new Blob(buffers, {type: 'application/binary'});\n",
              "      const a = document.createElement('a');\n",
              "      a.href = window.URL.createObjectURL(blob);\n",
              "      a.download = filename;\n",
              "      div.appendChild(a);\n",
              "      a.click();\n",
              "      div.remove();\n",
              "    }\n",
              "  "
            ],
            "text/plain": [
              "<IPython.core.display.Javascript object>"
            ]
          },
          "metadata": {
            "tags": []
          }
        },
        {
          "output_type": "display_data",
          "data": {
            "application/javascript": [
              "download(\"download_647c3323-dcdd-4e4e-994f-436cb7d97c0b\", \"_castle9.txt\", 19103415)"
            ],
            "text/plain": [
              "<IPython.core.display.Javascript object>"
            ]
          },
          "metadata": {
            "tags": []
          }
        },
        {
          "output_type": "display_data",
          "data": {
            "application/javascript": [
              "\n",
              "    async function download(id, filename, size) {\n",
              "      if (!google.colab.kernel.accessAllowed) {\n",
              "        return;\n",
              "      }\n",
              "      const div = document.createElement('div');\n",
              "      const label = document.createElement('label');\n",
              "      label.textContent = `Downloading \"${filename}\": `;\n",
              "      div.appendChild(label);\n",
              "      const progress = document.createElement('progress');\n",
              "      progress.max = size;\n",
              "      div.appendChild(progress);\n",
              "      document.body.appendChild(div);\n",
              "\n",
              "      const buffers = [];\n",
              "      let downloaded = 0;\n",
              "\n",
              "      const channel = await google.colab.kernel.comms.open(id);\n",
              "      // Send a message to notify the kernel that we're ready.\n",
              "      channel.send({})\n",
              "\n",
              "      for await (const message of channel.messages) {\n",
              "        // Send a message to notify the kernel that we're ready.\n",
              "        channel.send({})\n",
              "        if (message.buffers) {\n",
              "          for (const buffer of message.buffers) {\n",
              "            buffers.push(buffer);\n",
              "            downloaded += buffer.byteLength;\n",
              "            progress.value = downloaded;\n",
              "          }\n",
              "        }\n",
              "      }\n",
              "      const blob = new Blob(buffers, {type: 'application/binary'});\n",
              "      const a = document.createElement('a');\n",
              "      a.href = window.URL.createObjectURL(blob);\n",
              "      a.download = filename;\n",
              "      div.appendChild(a);\n",
              "      a.click();\n",
              "      div.remove();\n",
              "    }\n",
              "  "
            ],
            "text/plain": [
              "<IPython.core.display.Javascript object>"
            ]
          },
          "metadata": {
            "tags": []
          }
        },
        {
          "output_type": "display_data",
          "data": {
            "application/javascript": [
              "download(\"download_12832530-6d22-40e3-9c89-65e4d6f835ef\", \"_castle10.txt\", 26076531)"
            ],
            "text/plain": [
              "<IPython.core.display.Javascript object>"
            ]
          },
          "metadata": {
            "tags": []
          }
        },
        {
          "output_type": "display_data",
          "data": {
            "application/javascript": [
              "\n",
              "    async function download(id, filename, size) {\n",
              "      if (!google.colab.kernel.accessAllowed) {\n",
              "        return;\n",
              "      }\n",
              "      const div = document.createElement('div');\n",
              "      const label = document.createElement('label');\n",
              "      label.textContent = `Downloading \"${filename}\": `;\n",
              "      div.appendChild(label);\n",
              "      const progress = document.createElement('progress');\n",
              "      progress.max = size;\n",
              "      div.appendChild(progress);\n",
              "      document.body.appendChild(div);\n",
              "\n",
              "      const buffers = [];\n",
              "      let downloaded = 0;\n",
              "\n",
              "      const channel = await google.colab.kernel.comms.open(id);\n",
              "      // Send a message to notify the kernel that we're ready.\n",
              "      channel.send({})\n",
              "\n",
              "      for await (const message of channel.messages) {\n",
              "        // Send a message to notify the kernel that we're ready.\n",
              "        channel.send({})\n",
              "        if (message.buffers) {\n",
              "          for (const buffer of message.buffers) {\n",
              "            buffers.push(buffer);\n",
              "            downloaded += buffer.byteLength;\n",
              "            progress.value = downloaded;\n",
              "          }\n",
              "        }\n",
              "      }\n",
              "      const blob = new Blob(buffers, {type: 'application/binary'});\n",
              "      const a = document.createElement('a');\n",
              "      a.href = window.URL.createObjectURL(blob);\n",
              "      a.download = filename;\n",
              "      div.appendChild(a);\n",
              "      a.click();\n",
              "      div.remove();\n",
              "    }\n",
              "  "
            ],
            "text/plain": [
              "<IPython.core.display.Javascript object>"
            ]
          },
          "metadata": {
            "tags": []
          }
        },
        {
          "output_type": "display_data",
          "data": {
            "application/javascript": [
              "download(\"download_22b55832-890c-41f4-85d3-53dedc370eda\", \"_castle11.txt\", 20167716)"
            ],
            "text/plain": [
              "<IPython.core.display.Javascript object>"
            ]
          },
          "metadata": {
            "tags": []
          }
        },
        {
          "output_type": "display_data",
          "data": {
            "application/javascript": [
              "\n",
              "    async function download(id, filename, size) {\n",
              "      if (!google.colab.kernel.accessAllowed) {\n",
              "        return;\n",
              "      }\n",
              "      const div = document.createElement('div');\n",
              "      const label = document.createElement('label');\n",
              "      label.textContent = `Downloading \"${filename}\": `;\n",
              "      div.appendChild(label);\n",
              "      const progress = document.createElement('progress');\n",
              "      progress.max = size;\n",
              "      div.appendChild(progress);\n",
              "      document.body.appendChild(div);\n",
              "\n",
              "      const buffers = [];\n",
              "      let downloaded = 0;\n",
              "\n",
              "      const channel = await google.colab.kernel.comms.open(id);\n",
              "      // Send a message to notify the kernel that we're ready.\n",
              "      channel.send({})\n",
              "\n",
              "      for await (const message of channel.messages) {\n",
              "        // Send a message to notify the kernel that we're ready.\n",
              "        channel.send({})\n",
              "        if (message.buffers) {\n",
              "          for (const buffer of message.buffers) {\n",
              "            buffers.push(buffer);\n",
              "            downloaded += buffer.byteLength;\n",
              "            progress.value = downloaded;\n",
              "          }\n",
              "        }\n",
              "      }\n",
              "      const blob = new Blob(buffers, {type: 'application/binary'});\n",
              "      const a = document.createElement('a');\n",
              "      a.href = window.URL.createObjectURL(blob);\n",
              "      a.download = filename;\n",
              "      div.appendChild(a);\n",
              "      a.click();\n",
              "      div.remove();\n",
              "    }\n",
              "  "
            ],
            "text/plain": [
              "<IPython.core.display.Javascript object>"
            ]
          },
          "metadata": {
            "tags": []
          }
        },
        {
          "output_type": "display_data",
          "data": {
            "application/javascript": [
              "download(\"download_a9f6eb7f-94bd-464b-94c8-2b3b5e348f40\", \"_castle12.txt\", 36513808)"
            ],
            "text/plain": [
              "<IPython.core.display.Javascript object>"
            ]
          },
          "metadata": {
            "tags": []
          }
        },
        {
          "output_type": "display_data",
          "data": {
            "application/javascript": [
              "\n",
              "    async function download(id, filename, size) {\n",
              "      if (!google.colab.kernel.accessAllowed) {\n",
              "        return;\n",
              "      }\n",
              "      const div = document.createElement('div');\n",
              "      const label = document.createElement('label');\n",
              "      label.textContent = `Downloading \"${filename}\": `;\n",
              "      div.appendChild(label);\n",
              "      const progress = document.createElement('progress');\n",
              "      progress.max = size;\n",
              "      div.appendChild(progress);\n",
              "      document.body.appendChild(div);\n",
              "\n",
              "      const buffers = [];\n",
              "      let downloaded = 0;\n",
              "\n",
              "      const channel = await google.colab.kernel.comms.open(id);\n",
              "      // Send a message to notify the kernel that we're ready.\n",
              "      channel.send({})\n",
              "\n",
              "      for await (const message of channel.messages) {\n",
              "        // Send a message to notify the kernel that we're ready.\n",
              "        channel.send({})\n",
              "        if (message.buffers) {\n",
              "          for (const buffer of message.buffers) {\n",
              "            buffers.push(buffer);\n",
              "            downloaded += buffer.byteLength;\n",
              "            progress.value = downloaded;\n",
              "          }\n",
              "        }\n",
              "      }\n",
              "      const blob = new Blob(buffers, {type: 'application/binary'});\n",
              "      const a = document.createElement('a');\n",
              "      a.href = window.URL.createObjectURL(blob);\n",
              "      a.download = filename;\n",
              "      div.appendChild(a);\n",
              "      a.click();\n",
              "      div.remove();\n",
              "    }\n",
              "  "
            ],
            "text/plain": [
              "<IPython.core.display.Javascript object>"
            ]
          },
          "metadata": {
            "tags": []
          }
        },
        {
          "output_type": "display_data",
          "data": {
            "application/javascript": [
              "download(\"download_d4885bd2-ec3e-4638-bd2c-3637bd2e804a\", \"_castle13.txt\", 24408096)"
            ],
            "text/plain": [
              "<IPython.core.display.Javascript object>"
            ]
          },
          "metadata": {
            "tags": []
          }
        },
        {
          "output_type": "display_data",
          "data": {
            "application/javascript": [
              "\n",
              "    async function download(id, filename, size) {\n",
              "      if (!google.colab.kernel.accessAllowed) {\n",
              "        return;\n",
              "      }\n",
              "      const div = document.createElement('div');\n",
              "      const label = document.createElement('label');\n",
              "      label.textContent = `Downloading \"${filename}\": `;\n",
              "      div.appendChild(label);\n",
              "      const progress = document.createElement('progress');\n",
              "      progress.max = size;\n",
              "      div.appendChild(progress);\n",
              "      document.body.appendChild(div);\n",
              "\n",
              "      const buffers = [];\n",
              "      let downloaded = 0;\n",
              "\n",
              "      const channel = await google.colab.kernel.comms.open(id);\n",
              "      // Send a message to notify the kernel that we're ready.\n",
              "      channel.send({})\n",
              "\n",
              "      for await (const message of channel.messages) {\n",
              "        // Send a message to notify the kernel that we're ready.\n",
              "        channel.send({})\n",
              "        if (message.buffers) {\n",
              "          for (const buffer of message.buffers) {\n",
              "            buffers.push(buffer);\n",
              "            downloaded += buffer.byteLength;\n",
              "            progress.value = downloaded;\n",
              "          }\n",
              "        }\n",
              "      }\n",
              "      const blob = new Blob(buffers, {type: 'application/binary'});\n",
              "      const a = document.createElement('a');\n",
              "      a.href = window.URL.createObjectURL(blob);\n",
              "      a.download = filename;\n",
              "      div.appendChild(a);\n",
              "      a.click();\n",
              "      div.remove();\n",
              "    }\n",
              "  "
            ],
            "text/plain": [
              "<IPython.core.display.Javascript object>"
            ]
          },
          "metadata": {
            "tags": []
          }
        },
        {
          "output_type": "display_data",
          "data": {
            "application/javascript": [
              "download(\"download_774693f4-7c40-45ca-acb1-aeb13ecfe4e4\", \"_castle14.txt\", 21641254)"
            ],
            "text/plain": [
              "<IPython.core.display.Javascript object>"
            ]
          },
          "metadata": {
            "tags": []
          }
        },
        {
          "output_type": "display_data",
          "data": {
            "application/javascript": [
              "\n",
              "    async function download(id, filename, size) {\n",
              "      if (!google.colab.kernel.accessAllowed) {\n",
              "        return;\n",
              "      }\n",
              "      const div = document.createElement('div');\n",
              "      const label = document.createElement('label');\n",
              "      label.textContent = `Downloading \"${filename}\": `;\n",
              "      div.appendChild(label);\n",
              "      const progress = document.createElement('progress');\n",
              "      progress.max = size;\n",
              "      div.appendChild(progress);\n",
              "      document.body.appendChild(div);\n",
              "\n",
              "      const buffers = [];\n",
              "      let downloaded = 0;\n",
              "\n",
              "      const channel = await google.colab.kernel.comms.open(id);\n",
              "      // Send a message to notify the kernel that we're ready.\n",
              "      channel.send({})\n",
              "\n",
              "      for await (const message of channel.messages) {\n",
              "        // Send a message to notify the kernel that we're ready.\n",
              "        channel.send({})\n",
              "        if (message.buffers) {\n",
              "          for (const buffer of message.buffers) {\n",
              "            buffers.push(buffer);\n",
              "            downloaded += buffer.byteLength;\n",
              "            progress.value = downloaded;\n",
              "          }\n",
              "        }\n",
              "      }\n",
              "      const blob = new Blob(buffers, {type: 'application/binary'});\n",
              "      const a = document.createElement('a');\n",
              "      a.href = window.URL.createObjectURL(blob);\n",
              "      a.download = filename;\n",
              "      div.appendChild(a);\n",
              "      a.click();\n",
              "      div.remove();\n",
              "    }\n",
              "  "
            ],
            "text/plain": [
              "<IPython.core.display.Javascript object>"
            ]
          },
          "metadata": {
            "tags": []
          }
        },
        {
          "output_type": "display_data",
          "data": {
            "application/javascript": [
              "download(\"download_127bbba5-bdc9-480a-bc94-b0ee305ecf00\", \"_castle15.txt\", 17650955)"
            ],
            "text/plain": [
              "<IPython.core.display.Javascript object>"
            ]
          },
          "metadata": {
            "tags": []
          }
        },
        {
          "output_type": "display_data",
          "data": {
            "application/javascript": [
              "\n",
              "    async function download(id, filename, size) {\n",
              "      if (!google.colab.kernel.accessAllowed) {\n",
              "        return;\n",
              "      }\n",
              "      const div = document.createElement('div');\n",
              "      const label = document.createElement('label');\n",
              "      label.textContent = `Downloading \"${filename}\": `;\n",
              "      div.appendChild(label);\n",
              "      const progress = document.createElement('progress');\n",
              "      progress.max = size;\n",
              "      div.appendChild(progress);\n",
              "      document.body.appendChild(div);\n",
              "\n",
              "      const buffers = [];\n",
              "      let downloaded = 0;\n",
              "\n",
              "      const channel = await google.colab.kernel.comms.open(id);\n",
              "      // Send a message to notify the kernel that we're ready.\n",
              "      channel.send({})\n",
              "\n",
              "      for await (const message of channel.messages) {\n",
              "        // Send a message to notify the kernel that we're ready.\n",
              "        channel.send({})\n",
              "        if (message.buffers) {\n",
              "          for (const buffer of message.buffers) {\n",
              "            buffers.push(buffer);\n",
              "            downloaded += buffer.byteLength;\n",
              "            progress.value = downloaded;\n",
              "          }\n",
              "        }\n",
              "      }\n",
              "      const blob = new Blob(buffers, {type: 'application/binary'});\n",
              "      const a = document.createElement('a');\n",
              "      a.href = window.URL.createObjectURL(blob);\n",
              "      a.download = filename;\n",
              "      div.appendChild(a);\n",
              "      a.click();\n",
              "      div.remove();\n",
              "    }\n",
              "  "
            ],
            "text/plain": [
              "<IPython.core.display.Javascript object>"
            ]
          },
          "metadata": {
            "tags": []
          }
        },
        {
          "output_type": "display_data",
          "data": {
            "application/javascript": [
              "download(\"download_d6523257-a03b-4474-be80-5d1234b2855a\", \"_castle16.txt\", 17969513)"
            ],
            "text/plain": [
              "<IPython.core.display.Javascript object>"
            ]
          },
          "metadata": {
            "tags": []
          }
        },
        {
          "output_type": "display_data",
          "data": {
            "application/javascript": [
              "\n",
              "    async function download(id, filename, size) {\n",
              "      if (!google.colab.kernel.accessAllowed) {\n",
              "        return;\n",
              "      }\n",
              "      const div = document.createElement('div');\n",
              "      const label = document.createElement('label');\n",
              "      label.textContent = `Downloading \"${filename}\": `;\n",
              "      div.appendChild(label);\n",
              "      const progress = document.createElement('progress');\n",
              "      progress.max = size;\n",
              "      div.appendChild(progress);\n",
              "      document.body.appendChild(div);\n",
              "\n",
              "      const buffers = [];\n",
              "      let downloaded = 0;\n",
              "\n",
              "      const channel = await google.colab.kernel.comms.open(id);\n",
              "      // Send a message to notify the kernel that we're ready.\n",
              "      channel.send({})\n",
              "\n",
              "      for await (const message of channel.messages) {\n",
              "        // Send a message to notify the kernel that we're ready.\n",
              "        channel.send({})\n",
              "        if (message.buffers) {\n",
              "          for (const buffer of message.buffers) {\n",
              "            buffers.push(buffer);\n",
              "            downloaded += buffer.byteLength;\n",
              "            progress.value = downloaded;\n",
              "          }\n",
              "        }\n",
              "      }\n",
              "      const blob = new Blob(buffers, {type: 'application/binary'});\n",
              "      const a = document.createElement('a');\n",
              "      a.href = window.URL.createObjectURL(blob);\n",
              "      a.download = filename;\n",
              "      div.appendChild(a);\n",
              "      a.click();\n",
              "      div.remove();\n",
              "    }\n",
              "  "
            ],
            "text/plain": [
              "<IPython.core.display.Javascript object>"
            ]
          },
          "metadata": {
            "tags": []
          }
        },
        {
          "output_type": "display_data",
          "data": {
            "application/javascript": [
              "download(\"download_22568578-f31c-420b-b054-0a7c7f6e5ef2\", \"_castle17.txt\", 31002057)"
            ],
            "text/plain": [
              "<IPython.core.display.Javascript object>"
            ]
          },
          "metadata": {
            "tags": []
          }
        },
        {
          "output_type": "display_data",
          "data": {
            "application/javascript": [
              "\n",
              "    async function download(id, filename, size) {\n",
              "      if (!google.colab.kernel.accessAllowed) {\n",
              "        return;\n",
              "      }\n",
              "      const div = document.createElement('div');\n",
              "      const label = document.createElement('label');\n",
              "      label.textContent = `Downloading \"${filename}\": `;\n",
              "      div.appendChild(label);\n",
              "      const progress = document.createElement('progress');\n",
              "      progress.max = size;\n",
              "      div.appendChild(progress);\n",
              "      document.body.appendChild(div);\n",
              "\n",
              "      const buffers = [];\n",
              "      let downloaded = 0;\n",
              "\n",
              "      const channel = await google.colab.kernel.comms.open(id);\n",
              "      // Send a message to notify the kernel that we're ready.\n",
              "      channel.send({})\n",
              "\n",
              "      for await (const message of channel.messages) {\n",
              "        // Send a message to notify the kernel that we're ready.\n",
              "        channel.send({})\n",
              "        if (message.buffers) {\n",
              "          for (const buffer of message.buffers) {\n",
              "            buffers.push(buffer);\n",
              "            downloaded += buffer.byteLength;\n",
              "            progress.value = downloaded;\n",
              "          }\n",
              "        }\n",
              "      }\n",
              "      const blob = new Blob(buffers, {type: 'application/binary'});\n",
              "      const a = document.createElement('a');\n",
              "      a.href = window.URL.createObjectURL(blob);\n",
              "      a.download = filename;\n",
              "      div.appendChild(a);\n",
              "      a.click();\n",
              "      div.remove();\n",
              "    }\n",
              "  "
            ],
            "text/plain": [
              "<IPython.core.display.Javascript object>"
            ]
          },
          "metadata": {
            "tags": []
          }
        },
        {
          "output_type": "display_data",
          "data": {
            "application/javascript": [
              "download(\"download_2e608f9c-137f-4ab4-a678-34763348c022\", \"_castle18.txt\", 43132549)"
            ],
            "text/plain": [
              "<IPython.core.display.Javascript object>"
            ]
          },
          "metadata": {
            "tags": []
          }
        },
        {
          "output_type": "display_data",
          "data": {
            "application/javascript": [
              "\n",
              "    async function download(id, filename, size) {\n",
              "      if (!google.colab.kernel.accessAllowed) {\n",
              "        return;\n",
              "      }\n",
              "      const div = document.createElement('div');\n",
              "      const label = document.createElement('label');\n",
              "      label.textContent = `Downloading \"${filename}\": `;\n",
              "      div.appendChild(label);\n",
              "      const progress = document.createElement('progress');\n",
              "      progress.max = size;\n",
              "      div.appendChild(progress);\n",
              "      document.body.appendChild(div);\n",
              "\n",
              "      const buffers = [];\n",
              "      let downloaded = 0;\n",
              "\n",
              "      const channel = await google.colab.kernel.comms.open(id);\n",
              "      // Send a message to notify the kernel that we're ready.\n",
              "      channel.send({})\n",
              "\n",
              "      for await (const message of channel.messages) {\n",
              "        // Send a message to notify the kernel that we're ready.\n",
              "        channel.send({})\n",
              "        if (message.buffers) {\n",
              "          for (const buffer of message.buffers) {\n",
              "            buffers.push(buffer);\n",
              "            downloaded += buffer.byteLength;\n",
              "            progress.value = downloaded;\n",
              "          }\n",
              "        }\n",
              "      }\n",
              "      const blob = new Blob(buffers, {type: 'application/binary'});\n",
              "      const a = document.createElement('a');\n",
              "      a.href = window.URL.createObjectURL(blob);\n",
              "      a.download = filename;\n",
              "      div.appendChild(a);\n",
              "      a.click();\n",
              "      div.remove();\n",
              "    }\n",
              "  "
            ],
            "text/plain": [
              "<IPython.core.display.Javascript object>"
            ]
          },
          "metadata": {
            "tags": []
          }
        },
        {
          "output_type": "display_data",
          "data": {
            "application/javascript": [
              "download(\"download_c7000cc8-f3fb-4fe0-9658-ea69c96e2a0a\", \"_castle19.txt\", 33996819)"
            ],
            "text/plain": [
              "<IPython.core.display.Javascript object>"
            ]
          },
          "metadata": {
            "tags": []
          }
        },
        {
          "output_type": "display_data",
          "data": {
            "application/javascript": [
              "\n",
              "    async function download(id, filename, size) {\n",
              "      if (!google.colab.kernel.accessAllowed) {\n",
              "        return;\n",
              "      }\n",
              "      const div = document.createElement('div');\n",
              "      const label = document.createElement('label');\n",
              "      label.textContent = `Downloading \"${filename}\": `;\n",
              "      div.appendChild(label);\n",
              "      const progress = document.createElement('progress');\n",
              "      progress.max = size;\n",
              "      div.appendChild(progress);\n",
              "      document.body.appendChild(div);\n",
              "\n",
              "      const buffers = [];\n",
              "      let downloaded = 0;\n",
              "\n",
              "      const channel = await google.colab.kernel.comms.open(id);\n",
              "      // Send a message to notify the kernel that we're ready.\n",
              "      channel.send({})\n",
              "\n",
              "      for await (const message of channel.messages) {\n",
              "        // Send a message to notify the kernel that we're ready.\n",
              "        channel.send({})\n",
              "        if (message.buffers) {\n",
              "          for (const buffer of message.buffers) {\n",
              "            buffers.push(buffer);\n",
              "            downloaded += buffer.byteLength;\n",
              "            progress.value = downloaded;\n",
              "          }\n",
              "        }\n",
              "      }\n",
              "      const blob = new Blob(buffers, {type: 'application/binary'});\n",
              "      const a = document.createElement('a');\n",
              "      a.href = window.URL.createObjectURL(blob);\n",
              "      a.download = filename;\n",
              "      div.appendChild(a);\n",
              "      a.click();\n",
              "      div.remove();\n",
              "    }\n",
              "  "
            ],
            "text/plain": [
              "<IPython.core.display.Javascript object>"
            ]
          },
          "metadata": {
            "tags": []
          }
        },
        {
          "output_type": "display_data",
          "data": {
            "application/javascript": [
              "download(\"download_5b2cfcdc-8747-43e7-963b-694cf3a3e092\", \"_castle20.txt\", 16991212)"
            ],
            "text/plain": [
              "<IPython.core.display.Javascript object>"
            ]
          },
          "metadata": {
            "tags": []
          }
        },
        {
          "output_type": "display_data",
          "data": {
            "application/javascript": [
              "\n",
              "    async function download(id, filename, size) {\n",
              "      if (!google.colab.kernel.accessAllowed) {\n",
              "        return;\n",
              "      }\n",
              "      const div = document.createElement('div');\n",
              "      const label = document.createElement('label');\n",
              "      label.textContent = `Downloading \"${filename}\": `;\n",
              "      div.appendChild(label);\n",
              "      const progress = document.createElement('progress');\n",
              "      progress.max = size;\n",
              "      div.appendChild(progress);\n",
              "      document.body.appendChild(div);\n",
              "\n",
              "      const buffers = [];\n",
              "      let downloaded = 0;\n",
              "\n",
              "      const channel = await google.colab.kernel.comms.open(id);\n",
              "      // Send a message to notify the kernel that we're ready.\n",
              "      channel.send({})\n",
              "\n",
              "      for await (const message of channel.messages) {\n",
              "        // Send a message to notify the kernel that we're ready.\n",
              "        channel.send({})\n",
              "        if (message.buffers) {\n",
              "          for (const buffer of message.buffers) {\n",
              "            buffers.push(buffer);\n",
              "            downloaded += buffer.byteLength;\n",
              "            progress.value = downloaded;\n",
              "          }\n",
              "        }\n",
              "      }\n",
              "      const blob = new Blob(buffers, {type: 'application/binary'});\n",
              "      const a = document.createElement('a');\n",
              "      a.href = window.URL.createObjectURL(blob);\n",
              "      a.download = filename;\n",
              "      div.appendChild(a);\n",
              "      a.click();\n",
              "      div.remove();\n",
              "    }\n",
              "  "
            ],
            "text/plain": [
              "<IPython.core.display.Javascript object>"
            ]
          },
          "metadata": {
            "tags": []
          }
        },
        {
          "output_type": "display_data",
          "data": {
            "application/javascript": [
              "download(\"download_4dbf3a9c-f308-4d99-967b-973dfce41528\", \"_castle21.txt\", 21782331)"
            ],
            "text/plain": [
              "<IPython.core.display.Javascript object>"
            ]
          },
          "metadata": {
            "tags": []
          }
        },
        {
          "output_type": "display_data",
          "data": {
            "application/javascript": [
              "\n",
              "    async function download(id, filename, size) {\n",
              "      if (!google.colab.kernel.accessAllowed) {\n",
              "        return;\n",
              "      }\n",
              "      const div = document.createElement('div');\n",
              "      const label = document.createElement('label');\n",
              "      label.textContent = `Downloading \"${filename}\": `;\n",
              "      div.appendChild(label);\n",
              "      const progress = document.createElement('progress');\n",
              "      progress.max = size;\n",
              "      div.appendChild(progress);\n",
              "      document.body.appendChild(div);\n",
              "\n",
              "      const buffers = [];\n",
              "      let downloaded = 0;\n",
              "\n",
              "      const channel = await google.colab.kernel.comms.open(id);\n",
              "      // Send a message to notify the kernel that we're ready.\n",
              "      channel.send({})\n",
              "\n",
              "      for await (const message of channel.messages) {\n",
              "        // Send a message to notify the kernel that we're ready.\n",
              "        channel.send({})\n",
              "        if (message.buffers) {\n",
              "          for (const buffer of message.buffers) {\n",
              "            buffers.push(buffer);\n",
              "            downloaded += buffer.byteLength;\n",
              "            progress.value = downloaded;\n",
              "          }\n",
              "        }\n",
              "      }\n",
              "      const blob = new Blob(buffers, {type: 'application/binary'});\n",
              "      const a = document.createElement('a');\n",
              "      a.href = window.URL.createObjectURL(blob);\n",
              "      a.download = filename;\n",
              "      div.appendChild(a);\n",
              "      a.click();\n",
              "      div.remove();\n",
              "    }\n",
              "  "
            ],
            "text/plain": [
              "<IPython.core.display.Javascript object>"
            ]
          },
          "metadata": {
            "tags": []
          }
        },
        {
          "output_type": "display_data",
          "data": {
            "application/javascript": [
              "download(\"download_0e9569ca-c052-4171-b64b-f5fc69adf724\", \"_castle22.txt\", 42470795)"
            ],
            "text/plain": [
              "<IPython.core.display.Javascript object>"
            ]
          },
          "metadata": {
            "tags": []
          }
        },
        {
          "output_type": "display_data",
          "data": {
            "application/javascript": [
              "\n",
              "    async function download(id, filename, size) {\n",
              "      if (!google.colab.kernel.accessAllowed) {\n",
              "        return;\n",
              "      }\n",
              "      const div = document.createElement('div');\n",
              "      const label = document.createElement('label');\n",
              "      label.textContent = `Downloading \"${filename}\": `;\n",
              "      div.appendChild(label);\n",
              "      const progress = document.createElement('progress');\n",
              "      progress.max = size;\n",
              "      div.appendChild(progress);\n",
              "      document.body.appendChild(div);\n",
              "\n",
              "      const buffers = [];\n",
              "      let downloaded = 0;\n",
              "\n",
              "      const channel = await google.colab.kernel.comms.open(id);\n",
              "      // Send a message to notify the kernel that we're ready.\n",
              "      channel.send({})\n",
              "\n",
              "      for await (const message of channel.messages) {\n",
              "        // Send a message to notify the kernel that we're ready.\n",
              "        channel.send({})\n",
              "        if (message.buffers) {\n",
              "          for (const buffer of message.buffers) {\n",
              "            buffers.push(buffer);\n",
              "            downloaded += buffer.byteLength;\n",
              "            progress.value = downloaded;\n",
              "          }\n",
              "        }\n",
              "      }\n",
              "      const blob = new Blob(buffers, {type: 'application/binary'});\n",
              "      const a = document.createElement('a');\n",
              "      a.href = window.URL.createObjectURL(blob);\n",
              "      a.download = filename;\n",
              "      div.appendChild(a);\n",
              "      a.click();\n",
              "      div.remove();\n",
              "    }\n",
              "  "
            ],
            "text/plain": [
              "<IPython.core.display.Javascript object>"
            ]
          },
          "metadata": {
            "tags": []
          }
        },
        {
          "output_type": "display_data",
          "data": {
            "application/javascript": [
              "download(\"download_54c880a3-6806-4de5-a495-2e4cd67734a4\", \"_castle23.txt\", 42775794)"
            ],
            "text/plain": [
              "<IPython.core.display.Javascript object>"
            ]
          },
          "metadata": {
            "tags": []
          }
        },
        {
          "output_type": "display_data",
          "data": {
            "application/javascript": [
              "\n",
              "    async function download(id, filename, size) {\n",
              "      if (!google.colab.kernel.accessAllowed) {\n",
              "        return;\n",
              "      }\n",
              "      const div = document.createElement('div');\n",
              "      const label = document.createElement('label');\n",
              "      label.textContent = `Downloading \"${filename}\": `;\n",
              "      div.appendChild(label);\n",
              "      const progress = document.createElement('progress');\n",
              "      progress.max = size;\n",
              "      div.appendChild(progress);\n",
              "      document.body.appendChild(div);\n",
              "\n",
              "      const buffers = [];\n",
              "      let downloaded = 0;\n",
              "\n",
              "      const channel = await google.colab.kernel.comms.open(id);\n",
              "      // Send a message to notify the kernel that we're ready.\n",
              "      channel.send({})\n",
              "\n",
              "      for await (const message of channel.messages) {\n",
              "        // Send a message to notify the kernel that we're ready.\n",
              "        channel.send({})\n",
              "        if (message.buffers) {\n",
              "          for (const buffer of message.buffers) {\n",
              "            buffers.push(buffer);\n",
              "            downloaded += buffer.byteLength;\n",
              "            progress.value = downloaded;\n",
              "          }\n",
              "        }\n",
              "      }\n",
              "      const blob = new Blob(buffers, {type: 'application/binary'});\n",
              "      const a = document.createElement('a');\n",
              "      a.href = window.URL.createObjectURL(blob);\n",
              "      a.download = filename;\n",
              "      div.appendChild(a);\n",
              "      a.click();\n",
              "      div.remove();\n",
              "    }\n",
              "  "
            ],
            "text/plain": [
              "<IPython.core.display.Javascript object>"
            ]
          },
          "metadata": {
            "tags": []
          }
        },
        {
          "output_type": "display_data",
          "data": {
            "application/javascript": [
              "download(\"download_625ecf47-f93e-4893-83da-dfeb36954e47\", \"_castle24.txt\", 43646660)"
            ],
            "text/plain": [
              "<IPython.core.display.Javascript object>"
            ]
          },
          "metadata": {
            "tags": []
          }
        },
        {
          "output_type": "display_data",
          "data": {
            "application/javascript": [
              "\n",
              "    async function download(id, filename, size) {\n",
              "      if (!google.colab.kernel.accessAllowed) {\n",
              "        return;\n",
              "      }\n",
              "      const div = document.createElement('div');\n",
              "      const label = document.createElement('label');\n",
              "      label.textContent = `Downloading \"${filename}\": `;\n",
              "      div.appendChild(label);\n",
              "      const progress = document.createElement('progress');\n",
              "      progress.max = size;\n",
              "      div.appendChild(progress);\n",
              "      document.body.appendChild(div);\n",
              "\n",
              "      const buffers = [];\n",
              "      let downloaded = 0;\n",
              "\n",
              "      const channel = await google.colab.kernel.comms.open(id);\n",
              "      // Send a message to notify the kernel that we're ready.\n",
              "      channel.send({})\n",
              "\n",
              "      for await (const message of channel.messages) {\n",
              "        // Send a message to notify the kernel that we're ready.\n",
              "        channel.send({})\n",
              "        if (message.buffers) {\n",
              "          for (const buffer of message.buffers) {\n",
              "            buffers.push(buffer);\n",
              "            downloaded += buffer.byteLength;\n",
              "            progress.value = downloaded;\n",
              "          }\n",
              "        }\n",
              "      }\n",
              "      const blob = new Blob(buffers, {type: 'application/binary'});\n",
              "      const a = document.createElement('a');\n",
              "      a.href = window.URL.createObjectURL(blob);\n",
              "      a.download = filename;\n",
              "      div.appendChild(a);\n",
              "      a.click();\n",
              "      div.remove();\n",
              "    }\n",
              "  "
            ],
            "text/plain": [
              "<IPython.core.display.Javascript object>"
            ]
          },
          "metadata": {
            "tags": []
          }
        },
        {
          "output_type": "display_data",
          "data": {
            "application/javascript": [
              "download(\"download_e1d18a94-f93b-4c59-bbb3-5de5e571e75e\", \"_castle25.txt\", 39462307)"
            ],
            "text/plain": [
              "<IPython.core.display.Javascript object>"
            ]
          },
          "metadata": {
            "tags": []
          }
        },
        {
          "output_type": "display_data",
          "data": {
            "application/javascript": [
              "\n",
              "    async function download(id, filename, size) {\n",
              "      if (!google.colab.kernel.accessAllowed) {\n",
              "        return;\n",
              "      }\n",
              "      const div = document.createElement('div');\n",
              "      const label = document.createElement('label');\n",
              "      label.textContent = `Downloading \"${filename}\": `;\n",
              "      div.appendChild(label);\n",
              "      const progress = document.createElement('progress');\n",
              "      progress.max = size;\n",
              "      div.appendChild(progress);\n",
              "      document.body.appendChild(div);\n",
              "\n",
              "      const buffers = [];\n",
              "      let downloaded = 0;\n",
              "\n",
              "      const channel = await google.colab.kernel.comms.open(id);\n",
              "      // Send a message to notify the kernel that we're ready.\n",
              "      channel.send({})\n",
              "\n",
              "      for await (const message of channel.messages) {\n",
              "        // Send a message to notify the kernel that we're ready.\n",
              "        channel.send({})\n",
              "        if (message.buffers) {\n",
              "          for (const buffer of message.buffers) {\n",
              "            buffers.push(buffer);\n",
              "            downloaded += buffer.byteLength;\n",
              "            progress.value = downloaded;\n",
              "          }\n",
              "        }\n",
              "      }\n",
              "      const blob = new Blob(buffers, {type: 'application/binary'});\n",
              "      const a = document.createElement('a');\n",
              "      a.href = window.URL.createObjectURL(blob);\n",
              "      a.download = filename;\n",
              "      div.appendChild(a);\n",
              "      a.click();\n",
              "      div.remove();\n",
              "    }\n",
              "  "
            ],
            "text/plain": [
              "<IPython.core.display.Javascript object>"
            ]
          },
          "metadata": {
            "tags": []
          }
        },
        {
          "output_type": "display_data",
          "data": {
            "application/javascript": [
              "download(\"download_ef38404d-6c35-4509-ad66-8b15384059e9\", \"_castle26.txt\", 36863312)"
            ],
            "text/plain": [
              "<IPython.core.display.Javascript object>"
            ]
          },
          "metadata": {
            "tags": []
          }
        },
        {
          "output_type": "display_data",
          "data": {
            "application/javascript": [
              "\n",
              "    async function download(id, filename, size) {\n",
              "      if (!google.colab.kernel.accessAllowed) {\n",
              "        return;\n",
              "      }\n",
              "      const div = document.createElement('div');\n",
              "      const label = document.createElement('label');\n",
              "      label.textContent = `Downloading \"${filename}\": `;\n",
              "      div.appendChild(label);\n",
              "      const progress = document.createElement('progress');\n",
              "      progress.max = size;\n",
              "      div.appendChild(progress);\n",
              "      document.body.appendChild(div);\n",
              "\n",
              "      const buffers = [];\n",
              "      let downloaded = 0;\n",
              "\n",
              "      const channel = await google.colab.kernel.comms.open(id);\n",
              "      // Send a message to notify the kernel that we're ready.\n",
              "      channel.send({})\n",
              "\n",
              "      for await (const message of channel.messages) {\n",
              "        // Send a message to notify the kernel that we're ready.\n",
              "        channel.send({})\n",
              "        if (message.buffers) {\n",
              "          for (const buffer of message.buffers) {\n",
              "            buffers.push(buffer);\n",
              "            downloaded += buffer.byteLength;\n",
              "            progress.value = downloaded;\n",
              "          }\n",
              "        }\n",
              "      }\n",
              "      const blob = new Blob(buffers, {type: 'application/binary'});\n",
              "      const a = document.createElement('a');\n",
              "      a.href = window.URL.createObjectURL(blob);\n",
              "      a.download = filename;\n",
              "      div.appendChild(a);\n",
              "      a.click();\n",
              "      div.remove();\n",
              "    }\n",
              "  "
            ],
            "text/plain": [
              "<IPython.core.display.Javascript object>"
            ]
          },
          "metadata": {
            "tags": []
          }
        },
        {
          "output_type": "display_data",
          "data": {
            "application/javascript": [
              "download(\"download_e1d22471-1c8b-456a-af97-932fdff1449d\", \"_castle27.txt\", 24877863)"
            ],
            "text/plain": [
              "<IPython.core.display.Javascript object>"
            ]
          },
          "metadata": {
            "tags": []
          }
        },
        {
          "output_type": "display_data",
          "data": {
            "application/javascript": [
              "\n",
              "    async function download(id, filename, size) {\n",
              "      if (!google.colab.kernel.accessAllowed) {\n",
              "        return;\n",
              "      }\n",
              "      const div = document.createElement('div');\n",
              "      const label = document.createElement('label');\n",
              "      label.textContent = `Downloading \"${filename}\": `;\n",
              "      div.appendChild(label);\n",
              "      const progress = document.createElement('progress');\n",
              "      progress.max = size;\n",
              "      div.appendChild(progress);\n",
              "      document.body.appendChild(div);\n",
              "\n",
              "      const buffers = [];\n",
              "      let downloaded = 0;\n",
              "\n",
              "      const channel = await google.colab.kernel.comms.open(id);\n",
              "      // Send a message to notify the kernel that we're ready.\n",
              "      channel.send({})\n",
              "\n",
              "      for await (const message of channel.messages) {\n",
              "        // Send a message to notify the kernel that we're ready.\n",
              "        channel.send({})\n",
              "        if (message.buffers) {\n",
              "          for (const buffer of message.buffers) {\n",
              "            buffers.push(buffer);\n",
              "            downloaded += buffer.byteLength;\n",
              "            progress.value = downloaded;\n",
              "          }\n",
              "        }\n",
              "      }\n",
              "      const blob = new Blob(buffers, {type: 'application/binary'});\n",
              "      const a = document.createElement('a');\n",
              "      a.href = window.URL.createObjectURL(blob);\n",
              "      a.download = filename;\n",
              "      div.appendChild(a);\n",
              "      a.click();\n",
              "      div.remove();\n",
              "    }\n",
              "  "
            ],
            "text/plain": [
              "<IPython.core.display.Javascript object>"
            ]
          },
          "metadata": {
            "tags": []
          }
        },
        {
          "output_type": "display_data",
          "data": {
            "application/javascript": [
              "download(\"download_3ef02d65-8ffc-430a-bc1a-75e636ada95a\", \"_castle28.txt\", 29476592)"
            ],
            "text/plain": [
              "<IPython.core.display.Javascript object>"
            ]
          },
          "metadata": {
            "tags": []
          }
        },
        {
          "output_type": "display_data",
          "data": {
            "application/javascript": [
              "\n",
              "    async function download(id, filename, size) {\n",
              "      if (!google.colab.kernel.accessAllowed) {\n",
              "        return;\n",
              "      }\n",
              "      const div = document.createElement('div');\n",
              "      const label = document.createElement('label');\n",
              "      label.textContent = `Downloading \"${filename}\": `;\n",
              "      div.appendChild(label);\n",
              "      const progress = document.createElement('progress');\n",
              "      progress.max = size;\n",
              "      div.appendChild(progress);\n",
              "      document.body.appendChild(div);\n",
              "\n",
              "      const buffers = [];\n",
              "      let downloaded = 0;\n",
              "\n",
              "      const channel = await google.colab.kernel.comms.open(id);\n",
              "      // Send a message to notify the kernel that we're ready.\n",
              "      channel.send({})\n",
              "\n",
              "      for await (const message of channel.messages) {\n",
              "        // Send a message to notify the kernel that we're ready.\n",
              "        channel.send({})\n",
              "        if (message.buffers) {\n",
              "          for (const buffer of message.buffers) {\n",
              "            buffers.push(buffer);\n",
              "            downloaded += buffer.byteLength;\n",
              "            progress.value = downloaded;\n",
              "          }\n",
              "        }\n",
              "      }\n",
              "      const blob = new Blob(buffers, {type: 'application/binary'});\n",
              "      const a = document.createElement('a');\n",
              "      a.href = window.URL.createObjectURL(blob);\n",
              "      a.download = filename;\n",
              "      div.appendChild(a);\n",
              "      a.click();\n",
              "      div.remove();\n",
              "    }\n",
              "  "
            ],
            "text/plain": [
              "<IPython.core.display.Javascript object>"
            ]
          },
          "metadata": {
            "tags": []
          }
        },
        {
          "output_type": "display_data",
          "data": {
            "application/javascript": [
              "download(\"download_aa04a500-f9bd-49fe-bb05-e5d7f66fc788\", \"_castle29.txt\", 27245398)"
            ],
            "text/plain": [
              "<IPython.core.display.Javascript object>"
            ]
          },
          "metadata": {
            "tags": []
          }
        }
      ]
    },
    {
      "cell_type": "markdown",
      "metadata": {
        "id": "xZHCdK7D8dZF"
      },
      "source": [
        "## Building Autoencoder"
      ]
    },
    {
      "cell_type": "markdown",
      "metadata": {
        "id": "jnpN3DTgCZbs"
      },
      "source": [
        "### Data loading and preprocessing"
      ]
    },
    {
      "cell_type": "markdown",
      "metadata": {
        "id": "YpwF6ty9Lfec"
      },
      "source": [
        "Trying to read floats from the txt files"
      ]
    },
    {
      "cell_type": "code",
      "metadata": {
        "id": "qisdfyvSAKVl"
      },
      "source": [
        "from pathlib import Path\n",
        "import numpy as np\n",
        "\n",
        "i = 0\n",
        "X = np.zeros((1049295, 128))\n",
        "entries = Path('.')\n",
        "for entry in entries.iterdir():\n",
        "    for file_name in entry.iterdir():\n",
        "        #if i == 11:\n",
        "          #print(file_name)\n",
        "          with open(file_name, 'rt') as f:\n",
        "              data = f.read()\n",
        "          data = data.replace('[','')\n",
        "          fs = data.split(sep=']\\n')\n",
        "          fs.pop()\n",
        "          #print(fs[0])\n",
        "          for f in fs:\n",
        "            X[i] = np.array(list(map(float, f.split(','))))\n",
        "            i += 1"
      ],
      "execution_count": null,
      "outputs": []
    },
    {
      "cell_type": "markdown",
      "metadata": {
        "id": "5t7-193wXFhd"
      },
      "source": [
        "Every feature has 128 floating points"
      ]
    },
    {
      "cell_type": "code",
      "metadata": {
        "colab": {
          "base_uri": "https://localhost:8080/"
        },
        "id": "KG0zY3_vWm5g",
        "outputId": "1e6e9ac6-bf17-4ba3-d3f7-a2a2eef64d76"
      },
      "source": [
        "max([np.size(lists[i]) for i in range(len(lists))])"
      ],
      "execution_count": null,
      "outputs": [
        {
          "output_type": "execute_result",
          "data": {
            "text/plain": [
              "128"
            ]
          },
          "metadata": {
            "tags": []
          },
          "execution_count": 83
        }
      ]
    },
    {
      "cell_type": "markdown",
      "metadata": {
        "id": "K4DOgWdNXRZ8"
      },
      "source": [
        "But the number of features is different. The max is 25571, the min is 3747, the total number of files is 90. The mean is 11658.833333333334, and the number of features in all the files is 1049295."
      ]
    },
    {
      "cell_type": "code",
      "metadata": {
        "colab": {
          "base_uri": "https://localhost:8080/"
        },
        "id": "a613isUfXQkS",
        "outputId": "afcde9dd-209d-4faa-dab3-4b1c405568ff"
      },
      "source": [
        "max(len_of_f), min(len_of_f), len(len_of_f)"
      ],
      "execution_count": null,
      "outputs": [
        {
          "output_type": "execute_result",
          "data": {
            "text/plain": [
              "(25571, 3747, 90)"
            ]
          },
          "metadata": {
            "tags": []
          },
          "execution_count": 87
        }
      ]
    },
    {
      "cell_type": "code",
      "metadata": {
        "colab": {
          "base_uri": "https://localhost:8080/"
        },
        "id": "Jr5ehL2mXNW3",
        "outputId": "ef637d7c-f060-44df-b3df-151de9c68691"
      },
      "source": [
        "len_of_f[-10:], np.mean(len_of_f), sum(len_of_f)"
      ],
      "execution_count": null,
      "outputs": [
        {
          "output_type": "execute_result",
          "data": {
            "text/plain": [
              "([21611, 22995, 23118, 24089, 24081, 23936, 24826, 25024, 25226, 25571],\n",
              " 11658.833333333334,\n",
              " 1049295)"
            ]
          },
          "metadata": {
            "tags": []
          },
          "execution_count": 93
        }
      ]
    },
    {
      "cell_type": "markdown",
      "metadata": {
        "id": "qOE4HSatCOlK"
      },
      "source": [
        "The feature points, all in one dataset."
      ]
    },
    {
      "cell_type": "code",
      "metadata": {
        "colab": {
          "base_uri": "https://localhost:8080/"
        },
        "id": "dlZPHrINdB2N",
        "outputId": "2b9fa3fb-1977-4a6b-f082-f82131fe581c"
      },
      "source": [
        "X[-1]"
      ],
      "execution_count": null,
      "outputs": [
        {
          "output_type": "execute_result",
          "data": {
            "text/plain": [
              "array([-1.44199510e-04,  5.51818300e-04, -4.50025400e-03,  7.86423600e-03,\n",
              "       -4.27127400e-04,  4.67859650e-04, -3.82459260e-04,  4.56417900e-04,\n",
              "        3.92690900e-02,  5.35486040e-02, -5.04351670e-02,  5.65274250e-02,\n",
              "        3.67816100e-03,  4.05892730e-03, -1.82176540e-03,  3.70893300e-03,\n",
              "        1.51151110e-02,  3.21395730e-02,  5.13875100e-03,  1.70906220e-02,\n",
              "        9.74868700e-04,  5.87202050e-03, -1.18556550e-04,  1.95209400e-03,\n",
              "        6.15387050e-04,  8.19851640e-04, -2.19461230e-03,  5.45217560e-03,\n",
              "       -7.43548970e-04,  1.31980360e-03, -1.51804020e-03,  1.96205340e-03,\n",
              "       -2.36851600e-02,  4.53369240e-02, -8.41672770e-04,  8.71586500e-03,\n",
              "        1.52687980e-04,  4.59911260e-03,  5.14560700e-04,  9.33708500e-04,\n",
              "       -2.40775870e-01,  4.55918300e-01,  1.64573070e-01,  2.66964380e-01,\n",
              "       -1.24236380e-02,  2.61803750e-02,  4.47020350e-03,  1.79024430e-02,\n",
              "        5.14616500e-03,  1.06442890e-01,  1.07022725e-01,  2.12633330e-01,\n",
              "       -2.71896400e-02,  2.82794500e-02, -9.08797050e-03,  1.43033415e-02,\n",
              "        9.89557500e-03,  2.56492510e-02,  4.89636840e-03,  4.89636840e-03,\n",
              "        5.96145730e-03,  7.22390800e-03,  8.69593300e-03,  8.69593300e-03,\n",
              "       -4.45686280e-02,  5.71793200e-02,  4.14517130e-04,  2.89668820e-03,\n",
              "        1.33520080e-04,  9.43392000e-04,  5.22791600e-03,  6.05530700e-03,\n",
              "       -2.97819000e-01,  5.56002800e-01,  1.48920490e-01,  1.48920490e-01,\n",
              "       -1.31553940e-02,  1.56458100e-02,  4.39258900e-02,  4.39258900e-02,\n",
              "        1.69213860e-02,  6.46038200e-02,  1.52836140e-01,  2.36767650e-01,\n",
              "       -3.16430070e-02,  3.48260140e-02, -3.12872200e-03,  9.51473100e-03,\n",
              "        1.87434790e-03,  4.51675240e-03,  1.38145680e-02,  2.28294540e-02,\n",
              "       -2.27977150e-03,  5.52704600e-03, -1.64137290e-03,  2.30197420e-03,\n",
              "       -8.79115500e-03,  9.17000400e-03,  8.34797500e-04,  8.34797500e-04,\n",
              "       -1.91450280e-04,  3.00822630e-04,  1.13514860e-03,  1.13514860e-03,\n",
              "       -5.31967020e-02,  6.41075800e-02,  1.08481530e-02,  1.11484770e-02,\n",
              "       -7.79970430e-04,  3.22845160e-03,  9.12441900e-03,  9.22452750e-03,\n",
              "        3.73636800e-03,  3.73636800e-03,  3.51931700e-02,  3.75774540e-02,\n",
              "       -5.58061100e-03,  6.98404570e-03, -1.43192420e-03,  1.43192420e-03,\n",
              "        2.32362720e-03,  2.54762640e-03,  4.89582660e-04,  5.20598000e-04,\n",
              "        1.73074170e-03,  2.49496780e-03,  1.14591330e-03,  1.16501970e-03])"
            ]
          },
          "metadata": {
            "tags": []
          },
          "execution_count": 99
        }
      ]
    },
    {
      "cell_type": "code",
      "metadata": {
        "colab": {
          "base_uri": "https://localhost:8080/"
        },
        "id": "o-YG2BsxjZWK",
        "outputId": "a0580041-8958-4034-84bd-402808f9fef2"
      },
      "source": [
        "min([min(X[i]) for i in range(X.shape[0])]), max([max(X[i]) for i in range(X.shape[0])])"
      ],
      "execution_count": null,
      "outputs": [
        {
          "output_type": "execute_result",
          "data": {
            "text/plain": [
              "(-0.56301886, 0.8610955)"
            ]
          },
          "metadata": {
            "tags": []
          },
          "execution_count": 121
        }
      ]
    },
    {
      "cell_type": "markdown",
      "metadata": {
        "id": "3gGcb9ZJCCAl"
      },
      "source": [
        "Using 1% as test data, since it's already enough. The dataset is very long."
      ]
    },
    {
      "cell_type": "code",
      "metadata": {
        "colab": {
          "base_uri": "https://localhost:8080/"
        },
        "id": "hhIyhHLEZ4V6",
        "outputId": "4956cd3d-c151-4a0a-9939-94b4073ffb64"
      },
      "source": [
        "from sklearn.model_selection import train_test_split\n",
        "\n",
        "x_train, x_test = train_test_split(X, test_size=0.01, random_state=42)\n",
        "x_train.shape, x_test.shape"
      ],
      "execution_count": null,
      "outputs": [
        {
          "output_type": "execute_result",
          "data": {
            "text/plain": [
              "(array([[-9.5865474e-04,  1.5423239e-03, -8.1824700e-04, ...,\n",
              "          5.6340780e-03,  4.1057816e-04,  4.1057816e-04],\n",
              "        [-1.2630781e-05,  9.9216650e-05,  2.0349894e-04, ...,\n",
              "          5.6421810e-04,  1.0279511e-03,  1.0279511e-03],\n",
              "        [ 1.2477237e-03,  1.1369608e-02, -1.8951286e-02, ...,\n",
              "          5.0941897e-03,  1.2407094e-06,  3.5283902e-06],\n",
              "        ...,\n",
              "        [-2.2666955e-03,  3.7782262e-03,  1.0655190e-03, ...,\n",
              "          3.3380445e-03, -6.9916610e-03,  6.9916610e-03],\n",
              "        [ 1.9123164e-03,  2.1592810e-03,  7.8947630e-05, ...,\n",
              "          2.7253813e-04, -1.1654355e-05,  2.8276076e-05],\n",
              "        [-1.9435319e-03,  3.3665370e-03, -1.4294201e-02, ...,\n",
              "          5.5066287e-03,  6.1947550e-03,  7.0650848e-03]]),\n",
              " array([[-4.5389400e-04,  1.4373813e-03,  1.5308244e-04, ...,\n",
              "          2.4462247e-03,  2.9574945e-05,  3.0990643e-05],\n",
              "        [-6.3222568e-03,  6.3592363e-03,  6.4058965e-03, ...,\n",
              "          4.1908480e-04,  1.1912432e-04,  3.5400780e-04],\n",
              "        [ 2.6490393e-03,  1.0117193e-02,  4.8257937e-03, ...,\n",
              "          1.6629377e-04, -8.8365260e-05,  1.4011639e-04],\n",
              "        ...,\n",
              "        [ 2.7961466e-03,  2.9640687e-03,  2.2225324e-03, ...,\n",
              "          3.5983336e-05, -1.4104320e-03,  1.5544890e-03],\n",
              "        [ 4.1089885e-04,  1.6196757e-03, -5.4178090e-05, ...,\n",
              "          2.0454480e-03, -2.8812196e-04,  2.8812196e-04],\n",
              "        [-1.6789438e-05,  1.6789438e-05,  2.2611152e-03, ...,\n",
              "          3.8893490e-04,  9.9327110e-04,  9.9393040e-04]]))"
            ]
          },
          "metadata": {
            "tags": []
          },
          "execution_count": 110
        }
      ]
    },
    {
      "cell_type": "markdown",
      "metadata": {
        "id": "A8kZ2q1Jd3nb"
      },
      "source": [
        "### Building and compiling the model"
      ]
    },
    {
      "cell_type": "markdown",
      "metadata": {
        "id": "lCkz80TACiOr"
      },
      "source": [
        "using https://blog.keras.io/building-autoencoders-in-keras.html"
      ]
    },
    {
      "cell_type": "code",
      "metadata": {
        "id": "x6blc3QYL9Js"
      },
      "source": [
        "import keras\n",
        "from keras import layers\n",
        "from keras import regularizers\n",
        "\n",
        "# This is the size of our encoded representations\n",
        "encoding_dim = 32  # 20 floats -> compression of factor 6.4, assuming the input is 128 floats\n",
        "\n",
        "# This is our input image\n",
        "input = keras.Input(shape=(128,))\n",
        "# \"encoded\" is the encoded representation of the input\n",
        "encoded = layers.Dense(encoding_dim, activation='relu')(input)\n",
        "#encoded = layers.Dense(encoding_dim, activation='relu',\n",
        "#                activity_regularizer=regularizers.l1(10e-5))(input)\n",
        "encoded = layers.Dense(64, activation='relu')(encoded)\n",
        "encoded = layers.Dense(32, activation='relu')(encoded)\n",
        "\n",
        "# \"decoded\" is the lossy reconstruction of the input\n",
        "decoded = layers.Dense(32, activation='relu')(encoded)\n",
        "decoded = layers.Dense(64, activation='relu')(decoded)\n",
        "decoded = layers.Dense(128, activation='tanh')(decoded)\n",
        "\n",
        "# This model maps an input to its reconstruction\n",
        "autoencoder = keras.Model(input, decoded)\n",
        "\n",
        "# This model maps an input to its encoded representation\n",
        "encoder = keras.Model(input, encoded)\n",
        "\n",
        "autoencoder.compile(optimizer='adam', loss='mse', metrics=['accuracy', 'mse'])\n",
        "\n",
        "n = 100\n",
        "m = 256"
      ],
      "execution_count": null,
      "outputs": []
    },
    {
      "cell_type": "markdown",
      "metadata": {
        "id": "r3P_RVUjCwKx"
      },
      "source": [
        "This is just for reference."
      ]
    },
    {
      "cell_type": "code",
      "metadata": {
        "id": "6QnNm5lfFkiG"
      },
      "source": [
        "# This is our encoded input\n",
        "encoded_input = keras.Input(shape=(encoding_dim,))\n",
        "# Retrieve the last layer of the autoencoder model\n",
        "decoder_layer = autoencoder.layers[-1]\n",
        "# Create the decoder model\n",
        "decoder = keras.Model(encoded_input, decoder_layer(encoded_input))"
      ],
      "execution_count": null,
      "outputs": []
    },
    {
      "cell_type": "markdown",
      "metadata": {
        "id": "XYluS5u0C2EF"
      },
      "source": [
        "**The results of trained models so far:**"
      ]
    },
    {
      "cell_type": "markdown",
      "metadata": {
        "id": "4zCmId_c4Ywx"
      },
      "source": [
        "after 30 epochs loss: 7.2275e-04 - val_loss: 7.2704e-04\n",
        "\n",
        "50: loss: 8.1649e-04 - accuracy: 0.5823 - mse: 8.1649e-04 - val_loss: 8.2108e-04 - val_accuracy: 0.5739 - val_mse: 8.2108e-04\n",
        "\n",
        "with 3 layers in the decoder: after 30 loss: 4.9462e-04 - accuracy: 0.6684 - mse: 4.9462e-04 - val_loss: 5.0059e-04 - val_accuracy: 0.6636 - val_mse: 5.0059e-04\n",
        "\n",
        "with regularizer: loss: 4.5962e-04 - accuracy: 0.7099 - mse: 4.4200e-04 - val_loss: 4.6452e-04 - val_accuracy: 0.7138 - val_mse: 4.4691e-04\n",
        "\n",
        "with 2 regularizers: loss: 5.8989e-04 - accuracy: 0.6455 - mse: 5.6350e-04 - val_loss: 6.0198e-04 - val_accuracy: 0.6468 - val_mse: 5.7574e-04\n",
        "\n",
        "with 1 reg and 32 instead of 20 inp_dim, 30: loss: 3.5385e-04 - accuracy: 0.7778 - mse: 3.3788e-04 - val_loss: 3.5677e-04 - val_accuracy: 0.7703 - val_mse: 3.4057e-04\n",
        "\n",
        "after 60: loss: 3.3013e-04 - accuracy: 0.7842 - mse: 3.1387e-04 - val_loss: 3.3297e-04 - val_accuracy: 0.7780 - val_mse: 3.1674e-04\n",
        "\n",
        "100: loss: 3.0940e-04 - accuracy: 0.7932 - mse: 2.9367e-04 - val_loss: 3.1491e-04 - val_accuracy: 0.7877 - val_mse: 2.9920e-04\n",
        "\n",
        "w/o reg: loss: 2.6505e-04 - accuracy: 0.7996 - mse: 2.6505e-04 - val_loss: 2.6707e-04 - val_accuracy: 0.8023 - val_mse: 2.6707e-04"
      ]
    },
    {
      "cell_type": "markdown",
      "metadata": {
        "id": "FV66XNNGC9Y2"
      },
      "source": [
        "### Training"
      ]
    },
    {
      "cell_type": "code",
      "metadata": {
        "colab": {
          "base_uri": "https://localhost:8080/"
        },
        "id": "y1MbGpA0eAr5",
        "outputId": "864d4313-69ef-4cd8-a70e-f65b6db2819d"
      },
      "source": [
        "history = autoencoder.fit(x_train, x_train,\n",
        "                epochs=n,\n",
        "                batch_size=m,\n",
        "                shuffle=True,\n",
        "                validation_data=(x_test, x_test))"
      ],
      "execution_count": null,
      "outputs": [
        {
          "output_type": "stream",
          "text": [
            "Epoch 1/100\n",
            "4058/4058 [==============================] - 11s 3ms/step - loss: 0.0012 - accuracy: 0.5530 - mse: 0.0012 - val_loss: 4.0463e-04 - val_accuracy: 0.7195 - val_mse: 4.0463e-04\n",
            "Epoch 2/100\n",
            "4058/4058 [==============================] - 11s 3ms/step - loss: 3.8300e-04 - accuracy: 0.7417 - mse: 3.8300e-04 - val_loss: 3.5367e-04 - val_accuracy: 0.7628 - val_mse: 3.5367e-04\n",
            "Epoch 3/100\n",
            "4058/4058 [==============================] - 11s 3ms/step - loss: 3.4821e-04 - accuracy: 0.7720 - mse: 3.4821e-04 - val_loss: 3.4710e-04 - val_accuracy: 0.7726 - val_mse: 3.4710e-04\n",
            "Epoch 4/100\n",
            "4058/4058 [==============================] - 11s 3ms/step - loss: 3.4166e-04 - accuracy: 0.7779 - mse: 3.4166e-04 - val_loss: 3.3813e-04 - val_accuracy: 0.7746 - val_mse: 3.3813e-04\n",
            "Epoch 5/100\n",
            "4058/4058 [==============================] - 11s 3ms/step - loss: 3.3331e-04 - accuracy: 0.7832 - mse: 3.3331e-04 - val_loss: 3.3615e-04 - val_accuracy: 0.7748 - val_mse: 3.3615e-04\n",
            "Epoch 6/100\n",
            "4058/4058 [==============================] - 11s 3ms/step - loss: 3.3126e-04 - accuracy: 0.7850 - mse: 3.3126e-04 - val_loss: 3.3559e-04 - val_accuracy: 0.7737 - val_mse: 3.3559e-04\n",
            "Epoch 7/100\n",
            "4058/4058 [==============================] - 11s 3ms/step - loss: 3.3032e-04 - accuracy: 0.7851 - mse: 3.3032e-04 - val_loss: 3.3480e-04 - val_accuracy: 0.7782 - val_mse: 3.3480e-04\n",
            "Epoch 8/100\n",
            "4058/4058 [==============================] - 11s 3ms/step - loss: 3.3080e-04 - accuracy: 0.7847 - mse: 3.3080e-04 - val_loss: 3.3391e-04 - val_accuracy: 0.7779 - val_mse: 3.3391e-04\n",
            "Epoch 9/100\n",
            "4058/4058 [==============================] - 10s 3ms/step - loss: 3.3006e-04 - accuracy: 0.7849 - mse: 3.3006e-04 - val_loss: 3.3496e-04 - val_accuracy: 0.7726 - val_mse: 3.3496e-04\n",
            "Epoch 10/100\n",
            "4058/4058 [==============================] - 10s 3ms/step - loss: 3.2996e-04 - accuracy: 0.7845 - mse: 3.2996e-04 - val_loss: 3.3455e-04 - val_accuracy: 0.7712 - val_mse: 3.3455e-04\n",
            "Epoch 11/100\n",
            "4058/4058 [==============================] - 11s 3ms/step - loss: 3.2877e-04 - accuracy: 0.7843 - mse: 3.2877e-04 - val_loss: 3.3002e-04 - val_accuracy: 0.7809 - val_mse: 3.3002e-04\n",
            "Epoch 12/100\n",
            "4058/4058 [==============================] - 11s 3ms/step - loss: 3.2514e-04 - accuracy: 0.7848 - mse: 3.2514e-04 - val_loss: 3.2695e-04 - val_accuracy: 0.7778 - val_mse: 3.2695e-04\n",
            "Epoch 13/100\n",
            "4058/4058 [==============================] - 11s 3ms/step - loss: 3.2415e-04 - accuracy: 0.7843 - mse: 3.2415e-04 - val_loss: 3.2836e-04 - val_accuracy: 0.7787 - val_mse: 3.2836e-04\n",
            "Epoch 14/100\n",
            "4058/4058 [==============================] - 11s 3ms/step - loss: 3.2344e-04 - accuracy: 0.7832 - mse: 3.2344e-04 - val_loss: 3.2727e-04 - val_accuracy: 0.7814 - val_mse: 3.2727e-04\n",
            "Epoch 15/100\n",
            "4058/4058 [==============================] - 11s 3ms/step - loss: 3.2130e-04 - accuracy: 0.7842 - mse: 3.2130e-04 - val_loss: 3.2256e-04 - val_accuracy: 0.7773 - val_mse: 3.2256e-04\n",
            "Epoch 16/100\n",
            "4058/4058 [==============================] - 11s 3ms/step - loss: 3.1594e-04 - accuracy: 0.7873 - mse: 3.1594e-04 - val_loss: 3.1127e-04 - val_accuracy: 0.7864 - val_mse: 3.1127e-04\n",
            "Epoch 17/100\n",
            "4058/4058 [==============================] - 11s 3ms/step - loss: 3.0574e-04 - accuracy: 0.7929 - mse: 3.0574e-04 - val_loss: 3.0820e-04 - val_accuracy: 0.7823 - val_mse: 3.0820e-04\n",
            "Epoch 18/100\n",
            "4058/4058 [==============================] - 12s 3ms/step - loss: 3.0306e-04 - accuracy: 0.7935 - mse: 3.0306e-04 - val_loss: 3.0647e-04 - val_accuracy: 0.7834 - val_mse: 3.0647e-04\n",
            "Epoch 19/100\n",
            "4058/4058 [==============================] - 11s 3ms/step - loss: 3.0131e-04 - accuracy: 0.7930 - mse: 3.0131e-04 - val_loss: 3.0600e-04 - val_accuracy: 0.7884 - val_mse: 3.0600e-04\n",
            "Epoch 20/100\n",
            "4058/4058 [==============================] - 11s 3ms/step - loss: 3.0027e-04 - accuracy: 0.7945 - mse: 3.0027e-04 - val_loss: 3.0369e-04 - val_accuracy: 0.7923 - val_mse: 3.0369e-04\n",
            "Epoch 21/100\n",
            "4058/4058 [==============================] - 11s 3ms/step - loss: 2.9812e-04 - accuracy: 0.7955 - mse: 2.9812e-04 - val_loss: 3.0010e-04 - val_accuracy: 0.7844 - val_mse: 3.0010e-04\n",
            "Epoch 22/100\n",
            "4058/4058 [==============================] - 11s 3ms/step - loss: 2.9693e-04 - accuracy: 0.7951 - mse: 2.9693e-04 - val_loss: 2.9837e-04 - val_accuracy: 0.7832 - val_mse: 2.9837e-04\n",
            "Epoch 23/100\n",
            "4058/4058 [==============================] - 11s 3ms/step - loss: 2.9543e-04 - accuracy: 0.7959 - mse: 2.9543e-04 - val_loss: 2.9865e-04 - val_accuracy: 0.7907 - val_mse: 2.9865e-04\n",
            "Epoch 24/100\n",
            "4058/4058 [==============================] - 10s 3ms/step - loss: 2.9408e-04 - accuracy: 0.7973 - mse: 2.9408e-04 - val_loss: 2.9840e-04 - val_accuracy: 0.7874 - val_mse: 2.9840e-04\n",
            "Epoch 25/100\n",
            "4058/4058 [==============================] - 10s 3ms/step - loss: 2.9388e-04 - accuracy: 0.7966 - mse: 2.9388e-04 - val_loss: 2.9665e-04 - val_accuracy: 0.7908 - val_mse: 2.9665e-04\n",
            "Epoch 26/100\n",
            "4058/4058 [==============================] - 11s 3ms/step - loss: 2.9339e-04 - accuracy: 0.7976 - mse: 2.9339e-04 - val_loss: 2.9692e-04 - val_accuracy: 0.7862 - val_mse: 2.9692e-04\n",
            "Epoch 27/100\n",
            "4058/4058 [==============================] - 11s 3ms/step - loss: 2.9242e-04 - accuracy: 0.7973 - mse: 2.9242e-04 - val_loss: 2.9751e-04 - val_accuracy: 0.7876 - val_mse: 2.9751e-04\n",
            "Epoch 28/100\n",
            "4058/4058 [==============================] - 10s 3ms/step - loss: 2.9183e-04 - accuracy: 0.7978 - mse: 2.9183e-04 - val_loss: 2.9703e-04 - val_accuracy: 0.7879 - val_mse: 2.9703e-04\n",
            "Epoch 29/100\n",
            "4058/4058 [==============================] - 11s 3ms/step - loss: 2.9162e-04 - accuracy: 0.7986 - mse: 2.9162e-04 - val_loss: 2.9574e-04 - val_accuracy: 0.7936 - val_mse: 2.9574e-04\n",
            "Epoch 30/100\n",
            "4058/4058 [==============================] - 11s 3ms/step - loss: 2.9096e-04 - accuracy: 0.7984 - mse: 2.9096e-04 - val_loss: 2.9625e-04 - val_accuracy: 0.7855 - val_mse: 2.9625e-04\n",
            "Epoch 31/100\n",
            "4058/4058 [==============================] - 11s 3ms/step - loss: 2.9153e-04 - accuracy: 0.7980 - mse: 2.9153e-04 - val_loss: 2.9447e-04 - val_accuracy: 0.7919 - val_mse: 2.9447e-04\n",
            "Epoch 32/100\n",
            "4058/4058 [==============================] - 11s 3ms/step - loss: 2.9149e-04 - accuracy: 0.7978 - mse: 2.9149e-04 - val_loss: 2.9656e-04 - val_accuracy: 0.7838 - val_mse: 2.9656e-04\n",
            "Epoch 33/100\n",
            "4058/4058 [==============================] - 11s 3ms/step - loss: 2.9075e-04 - accuracy: 0.7971 - mse: 2.9075e-04 - val_loss: 2.9616e-04 - val_accuracy: 0.7891 - val_mse: 2.9616e-04\n",
            "Epoch 34/100\n",
            "4058/4058 [==============================] - 11s 3ms/step - loss: 2.9135e-04 - accuracy: 0.7983 - mse: 2.9135e-04 - val_loss: 2.9583e-04 - val_accuracy: 0.7905 - val_mse: 2.9583e-04\n",
            "Epoch 35/100\n",
            "4058/4058 [==============================] - 11s 3ms/step - loss: 2.9077e-04 - accuracy: 0.7976 - mse: 2.9077e-04 - val_loss: 2.9530e-04 - val_accuracy: 0.7913 - val_mse: 2.9530e-04\n",
            "Epoch 36/100\n",
            "4058/4058 [==============================] - 11s 3ms/step - loss: 2.9092e-04 - accuracy: 0.7973 - mse: 2.9092e-04 - val_loss: 2.9361e-04 - val_accuracy: 0.7921 - val_mse: 2.9361e-04\n",
            "Epoch 37/100\n",
            "4058/4058 [==============================] - 11s 3ms/step - loss: 2.8992e-04 - accuracy: 0.7973 - mse: 2.8992e-04 - val_loss: 2.9394e-04 - val_accuracy: 0.7862 - val_mse: 2.9394e-04\n",
            "Epoch 38/100\n",
            "4058/4058 [==============================] - 11s 3ms/step - loss: 2.8945e-04 - accuracy: 0.7978 - mse: 2.8945e-04 - val_loss: 2.9400e-04 - val_accuracy: 0.7917 - val_mse: 2.9400e-04\n",
            "Epoch 39/100\n",
            "4058/4058 [==============================] - 11s 3ms/step - loss: 2.8900e-04 - accuracy: 0.7979 - mse: 2.8900e-04 - val_loss: 2.9262e-04 - val_accuracy: 0.7924 - val_mse: 2.9262e-04\n",
            "Epoch 40/100\n",
            "4058/4058 [==============================] - 11s 3ms/step - loss: 2.8779e-04 - accuracy: 0.7990 - mse: 2.8779e-04 - val_loss: 2.9224e-04 - val_accuracy: 0.7961 - val_mse: 2.9224e-04\n",
            "Epoch 41/100\n",
            "4058/4058 [==============================] - 11s 3ms/step - loss: 2.8651e-04 - accuracy: 0.7995 - mse: 2.8651e-04 - val_loss: 2.9093e-04 - val_accuracy: 0.7877 - val_mse: 2.9093e-04\n",
            "Epoch 42/100\n",
            "4058/4058 [==============================] - 10s 3ms/step - loss: 2.8527e-04 - accuracy: 0.8001 - mse: 2.8527e-04 - val_loss: 2.9066e-04 - val_accuracy: 0.7966 - val_mse: 2.9066e-04\n",
            "Epoch 43/100\n",
            "4058/4058 [==============================] - 11s 3ms/step - loss: 2.8470e-04 - accuracy: 0.7994 - mse: 2.8470e-04 - val_loss: 2.8974e-04 - val_accuracy: 0.7945 - val_mse: 2.8974e-04\n",
            "Epoch 44/100\n",
            "4058/4058 [==============================] - 11s 3ms/step - loss: 2.8331e-04 - accuracy: 0.8002 - mse: 2.8331e-04 - val_loss: 2.8758e-04 - val_accuracy: 0.7955 - val_mse: 2.8758e-04\n",
            "Epoch 45/100\n",
            "4058/4058 [==============================] - 11s 3ms/step - loss: 2.8329e-04 - accuracy: 0.7999 - mse: 2.8329e-04 - val_loss: 2.8838e-04 - val_accuracy: 0.7918 - val_mse: 2.8838e-04\n",
            "Epoch 46/100\n",
            "4058/4058 [==============================] - 11s 3ms/step - loss: 2.8338e-04 - accuracy: 0.8006 - mse: 2.8338e-04 - val_loss: 2.8675e-04 - val_accuracy: 0.7983 - val_mse: 2.8675e-04\n",
            "Epoch 47/100\n",
            "4058/4058 [==============================] - 11s 3ms/step - loss: 2.8279e-04 - accuracy: 0.8010 - mse: 2.8279e-04 - val_loss: 2.8800e-04 - val_accuracy: 0.7888 - val_mse: 2.8800e-04\n",
            "Epoch 48/100\n",
            "4058/4058 [==============================] - 11s 3ms/step - loss: 2.8300e-04 - accuracy: 0.8008 - mse: 2.8300e-04 - val_loss: 2.8708e-04 - val_accuracy: 0.7928 - val_mse: 2.8708e-04\n",
            "Epoch 49/100\n",
            "4058/4058 [==============================] - 11s 3ms/step - loss: 2.8315e-04 - accuracy: 0.8008 - mse: 2.8315e-04 - val_loss: 2.8739e-04 - val_accuracy: 0.7948 - val_mse: 2.8739e-04\n",
            "Epoch 50/100\n",
            "4058/4058 [==============================] - 10s 3ms/step - loss: 2.8301e-04 - accuracy: 0.8003 - mse: 2.8301e-04 - val_loss: 2.8706e-04 - val_accuracy: 0.7930 - val_mse: 2.8706e-04\n",
            "Epoch 51/100\n",
            "4058/4058 [==============================] - 11s 3ms/step - loss: 2.8284e-04 - accuracy: 0.8008 - mse: 2.8284e-04 - val_loss: 2.8872e-04 - val_accuracy: 0.7918 - val_mse: 2.8872e-04\n",
            "Epoch 52/100\n",
            "4058/4058 [==============================] - 11s 3ms/step - loss: 2.8328e-04 - accuracy: 0.8007 - mse: 2.8328e-04 - val_loss: 2.8716e-04 - val_accuracy: 0.7941 - val_mse: 2.8716e-04\n",
            "Epoch 53/100\n",
            "4058/4058 [==============================] - 11s 3ms/step - loss: 2.8298e-04 - accuracy: 0.8014 - mse: 2.8298e-04 - val_loss: 2.8603e-04 - val_accuracy: 0.7968 - val_mse: 2.8603e-04\n",
            "Epoch 54/100\n",
            "4058/4058 [==============================] - 10s 3ms/step - loss: 2.8243e-04 - accuracy: 0.8004 - mse: 2.8243e-04 - val_loss: 2.8600e-04 - val_accuracy: 0.7915 - val_mse: 2.8600e-04\n",
            "Epoch 55/100\n",
            "4058/4058 [==============================] - 10s 3ms/step - loss: 2.8213e-04 - accuracy: 0.8009 - mse: 2.8213e-04 - val_loss: 2.8541e-04 - val_accuracy: 0.7944 - val_mse: 2.8541e-04\n",
            "Epoch 56/100\n",
            "4058/4058 [==============================] - 10s 3ms/step - loss: 2.8147e-04 - accuracy: 0.8009 - mse: 2.8147e-04 - val_loss: 2.8584e-04 - val_accuracy: 0.7891 - val_mse: 2.8584e-04\n",
            "Epoch 57/100\n",
            "4058/4058 [==============================] - 10s 3ms/step - loss: 2.8078e-04 - accuracy: 0.8017 - mse: 2.8078e-04 - val_loss: 2.8466e-04 - val_accuracy: 0.7912 - val_mse: 2.8466e-04\n",
            "Epoch 58/100\n",
            "4058/4058 [==============================] - 10s 3ms/step - loss: 2.8079e-04 - accuracy: 0.8014 - mse: 2.8079e-04 - val_loss: 2.8583e-04 - val_accuracy: 0.7889 - val_mse: 2.8583e-04\n",
            "Epoch 59/100\n",
            "4058/4058 [==============================] - 10s 3ms/step - loss: 2.8013e-04 - accuracy: 0.8010 - mse: 2.8013e-04 - val_loss: 2.8542e-04 - val_accuracy: 0.7935 - val_mse: 2.8542e-04\n",
            "Epoch 60/100\n",
            "4058/4058 [==============================] - 10s 3ms/step - loss: 2.7979e-04 - accuracy: 0.8016 - mse: 2.7979e-04 - val_loss: 2.8453e-04 - val_accuracy: 0.7920 - val_mse: 2.8453e-04\n",
            "Epoch 61/100\n",
            "4058/4058 [==============================] - 11s 3ms/step - loss: 2.7973e-04 - accuracy: 0.8015 - mse: 2.7973e-04 - val_loss: 2.8394e-04 - val_accuracy: 0.7916 - val_mse: 2.8394e-04\n",
            "Epoch 62/100\n",
            "4058/4058 [==============================] - 10s 3ms/step - loss: 2.7929e-04 - accuracy: 0.8015 - mse: 2.7929e-04 - val_loss: 2.8578e-04 - val_accuracy: 0.7882 - val_mse: 2.8578e-04\n",
            "Epoch 63/100\n",
            "4058/4058 [==============================] - 10s 3ms/step - loss: 2.7890e-04 - accuracy: 0.8023 - mse: 2.7890e-04 - val_loss: 2.8270e-04 - val_accuracy: 0.7939 - val_mse: 2.8270e-04\n",
            "Epoch 64/100\n",
            "4058/4058 [==============================] - 10s 2ms/step - loss: 2.7880e-04 - accuracy: 0.8021 - mse: 2.7880e-04 - val_loss: 2.8286e-04 - val_accuracy: 0.7914 - val_mse: 2.8286e-04\n",
            "Epoch 65/100\n",
            "4058/4058 [==============================] - 10s 2ms/step - loss: 2.7836e-04 - accuracy: 0.8012 - mse: 2.7836e-04 - val_loss: 2.8324e-04 - val_accuracy: 0.7927 - val_mse: 2.8324e-04\n",
            "Epoch 66/100\n",
            "4058/4058 [==============================] - 10s 2ms/step - loss: 2.7763e-04 - accuracy: 0.8012 - mse: 2.7763e-04 - val_loss: 2.8175e-04 - val_accuracy: 0.7969 - val_mse: 2.8175e-04\n",
            "Epoch 67/100\n",
            "4058/4058 [==============================] - 10s 2ms/step - loss: 2.7739e-04 - accuracy: 0.8010 - mse: 2.7739e-04 - val_loss: 2.8041e-04 - val_accuracy: 0.7888 - val_mse: 2.8041e-04\n",
            "Epoch 68/100\n",
            "4058/4058 [==============================] - 10s 2ms/step - loss: 2.7642e-04 - accuracy: 0.8017 - mse: 2.7642e-04 - val_loss: 2.8242e-04 - val_accuracy: 0.7924 - val_mse: 2.8242e-04\n",
            "Epoch 69/100\n",
            "4058/4058 [==============================] - 10s 2ms/step - loss: 2.7589e-04 - accuracy: 0.8021 - mse: 2.7589e-04 - val_loss: 2.7941e-04 - val_accuracy: 0.8071 - val_mse: 2.7941e-04\n",
            "Epoch 70/100\n",
            "4058/4058 [==============================] - 10s 2ms/step - loss: 2.7519e-04 - accuracy: 0.8021 - mse: 2.7519e-04 - val_loss: 2.7948e-04 - val_accuracy: 0.7968 - val_mse: 2.7948e-04\n",
            "Epoch 71/100\n",
            "4058/4058 [==============================] - 10s 2ms/step - loss: 2.7459e-04 - accuracy: 0.8027 - mse: 2.7459e-04 - val_loss: 2.7887e-04 - val_accuracy: 0.7948 - val_mse: 2.7887e-04\n",
            "Epoch 72/100\n",
            "4058/4058 [==============================] - 10s 2ms/step - loss: 2.7420e-04 - accuracy: 0.8026 - mse: 2.7420e-04 - val_loss: 2.8141e-04 - val_accuracy: 0.7840 - val_mse: 2.8141e-04\n",
            "Epoch 73/100\n",
            "4058/4058 [==============================] - 10s 2ms/step - loss: 2.7443e-04 - accuracy: 0.8031 - mse: 2.7443e-04 - val_loss: 2.7840e-04 - val_accuracy: 0.7902 - val_mse: 2.7840e-04\n",
            "Epoch 74/100\n",
            "4058/4058 [==============================] - 10s 2ms/step - loss: 2.7437e-04 - accuracy: 0.8032 - mse: 2.7437e-04 - val_loss: 2.7990e-04 - val_accuracy: 0.7976 - val_mse: 2.7990e-04\n",
            "Epoch 75/100\n",
            "4058/4058 [==============================] - 11s 3ms/step - loss: 2.7404e-04 - accuracy: 0.8026 - mse: 2.7404e-04 - val_loss: 2.7788e-04 - val_accuracy: 0.7947 - val_mse: 2.7788e-04\n",
            "Epoch 76/100\n",
            "4058/4058 [==============================] - 10s 3ms/step - loss: 2.7366e-04 - accuracy: 0.8027 - mse: 2.7366e-04 - val_loss: 2.7666e-04 - val_accuracy: 0.7981 - val_mse: 2.7666e-04\n",
            "Epoch 77/100\n",
            "4058/4058 [==============================] - 11s 3ms/step - loss: 2.7254e-04 - accuracy: 0.8015 - mse: 2.7254e-04 - val_loss: 2.7600e-04 - val_accuracy: 0.7940 - val_mse: 2.7600e-04\n",
            "Epoch 78/100\n",
            "4058/4058 [==============================] - 11s 3ms/step - loss: 2.7228e-04 - accuracy: 0.8006 - mse: 2.7228e-04 - val_loss: 2.7592e-04 - val_accuracy: 0.7885 - val_mse: 2.7592e-04\n",
            "Epoch 79/100\n",
            "4058/4058 [==============================] - 10s 2ms/step - loss: 2.7174e-04 - accuracy: 0.8014 - mse: 2.7174e-04 - val_loss: 2.7734e-04 - val_accuracy: 0.7930 - val_mse: 2.7734e-04\n",
            "Epoch 80/100\n",
            "4058/4058 [==============================] - 9s 2ms/step - loss: 2.7155e-04 - accuracy: 0.8015 - mse: 2.7155e-04 - val_loss: 2.7531e-04 - val_accuracy: 0.7907 - val_mse: 2.7531e-04\n",
            "Epoch 81/100\n",
            "4058/4058 [==============================] - 9s 2ms/step - loss: 2.7125e-04 - accuracy: 0.8008 - mse: 2.7125e-04 - val_loss: 2.7531e-04 - val_accuracy: 0.7960 - val_mse: 2.7531e-04\n",
            "Epoch 82/100\n",
            "4058/4058 [==============================] - 10s 2ms/step - loss: 2.7133e-04 - accuracy: 0.8005 - mse: 2.7133e-04 - val_loss: 2.7572e-04 - val_accuracy: 0.7901 - val_mse: 2.7572e-04\n",
            "Epoch 83/100\n",
            "4058/4058 [==============================] - 11s 3ms/step - loss: 2.7114e-04 - accuracy: 0.8012 - mse: 2.7114e-04 - val_loss: 2.7735e-04 - val_accuracy: 0.7876 - val_mse: 2.7735e-04\n",
            "Epoch 84/100\n",
            "4058/4058 [==============================] - 10s 3ms/step - loss: 2.7110e-04 - accuracy: 0.8011 - mse: 2.7110e-04 - val_loss: 2.7416e-04 - val_accuracy: 0.8012 - val_mse: 2.7416e-04\n",
            "Epoch 85/100\n",
            "4058/4058 [==============================] - 10s 3ms/step - loss: 2.7091e-04 - accuracy: 0.8014 - mse: 2.7091e-04 - val_loss: 2.7408e-04 - val_accuracy: 0.7961 - val_mse: 2.7408e-04\n",
            "Epoch 86/100\n",
            "4058/4058 [==============================] - 11s 3ms/step - loss: 2.7068e-04 - accuracy: 0.8015 - mse: 2.7068e-04 - val_loss: 2.7394e-04 - val_accuracy: 0.7995 - val_mse: 2.7394e-04\n",
            "Epoch 87/100\n",
            "4058/4058 [==============================] - 11s 3ms/step - loss: 2.7029e-04 - accuracy: 0.8013 - mse: 2.7029e-04 - val_loss: 2.7527e-04 - val_accuracy: 0.7964 - val_mse: 2.7527e-04\n",
            "Epoch 88/100\n",
            "4058/4058 [==============================] - 11s 3ms/step - loss: 2.6995e-04 - accuracy: 0.8022 - mse: 2.6995e-04 - val_loss: 2.7366e-04 - val_accuracy: 0.8025 - val_mse: 2.7366e-04\n",
            "Epoch 89/100\n",
            "4058/4058 [==============================] - 10s 3ms/step - loss: 2.6950e-04 - accuracy: 0.8021 - mse: 2.6950e-04 - val_loss: 2.7375e-04 - val_accuracy: 0.7964 - val_mse: 2.7375e-04\n",
            "Epoch 90/100\n",
            "4058/4058 [==============================] - 10s 2ms/step - loss: 2.6980e-04 - accuracy: 0.8024 - mse: 2.6980e-04 - val_loss: 2.7166e-04 - val_accuracy: 0.7969 - val_mse: 2.7166e-04\n",
            "Epoch 91/100\n",
            "4058/4058 [==============================] - 10s 3ms/step - loss: 2.6893e-04 - accuracy: 0.8016 - mse: 2.6893e-04 - val_loss: 2.7316e-04 - val_accuracy: 0.7903 - val_mse: 2.7316e-04\n",
            "Epoch 92/100\n",
            "4058/4058 [==============================] - 10s 3ms/step - loss: 2.6810e-04 - accuracy: 0.8003 - mse: 2.6810e-04 - val_loss: 2.6883e-04 - val_accuracy: 0.7879 - val_mse: 2.6883e-04\n",
            "Epoch 93/100\n",
            "4058/4058 [==============================] - 10s 2ms/step - loss: 2.6636e-04 - accuracy: 0.7999 - mse: 2.6636e-04 - val_loss: 2.6974e-04 - val_accuracy: 0.7916 - val_mse: 2.6974e-04\n",
            "Epoch 94/100\n",
            "4058/4058 [==============================] - 10s 3ms/step - loss: 2.6575e-04 - accuracy: 0.7994 - mse: 2.6575e-04 - val_loss: 2.7010e-04 - val_accuracy: 0.7950 - val_mse: 2.7010e-04\n",
            "Epoch 95/100\n",
            "4058/4058 [==============================] - 10s 3ms/step - loss: 2.6543e-04 - accuracy: 0.7991 - mse: 2.6543e-04 - val_loss: 2.6832e-04 - val_accuracy: 0.7943 - val_mse: 2.6832e-04\n",
            "Epoch 96/100\n",
            "4058/4058 [==============================] - 10s 2ms/step - loss: 2.6538e-04 - accuracy: 0.7993 - mse: 2.6538e-04 - val_loss: 2.6833e-04 - val_accuracy: 0.7958 - val_mse: 2.6833e-04\n",
            "Epoch 97/100\n",
            "4058/4058 [==============================] - 10s 2ms/step - loss: 2.6527e-04 - accuracy: 0.8002 - mse: 2.6527e-04 - val_loss: 2.6827e-04 - val_accuracy: 0.7916 - val_mse: 2.6827e-04\n",
            "Epoch 98/100\n",
            "4058/4058 [==============================] - 10s 3ms/step - loss: 2.6546e-04 - accuracy: 0.8000 - mse: 2.6546e-04 - val_loss: 2.6851e-04 - val_accuracy: 0.7921 - val_mse: 2.6851e-04\n",
            "Epoch 99/100\n",
            "4058/4058 [==============================] - 10s 2ms/step - loss: 2.6485e-04 - accuracy: 0.8000 - mse: 2.6485e-04 - val_loss: 2.6831e-04 - val_accuracy: 0.7928 - val_mse: 2.6831e-04\n",
            "Epoch 100/100\n",
            "4058/4058 [==============================] - 10s 2ms/step - loss: 2.6505e-04 - accuracy: 0.7996 - mse: 2.6505e-04 - val_loss: 2.6707e-04 - val_accuracy: 0.8023 - val_mse: 2.6707e-04\n"
          ],
          "name": "stdout"
        }
      ]
    },
    {
      "cell_type": "markdown",
      "metadata": {
        "id": "-kvNVtG6DKzc"
      },
      "source": [
        "Looking through the history object to construct plots."
      ]
    },
    {
      "cell_type": "code",
      "metadata": {
        "colab": {
          "base_uri": "https://localhost:8080/"
        },
        "id": "dYA-NFLR-vsk",
        "outputId": "367d9056-12d6-4b02-d91d-63b5462df5f0"
      },
      "source": [
        "history.history.keys()"
      ],
      "execution_count": null,
      "outputs": [
        {
          "output_type": "execute_result",
          "data": {
            "text/plain": [
              "dict_keys(['loss', 'accuracy', 'mse', 'val_loss', 'val_accuracy', 'val_mse'])"
            ]
          },
          "metadata": {
            "tags": []
          },
          "execution_count": 171
        }
      ]
    },
    {
      "cell_type": "code",
      "metadata": {
        "colab": {
          "base_uri": "https://localhost:8080/",
          "height": 295
        },
        "id": "Su6Dfs2rAZ8i",
        "outputId": "6d99e76a-b69d-4f6f-8c41-f686366a143a"
      },
      "source": [
        "import matplotlib.pyplot as plt\n",
        "\n",
        "# summarize history for accuracy\n",
        "plt.plot(history.history['accuracy'])\n",
        "plt.plot(history.history['val_accuracy'])\n",
        "plt.title('model accuracy')\n",
        "plt.ylabel('accuracy')\n",
        "plt.xlabel('epoch')\n",
        "plt.legend(['train', 'test'], loc='upper left')\n",
        "plt.show()"
      ],
      "execution_count": null,
      "outputs": [
        {
          "output_type": "display_data",
          "data": {
            "image/png": "[encoded data removed]",
            "text/plain": [
              "<Figure size 432x288 with 1 Axes>"
            ]
          },
          "metadata": {
            "tags": []
          }
        }
      ]
    },
    {
      "cell_type": "code",
      "metadata": {
        "colab": {
          "base_uri": "https://localhost:8080/",
          "height": 295
        },
        "id": "EOhoi1YyAoKa",
        "outputId": "0f569a69-1885-4d0e-b0e4-c52693f758c9"
      },
      "source": [
        "# summarize history for loss\n",
        "plt.plot(history.history['loss'])\n",
        "plt.plot(history.history['val_loss'])\n",
        "plt.title('model loss')\n",
        "plt.ylabel('loss')\n",
        "plt.xlabel('epoch')\n",
        "plt.legend(['train', 'test'], loc='upper left')\n",
        "plt.show()"
      ],
      "execution_count": null,
      "outputs": [
        {
          "output_type": "display_data",
          "data": {
            "image/png": "[encoded data removed]",
            "text/plain": [
              "<Figure size 432x288 with 1 Axes>"
            ]
          },
          "metadata": {
            "tags": []
          }
        }
      ]
    },
    {
      "cell_type": "code",
      "metadata": {
        "colab": {
          "base_uri": "https://localhost:8080/",
          "height": 282
        },
        "id": "CcKRLOsoCS-t",
        "outputId": "d0fc24df-39db-4fd9-d5a3-6ebf13fdedb5"
      },
      "source": [
        "plt.plot(history.history[\"loss\"], label=\"Training Loss\")\n",
        "plt.plot(history.history[\"val_loss\"], label=\"Validation Loss\")\n",
        "plt.legend()"
      ],
      "execution_count": null,
      "outputs": [
        {
          "output_type": "execute_result",
          "data": {
            "text/plain": [
              "<matplotlib.legend.Legend at 0x7fd50e0f4eb8>"
            ]
          },
          "metadata": {
            "tags": []
          },
          "execution_count": 202
        },
        {
          "output_type": "display_data",
          "data": {
            "image/png": "[encoded data removed]",
            "text/plain": [
              "<Figure size 432x288 with 1 Axes>"
            ]
          },
          "metadata": {
            "tags": []
          }
        }
      ]
    },
    {
      "cell_type": "markdown",
      "metadata": {
        "id": "v_BmC5k3DTPy"
      },
      "source": [
        "Additional metrics and checking"
      ]
    },
    {
      "cell_type": "code",
      "metadata": {
        "id": "PLAxXhZASrqt"
      },
      "source": [
        "from sklearn.metrics import accuracy_score, precision_score, recall_score"
      ],
      "execution_count": null,
      "outputs": []
    },
    {
      "cell_type": "code",
      "metadata": {
        "id": "X3WOFAmqpL9u"
      },
      "source": [
        "encoded_imgs = encoder.predict(x_test)\n",
        "decoded_imgs = decoder.predict(encoded_imgs)"
      ],
      "execution_count": null,
      "outputs": []
    },
    {
      "cell_type": "markdown",
      "metadata": {
        "id": "yhzknv-9rAhV"
      },
      "source": [
        "Percentage of negative points"
      ]
    },
    {
      "cell_type": "code",
      "metadata": {
        "colab": {
          "base_uri": "https://localhost:8080/"
        },
        "id": "YdU-lxX8pTxB",
        "outputId": "bdcf9bdd-0c7c-40a6-cc6e-f8cebc3d4349"
      },
      "source": [
        "sum([decoded_imgs[j][i] < 0 for i in range(len(decoded_imgs[0])) for j in range(len(decoded_imgs))]) / (len(decoded_imgs)*128)"
      ],
      "execution_count": null,
      "outputs": [
        {
          "output_type": "execute_result",
          "data": {
            "text/plain": [
              "0.46348681859334795"
            ]
          },
          "metadata": {
            "tags": []
          },
          "execution_count": 167
        }
      ]
    },
    {
      "cell_type": "markdown",
      "metadata": {
        "id": "LrOCN_PkDcRr"
      },
      "source": [
        "### Saving the model"
      ]
    },
    {
      "cell_type": "code",
      "metadata": {
        "id": "WgjtASbNr1PM"
      },
      "source": [
        "autoencoder.save('autoencoder_model_100_noreg.h5')"
      ],
      "execution_count": null,
      "outputs": []
    },
    {
      "cell_type": "code",
      "metadata": {
        "colab": {
          "base_uri": "https://localhost:8080/"
        },
        "id": "IGkT9xyyX3fV",
        "outputId": "8c8c7f43-2e50-4422-b23e-0e9cccbf851b"
      },
      "source": [
        "# saving in json format\n",
        "json_model = autoencoder.to_json()\n",
        "json_file = open('autoencoder_json_100_noreg.json', 'w')\n",
        "json_file.write(json_model)"
      ],
      "execution_count": null,
      "outputs": [
        {
          "output_type": "execute_result",
          "data": {
            "text/plain": [
              "3350"
            ]
          },
          "metadata": {
            "tags": []
          },
          "execution_count": 219
        }
      ]
    },
    {
      "cell_type": "code",
      "metadata": {
        "id": "tEjhsfoLX6CS"
      },
      "source": [
        "# saving model weights\n",
        "autoencoder.save_weights('autoencoder_weights_100_noreg.h5')"
      ],
      "execution_count": null,
      "outputs": []
    },
    {
      "cell_type": "markdown",
      "metadata": {
        "id": "FjI5tq4p_8cf"
      },
      "source": [
        "## Evaluating different models on fountain data to choose one"
      ]
    },
    {
      "cell_type": "code",
      "metadata": {
        "id": "Btvw1zumpU-J"
      },
      "source": [
        "import pandas as pd"
      ],
      "execution_count": null,
      "outputs": []
    },
    {
      "cell_type": "code",
      "metadata": {
        "colab": {
          "base_uri": "https://localhost:8080/"
        },
        "id": "qru5UVGvAFCz",
        "outputId": "07c97f2f-26ca-4a31-8c8a-6aed0fb9342d"
      },
      "source": [
        "cd /gdrive/My Drive/3DAR_project/test_data/fountain_data/"
      ],
      "execution_count": null,
      "outputs": [
        {
          "output_type": "stream",
          "text": [
            "/gdrive/.shortcut-targets-by-id/1nl7Gp0oMlyRlWl7RuNHeJ5o1UaSHy5cf/3DAR_project/test_data/fountain_data\n"
          ],
          "name": "stdout"
        }
      ]
    },
    {
      "cell_type": "code",
      "metadata": {
        "colab": {
          "base_uri": "https://localhost:8080/"
        },
        "id": "KyJJWxb2AcdB",
        "outputId": "bc708722-22ff-4ff9-c7c2-9ac0d624c14e"
      },
      "source": [
        "ls"
      ],
      "execution_count": null,
      "outputs": [
        {
          "output_type": "stream",
          "text": [
            " fountain_data.csv  'fountain_data - ridotti.csv'\n"
          ],
          "name": "stdout"
        }
      ]
    },
    {
      "cell_type": "code",
      "metadata": {
        "colab": {
          "base_uri": "https://localhost:8080/",
          "height": 422
        },
        "id": "7M3TFweHAc9G",
        "outputId": "740f8c78-6d6e-4e32-8a78-5d7ce06bbe34"
      },
      "source": [
        "fd = pd.read_csv(\"fountain_data.csv\", header=None)\n",
        "fd"
      ],
      "execution_count": null,
      "outputs": [
        {
          "output_type": "execute_result",
          "data": {
            "text/html": [
              "<div>\n",
              "<style scoped>\n",
              "    .dataframe tbody tr th:only-of-type {\n",
              "        vertical-align: middle;\n",
              "    }\n",
              "\n",
              "    .dataframe tbody tr th {\n",
              "        vertical-align: top;\n",
              "    }\n",
              "\n",
              "    .dataframe thead th {\n",
              "        text-align: right;\n",
              "    }\n",
              "</style>\n",
              "<table border=\"1\" class=\"dataframe\">\n",
              "  <thead>\n",
              "    <tr style=\"text-align: right;\">\n",
              "      <th></th>\n",
              "      <th>0</th>\n",
              "      <th>1</th>\n",
              "      <th>2</th>\n",
              "      <th>3</th>\n",
              "      <th>4</th>\n",
              "      <th>5</th>\n",
              "      <th>6</th>\n",
              "      <th>7</th>\n",
              "      <th>8</th>\n",
              "      <th>9</th>\n",
              "      <th>10</th>\n",
              "      <th>11</th>\n",
              "      <th>12</th>\n",
              "      <th>13</th>\n",
              "      <th>14</th>\n",
              "      <th>15</th>\n",
              "      <th>16</th>\n",
              "      <th>17</th>\n",
              "      <th>18</th>\n",
              "      <th>19</th>\n",
              "      <th>20</th>\n",
              "      <th>21</th>\n",
              "      <th>22</th>\n",
              "      <th>23</th>\n",
              "      <th>24</th>\n",
              "      <th>25</th>\n",
              "      <th>26</th>\n",
              "      <th>27</th>\n",
              "      <th>28</th>\n",
              "      <th>29</th>\n",
              "      <th>30</th>\n",
              "      <th>31</th>\n",
              "      <th>32</th>\n",
              "      <th>33</th>\n",
              "      <th>34</th>\n",
              "      <th>35</th>\n",
              "      <th>36</th>\n",
              "      <th>37</th>\n",
              "      <th>38</th>\n",
              "      <th>39</th>\n",
              "      <th>...</th>\n",
              "      <th>88</th>\n",
              "      <th>89</th>\n",
              "      <th>90</th>\n",
              "      <th>91</th>\n",
              "      <th>92</th>\n",
              "      <th>93</th>\n",
              "      <th>94</th>\n",
              "      <th>95</th>\n",
              "      <th>96</th>\n",
              "      <th>97</th>\n",
              "      <th>98</th>\n",
              "      <th>99</th>\n",
              "      <th>100</th>\n",
              "      <th>101</th>\n",
              "      <th>102</th>\n",
              "      <th>103</th>\n",
              "      <th>104</th>\n",
              "      <th>105</th>\n",
              "      <th>106</th>\n",
              "      <th>107</th>\n",
              "      <th>108</th>\n",
              "      <th>109</th>\n",
              "      <th>110</th>\n",
              "      <th>111</th>\n",
              "      <th>112</th>\n",
              "      <th>113</th>\n",
              "      <th>114</th>\n",
              "      <th>115</th>\n",
              "      <th>116</th>\n",
              "      <th>117</th>\n",
              "      <th>118</th>\n",
              "      <th>119</th>\n",
              "      <th>120</th>\n",
              "      <th>121</th>\n",
              "      <th>122</th>\n",
              "      <th>123</th>\n",
              "      <th>124</th>\n",
              "      <th>125</th>\n",
              "      <th>126</th>\n",
              "      <th>127</th>\n",
              "    </tr>\n",
              "  </thead>\n",
              "  <tbody>\n",
              "    <tr>\n",
              "      <th>0</th>\n",
              "      <td>-0.000053</td>\n",
              "      <td>0.000131</td>\n",
              "      <td>-0.000412</td>\n",
              "      <td>0.001678</td>\n",
              "      <td>-0.000476</td>\n",
              "      <td>0.000550</td>\n",
              "      <td>-0.000751</td>\n",
              "      <td>0.000792</td>\n",
              "      <td>-0.000108</td>\n",
              "      <td>0.003647</td>\n",
              "      <td>-0.000183</td>\n",
              "      <td>0.005521</td>\n",
              "      <td>-0.002943</td>\n",
              "      <td>0.003420</td>\n",
              "      <td>-0.001338</td>\n",
              "      <td>0.001974</td>\n",
              "      <td>0.003282</td>\n",
              "      <td>0.005660</td>\n",
              "      <td>0.001666</td>\n",
              "      <td>0.004730</td>\n",
              "      <td>-0.005501</td>\n",
              "      <td>0.007538</td>\n",
              "      <td>-0.002305</td>\n",
              "      <td>0.004255</td>\n",
              "      <td>-0.000066</td>\n",
              "      <td>0.000552</td>\n",
              "      <td>-0.000550</td>\n",
              "      <td>0.000833</td>\n",
              "      <td>0.000290</td>\n",
              "      <td>0.000446</td>\n",
              "      <td>-0.001776</td>\n",
              "      <td>0.002001</td>\n",
              "      <td>0.004624</td>\n",
              "      <td>0.014394</td>\n",
              "      <td>-0.004730</td>\n",
              "      <td>0.012954</td>\n",
              "      <td>0.001342</td>\n",
              "      <td>0.005520</td>\n",
              "      <td>0.000571</td>\n",
              "      <td>0.002017</td>\n",
              "      <td>...</td>\n",
              "      <td>0.000850</td>\n",
              "      <td>0.010588</td>\n",
              "      <td>-0.033089</td>\n",
              "      <td>0.036680</td>\n",
              "      <td>-0.010529</td>\n",
              "      <td>0.020242</td>\n",
              "      <td>-0.025091</td>\n",
              "      <td>0.027634</td>\n",
              "      <td>-0.000567</td>\n",
              "      <td>0.000643</td>\n",
              "      <td>-0.000994</td>\n",
              "      <td>0.001357</td>\n",
              "      <td>-0.000092</td>\n",
              "      <td>0.000166</td>\n",
              "      <td>0.000089</td>\n",
              "      <td>0.000655</td>\n",
              "      <td>0.001517</td>\n",
              "      <td>0.008022</td>\n",
              "      <td>-0.000504</td>\n",
              "      <td>0.005586</td>\n",
              "      <td>0.001159</td>\n",
              "      <td>0.004589</td>\n",
              "      <td>-0.000671</td>\n",
              "      <td>0.004476</td>\n",
              "      <td>0.000922</td>\n",
              "      <td>0.011852</td>\n",
              "      <td>-0.002579</td>\n",
              "      <td>0.006215</td>\n",
              "      <td>0.003003</td>\n",
              "      <td>0.005067</td>\n",
              "      <td>0.000304</td>\n",
              "      <td>0.001577</td>\n",
              "      <td>0.000269</td>\n",
              "      <td>0.000470</td>\n",
              "      <td>0.000547</td>\n",
              "      <td>0.000923</td>\n",
              "      <td>-0.000722</td>\n",
              "      <td>0.000794</td>\n",
              "      <td>-0.000055</td>\n",
              "      <td>0.000117</td>\n",
              "    </tr>\n",
              "    <tr>\n",
              "      <th>1</th>\n",
              "      <td>-0.000096</td>\n",
              "      <td>0.000584</td>\n",
              "      <td>-0.000191</td>\n",
              "      <td>0.000478</td>\n",
              "      <td>-0.000091</td>\n",
              "      <td>0.000349</td>\n",
              "      <td>0.000018</td>\n",
              "      <td>0.000650</td>\n",
              "      <td>0.008138</td>\n",
              "      <td>0.015660</td>\n",
              "      <td>-0.004488</td>\n",
              "      <td>0.005346</td>\n",
              "      <td>0.001918</td>\n",
              "      <td>0.005021</td>\n",
              "      <td>-0.001181</td>\n",
              "      <td>0.005310</td>\n",
              "      <td>0.000173</td>\n",
              "      <td>0.012407</td>\n",
              "      <td>-0.004653</td>\n",
              "      <td>0.004689</td>\n",
              "      <td>0.001833</td>\n",
              "      <td>0.001869</td>\n",
              "      <td>0.002902</td>\n",
              "      <td>0.006862</td>\n",
              "      <td>0.000773</td>\n",
              "      <td>0.001235</td>\n",
              "      <td>-0.000742</td>\n",
              "      <td>0.000960</td>\n",
              "      <td>0.000966</td>\n",
              "      <td>0.001367</td>\n",
              "      <td>-0.000452</td>\n",
              "      <td>0.000825</td>\n",
              "      <td>-0.001195</td>\n",
              "      <td>0.003145</td>\n",
              "      <td>-0.006235</td>\n",
              "      <td>0.009069</td>\n",
              "      <td>0.000984</td>\n",
              "      <td>0.001654</td>\n",
              "      <td>-0.000688</td>\n",
              "      <td>0.002177</td>\n",
              "      <td>...</td>\n",
              "      <td>-0.017895</td>\n",
              "      <td>0.027348</td>\n",
              "      <td>-0.043064</td>\n",
              "      <td>0.047358</td>\n",
              "      <td>-0.001882</td>\n",
              "      <td>0.006009</td>\n",
              "      <td>-0.008223</td>\n",
              "      <td>0.038634</td>\n",
              "      <td>0.002174</td>\n",
              "      <td>0.002220</td>\n",
              "      <td>-0.000287</td>\n",
              "      <td>0.000427</td>\n",
              "      <td>0.000786</td>\n",
              "      <td>0.000988</td>\n",
              "      <td>-0.000167</td>\n",
              "      <td>0.000186</td>\n",
              "      <td>-0.003458</td>\n",
              "      <td>0.006822</td>\n",
              "      <td>-0.003144</td>\n",
              "      <td>0.007113</td>\n",
              "      <td>-0.000783</td>\n",
              "      <td>0.007406</td>\n",
              "      <td>0.003170</td>\n",
              "      <td>0.008875</td>\n",
              "      <td>-0.004518</td>\n",
              "      <td>0.013706</td>\n",
              "      <td>-0.003916</td>\n",
              "      <td>0.003988</td>\n",
              "      <td>0.008691</td>\n",
              "      <td>0.008763</td>\n",
              "      <td>0.001774</td>\n",
              "      <td>0.005589</td>\n",
              "      <td>0.002095</td>\n",
              "      <td>0.002732</td>\n",
              "      <td>-0.000010</td>\n",
              "      <td>0.000165</td>\n",
              "      <td>0.002577</td>\n",
              "      <td>0.002672</td>\n",
              "      <td>0.000149</td>\n",
              "      <td>0.000262</td>\n",
              "    </tr>\n",
              "    <tr>\n",
              "      <th>2</th>\n",
              "      <td>-0.000057</td>\n",
              "      <td>0.000379</td>\n",
              "      <td>0.000949</td>\n",
              "      <td>0.001214</td>\n",
              "      <td>-0.000341</td>\n",
              "      <td>0.000381</td>\n",
              "      <td>0.000026</td>\n",
              "      <td>0.000041</td>\n",
              "      <td>0.048642</td>\n",
              "      <td>0.049957</td>\n",
              "      <td>0.003486</td>\n",
              "      <td>0.009805</td>\n",
              "      <td>0.000718</td>\n",
              "      <td>0.004365</td>\n",
              "      <td>-0.001757</td>\n",
              "      <td>0.001999</td>\n",
              "      <td>0.000580</td>\n",
              "      <td>0.000639</td>\n",
              "      <td>-0.054406</td>\n",
              "      <td>0.056872</td>\n",
              "      <td>-0.000201</td>\n",
              "      <td>0.000445</td>\n",
              "      <td>-0.005596</td>\n",
              "      <td>0.005596</td>\n",
              "      <td>0.003140</td>\n",
              "      <td>0.003554</td>\n",
              "      <td>0.001619</td>\n",
              "      <td>0.003795</td>\n",
              "      <td>0.000485</td>\n",
              "      <td>0.001395</td>\n",
              "      <td>0.000030</td>\n",
              "      <td>0.000079</td>\n",
              "      <td>-0.002249</td>\n",
              "      <td>0.004602</td>\n",
              "      <td>0.004137</td>\n",
              "      <td>0.005856</td>\n",
              "      <td>-0.000545</td>\n",
              "      <td>0.000759</td>\n",
              "      <td>0.000380</td>\n",
              "      <td>0.000692</td>\n",
              "      <td>...</td>\n",
              "      <td>0.003049</td>\n",
              "      <td>0.005298</td>\n",
              "      <td>-0.080179</td>\n",
              "      <td>0.081304</td>\n",
              "      <td>0.000304</td>\n",
              "      <td>0.001148</td>\n",
              "      <td>-0.021330</td>\n",
              "      <td>0.021501</td>\n",
              "      <td>-0.001569</td>\n",
              "      <td>0.001639</td>\n",
              "      <td>-0.000023</td>\n",
              "      <td>0.000320</td>\n",
              "      <td>-0.000071</td>\n",
              "      <td>0.000084</td>\n",
              "      <td>-0.000004</td>\n",
              "      <td>0.000179</td>\n",
              "      <td>-0.020033</td>\n",
              "      <td>0.027956</td>\n",
              "      <td>0.018395</td>\n",
              "      <td>0.018395</td>\n",
              "      <td>-0.002564</td>\n",
              "      <td>0.003122</td>\n",
              "      <td>0.004871</td>\n",
              "      <td>0.004871</td>\n",
              "      <td>0.061643</td>\n",
              "      <td>0.061643</td>\n",
              "      <td>-0.016211</td>\n",
              "      <td>0.016256</td>\n",
              "      <td>0.009858</td>\n",
              "      <td>0.009993</td>\n",
              "      <td>-0.004281</td>\n",
              "      <td>0.004281</td>\n",
              "      <td>0.000218</td>\n",
              "      <td>0.000396</td>\n",
              "      <td>-0.005868</td>\n",
              "      <td>0.005878</td>\n",
              "      <td>0.000316</td>\n",
              "      <td>0.000338</td>\n",
              "      <td>0.000048</td>\n",
              "      <td>0.001236</td>\n",
              "    </tr>\n",
              "    <tr>\n",
              "      <th>3</th>\n",
              "      <td>-0.000161</td>\n",
              "      <td>0.000251</td>\n",
              "      <td>-0.000748</td>\n",
              "      <td>0.001146</td>\n",
              "      <td>0.000265</td>\n",
              "      <td>0.000699</td>\n",
              "      <td>-0.001716</td>\n",
              "      <td>0.001904</td>\n",
              "      <td>0.032159</td>\n",
              "      <td>0.034360</td>\n",
              "      <td>0.000707</td>\n",
              "      <td>0.002794</td>\n",
              "      <td>0.042436</td>\n",
              "      <td>0.044318</td>\n",
              "      <td>0.000687</td>\n",
              "      <td>0.002434</td>\n",
              "      <td>-0.007357</td>\n",
              "      <td>0.013982</td>\n",
              "      <td>-0.030160</td>\n",
              "      <td>0.052664</td>\n",
              "      <td>0.006490</td>\n",
              "      <td>0.027178</td>\n",
              "      <td>-0.000869</td>\n",
              "      <td>0.009513</td>\n",
              "      <td>-0.000201</td>\n",
              "      <td>0.000573</td>\n",
              "      <td>0.000137</td>\n",
              "      <td>0.000604</td>\n",
              "      <td>0.000651</td>\n",
              "      <td>0.001596</td>\n",
              "      <td>-0.000739</td>\n",
              "      <td>0.001095</td>\n",
              "      <td>-0.026389</td>\n",
              "      <td>0.027337</td>\n",
              "      <td>-0.007644</td>\n",
              "      <td>0.008481</td>\n",
              "      <td>0.000308</td>\n",
              "      <td>0.001145</td>\n",
              "      <td>0.005165</td>\n",
              "      <td>0.017350</td>\n",
              "      <td>...</td>\n",
              "      <td>-0.003054</td>\n",
              "      <td>0.003744</td>\n",
              "      <td>-0.036088</td>\n",
              "      <td>0.037713</td>\n",
              "      <td>-0.000875</td>\n",
              "      <td>0.002870</td>\n",
              "      <td>-0.030441</td>\n",
              "      <td>0.032575</td>\n",
              "      <td>0.000077</td>\n",
              "      <td>0.000818</td>\n",
              "      <td>-0.001403</td>\n",
              "      <td>0.001682</td>\n",
              "      <td>0.000905</td>\n",
              "      <td>0.001167</td>\n",
              "      <td>-0.002048</td>\n",
              "      <td>0.002782</td>\n",
              "      <td>0.002873</td>\n",
              "      <td>0.004057</td>\n",
              "      <td>-0.002576</td>\n",
              "      <td>0.005574</td>\n",
              "      <td>0.002583</td>\n",
              "      <td>0.004463</td>\n",
              "      <td>-0.003651</td>\n",
              "      <td>0.004647</td>\n",
              "      <td>-0.004948</td>\n",
              "      <td>0.021135</td>\n",
              "      <td>0.000189</td>\n",
              "      <td>0.000876</td>\n",
              "      <td>0.015849</td>\n",
              "      <td>0.016397</td>\n",
              "      <td>0.010367</td>\n",
              "      <td>0.011415</td>\n",
              "      <td>0.000692</td>\n",
              "      <td>0.000876</td>\n",
              "      <td>-0.000370</td>\n",
              "      <td>0.003390</td>\n",
              "      <td>0.000507</td>\n",
              "      <td>0.000659</td>\n",
              "      <td>-0.001700</td>\n",
              "      <td>0.001907</td>\n",
              "    </tr>\n",
              "    <tr>\n",
              "      <th>4</th>\n",
              "      <td>-0.000800</td>\n",
              "      <td>0.001233</td>\n",
              "      <td>-0.000058</td>\n",
              "      <td>0.000438</td>\n",
              "      <td>-0.000014</td>\n",
              "      <td>0.000162</td>\n",
              "      <td>0.000653</td>\n",
              "      <td>0.000917</td>\n",
              "      <td>0.001383</td>\n",
              "      <td>0.004833</td>\n",
              "      <td>-0.000819</td>\n",
              "      <td>0.009520</td>\n",
              "      <td>-0.001612</td>\n",
              "      <td>0.006636</td>\n",
              "      <td>-0.006611</td>\n",
              "      <td>0.012841</td>\n",
              "      <td>0.000517</td>\n",
              "      <td>0.001796</td>\n",
              "      <td>-0.008295</td>\n",
              "      <td>0.021930</td>\n",
              "      <td>-0.010696</td>\n",
              "      <td>0.018117</td>\n",
              "      <td>-0.009757</td>\n",
              "      <td>0.010349</td>\n",
              "      <td>-0.001734</td>\n",
              "      <td>0.002145</td>\n",
              "      <td>0.001232</td>\n",
              "      <td>0.001232</td>\n",
              "      <td>-0.000973</td>\n",
              "      <td>0.001046</td>\n",
              "      <td>0.001846</td>\n",
              "      <td>0.001846</td>\n",
              "      <td>0.000314</td>\n",
              "      <td>0.002602</td>\n",
              "      <td>-0.002966</td>\n",
              "      <td>0.009455</td>\n",
              "      <td>-0.003583</td>\n",
              "      <td>0.003583</td>\n",
              "      <td>-0.015166</td>\n",
              "      <td>0.018073</td>\n",
              "      <td>...</td>\n",
              "      <td>-0.009348</td>\n",
              "      <td>0.016077</td>\n",
              "      <td>-0.010552</td>\n",
              "      <td>0.035366</td>\n",
              "      <td>-0.026948</td>\n",
              "      <td>0.035178</td>\n",
              "      <td>-0.002327</td>\n",
              "      <td>0.010903</td>\n",
              "      <td>-0.000172</td>\n",
              "      <td>0.000708</td>\n",
              "      <td>-0.000013</td>\n",
              "      <td>0.000550</td>\n",
              "      <td>-0.000289</td>\n",
              "      <td>0.000290</td>\n",
              "      <td>0.000003</td>\n",
              "      <td>0.000420</td>\n",
              "      <td>0.001258</td>\n",
              "      <td>0.003380</td>\n",
              "      <td>0.033741</td>\n",
              "      <td>0.036065</td>\n",
              "      <td>-0.042010</td>\n",
              "      <td>0.046024</td>\n",
              "      <td>0.001558</td>\n",
              "      <td>0.001742</td>\n",
              "      <td>0.008626</td>\n",
              "      <td>0.019011</td>\n",
              "      <td>-0.054141</td>\n",
              "      <td>0.059639</td>\n",
              "      <td>0.016653</td>\n",
              "      <td>0.024271</td>\n",
              "      <td>-0.010368</td>\n",
              "      <td>0.020780</td>\n",
              "      <td>-0.000441</td>\n",
              "      <td>0.001029</td>\n",
              "      <td>-0.001248</td>\n",
              "      <td>0.001538</td>\n",
              "      <td>0.000125</td>\n",
              "      <td>0.000271</td>\n",
              "      <td>-0.000775</td>\n",
              "      <td>0.001234</td>\n",
              "    </tr>\n",
              "    <tr>\n",
              "      <th>...</th>\n",
              "      <td>...</td>\n",
              "      <td>...</td>\n",
              "      <td>...</td>\n",
              "      <td>...</td>\n",
              "      <td>...</td>\n",
              "      <td>...</td>\n",
              "      <td>...</td>\n",
              "      <td>...</td>\n",
              "      <td>...</td>\n",
              "      <td>...</td>\n",
              "      <td>...</td>\n",
              "      <td>...</td>\n",
              "      <td>...</td>\n",
              "      <td>...</td>\n",
              "      <td>...</td>\n",
              "      <td>...</td>\n",
              "      <td>...</td>\n",
              "      <td>...</td>\n",
              "      <td>...</td>\n",
              "      <td>...</td>\n",
              "      <td>...</td>\n",
              "      <td>...</td>\n",
              "      <td>...</td>\n",
              "      <td>...</td>\n",
              "      <td>...</td>\n",
              "      <td>...</td>\n",
              "      <td>...</td>\n",
              "      <td>...</td>\n",
              "      <td>...</td>\n",
              "      <td>...</td>\n",
              "      <td>...</td>\n",
              "      <td>...</td>\n",
              "      <td>...</td>\n",
              "      <td>...</td>\n",
              "      <td>...</td>\n",
              "      <td>...</td>\n",
              "      <td>...</td>\n",
              "      <td>...</td>\n",
              "      <td>...</td>\n",
              "      <td>...</td>\n",
              "      <td>...</td>\n",
              "      <td>...</td>\n",
              "      <td>...</td>\n",
              "      <td>...</td>\n",
              "      <td>...</td>\n",
              "      <td>...</td>\n",
              "      <td>...</td>\n",
              "      <td>...</td>\n",
              "      <td>...</td>\n",
              "      <td>...</td>\n",
              "      <td>...</td>\n",
              "      <td>...</td>\n",
              "      <td>...</td>\n",
              "      <td>...</td>\n",
              "      <td>...</td>\n",
              "      <td>...</td>\n",
              "      <td>...</td>\n",
              "      <td>...</td>\n",
              "      <td>...</td>\n",
              "      <td>...</td>\n",
              "      <td>...</td>\n",
              "      <td>...</td>\n",
              "      <td>...</td>\n",
              "      <td>...</td>\n",
              "      <td>...</td>\n",
              "      <td>...</td>\n",
              "      <td>...</td>\n",
              "      <td>...</td>\n",
              "      <td>...</td>\n",
              "      <td>...</td>\n",
              "      <td>...</td>\n",
              "      <td>...</td>\n",
              "      <td>...</td>\n",
              "      <td>...</td>\n",
              "      <td>...</td>\n",
              "      <td>...</td>\n",
              "      <td>...</td>\n",
              "      <td>...</td>\n",
              "      <td>...</td>\n",
              "      <td>...</td>\n",
              "      <td>...</td>\n",
              "    </tr>\n",
              "    <tr>\n",
              "      <th>283115</th>\n",
              "      <td>-0.000061</td>\n",
              "      <td>0.004145</td>\n",
              "      <td>-0.000935</td>\n",
              "      <td>0.004973</td>\n",
              "      <td>-0.000670</td>\n",
              "      <td>0.001446</td>\n",
              "      <td>-0.000644</td>\n",
              "      <td>0.002449</td>\n",
              "      <td>0.031618</td>\n",
              "      <td>0.042993</td>\n",
              "      <td>-0.004853</td>\n",
              "      <td>0.049305</td>\n",
              "      <td>0.005264</td>\n",
              "      <td>0.010279</td>\n",
              "      <td>-0.003099</td>\n",
              "      <td>0.015787</td>\n",
              "      <td>0.005724</td>\n",
              "      <td>0.040431</td>\n",
              "      <td>-0.008595</td>\n",
              "      <td>0.054928</td>\n",
              "      <td>0.005934</td>\n",
              "      <td>0.016762</td>\n",
              "      <td>-0.011925</td>\n",
              "      <td>0.017987</td>\n",
              "      <td>-0.016959</td>\n",
              "      <td>0.024534</td>\n",
              "      <td>0.001152</td>\n",
              "      <td>0.001923</td>\n",
              "      <td>0.000180</td>\n",
              "      <td>0.001670</td>\n",
              "      <td>0.007941</td>\n",
              "      <td>0.008095</td>\n",
              "      <td>0.030327</td>\n",
              "      <td>0.053184</td>\n",
              "      <td>0.010937</td>\n",
              "      <td>0.024009</td>\n",
              "      <td>-0.007176</td>\n",
              "      <td>0.019204</td>\n",
              "      <td>0.000325</td>\n",
              "      <td>0.004844</td>\n",
              "      <td>...</td>\n",
              "      <td>-0.019244</td>\n",
              "      <td>0.096729</td>\n",
              "      <td>-0.002354</td>\n",
              "      <td>0.040148</td>\n",
              "      <td>0.004068</td>\n",
              "      <td>0.012591</td>\n",
              "      <td>0.006662</td>\n",
              "      <td>0.014250</td>\n",
              "      <td>0.001084</td>\n",
              "      <td>0.001460</td>\n",
              "      <td>0.006355</td>\n",
              "      <td>0.008498</td>\n",
              "      <td>-0.001401</td>\n",
              "      <td>0.002940</td>\n",
              "      <td>-0.000812</td>\n",
              "      <td>0.000846</td>\n",
              "      <td>0.012537</td>\n",
              "      <td>0.021092</td>\n",
              "      <td>-0.010144</td>\n",
              "      <td>0.027997</td>\n",
              "      <td>-0.012505</td>\n",
              "      <td>0.014323</td>\n",
              "      <td>-0.011177</td>\n",
              "      <td>0.014347</td>\n",
              "      <td>0.012757</td>\n",
              "      <td>0.021722</td>\n",
              "      <td>0.000007</td>\n",
              "      <td>0.031998</td>\n",
              "      <td>0.002980</td>\n",
              "      <td>0.024436</td>\n",
              "      <td>-0.009040</td>\n",
              "      <td>0.011892</td>\n",
              "      <td>-0.002887</td>\n",
              "      <td>0.003272</td>\n",
              "      <td>-0.001130</td>\n",
              "      <td>0.022175</td>\n",
              "      <td>-0.002587</td>\n",
              "      <td>0.003030</td>\n",
              "      <td>-0.001448</td>\n",
              "      <td>0.002555</td>\n",
              "    </tr>\n",
              "    <tr>\n",
              "      <th>283116</th>\n",
              "      <td>-0.013113</td>\n",
              "      <td>0.014094</td>\n",
              "      <td>-0.000473</td>\n",
              "      <td>0.001524</td>\n",
              "      <td>0.000778</td>\n",
              "      <td>0.001347</td>\n",
              "      <td>0.006920</td>\n",
              "      <td>0.008284</td>\n",
              "      <td>0.029003</td>\n",
              "      <td>0.073642</td>\n",
              "      <td>0.043964</td>\n",
              "      <td>0.047102</td>\n",
              "      <td>0.004079</td>\n",
              "      <td>0.062897</td>\n",
              "      <td>0.010208</td>\n",
              "      <td>0.014309</td>\n",
              "      <td>-0.002412</td>\n",
              "      <td>0.012709</td>\n",
              "      <td>-0.001366</td>\n",
              "      <td>0.008110</td>\n",
              "      <td>0.015129</td>\n",
              "      <td>0.021872</td>\n",
              "      <td>0.012657</td>\n",
              "      <td>0.017013</td>\n",
              "      <td>-0.000311</td>\n",
              "      <td>0.002409</td>\n",
              "      <td>-0.001446</td>\n",
              "      <td>0.001937</td>\n",
              "      <td>0.000413</td>\n",
              "      <td>0.002440</td>\n",
              "      <td>0.000338</td>\n",
              "      <td>0.001735</td>\n",
              "      <td>-0.003789</td>\n",
              "      <td>0.012001</td>\n",
              "      <td>0.005220</td>\n",
              "      <td>0.024048</td>\n",
              "      <td>-0.008885</td>\n",
              "      <td>0.011823</td>\n",
              "      <td>-0.000055</td>\n",
              "      <td>0.007606</td>\n",
              "      <td>...</td>\n",
              "      <td>0.000469</td>\n",
              "      <td>0.015138</td>\n",
              "      <td>0.008519</td>\n",
              "      <td>0.009333</td>\n",
              "      <td>0.012432</td>\n",
              "      <td>0.030604</td>\n",
              "      <td>0.015347</td>\n",
              "      <td>0.015574</td>\n",
              "      <td>0.000662</td>\n",
              "      <td>0.000769</td>\n",
              "      <td>-0.005082</td>\n",
              "      <td>0.005367</td>\n",
              "      <td>0.000127</td>\n",
              "      <td>0.002984</td>\n",
              "      <td>-0.015900</td>\n",
              "      <td>0.016078</td>\n",
              "      <td>0.028617</td>\n",
              "      <td>0.028989</td>\n",
              "      <td>0.040478</td>\n",
              "      <td>0.044235</td>\n",
              "      <td>0.000277</td>\n",
              "      <td>0.051093</td>\n",
              "      <td>-0.012040</td>\n",
              "      <td>0.012040</td>\n",
              "      <td>0.007252</td>\n",
              "      <td>0.008651</td>\n",
              "      <td>-0.006474</td>\n",
              "      <td>0.010561</td>\n",
              "      <td>0.009397</td>\n",
              "      <td>0.025116</td>\n",
              "      <td>-0.028234</td>\n",
              "      <td>0.028888</td>\n",
              "      <td>-0.000655</td>\n",
              "      <td>0.000951</td>\n",
              "      <td>-0.002342</td>\n",
              "      <td>0.002720</td>\n",
              "      <td>-0.000050</td>\n",
              "      <td>0.001040</td>\n",
              "      <td>-0.007317</td>\n",
              "      <td>0.008570</td>\n",
              "    </tr>\n",
              "    <tr>\n",
              "      <th>283117</th>\n",
              "      <td>0.000501</td>\n",
              "      <td>0.002008</td>\n",
              "      <td>-0.001443</td>\n",
              "      <td>0.003457</td>\n",
              "      <td>0.001451</td>\n",
              "      <td>0.002642</td>\n",
              "      <td>-0.000459</td>\n",
              "      <td>0.001832</td>\n",
              "      <td>-0.000659</td>\n",
              "      <td>0.069364</td>\n",
              "      <td>-0.025388</td>\n",
              "      <td>0.030541</td>\n",
              "      <td>0.007561</td>\n",
              "      <td>0.009498</td>\n",
              "      <td>0.005155</td>\n",
              "      <td>0.015785</td>\n",
              "      <td>0.006938</td>\n",
              "      <td>0.023277</td>\n",
              "      <td>0.010651</td>\n",
              "      <td>0.027354</td>\n",
              "      <td>0.015547</td>\n",
              "      <td>0.028194</td>\n",
              "      <td>0.000584</td>\n",
              "      <td>0.010671</td>\n",
              "      <td>0.002837</td>\n",
              "      <td>0.006473</td>\n",
              "      <td>-0.001559</td>\n",
              "      <td>0.005285</td>\n",
              "      <td>0.001587</td>\n",
              "      <td>0.005068</td>\n",
              "      <td>0.000758</td>\n",
              "      <td>0.003058</td>\n",
              "      <td>0.002392</td>\n",
              "      <td>0.023109</td>\n",
              "      <td>0.005756</td>\n",
              "      <td>0.012454</td>\n",
              "      <td>0.008801</td>\n",
              "      <td>0.021559</td>\n",
              "      <td>0.001977</td>\n",
              "      <td>0.005408</td>\n",
              "      <td>...</td>\n",
              "      <td>-0.002224</td>\n",
              "      <td>0.013740</td>\n",
              "      <td>0.011755</td>\n",
              "      <td>0.029072</td>\n",
              "      <td>-0.004233</td>\n",
              "      <td>0.015415</td>\n",
              "      <td>-0.000295</td>\n",
              "      <td>0.019100</td>\n",
              "      <td>-0.003134</td>\n",
              "      <td>0.005730</td>\n",
              "      <td>0.000804</td>\n",
              "      <td>0.000847</td>\n",
              "      <td>-0.000330</td>\n",
              "      <td>0.001785</td>\n",
              "      <td>0.001539</td>\n",
              "      <td>0.001655</td>\n",
              "      <td>0.021633</td>\n",
              "      <td>0.072847</td>\n",
              "      <td>0.010398</td>\n",
              "      <td>0.055724</td>\n",
              "      <td>0.008716</td>\n",
              "      <td>0.023004</td>\n",
              "      <td>0.002913</td>\n",
              "      <td>0.008819</td>\n",
              "      <td>0.003715</td>\n",
              "      <td>0.011385</td>\n",
              "      <td>-0.007475</td>\n",
              "      <td>0.019677</td>\n",
              "      <td>-0.001620</td>\n",
              "      <td>0.014022</td>\n",
              "      <td>-0.010917</td>\n",
              "      <td>0.016152</td>\n",
              "      <td>0.005618</td>\n",
              "      <td>0.005835</td>\n",
              "      <td>0.000990</td>\n",
              "      <td>0.001107</td>\n",
              "      <td>0.001702</td>\n",
              "      <td>0.002131</td>\n",
              "      <td>0.000044</td>\n",
              "      <td>0.000103</td>\n",
              "    </tr>\n",
              "    <tr>\n",
              "      <th>283118</th>\n",
              "      <td>0.003440</td>\n",
              "      <td>0.005690</td>\n",
              "      <td>-0.002783</td>\n",
              "      <td>0.002994</td>\n",
              "      <td>0.003309</td>\n",
              "      <td>0.003756</td>\n",
              "      <td>-0.003044</td>\n",
              "      <td>0.003531</td>\n",
              "      <td>0.002460</td>\n",
              "      <td>0.018803</td>\n",
              "      <td>-0.004014</td>\n",
              "      <td>0.026001</td>\n",
              "      <td>-0.009843</td>\n",
              "      <td>0.026532</td>\n",
              "      <td>-0.011663</td>\n",
              "      <td>0.017994</td>\n",
              "      <td>0.017995</td>\n",
              "      <td>0.064921</td>\n",
              "      <td>-0.003512</td>\n",
              "      <td>0.014550</td>\n",
              "      <td>0.022965</td>\n",
              "      <td>0.043777</td>\n",
              "      <td>0.006244</td>\n",
              "      <td>0.033807</td>\n",
              "      <td>-0.007811</td>\n",
              "      <td>0.007846</td>\n",
              "      <td>-0.002006</td>\n",
              "      <td>0.005980</td>\n",
              "      <td>-0.003166</td>\n",
              "      <td>0.003189</td>\n",
              "      <td>0.001204</td>\n",
              "      <td>0.003765</td>\n",
              "      <td>0.027671</td>\n",
              "      <td>0.027671</td>\n",
              "      <td>-0.020550</td>\n",
              "      <td>0.021344</td>\n",
              "      <td>0.029652</td>\n",
              "      <td>0.030976</td>\n",
              "      <td>-0.042244</td>\n",
              "      <td>0.042244</td>\n",
              "      <td>...</td>\n",
              "      <td>0.006395</td>\n",
              "      <td>0.016998</td>\n",
              "      <td>-0.005565</td>\n",
              "      <td>0.016179</td>\n",
              "      <td>-0.015910</td>\n",
              "      <td>0.027819</td>\n",
              "      <td>-0.002796</td>\n",
              "      <td>0.004534</td>\n",
              "      <td>0.000670</td>\n",
              "      <td>0.000670</td>\n",
              "      <td>-0.002663</td>\n",
              "      <td>0.005318</td>\n",
              "      <td>-0.000188</td>\n",
              "      <td>0.001434</td>\n",
              "      <td>-0.003567</td>\n",
              "      <td>0.003567</td>\n",
              "      <td>-0.015877</td>\n",
              "      <td>0.024488</td>\n",
              "      <td>-0.017234</td>\n",
              "      <td>0.018842</td>\n",
              "      <td>0.010331</td>\n",
              "      <td>0.010733</td>\n",
              "      <td>-0.013543</td>\n",
              "      <td>0.033381</td>\n",
              "      <td>0.018131</td>\n",
              "      <td>0.020212</td>\n",
              "      <td>0.030524</td>\n",
              "      <td>0.065582</td>\n",
              "      <td>-0.013273</td>\n",
              "      <td>0.025995</td>\n",
              "      <td>-0.018881</td>\n",
              "      <td>0.022236</td>\n",
              "      <td>0.007699</td>\n",
              "      <td>0.012698</td>\n",
              "      <td>0.000251</td>\n",
              "      <td>0.000931</td>\n",
              "      <td>0.004613</td>\n",
              "      <td>0.005595</td>\n",
              "      <td>0.001625</td>\n",
              "      <td>0.002044</td>\n",
              "    </tr>\n",
              "    <tr>\n",
              "      <th>283119</th>\n",
              "      <td>-0.001204</td>\n",
              "      <td>0.002822</td>\n",
              "      <td>-0.001698</td>\n",
              "      <td>0.002741</td>\n",
              "      <td>-0.000016</td>\n",
              "      <td>0.000332</td>\n",
              "      <td>0.000028</td>\n",
              "      <td>0.000474</td>\n",
              "      <td>0.036772</td>\n",
              "      <td>0.042477</td>\n",
              "      <td>0.028439</td>\n",
              "      <td>0.049043</td>\n",
              "      <td>-0.002629</td>\n",
              "      <td>0.009481</td>\n",
              "      <td>-0.001171</td>\n",
              "      <td>0.002704</td>\n",
              "      <td>-0.009181</td>\n",
              "      <td>0.020009</td>\n",
              "      <td>-0.008383</td>\n",
              "      <td>0.018028</td>\n",
              "      <td>-0.001286</td>\n",
              "      <td>0.005362</td>\n",
              "      <td>0.003685</td>\n",
              "      <td>0.006695</td>\n",
              "      <td>-0.007029</td>\n",
              "      <td>0.009064</td>\n",
              "      <td>-0.000236</td>\n",
              "      <td>0.000236</td>\n",
              "      <td>0.000228</td>\n",
              "      <td>0.000228</td>\n",
              "      <td>0.001037</td>\n",
              "      <td>0.001116</td>\n",
              "      <td>-0.008449</td>\n",
              "      <td>0.008449</td>\n",
              "      <td>-0.008208</td>\n",
              "      <td>0.032287</td>\n",
              "      <td>-0.007048</td>\n",
              "      <td>0.007048</td>\n",
              "      <td>-0.005982</td>\n",
              "      <td>0.006558</td>\n",
              "      <td>...</td>\n",
              "      <td>-0.014502</td>\n",
              "      <td>0.029962</td>\n",
              "      <td>-0.019127</td>\n",
              "      <td>0.024530</td>\n",
              "      <td>0.000612</td>\n",
              "      <td>0.001213</td>\n",
              "      <td>-0.001739</td>\n",
              "      <td>0.006281</td>\n",
              "      <td>-0.001683</td>\n",
              "      <td>0.003164</td>\n",
              "      <td>-0.000525</td>\n",
              "      <td>0.001678</td>\n",
              "      <td>-0.000198</td>\n",
              "      <td>0.000866</td>\n",
              "      <td>0.000106</td>\n",
              "      <td>0.000443</td>\n",
              "      <td>0.049640</td>\n",
              "      <td>0.056780</td>\n",
              "      <td>0.020646</td>\n",
              "      <td>0.034056</td>\n",
              "      <td>0.003604</td>\n",
              "      <td>0.006177</td>\n",
              "      <td>-0.001832</td>\n",
              "      <td>0.004243</td>\n",
              "      <td>-0.023762</td>\n",
              "      <td>0.027739</td>\n",
              "      <td>-0.002698</td>\n",
              "      <td>0.003099</td>\n",
              "      <td>0.001458</td>\n",
              "      <td>0.001859</td>\n",
              "      <td>0.003352</td>\n",
              "      <td>0.004130</td>\n",
              "      <td>-0.003804</td>\n",
              "      <td>0.006861</td>\n",
              "      <td>-0.000395</td>\n",
              "      <td>0.000548</td>\n",
              "      <td>0.000121</td>\n",
              "      <td>0.000145</td>\n",
              "      <td>0.000075</td>\n",
              "      <td>0.000190</td>\n",
              "    </tr>\n",
              "  </tbody>\n",
              "</table>\n",
              "<p>283120 rows × 128 columns</p>\n",
              "</div>"
            ],
            "text/plain": [
              "             0         1         2    ...       125       126       127\n",
              "0      -0.000053  0.000131 -0.000412  ...  0.000794 -0.000055  0.000117\n",
              "1      -0.000096  0.000584 -0.000191  ...  0.002672  0.000149  0.000262\n",
              "2      -0.000057  0.000379  0.000949  ...  0.000338  0.000048  0.001236\n",
              "3      -0.000161  0.000251 -0.000748  ...  0.000659 -0.001700  0.001907\n",
              "4      -0.000800  0.001233 -0.000058  ...  0.000271 -0.000775  0.001234\n",
              "...          ...       ...       ...  ...       ...       ...       ...\n",
              "283115 -0.000061  0.004145 -0.000935  ...  0.003030 -0.001448  0.002555\n",
              "283116 -0.013113  0.014094 -0.000473  ...  0.001040 -0.007317  0.008570\n",
              "283117  0.000501  0.002008 -0.001443  ...  0.002131  0.000044  0.000103\n",
              "283118  0.003440  0.005690 -0.002783  ...  0.005595  0.001625  0.002044\n",
              "283119 -0.001204  0.002822 -0.001698  ...  0.000145  0.000075  0.000190\n",
              "\n",
              "[283120 rows x 128 columns]"
            ]
          },
          "metadata": {
            "tags": []
          },
          "execution_count": 9
        }
      ]
    },
    {
      "cell_type": "code",
      "metadata": {
        "colab": {
          "base_uri": "https://localhost:8080/"
        },
        "id": "eIfq0l7HAvD_",
        "outputId": "efaa268b-06ed-42fd-a785-5b6aee16dca3"
      },
      "source": [
        "cd ../.."
      ],
      "execution_count": null,
      "outputs": [
        {
          "output_type": "stream",
          "text": [
            "/gdrive/.shortcut-targets-by-id/1nl7Gp0oMlyRlWl7RuNHeJ5o1UaSHy5cf/3DAR_project\n"
          ],
          "name": "stdout"
        }
      ]
    },
    {
      "cell_type": "code",
      "metadata": {
        "colab": {
          "base_uri": "https://localhost:8080/"
        },
        "id": "j0oEi96-BrNO",
        "outputId": "68bf2f7a-17b9-46f9-a970-971339b46384"
      },
      "source": [
        "ls"
      ],
      "execution_count": null,
      "outputs": [
        {
          "output_type": "stream",
          "text": [
            "autoencoder_json_100.json        autoencoder_model_tanh.h5\n",
            "autoencoder_json_100_noreg.json  autoencoder_weights_100.h5\n",
            "autoencoder_json_60.json         autoencoder_weights_100_noreg.h5\n",
            "autoencoder_model_100.h5         autoencoder_weights_60.h5\n",
            "autoencoder_model_100_noreg.h5   \u001b[0m\u001b[01;34mcastle_keypoints\u001b[0m/\n",
            "autoencoder_model_60.h5          \u001b[01;34mportello_keypoints\u001b[0m/\n",
            "autoencoder_model.h5             \u001b[01;34mtest_data\u001b[0m/\n"
          ],
          "name": "stdout"
        }
      ]
    },
    {
      "cell_type": "markdown",
      "metadata": {
        "id": "-G6O9oIiDrxF"
      },
      "source": [
        "Loading the models"
      ]
    },
    {
      "cell_type": "code",
      "metadata": {
        "id": "a-mwtLsBBsNh"
      },
      "source": [
        "from keras.models import load_model"
      ],
      "execution_count": null,
      "outputs": []
    },
    {
      "cell_type": "code",
      "metadata": {
        "id": "Mv2LRlBCBS-I"
      },
      "source": [
        "ae100 = load_model('autoencoder_model_100.h5')"
      ],
      "execution_count": null,
      "outputs": []
    },
    {
      "cell_type": "code",
      "metadata": {
        "colab": {
          "base_uri": "https://localhost:8080/"
        },
        "id": "NhgsDhf1KmKM",
        "outputId": "db85876f-32b4-4b9f-d7d0-193b54353dfc"
      },
      "source": [
        "ls"
      ],
      "execution_count": null,
      "outputs": [
        {
          "output_type": "stream",
          "text": [
            "autoencoder_json_100.json        autoencoder_model_tanh.h5\n",
            "autoencoder_json_100_noreg.json  autoencoder_weights_100.h5\n",
            "autoencoder_json_60.json         autoencoder_weights_100_noreg.h5\n",
            "autoencoder_model_100.h5         autoencoder_weights_60.h5\n",
            "autoencoder_model_100_noreg.h5   \u001b[0m\u001b[01;34mcastle_keypoints\u001b[0m/\n",
            "autoencoder_model_60.h5          \u001b[01;34mportello_keypoints\u001b[0m/\n",
            "autoencoder_model.h5             \u001b[01;34mtest_data\u001b[0m/\n"
          ],
          "name": "stdout"
        }
      ]
    },
    {
      "cell_type": "code",
      "metadata": {
        "colab": {
          "base_uri": "https://localhost:8080/"
        },
        "id": "m54iK4GJB8Wm",
        "outputId": "b92f6631-0801-4543-f91d-697ad70788c9"
      },
      "source": [
        "autoencoder.summary()"
      ],
      "execution_count": null,
      "outputs": [
        {
          "output_type": "stream",
          "text": [
            "Model: \"model_50\"\n",
            "_________________________________________________________________\n",
            "Layer (type)                 Output Shape              Param #   \n",
            "=================================================================\n",
            "input_36 (InputLayer)        [(None, 128)]             0         \n",
            "_________________________________________________________________\n",
            "dense_103 (Dense)            (None, 32)                4128      \n",
            "_________________________________________________________________\n",
            "dense_104 (Dense)            (None, 64)                2112      \n",
            "_________________________________________________________________\n",
            "dense_105 (Dense)            (None, 32)                2080      \n",
            "_________________________________________________________________\n",
            "dense_106 (Dense)            (None, 32)                1056      \n",
            "_________________________________________________________________\n",
            "dense_107 (Dense)            (None, 64)                2112      \n",
            "_________________________________________________________________\n",
            "dense_108 (Dense)            (None, 128)               8320      \n",
            "=================================================================\n",
            "Total params: 19,808\n",
            "Trainable params: 19,808\n",
            "Non-trainable params: 0\n",
            "_________________________________________________________________\n"
          ],
          "name": "stdout"
        }
      ]
    },
    {
      "cell_type": "code",
      "metadata": {
        "colab": {
          "base_uri": "https://localhost:8080/"
        },
        "id": "B5WmjKrACQMv",
        "outputId": "7ac730d4-d5a9-447e-98e9-c26cb63dd0d1"
      },
      "source": [
        "preds = autoencoder.predict(fd)\n",
        "preds"
      ],
      "execution_count": null,
      "outputs": [
        {
          "output_type": "execute_result",
          "data": {
            "text/plain": [
              "array([[ 6.7927252e-04,  3.4320152e-03,  1.0285748e-04, ...,\n",
              "         3.8514643e-03, -2.7764402e-04,  1.9971952e-03],\n",
              "       [ 1.1132676e-03,  2.3588280e-03, -4.9549103e-04, ...,\n",
              "         3.5093802e-03,  1.9219518e-04,  3.1368646e-03],\n",
              "       [-6.4802857e-04,  3.2278902e-03, -4.3588883e-04, ...,\n",
              "         1.1202800e-03,  1.2973137e-04,  1.1284159e-03],\n",
              "       ...,\n",
              "       [-1.0216082e-03,  4.2496081e-03,  1.0930945e-04, ...,\n",
              "         3.4559611e-04,  2.4647638e-04,  3.2704324e-05],\n",
              "       [ 6.9955538e-04,  3.8901188e-03, -5.8570330e-04, ...,\n",
              "         2.3384830e-03,  6.4498733e-04,  1.0411845e-03],\n",
              "       [ 6.6045101e-04,  3.9699455e-03, -3.3375409e-03, ...,\n",
              "         4.7228474e-04,  5.8144331e-05,  4.4659889e-04]], dtype=float32)"
            ]
          },
          "metadata": {
            "tags": []
          },
          "execution_count": 13
        }
      ]
    },
    {
      "cell_type": "code",
      "metadata": {
        "colab": {
          "base_uri": "https://localhost:8080/"
        },
        "id": "MvTrSf1ZCZUQ",
        "outputId": "93925008-efd4-4e4d-aa6f-a39363962f72"
      },
      "source": [
        "m100 = preds[0]\n",
        "m100"
      ],
      "execution_count": null,
      "outputs": [
        {
          "output_type": "execute_result",
          "data": {
            "text/plain": [
              "array([ 6.79272518e-04,  3.43201519e-03,  1.02857477e-04,  3.45423887e-03,\n",
              "        3.10887583e-04,  2.64576194e-03, -1.09828683e-03,  2.10782024e-03,\n",
              "        2.69101653e-03,  2.45565362e-02, -5.38574159e-03,  2.09986698e-02,\n",
              "        5.23110479e-03,  2.01774277e-02, -3.01842554e-03,  1.88484192e-02,\n",
              "        6.24868786e-03,  3.54485475e-02, -5.54857019e-04,  2.83746570e-02,\n",
              "        6.04592147e-04,  2.70281639e-02, -2.23422423e-03,  2.39779521e-02,\n",
              "       -6.06803107e-04,  4.09742445e-03,  3.32103111e-04,  3.58640146e-03,\n",
              "        1.77350768e-04,  3.91296158e-03, -1.36290182e-04,  3.68277356e-03,\n",
              "        2.14002864e-03,  2.38247942e-02, -4.65448154e-03,  2.34600771e-02,\n",
              "        2.76802108e-03,  1.43525098e-02, -3.75931012e-03,  1.47239855e-02,\n",
              "        1.87690467e-01,  2.51567900e-01,  4.25044894e-02,  1.36889890e-01,\n",
              "        1.01756126e-01,  1.78846747e-01, -2.39494815e-02,  4.74450439e-02,\n",
              "       -3.74883227e-02,  3.76773506e-01, -3.04853879e-02,  6.91567510e-02,\n",
              "        9.72470492e-02,  1.30204216e-01,  1.90994233e-01,  2.73070484e-01,\n",
              "       -4.43873461e-03,  3.07159536e-02, -2.85032368e-03,  2.25281883e-02,\n",
              "        7.95185845e-03,  2.65374482e-02,  7.93892331e-03,  3.54314111e-02,\n",
              "        1.34619221e-03,  2.10608263e-02, -4.54986608e-03,  2.29422953e-02,\n",
              "        1.26285013e-03,  1.75193921e-02, -2.19483417e-03,  1.64659433e-02,\n",
              "       -2.66729221e-02,  5.83084263e-02,  2.23362043e-01,  2.93498755e-01,\n",
              "       -1.21512212e-01,  1.99692488e-01, -3.36230733e-03,  5.57313077e-02,\n",
              "       -1.12656206e-02,  5.54483533e-02, -8.84362310e-02,  3.39967817e-01,\n",
              "       -9.17704701e-02,  1.67325065e-01, -2.69421577e-01,  3.14513028e-01,\n",
              "       -1.25015515e-03,  1.98820625e-02,  9.87410313e-05,  2.77436320e-02,\n",
              "       -6.84779929e-03,  3.22358645e-02, -1.38506107e-02,  3.32669131e-02,\n",
              "       -1.45719084e-03,  3.59928119e-03,  1.14177144e-03,  2.79612839e-03,\n",
              "       -4.26235754e-04,  1.89166411e-03,  5.23885596e-04,  3.07051395e-03,\n",
              "       -5.67535311e-03,  1.77434199e-02,  3.47007927e-03,  2.11955197e-02,\n",
              "        1.85902545e-03,  2.29747910e-02,  3.61327315e-03,  2.07266640e-02,\n",
              "        8.12712824e-04,  2.88584419e-02,  1.57635135e-03,  2.77232919e-02,\n",
              "        5.33504691e-03,  2.90733948e-02, -1.74677186e-03,  2.73186676e-02,\n",
              "        6.26859139e-04,  3.30645009e-03,  4.22757497e-04,  3.48672783e-03,\n",
              "        6.51515438e-04,  3.85146425e-03, -2.77644023e-04,  1.99719518e-03],\n",
              "      dtype=float32)"
            ]
          },
          "metadata": {
            "tags": []
          },
          "execution_count": 14
        }
      ]
    },
    {
      "cell_type": "code",
      "metadata": {
        "id": "EJoyhw9gMNlZ"
      },
      "source": [
        "ae_noreg = load_model(\"autoencoder_model_100_noreg.h5\")"
      ],
      "execution_count": null,
      "outputs": []
    },
    {
      "cell_type": "code",
      "metadata": {
        "colab": {
          "base_uri": "https://localhost:8080/"
        },
        "id": "yeIWpCufMYPM",
        "outputId": "d1d23f64-451b-420d-82f9-be9c137b1045"
      },
      "source": [
        "preds = ae_noreg.predict(fd)\n",
        "preds"
      ],
      "execution_count": null,
      "outputs": [
        {
          "output_type": "execute_result",
          "data": {
            "text/plain": [
              "array([[-6.1597268e-04,  3.2828951e-03, -9.7781932e-04, ...,\n",
              "         4.3426477e-03, -3.4871511e-05,  3.2240043e-03],\n",
              "       [ 8.1872608e-04,  2.1339396e-03, -1.4912641e-03, ...,\n",
              "         4.9485564e-03,  5.0995499e-05,  4.4705910e-03],\n",
              "       [-1.8671434e-04,  2.7309055e-03, -1.5340081e-03, ...,\n",
              "         1.6000993e-03, -9.2931802e-04,  2.4077340e-03],\n",
              "       ...,\n",
              "       [-1.0731692e-03,  4.3411269e-03, -1.0430380e-03, ...,\n",
              "         8.9292199e-04, -5.9647486e-05,  1.6090398e-03],\n",
              "       [ 2.7375284e-04,  3.5018013e-03, -1.9643819e-03, ...,\n",
              "         1.5129518e-03,  8.4351818e-04,  2.9282009e-03],\n",
              "       [ 8.5451303e-04,  3.1774801e-03, -4.2718481e-03, ...,\n",
              "         1.8612850e-03, -1.8271711e-04,  1.4689878e-03]], dtype=float32)"
            ]
          },
          "metadata": {
            "tags": []
          },
          "execution_count": 16
        }
      ]
    },
    {
      "cell_type": "code",
      "metadata": {
        "colab": {
          "base_uri": "https://localhost:8080/"
        },
        "id": "WD9yPejVLHLw",
        "outputId": "89849f62-fb5d-4213-df46-aeba92d200af"
      },
      "source": [
        "m100_noreg = preds[0]\n",
        "m100_noreg"
      ],
      "execution_count": null,
      "outputs": [
        {
          "output_type": "execute_result",
          "data": {
            "text/plain": [
              "array([-6.15972676e-04,  3.28289508e-03, -9.77819320e-04,  3.35854595e-03,\n",
              "        2.85529881e-04,  2.23679235e-03, -1.35504641e-04,  2.54202518e-03,\n",
              "        3.22279474e-03,  1.99392550e-02, -3.61027755e-03,  2.21104212e-02,\n",
              "        2.21385434e-03,  1.75465681e-02, -1.49958406e-03,  1.60589404e-02,\n",
              "        5.88339008e-03,  3.24208476e-02,  2.56790570e-03,  2.89061777e-02,\n",
              "       -2.09715962e-03,  2.09495630e-02, -2.16411520e-03,  2.07036026e-02,\n",
              "       -6.26940164e-04,  4.76841768e-03,  4.74359840e-05,  3.46596306e-03,\n",
              "        7.92194624e-05,  3.55407363e-03,  1.91236613e-04,  3.95245198e-03,\n",
              "       -6.74894173e-03,  2.80497242e-02, -9.37232457e-04,  2.05570757e-02,\n",
              "       -1.82271004e-04,  1.66322850e-02,  2.13079620e-05,  1.76278763e-02,\n",
              "        1.69175535e-01,  2.33500555e-01,  4.09089290e-02,  1.46941349e-01,\n",
              "        1.12359591e-01,  1.96108878e-01,  8.54484388e-04,  5.09355217e-02,\n",
              "       -3.09821051e-02,  3.73137325e-01, -5.30461408e-03,  5.83992265e-02,\n",
              "        1.03266783e-01,  1.13843337e-01,  1.92709550e-01,  2.43201733e-01,\n",
              "       -5.03406860e-03,  3.23357731e-02, -6.30108034e-03,  2.15640515e-02,\n",
              "        1.01704551e-02,  2.21598912e-02,  8.02662503e-03,  2.97530964e-02,\n",
              "       -8.09971523e-03,  2.69371457e-02,  2.33507808e-03,  1.65942125e-02,\n",
              "       -3.04330164e-03,  1.09915882e-02,  4.51629842e-03,  1.35813709e-02,\n",
              "       -1.99611578e-02,  4.47582938e-02,  2.37852216e-01,  2.71197587e-01,\n",
              "       -1.26916736e-01,  1.93149060e-01,  4.56835097e-03,  2.38412004e-02,\n",
              "       -8.37494154e-03,  5.94911017e-02, -1.22642055e-01,  3.39642912e-01,\n",
              "       -1.18655272e-01,  1.62570924e-01, -2.49544650e-01,  3.03530186e-01,\n",
              "        7.93583516e-04,  2.02977676e-02,  1.23494049e-03,  3.05255782e-02,\n",
              "       -1.24183744e-02,  3.33295055e-02, -1.67240165e-02,  2.85272002e-02,\n",
              "       -9.87170031e-04,  2.38843169e-03, -4.36074915e-04,  2.19845353e-03,\n",
              "        3.61845829e-04,  2.46928050e-03, -5.78310166e-04,  3.04448209e-03,\n",
              "       -8.03452916e-03,  1.45116383e-02,  4.70746588e-03,  2.09196229e-02,\n",
              "       -9.04427550e-04,  2.12471038e-02,  1.28127169e-03,  1.92682222e-02,\n",
              "       -2.42946902e-03,  3.07776704e-02, -4.49426426e-03,  2.13700980e-02,\n",
              "        8.62036552e-03,  2.45827548e-02,  3.58903385e-03,  2.59202234e-02,\n",
              "        9.90118366e-04,  3.80076026e-03,  1.40129577e-03,  3.28879897e-03,\n",
              "        1.01258676e-03,  4.34264774e-03, -3.48715112e-05,  3.22400429e-03],\n",
              "      dtype=float32)"
            ]
          },
          "metadata": {
            "tags": []
          },
          "execution_count": 17
        }
      ]
    },
    {
      "cell_type": "code",
      "metadata": {
        "id": "YZZjsZzvMjoj"
      },
      "source": [
        "ae60 = load_model(\"autoencoder_model_60.h5\")"
      ],
      "execution_count": null,
      "outputs": []
    },
    {
      "cell_type": "code",
      "metadata": {
        "colab": {
          "base_uri": "https://localhost:8080/"
        },
        "id": "54DD7491MwJ3",
        "outputId": "33d3a3a4-9202-48e0-8fd5-217b010ebc62"
      },
      "source": [
        "preds = ae60.predict(fd)\n",
        "m60 = preds[0]\n",
        "m60"
      ],
      "execution_count": null,
      "outputs": [
        {
          "output_type": "execute_result",
          "data": {
            "text/plain": [
              "array([-2.07117270e-03,  4.46574716e-03, -1.16668572e-03,  3.76533205e-03,\n",
              "       -1.15684234e-05,  1.53731590e-03,  1.02356495e-03,  3.24417045e-03,\n",
              "        2.31487979e-03,  2.12166775e-02,  1.46616891e-03,  2.62208264e-02,\n",
              "       -3.40767554e-03,  2.24973764e-02,  1.26295409e-03,  2.04917304e-02,\n",
              "       -6.03809778e-04,  3.11516561e-02,  2.87560304e-03,  2.63122451e-02,\n",
              "       -8.99710041e-03,  2.75970083e-02,  2.05145450e-04,  2.62451954e-02,\n",
              "        2.84917653e-04,  4.74575860e-03,  3.19687650e-04,  5.04790759e-03,\n",
              "        2.12999061e-04,  4.50112205e-03, -3.22926324e-04,  3.04378639e-03,\n",
              "       -8.04201700e-03,  2.72889622e-02, -6.69875788e-03,  2.11214162e-02,\n",
              "        6.86527113e-04,  1.10115791e-02,  2.09491700e-04,  1.75653528e-02,\n",
              "        1.87556699e-01,  2.41549447e-01,  4.30440903e-02,  1.51325032e-01,\n",
              "        1.01756245e-01,  1.65361106e-01, -8.68636370e-03,  6.04897961e-02,\n",
              "       -3.22412811e-02,  3.77459377e-01, -1.11956755e-02,  4.77539524e-02,\n",
              "        1.22426748e-01,  1.55200705e-01,  2.19636664e-01,  2.76581109e-01,\n",
              "       -4.41294303e-03,  3.81540880e-02, -9.24443919e-03,  2.86495518e-02,\n",
              "        1.20367911e-02,  2.85745151e-02,  1.16899787e-02,  3.31227109e-02,\n",
              "       -8.64252914e-03,  2.67485920e-02, -3.50248069e-04,  2.05428898e-02,\n",
              "       -3.73743591e-03,  1.38069643e-02,  6.33854372e-03,  1.60897877e-02,\n",
              "       -2.13416331e-02,  6.26037940e-02,  2.42505223e-01,  2.86761254e-01,\n",
              "       -1.29316762e-01,  1.74446404e-01,  2.90292315e-02,  8.16624388e-02,\n",
              "       -2.36172532e-03,  9.35059860e-02, -9.95855033e-02,  3.44166100e-01,\n",
              "       -1.15498520e-01,  1.70522809e-01, -2.67565817e-01,  2.99422801e-01,\n",
              "       -1.32372510e-03,  2.37460863e-02, -7.34013133e-03,  4.36155610e-02,\n",
              "       -1.25543708e-02,  3.06385085e-02, -2.40798350e-02,  3.85655425e-02,\n",
              "       -2.30142195e-03,  4.22681961e-03, -2.92528421e-05,  4.56772232e-03,\n",
              "       -6.80455822e-04,  3.03806108e-03, -3.96059826e-04,  3.52377282e-03,\n",
              "       -1.21986885e-02,  1.70737728e-02,  7.41077401e-03,  2.94580869e-02,\n",
              "       -1.06317620e-03,  2.10481305e-02,  2.61576334e-03,  3.08317449e-02,\n",
              "       -1.99266290e-03,  3.35838310e-02, -2.83950893e-03,  2.16761865e-02,\n",
              "        6.69038342e-03,  3.23637836e-02,  5.70900459e-03,  2.61571128e-02,\n",
              "        1.94673543e-03,  4.81747231e-03,  9.99406911e-04,  3.75798182e-03,\n",
              "        1.61781046e-03,  5.44126518e-03,  5.86714596e-05,  2.16094404e-03],\n",
              "      dtype=float32)"
            ]
          },
          "metadata": {
            "tags": []
          },
          "execution_count": 20
        }
      ]
    },
    {
      "cell_type": "markdown",
      "metadata": {
        "id": "2I8qJUNXEGkN"
      },
      "source": [
        "Comparing predicted values"
      ]
    },
    {
      "cell_type": "code",
      "metadata": {
        "colab": {
          "base_uri": "https://localhost:8080/"
        },
        "id": "i6flZoJ_CuZj",
        "outputId": "fc7212fd-fc91-4f02-c403-9c776cc89025"
      },
      "source": [
        "print(m100[:10], m100_noreg[:10], m60[:10], sep='\\n')\n",
        "fd.iloc[0,:][:10]"
      ],
      "execution_count": null,
      "outputs": [
        {
          "output_type": "stream",
          "text": [
            "[ 0.00067927  0.00343202  0.00010286  0.00345424  0.00031089  0.00264576\n",
            " -0.00109829  0.00210782  0.00269102  0.02455654]\n",
            "[-0.00061597  0.0032829  -0.00097782  0.00335855  0.00028553  0.00223679\n",
            " -0.0001355   0.00254203  0.00322279  0.01993925]\n",
            "[-2.0711727e-03  4.4657472e-03 -1.1666857e-03  3.7653320e-03\n",
            " -1.1568423e-05  1.5373159e-03  1.0235650e-03  3.2441705e-03\n",
            "  2.3148798e-03  2.1216678e-02]\n"
          ],
          "name": "stdout"
        },
        {
          "output_type": "execute_result",
          "data": {
            "text/plain": [
              "0   -0.000053\n",
              "1    0.000131\n",
              "2   -0.000412\n",
              "3    0.001678\n",
              "4   -0.000476\n",
              "5    0.000550\n",
              "6   -0.000751\n",
              "7    0.000792\n",
              "8   -0.000108\n",
              "9    0.003647\n",
              "Name: 0, dtype: float64"
            ]
          },
          "metadata": {
            "tags": []
          },
          "execution_count": 25
        }
      ]
    },
    {
      "cell_type": "markdown",
      "metadata": {
        "id": "NT9iRb6PEMlj"
      },
      "source": [
        "Evaluations; on reduced and full fountain data"
      ]
    },
    {
      "cell_type": "code",
      "metadata": {
        "colab": {
          "base_uri": "https://localhost:8080/"
        },
        "id": "x9USdLdaNrXk",
        "outputId": "e4fdd896-65fd-4986-a7a9-d2923e98ef53"
      },
      "source": [
        "ae100.evaluate(x=fd, y=fd)"
      ],
      "execution_count": null,
      "outputs": [
        {
          "output_type": "stream",
          "text": [
            "8848/8848 [==============================] - 10s 1ms/step - loss: 3.1509e-04 - accuracy: 0.8249 - mse: 2.9898e-04\n"
          ],
          "name": "stdout"
        },
        {
          "output_type": "execute_result",
          "data": {
            "text/plain": [
              "[0.0003150937845930457, 0.8248728513717651, 0.00029898027423769236]"
            ]
          },
          "metadata": {
            "tags": []
          },
          "execution_count": 12
        }
      ]
    },
    {
      "cell_type": "code",
      "metadata": {
        "colab": {
          "base_uri": "https://localhost:8080/"
        },
        "id": "t9-0DWDkOArD",
        "outputId": "088f993f-7593-4c87-994b-d766dc5e5f46"
      },
      "source": [
        "ae_noreg.evaluate(x=fd, y=fd)"
      ],
      "execution_count": null,
      "outputs": [
        {
          "output_type": "stream",
          "text": [
            "10/10 [==============================] - 0s 2ms/step - loss: 1.6876e-04 - accuracy: 0.6500 - mse: 1.6876e-04\n"
          ],
          "name": "stdout"
        },
        {
          "output_type": "execute_result",
          "data": {
            "text/plain": [
              "[0.00016875953588169068, 0.6499999761581421, 0.00016875953588169068]"
            ]
          },
          "metadata": {
            "tags": []
          },
          "execution_count": 28
        }
      ]
    },
    {
      "cell_type": "code",
      "metadata": {
        "colab": {
          "base_uri": "https://localhost:8080/"
        },
        "id": "Q-MgNwmhT7kT",
        "outputId": "6d3b7983-a042-4354-cd1b-2f3e26e8babf"
      },
      "source": [
        "ae_noreg.evaluate(x=fd, y=fd)"
      ],
      "execution_count": null,
      "outputs": [
        {
          "output_type": "stream",
          "text": [
            "8848/8848 [==============================] - 10s 1ms/step - loss: 2.6842e-04 - accuracy: 0.8351 - mse: 2.6842e-04\n"
          ],
          "name": "stdout"
        },
        {
          "output_type": "execute_result",
          "data": {
            "text/plain": [
              "[0.00026841601356863976, 0.8351264595985413, 0.00026841601356863976]"
            ]
          },
          "metadata": {
            "tags": []
          },
          "execution_count": 54
        }
      ]
    },
    {
      "cell_type": "code",
      "metadata": {
        "colab": {
          "base_uri": "https://localhost:8080/"
        },
        "id": "-3CpqyEAOBd7",
        "outputId": "eaf00c56-ea2b-4cd3-e642-d35d9cfee0e5"
      },
      "source": [
        "ae60.evaluate(x=fd, y=fd)"
      ],
      "execution_count": null,
      "outputs": [
        {
          "output_type": "stream",
          "text": [
            "10/10 [==============================] - 0s 1ms/step - loss: 2.4581e-04 - accuracy: 0.6867 - mse: 2.2903e-04\n"
          ],
          "name": "stdout"
        },
        {
          "output_type": "execute_result",
          "data": {
            "text/plain": [
              "[0.00024580518947914243, 0.6866666674613953, 0.00022902920318301767]"
            ]
          },
          "metadata": {
            "tags": []
          },
          "execution_count": 29
        }
      ]
    },
    {
      "cell_type": "code",
      "metadata": {
        "colab": {
          "base_uri": "https://localhost:8080/"
        },
        "id": "1AN9UkLHT-Ht",
        "outputId": "be973071-8b32-4a2c-aacc-5ea527438956"
      },
      "source": [
        "ae60.evaluate(x=fd, y=fd)"
      ],
      "execution_count": null,
      "outputs": [
        {
          "output_type": "stream",
          "text": [
            "8848/8848 [==============================] - 10s 1ms/step - loss: 3.2822e-04 - accuracy: 0.8160 - mse: 3.1156e-04\n"
          ],
          "name": "stdout"
        },
        {
          "output_type": "execute_result",
          "data": {
            "text/plain": [
              "[0.00032821547938510776, 0.815986156463623, 0.0003115581930615008]"
            ]
          },
          "metadata": {
            "tags": []
          },
          "execution_count": 55
        }
      ]
    },
    {
      "cell_type": "code",
      "metadata": {
        "colab": {
          "base_uri": "https://localhost:8080/"
        },
        "id": "dJIjpj1OOb5K",
        "outputId": "268284a8-3050-4e63-f5bf-b7f599c7392b"
      },
      "source": [
        "ls"
      ],
      "execution_count": null,
      "outputs": [
        {
          "output_type": "stream",
          "text": [
            "shell-init: error retrieving current directory: getcwd: cannot access parent directories: No such file or directory\n",
            "autoencoder_json_100.json        autoencoder_model_tanh.h5\n",
            "autoencoder_json_100_noreg.json  autoencoder_weights_100.h5\n",
            "autoencoder_json_60.json         autoencoder_weights_100_noreg.h5\n",
            "autoencoder_model_100.h5         autoencoder_weights_60.h5\n",
            "autoencoder_model_100_noreg.h5   \u001b[0m\u001b[01;34mcastle_keypoints\u001b[0m/\n",
            "autoencoder_model_60.h5          \u001b[01;34mportello_keypoints\u001b[0m/\n",
            "autoencoder_model.h5             \u001b[01;34mtest_data\u001b[0m/\n"
          ],
          "name": "stdout"
        }
      ]
    },
    {
      "cell_type": "code",
      "metadata": {
        "id": "OsjXSAv_OTi0"
      },
      "source": [
        "ae_tanh = load_model(\"autoencoder_model_tanh.h5\")"
      ],
      "execution_count": null,
      "outputs": []
    },
    {
      "cell_type": "code",
      "metadata": {
        "colab": {
          "base_uri": "https://localhost:8080/"
        },
        "id": "ZD71FRDeOr9D",
        "outputId": "5210510d-c557-4711-f015-7a86cc2b0bf4"
      },
      "source": [
        "ae_tanh.evaluate(x=fd, y=fd)"
      ],
      "execution_count": null,
      "outputs": [
        {
          "output_type": "stream",
          "text": [
            "10/10 [==============================] - 0s 2ms/step - loss: 6.6304e-04\n"
          ],
          "name": "stdout"
        },
        {
          "output_type": "execute_result",
          "data": {
            "text/plain": [
              "0.0006630351417697966"
            ]
          },
          "metadata": {
            "tags": []
          },
          "execution_count": 34
        }
      ]
    },
    {
      "cell_type": "code",
      "metadata": {
        "colab": {
          "base_uri": "https://localhost:8080/"
        },
        "id": "SkxH0NorJAHp",
        "outputId": "a373b8b7-df1e-4175-d323-0bd173205199"
      },
      "source": [
        "fd."
      ],
      "execution_count": null,
      "outputs": [
        {
          "output_type": "execute_result",
          "data": {
            "text/plain": [
              "0     -0.000053\n",
              "1     -0.000096\n",
              "2     -0.000057\n",
              "3     -0.000161\n",
              "4     -0.000800\n",
              "         ...   \n",
              "295   -0.003381\n",
              "296    0.000213\n",
              "297   -0.003398\n",
              "298   -0.000925\n",
              "299    0.001129\n",
              "Name: 0, Length: 300, dtype: float64"
            ]
          },
          "metadata": {
            "tags": []
          },
          "execution_count": 36
        }
      ]
    },
    {
      "cell_type": "markdown",
      "metadata": {
        "id": "mQAHcWcjET2t"
      },
      "source": [
        "In the end the autoencoder without regularization trained for 100 epochs outperforms the other model configurations."
      ]
    },
    {
      "cell_type": "markdown",
      "metadata": {
        "id": "nsr3hRHvQc5N"
      },
      "source": [
        "## Training another model to check one more time"
      ]
    },
    {
      "cell_type": "code",
      "metadata": {
        "colab": {
          "base_uri": "https://localhost:8080/"
        },
        "id": "Lfz1GHgeJCbM",
        "outputId": "4cca76dd-019c-4a67-eb77-259de6d247c2"
      },
      "source": [
        "ls"
      ],
      "execution_count": null,
      "outputs": [
        {
          "output_type": "stream",
          "text": [
            "autoencoder_json_100.json        autoencoder_model_tanh.h5\n",
            "autoencoder_json_100_noreg.json  autoencoder_weights_100.h5\n",
            "autoencoder_json_60.json         autoencoder_weights_100_noreg.h5\n",
            "autoencoder_model_100.h5         autoencoder_weights_60.h5\n",
            "autoencoder_model_100_noreg.h5   \u001b[0m\u001b[01;34mcastle_keypoints\u001b[0m/\n",
            "autoencoder_model_60.h5          \u001b[01;34mportello_keypoints\u001b[0m/\n",
            "autoencoder_model.h5             \u001b[01;34mtest_data\u001b[0m/\n"
          ],
          "name": "stdout"
        }
      ]
    },
    {
      "cell_type": "code",
      "metadata": {
        "colab": {
          "base_uri": "https://localhost:8080/"
        },
        "id": "ez8C86yLQgSY",
        "outputId": "5992151d-defe-4347-f7c1-2032e22143d3"
      },
      "source": [
        "cd castle_keypoints/castle_threshold/"
      ],
      "execution_count": null,
      "outputs": [
        {
          "output_type": "stream",
          "text": [
            "/gdrive/.shortcut-targets-by-id/1nl7Gp0oMlyRlWl7RuNHeJ5o1UaSHy5cf/3DAR_project/castle_keypoints/castle_threshold\n"
          ],
          "name": "stdout"
        }
      ]
    },
    {
      "cell_type": "code",
      "metadata": {
        "colab": {
          "base_uri": "https://localhost:8080/",
          "height": 422
        },
        "id": "u7xcRfo0Qlz5",
        "outputId": "03565096-f513-487d-a45b-1513fb9f0c42"
      },
      "source": [
        "df = pd.read_csv(\"everything_thres.csv\", header=None)\n",
        "df"
      ],
      "execution_count": null,
      "outputs": [
        {
          "output_type": "execute_result",
          "data": {
            "text/html": [
              "<div>\n",
              "<style scoped>\n",
              "    .dataframe tbody tr th:only-of-type {\n",
              "        vertical-align: middle;\n",
              "    }\n",
              "\n",
              "    .dataframe tbody tr th {\n",
              "        vertical-align: top;\n",
              "    }\n",
              "\n",
              "    .dataframe thead th {\n",
              "        text-align: right;\n",
              "    }\n",
              "</style>\n",
              "<table border=\"1\" class=\"dataframe\">\n",
              "  <thead>\n",
              "    <tr style=\"text-align: right;\">\n",
              "      <th></th>\n",
              "      <th>0</th>\n",
              "      <th>1</th>\n",
              "      <th>2</th>\n",
              "      <th>3</th>\n",
              "      <th>4</th>\n",
              "      <th>5</th>\n",
              "      <th>6</th>\n",
              "      <th>7</th>\n",
              "      <th>8</th>\n",
              "      <th>9</th>\n",
              "      <th>10</th>\n",
              "      <th>11</th>\n",
              "      <th>12</th>\n",
              "      <th>13</th>\n",
              "      <th>14</th>\n",
              "      <th>15</th>\n",
              "      <th>16</th>\n",
              "      <th>17</th>\n",
              "      <th>18</th>\n",
              "      <th>19</th>\n",
              "      <th>20</th>\n",
              "      <th>21</th>\n",
              "      <th>22</th>\n",
              "      <th>23</th>\n",
              "      <th>24</th>\n",
              "      <th>25</th>\n",
              "      <th>26</th>\n",
              "      <th>27</th>\n",
              "      <th>28</th>\n",
              "      <th>29</th>\n",
              "      <th>30</th>\n",
              "      <th>31</th>\n",
              "      <th>32</th>\n",
              "      <th>33</th>\n",
              "      <th>34</th>\n",
              "      <th>35</th>\n",
              "      <th>36</th>\n",
              "      <th>37</th>\n",
              "      <th>38</th>\n",
              "      <th>39</th>\n",
              "      <th>...</th>\n",
              "      <th>88</th>\n",
              "      <th>89</th>\n",
              "      <th>90</th>\n",
              "      <th>91</th>\n",
              "      <th>92</th>\n",
              "      <th>93</th>\n",
              "      <th>94</th>\n",
              "      <th>95</th>\n",
              "      <th>96</th>\n",
              "      <th>97</th>\n",
              "      <th>98</th>\n",
              "      <th>99</th>\n",
              "      <th>100</th>\n",
              "      <th>101</th>\n",
              "      <th>102</th>\n",
              "      <th>103</th>\n",
              "      <th>104</th>\n",
              "      <th>105</th>\n",
              "      <th>106</th>\n",
              "      <th>107</th>\n",
              "      <th>108</th>\n",
              "      <th>109</th>\n",
              "      <th>110</th>\n",
              "      <th>111</th>\n",
              "      <th>112</th>\n",
              "      <th>113</th>\n",
              "      <th>114</th>\n",
              "      <th>115</th>\n",
              "      <th>116</th>\n",
              "      <th>117</th>\n",
              "      <th>118</th>\n",
              "      <th>119</th>\n",
              "      <th>120</th>\n",
              "      <th>121</th>\n",
              "      <th>122</th>\n",
              "      <th>123</th>\n",
              "      <th>124</th>\n",
              "      <th>125</th>\n",
              "      <th>126</th>\n",
              "      <th>127</th>\n",
              "    </tr>\n",
              "  </thead>\n",
              "  <tbody>\n",
              "    <tr>\n",
              "      <th>0</th>\n",
              "      <td>-0.000467</td>\n",
              "      <td>0.000541</td>\n",
              "      <td>-0.000916</td>\n",
              "      <td>0.001874</td>\n",
              "      <td>-0.000557</td>\n",
              "      <td>0.000674</td>\n",
              "      <td>-0.000916</td>\n",
              "      <td>0.001525</td>\n",
              "      <td>0.003079</td>\n",
              "      <td>0.007687</td>\n",
              "      <td>0.004420</td>\n",
              "      <td>0.009365</td>\n",
              "      <td>-0.002322</td>\n",
              "      <td>0.010495</td>\n",
              "      <td>0.001423</td>\n",
              "      <td>0.008381</td>\n",
              "      <td>0.001434</td>\n",
              "      <td>0.011819</td>\n",
              "      <td>0.001455</td>\n",
              "      <td>0.003266</td>\n",
              "      <td>0.020643</td>\n",
              "      <td>0.026999</td>\n",
              "      <td>0.010237</td>\n",
              "      <td>0.014624</td>\n",
              "      <td>-0.001035</td>\n",
              "      <td>0.001508</td>\n",
              "      <td>-0.000206</td>\n",
              "      <td>0.001023</td>\n",
              "      <td>-0.000163</td>\n",
              "      <td>0.000593</td>\n",
              "      <td>0.000703</td>\n",
              "      <td>0.002220</td>\n",
              "      <td>-0.002108</td>\n",
              "      <td>0.003846</td>\n",
              "      <td>-0.000428</td>\n",
              "      <td>0.004455</td>\n",
              "      <td>-0.000523</td>\n",
              "      <td>0.006677</td>\n",
              "      <td>-0.000680</td>\n",
              "      <td>0.005706</td>\n",
              "      <td>...</td>\n",
              "      <td>0.001429</td>\n",
              "      <td>0.008778</td>\n",
              "      <td>-0.003585</td>\n",
              "      <td>0.022425</td>\n",
              "      <td>-0.009046</td>\n",
              "      <td>0.013339</td>\n",
              "      <td>-0.012942</td>\n",
              "      <td>0.017980</td>\n",
              "      <td>-0.001339</td>\n",
              "      <td>0.002020</td>\n",
              "      <td>0.000110</td>\n",
              "      <td>0.000206</td>\n",
              "      <td>-0.000127</td>\n",
              "      <td>0.000249</td>\n",
              "      <td>0.001430</td>\n",
              "      <td>0.001758</td>\n",
              "      <td>0.015383</td>\n",
              "      <td>0.035254</td>\n",
              "      <td>0.002285</td>\n",
              "      <td>0.008953</td>\n",
              "      <td>0.008437</td>\n",
              "      <td>0.018605</td>\n",
              "      <td>0.008122</td>\n",
              "      <td>0.014362</td>\n",
              "      <td>0.001157</td>\n",
              "      <td>0.018010</td>\n",
              "      <td>-0.001854</td>\n",
              "      <td>0.021281</td>\n",
              "      <td>0.001419</td>\n",
              "      <td>0.037186</td>\n",
              "      <td>0.001077</td>\n",
              "      <td>0.019284</td>\n",
              "      <td>-0.000639</td>\n",
              "      <td>0.001723</td>\n",
              "      <td>-0.001433</td>\n",
              "      <td>0.002465</td>\n",
              "      <td>0.000404</td>\n",
              "      <td>0.001284</td>\n",
              "      <td>0.001272</td>\n",
              "      <td>0.001681</td>\n",
              "    </tr>\n",
              "    <tr>\n",
              "      <th>1</th>\n",
              "      <td>-0.000064</td>\n",
              "      <td>0.000116</td>\n",
              "      <td>0.000102</td>\n",
              "      <td>0.000121</td>\n",
              "      <td>-0.000033</td>\n",
              "      <td>0.000141</td>\n",
              "      <td>0.000005</td>\n",
              "      <td>0.000031</td>\n",
              "      <td>0.000388</td>\n",
              "      <td>0.000408</td>\n",
              "      <td>0.034773</td>\n",
              "      <td>0.034886</td>\n",
              "      <td>-0.008520</td>\n",
              "      <td>0.008662</td>\n",
              "      <td>0.000011</td>\n",
              "      <td>0.000049</td>\n",
              "      <td>0.001416</td>\n",
              "      <td>0.001638</td>\n",
              "      <td>0.041052</td>\n",
              "      <td>0.041052</td>\n",
              "      <td>-0.007911</td>\n",
              "      <td>0.007992</td>\n",
              "      <td>0.000125</td>\n",
              "      <td>0.000125</td>\n",
              "      <td>-0.000215</td>\n",
              "      <td>0.000220</td>\n",
              "      <td>-0.000003</td>\n",
              "      <td>0.000003</td>\n",
              "      <td>0.000016</td>\n",
              "      <td>0.000021</td>\n",
              "      <td>0.000133</td>\n",
              "      <td>0.000139</td>\n",
              "      <td>0.000436</td>\n",
              "      <td>0.001589</td>\n",
              "      <td>0.000288</td>\n",
              "      <td>0.000710</td>\n",
              "      <td>0.000664</td>\n",
              "      <td>0.002855</td>\n",
              "      <td>0.000320</td>\n",
              "      <td>0.003365</td>\n",
              "      <td>...</td>\n",
              "      <td>0.000065</td>\n",
              "      <td>0.001936</td>\n",
              "      <td>0.001152</td>\n",
              "      <td>0.001369</td>\n",
              "      <td>-0.000346</td>\n",
              "      <td>0.000594</td>\n",
              "      <td>0.000078</td>\n",
              "      <td>0.000296</td>\n",
              "      <td>0.000114</td>\n",
              "      <td>0.000134</td>\n",
              "      <td>0.000273</td>\n",
              "      <td>0.000275</td>\n",
              "      <td>-0.000072</td>\n",
              "      <td>0.000072</td>\n",
              "      <td>0.000004</td>\n",
              "      <td>0.000006</td>\n",
              "      <td>0.000388</td>\n",
              "      <td>0.000481</td>\n",
              "      <td>0.000256</td>\n",
              "      <td>0.000405</td>\n",
              "      <td>-0.000517</td>\n",
              "      <td>0.000517</td>\n",
              "      <td>-0.000149</td>\n",
              "      <td>0.000182</td>\n",
              "      <td>0.000322</td>\n",
              "      <td>0.000322</td>\n",
              "      <td>0.002089</td>\n",
              "      <td>0.002089</td>\n",
              "      <td>-0.001023</td>\n",
              "      <td>0.001037</td>\n",
              "      <td>0.000000</td>\n",
              "      <td>0.000000</td>\n",
              "      <td>0.000133</td>\n",
              "      <td>0.000222</td>\n",
              "      <td>0.000048</td>\n",
              "      <td>0.000049</td>\n",
              "      <td>-0.000043</td>\n",
              "      <td>0.000047</td>\n",
              "      <td>0.000011</td>\n",
              "      <td>0.000011</td>\n",
              "    </tr>\n",
              "    <tr>\n",
              "      <th>2</th>\n",
              "      <td>-0.005359</td>\n",
              "      <td>0.005522</td>\n",
              "      <td>0.000062</td>\n",
              "      <td>0.000170</td>\n",
              "      <td>0.000011</td>\n",
              "      <td>0.000030</td>\n",
              "      <td>0.000656</td>\n",
              "      <td>0.000672</td>\n",
              "      <td>-0.007444</td>\n",
              "      <td>0.010552</td>\n",
              "      <td>0.000968</td>\n",
              "      <td>0.000968</td>\n",
              "      <td>0.000953</td>\n",
              "      <td>0.001211</td>\n",
              "      <td>0.000537</td>\n",
              "      <td>0.000537</td>\n",
              "      <td>-0.001287</td>\n",
              "      <td>0.001287</td>\n",
              "      <td>0.078898</td>\n",
              "      <td>0.078898</td>\n",
              "      <td>-0.006903</td>\n",
              "      <td>0.006903</td>\n",
              "      <td>0.000402</td>\n",
              "      <td>0.000402</td>\n",
              "      <td>-0.000456</td>\n",
              "      <td>0.000460</td>\n",
              "      <td>-0.000067</td>\n",
              "      <td>0.000067</td>\n",
              "      <td>0.000009</td>\n",
              "      <td>0.000009</td>\n",
              "      <td>0.000273</td>\n",
              "      <td>0.000318</td>\n",
              "      <td>0.000612</td>\n",
              "      <td>0.001633</td>\n",
              "      <td>-0.019425</td>\n",
              "      <td>0.019979</td>\n",
              "      <td>-0.000732</td>\n",
              "      <td>0.003109</td>\n",
              "      <td>-0.020961</td>\n",
              "      <td>0.022130</td>\n",
              "      <td>...</td>\n",
              "      <td>-0.005379</td>\n",
              "      <td>0.005379</td>\n",
              "      <td>-0.000610</td>\n",
              "      <td>0.000660</td>\n",
              "      <td>-0.000244</td>\n",
              "      <td>0.000244</td>\n",
              "      <td>-0.000308</td>\n",
              "      <td>0.001053</td>\n",
              "      <td>-0.000055</td>\n",
              "      <td>0.000066</td>\n",
              "      <td>0.000133</td>\n",
              "      <td>0.000315</td>\n",
              "      <td>-0.000084</td>\n",
              "      <td>0.000088</td>\n",
              "      <td>-0.000076</td>\n",
              "      <td>0.000106</td>\n",
              "      <td>-0.000372</td>\n",
              "      <td>0.000372</td>\n",
              "      <td>0.001025</td>\n",
              "      <td>0.004044</td>\n",
              "      <td>-0.000604</td>\n",
              "      <td>0.000604</td>\n",
              "      <td>-0.000517</td>\n",
              "      <td>0.000688</td>\n",
              "      <td>-0.000068</td>\n",
              "      <td>0.000068</td>\n",
              "      <td>0.004727</td>\n",
              "      <td>0.004925</td>\n",
              "      <td>-0.002531</td>\n",
              "      <td>0.002531</td>\n",
              "      <td>-0.000081</td>\n",
              "      <td>0.000081</td>\n",
              "      <td>-0.000630</td>\n",
              "      <td>0.000630</td>\n",
              "      <td>0.000081</td>\n",
              "      <td>0.000089</td>\n",
              "      <td>-0.000116</td>\n",
              "      <td>0.000135</td>\n",
              "      <td>0.000275</td>\n",
              "      <td>0.000283</td>\n",
              "    </tr>\n",
              "    <tr>\n",
              "      <th>3</th>\n",
              "      <td>-0.000628</td>\n",
              "      <td>0.000679</td>\n",
              "      <td>-0.001923</td>\n",
              "      <td>0.002147</td>\n",
              "      <td>-0.000022</td>\n",
              "      <td>0.000022</td>\n",
              "      <td>-0.002288</td>\n",
              "      <td>0.002374</td>\n",
              "      <td>0.002550</td>\n",
              "      <td>0.003297</td>\n",
              "      <td>0.001471</td>\n",
              "      <td>0.002280</td>\n",
              "      <td>-0.000340</td>\n",
              "      <td>0.000987</td>\n",
              "      <td>-0.000012</td>\n",
              "      <td>0.000527</td>\n",
              "      <td>0.047226</td>\n",
              "      <td>0.048233</td>\n",
              "      <td>0.028858</td>\n",
              "      <td>0.028858</td>\n",
              "      <td>-0.002531</td>\n",
              "      <td>0.004161</td>\n",
              "      <td>0.000195</td>\n",
              "      <td>0.000195</td>\n",
              "      <td>-0.000192</td>\n",
              "      <td>0.000212</td>\n",
              "      <td>-0.000009</td>\n",
              "      <td>0.000009</td>\n",
              "      <td>0.000044</td>\n",
              "      <td>0.000044</td>\n",
              "      <td>0.000119</td>\n",
              "      <td>0.000130</td>\n",
              "      <td>0.001312</td>\n",
              "      <td>0.001401</td>\n",
              "      <td>-0.000016</td>\n",
              "      <td>0.000016</td>\n",
              "      <td>0.001631</td>\n",
              "      <td>0.001631</td>\n",
              "      <td>0.000141</td>\n",
              "      <td>0.000155</td>\n",
              "      <td>...</td>\n",
              "      <td>-0.003171</td>\n",
              "      <td>0.003383</td>\n",
              "      <td>-0.000913</td>\n",
              "      <td>0.000917</td>\n",
              "      <td>-0.000021</td>\n",
              "      <td>0.000092</td>\n",
              "      <td>0.000211</td>\n",
              "      <td>0.000677</td>\n",
              "      <td>-0.000207</td>\n",
              "      <td>0.000207</td>\n",
              "      <td>-0.000008</td>\n",
              "      <td>0.000018</td>\n",
              "      <td>-0.000009</td>\n",
              "      <td>0.000009</td>\n",
              "      <td>0.000012</td>\n",
              "      <td>0.000044</td>\n",
              "      <td>0.000588</td>\n",
              "      <td>0.000929</td>\n",
              "      <td>0.000840</td>\n",
              "      <td>0.001441</td>\n",
              "      <td>-0.001491</td>\n",
              "      <td>0.001491</td>\n",
              "      <td>-0.000084</td>\n",
              "      <td>0.000084</td>\n",
              "      <td>0.000960</td>\n",
              "      <td>0.000960</td>\n",
              "      <td>0.002905</td>\n",
              "      <td>0.002914</td>\n",
              "      <td>-0.001080</td>\n",
              "      <td>0.001166</td>\n",
              "      <td>-0.000005</td>\n",
              "      <td>0.000005</td>\n",
              "      <td>-0.000297</td>\n",
              "      <td>0.000579</td>\n",
              "      <td>0.000035</td>\n",
              "      <td>0.000076</td>\n",
              "      <td>-0.000061</td>\n",
              "      <td>0.000062</td>\n",
              "      <td>0.000078</td>\n",
              "      <td>0.000089</td>\n",
              "    </tr>\n",
              "    <tr>\n",
              "      <th>4</th>\n",
              "      <td>-0.000752</td>\n",
              "      <td>0.001523</td>\n",
              "      <td>-0.002438</td>\n",
              "      <td>0.002613</td>\n",
              "      <td>0.000003</td>\n",
              "      <td>0.000101</td>\n",
              "      <td>-0.000657</td>\n",
              "      <td>0.001161</td>\n",
              "      <td>-0.003638</td>\n",
              "      <td>0.015448</td>\n",
              "      <td>-0.010374</td>\n",
              "      <td>0.010452</td>\n",
              "      <td>0.002994</td>\n",
              "      <td>0.004199</td>\n",
              "      <td>0.002865</td>\n",
              "      <td>0.006705</td>\n",
              "      <td>0.008505</td>\n",
              "      <td>0.020461</td>\n",
              "      <td>0.003010</td>\n",
              "      <td>0.007048</td>\n",
              "      <td>0.006167</td>\n",
              "      <td>0.008682</td>\n",
              "      <td>0.011379</td>\n",
              "      <td>0.014959</td>\n",
              "      <td>0.000722</td>\n",
              "      <td>0.000890</td>\n",
              "      <td>-0.001270</td>\n",
              "      <td>0.003122</td>\n",
              "      <td>0.000093</td>\n",
              "      <td>0.000239</td>\n",
              "      <td>-0.000282</td>\n",
              "      <td>0.000367</td>\n",
              "      <td>0.006014</td>\n",
              "      <td>0.016557</td>\n",
              "      <td>-0.006759</td>\n",
              "      <td>0.024578</td>\n",
              "      <td>-0.005130</td>\n",
              "      <td>0.014665</td>\n",
              "      <td>-0.001821</td>\n",
              "      <td>0.006117</td>\n",
              "      <td>...</td>\n",
              "      <td>0.014478</td>\n",
              "      <td>0.017133</td>\n",
              "      <td>-0.001262</td>\n",
              "      <td>0.007902</td>\n",
              "      <td>-0.007848</td>\n",
              "      <td>0.033635</td>\n",
              "      <td>0.004014</td>\n",
              "      <td>0.005092</td>\n",
              "      <td>-0.000395</td>\n",
              "      <td>0.001190</td>\n",
              "      <td>0.000076</td>\n",
              "      <td>0.000076</td>\n",
              "      <td>0.002269</td>\n",
              "      <td>0.003015</td>\n",
              "      <td>0.003519</td>\n",
              "      <td>0.003519</td>\n",
              "      <td>-0.007458</td>\n",
              "      <td>0.008086</td>\n",
              "      <td>-0.007850</td>\n",
              "      <td>0.015362</td>\n",
              "      <td>0.003081</td>\n",
              "      <td>0.013513</td>\n",
              "      <td>0.020395</td>\n",
              "      <td>0.030949</td>\n",
              "      <td>0.003173</td>\n",
              "      <td>0.012893</td>\n",
              "      <td>0.006347</td>\n",
              "      <td>0.027082</td>\n",
              "      <td>-0.001666</td>\n",
              "      <td>0.014773</td>\n",
              "      <td>-0.002101</td>\n",
              "      <td>0.017713</td>\n",
              "      <td>0.002922</td>\n",
              "      <td>0.004339</td>\n",
              "      <td>0.002740</td>\n",
              "      <td>0.002842</td>\n",
              "      <td>-0.001665</td>\n",
              "      <td>0.003246</td>\n",
              "      <td>0.000590</td>\n",
              "      <td>0.001074</td>\n",
              "    </tr>\n",
              "    <tr>\n",
              "      <th>...</th>\n",
              "      <td>...</td>\n",
              "      <td>...</td>\n",
              "      <td>...</td>\n",
              "      <td>...</td>\n",
              "      <td>...</td>\n",
              "      <td>...</td>\n",
              "      <td>...</td>\n",
              "      <td>...</td>\n",
              "      <td>...</td>\n",
              "      <td>...</td>\n",
              "      <td>...</td>\n",
              "      <td>...</td>\n",
              "      <td>...</td>\n",
              "      <td>...</td>\n",
              "      <td>...</td>\n",
              "      <td>...</td>\n",
              "      <td>...</td>\n",
              "      <td>...</td>\n",
              "      <td>...</td>\n",
              "      <td>...</td>\n",
              "      <td>...</td>\n",
              "      <td>...</td>\n",
              "      <td>...</td>\n",
              "      <td>...</td>\n",
              "      <td>...</td>\n",
              "      <td>...</td>\n",
              "      <td>...</td>\n",
              "      <td>...</td>\n",
              "      <td>...</td>\n",
              "      <td>...</td>\n",
              "      <td>...</td>\n",
              "      <td>...</td>\n",
              "      <td>...</td>\n",
              "      <td>...</td>\n",
              "      <td>...</td>\n",
              "      <td>...</td>\n",
              "      <td>...</td>\n",
              "      <td>...</td>\n",
              "      <td>...</td>\n",
              "      <td>...</td>\n",
              "      <td>...</td>\n",
              "      <td>...</td>\n",
              "      <td>...</td>\n",
              "      <td>...</td>\n",
              "      <td>...</td>\n",
              "      <td>...</td>\n",
              "      <td>...</td>\n",
              "      <td>...</td>\n",
              "      <td>...</td>\n",
              "      <td>...</td>\n",
              "      <td>...</td>\n",
              "      <td>...</td>\n",
              "      <td>...</td>\n",
              "      <td>...</td>\n",
              "      <td>...</td>\n",
              "      <td>...</td>\n",
              "      <td>...</td>\n",
              "      <td>...</td>\n",
              "      <td>...</td>\n",
              "      <td>...</td>\n",
              "      <td>...</td>\n",
              "      <td>...</td>\n",
              "      <td>...</td>\n",
              "      <td>...</td>\n",
              "      <td>...</td>\n",
              "      <td>...</td>\n",
              "      <td>...</td>\n",
              "      <td>...</td>\n",
              "      <td>...</td>\n",
              "      <td>...</td>\n",
              "      <td>...</td>\n",
              "      <td>...</td>\n",
              "      <td>...</td>\n",
              "      <td>...</td>\n",
              "      <td>...</td>\n",
              "      <td>...</td>\n",
              "      <td>...</td>\n",
              "      <td>...</td>\n",
              "      <td>...</td>\n",
              "      <td>...</td>\n",
              "      <td>...</td>\n",
              "    </tr>\n",
              "    <tr>\n",
              "      <th>83861</th>\n",
              "      <td>-0.000292</td>\n",
              "      <td>0.000500</td>\n",
              "      <td>0.004690</td>\n",
              "      <td>0.005379</td>\n",
              "      <td>-0.007298</td>\n",
              "      <td>0.008114</td>\n",
              "      <td>-0.000959</td>\n",
              "      <td>0.002544</td>\n",
              "      <td>0.004122</td>\n",
              "      <td>0.007659</td>\n",
              "      <td>0.004159</td>\n",
              "      <td>0.005890</td>\n",
              "      <td>0.013664</td>\n",
              "      <td>0.023057</td>\n",
              "      <td>0.006807</td>\n",
              "      <td>0.013827</td>\n",
              "      <td>-0.010198</td>\n",
              "      <td>0.040852</td>\n",
              "      <td>0.010779</td>\n",
              "      <td>0.013722</td>\n",
              "      <td>-0.001742</td>\n",
              "      <td>0.007658</td>\n",
              "      <td>0.004636</td>\n",
              "      <td>0.006841</td>\n",
              "      <td>-0.000487</td>\n",
              "      <td>0.000992</td>\n",
              "      <td>-0.000977</td>\n",
              "      <td>0.001576</td>\n",
              "      <td>0.000013</td>\n",
              "      <td>0.000341</td>\n",
              "      <td>0.001161</td>\n",
              "      <td>0.002577</td>\n",
              "      <td>-0.018468</td>\n",
              "      <td>0.024077</td>\n",
              "      <td>0.007198</td>\n",
              "      <td>0.007198</td>\n",
              "      <td>-0.005601</td>\n",
              "      <td>0.014326</td>\n",
              "      <td>0.085728</td>\n",
              "      <td>0.085728</td>\n",
              "      <td>...</td>\n",
              "      <td>-0.005460</td>\n",
              "      <td>0.014682</td>\n",
              "      <td>-0.020344</td>\n",
              "      <td>0.023004</td>\n",
              "      <td>0.012320</td>\n",
              "      <td>0.012615</td>\n",
              "      <td>0.013377</td>\n",
              "      <td>0.031200</td>\n",
              "      <td>-0.001086</td>\n",
              "      <td>0.001279</td>\n",
              "      <td>-0.000440</td>\n",
              "      <td>0.000440</td>\n",
              "      <td>0.000761</td>\n",
              "      <td>0.000761</td>\n",
              "      <td>0.002180</td>\n",
              "      <td>0.003737</td>\n",
              "      <td>-0.002725</td>\n",
              "      <td>0.014472</td>\n",
              "      <td>0.000854</td>\n",
              "      <td>0.000854</td>\n",
              "      <td>0.012879</td>\n",
              "      <td>0.013306</td>\n",
              "      <td>0.008201</td>\n",
              "      <td>0.008201</td>\n",
              "      <td>0.000260</td>\n",
              "      <td>0.025161</td>\n",
              "      <td>0.005096</td>\n",
              "      <td>0.009384</td>\n",
              "      <td>0.009394</td>\n",
              "      <td>0.014457</td>\n",
              "      <td>0.019211</td>\n",
              "      <td>0.019885</td>\n",
              "      <td>0.001011</td>\n",
              "      <td>0.001411</td>\n",
              "      <td>0.000101</td>\n",
              "      <td>0.000108</td>\n",
              "      <td>-0.000005</td>\n",
              "      <td>0.000254</td>\n",
              "      <td>0.000103</td>\n",
              "      <td>0.000106</td>\n",
              "    </tr>\n",
              "    <tr>\n",
              "      <th>83862</th>\n",
              "      <td>-0.000052</td>\n",
              "      <td>0.000403</td>\n",
              "      <td>-0.000082</td>\n",
              "      <td>0.002693</td>\n",
              "      <td>-0.009983</td>\n",
              "      <td>0.010326</td>\n",
              "      <td>-0.013970</td>\n",
              "      <td>0.014693</td>\n",
              "      <td>-0.005430</td>\n",
              "      <td>0.025840</td>\n",
              "      <td>0.037531</td>\n",
              "      <td>0.084712</td>\n",
              "      <td>-0.072869</td>\n",
              "      <td>0.076818</td>\n",
              "      <td>-0.024978</td>\n",
              "      <td>0.046287</td>\n",
              "      <td>-0.002061</td>\n",
              "      <td>0.039754</td>\n",
              "      <td>-0.040729</td>\n",
              "      <td>0.074315</td>\n",
              "      <td>-0.030717</td>\n",
              "      <td>0.045120</td>\n",
              "      <td>-0.035442</td>\n",
              "      <td>0.053761</td>\n",
              "      <td>0.001047</td>\n",
              "      <td>0.019461</td>\n",
              "      <td>-0.000726</td>\n",
              "      <td>0.003694</td>\n",
              "      <td>0.002449</td>\n",
              "      <td>0.004834</td>\n",
              "      <td>0.003301</td>\n",
              "      <td>0.004270</td>\n",
              "      <td>-0.007582</td>\n",
              "      <td>0.014470</td>\n",
              "      <td>-0.007915</td>\n",
              "      <td>0.010451</td>\n",
              "      <td>-0.000188</td>\n",
              "      <td>0.005108</td>\n",
              "      <td>0.000906</td>\n",
              "      <td>0.014807</td>\n",
              "      <td>...</td>\n",
              "      <td>-0.027109</td>\n",
              "      <td>0.051549</td>\n",
              "      <td>0.037629</td>\n",
              "      <td>0.046394</td>\n",
              "      <td>-0.001775</td>\n",
              "      <td>0.036612</td>\n",
              "      <td>0.011856</td>\n",
              "      <td>0.018468</td>\n",
              "      <td>-0.001635</td>\n",
              "      <td>0.003745</td>\n",
              "      <td>-0.000039</td>\n",
              "      <td>0.000039</td>\n",
              "      <td>0.003278</td>\n",
              "      <td>0.003278</td>\n",
              "      <td>0.004004</td>\n",
              "      <td>0.004389</td>\n",
              "      <td>0.041270</td>\n",
              "      <td>0.053064</td>\n",
              "      <td>-0.002693</td>\n",
              "      <td>0.009465</td>\n",
              "      <td>0.058088</td>\n",
              "      <td>0.066341</td>\n",
              "      <td>0.000056</td>\n",
              "      <td>0.024599</td>\n",
              "      <td>-0.002440</td>\n",
              "      <td>0.016983</td>\n",
              "      <td>-0.001581</td>\n",
              "      <td>0.060980</td>\n",
              "      <td>-0.031123</td>\n",
              "      <td>0.044570</td>\n",
              "      <td>-0.022653</td>\n",
              "      <td>0.034982</td>\n",
              "      <td>0.003480</td>\n",
              "      <td>0.010592</td>\n",
              "      <td>-0.007744</td>\n",
              "      <td>0.009353</td>\n",
              "      <td>0.004365</td>\n",
              "      <td>0.005363</td>\n",
              "      <td>-0.002587</td>\n",
              "      <td>0.010833</td>\n",
              "    </tr>\n",
              "    <tr>\n",
              "      <th>83863</th>\n",
              "      <td>-0.000073</td>\n",
              "      <td>0.001454</td>\n",
              "      <td>-0.001764</td>\n",
              "      <td>0.003893</td>\n",
              "      <td>-0.000378</td>\n",
              "      <td>0.000594</td>\n",
              "      <td>-0.001158</td>\n",
              "      <td>0.001407</td>\n",
              "      <td>0.050635</td>\n",
              "      <td>0.058269</td>\n",
              "      <td>-0.007641</td>\n",
              "      <td>0.021884</td>\n",
              "      <td>0.010673</td>\n",
              "      <td>0.018631</td>\n",
              "      <td>-0.004017</td>\n",
              "      <td>0.005345</td>\n",
              "      <td>0.028484</td>\n",
              "      <td>0.029202</td>\n",
              "      <td>0.006810</td>\n",
              "      <td>0.007011</td>\n",
              "      <td>0.011377</td>\n",
              "      <td>0.015764</td>\n",
              "      <td>0.001333</td>\n",
              "      <td>0.001399</td>\n",
              "      <td>0.000316</td>\n",
              "      <td>0.000497</td>\n",
              "      <td>0.000051</td>\n",
              "      <td>0.000138</td>\n",
              "      <td>0.001407</td>\n",
              "      <td>0.001519</td>\n",
              "      <td>0.000724</td>\n",
              "      <td>0.000812</td>\n",
              "      <td>-0.033916</td>\n",
              "      <td>0.044241</td>\n",
              "      <td>-0.048900</td>\n",
              "      <td>0.058609</td>\n",
              "      <td>-0.001236</td>\n",
              "      <td>0.004703</td>\n",
              "      <td>-0.003009</td>\n",
              "      <td>0.007929</td>\n",
              "      <td>...</td>\n",
              "      <td>-0.001071</td>\n",
              "      <td>0.003716</td>\n",
              "      <td>0.004432</td>\n",
              "      <td>0.004432</td>\n",
              "      <td>-0.029804</td>\n",
              "      <td>0.037177</td>\n",
              "      <td>0.011789</td>\n",
              "      <td>0.011789</td>\n",
              "      <td>0.000638</td>\n",
              "      <td>0.000638</td>\n",
              "      <td>-0.008128</td>\n",
              "      <td>0.009501</td>\n",
              "      <td>0.000026</td>\n",
              "      <td>0.000647</td>\n",
              "      <td>-0.002292</td>\n",
              "      <td>0.002292</td>\n",
              "      <td>0.053722</td>\n",
              "      <td>0.056318</td>\n",
              "      <td>0.000334</td>\n",
              "      <td>0.005744</td>\n",
              "      <td>0.011236</td>\n",
              "      <td>0.013347</td>\n",
              "      <td>-0.000511</td>\n",
              "      <td>0.001080</td>\n",
              "      <td>0.010325</td>\n",
              "      <td>0.012588</td>\n",
              "      <td>0.001391</td>\n",
              "      <td>0.001391</td>\n",
              "      <td>0.001915</td>\n",
              "      <td>0.004053</td>\n",
              "      <td>0.001182</td>\n",
              "      <td>0.001182</td>\n",
              "      <td>0.000571</td>\n",
              "      <td>0.000919</td>\n",
              "      <td>0.000124</td>\n",
              "      <td>0.000165</td>\n",
              "      <td>0.000269</td>\n",
              "      <td>0.000415</td>\n",
              "      <td>0.000056</td>\n",
              "      <td>0.000089</td>\n",
              "    </tr>\n",
              "    <tr>\n",
              "      <th>83864</th>\n",
              "      <td>0.000004</td>\n",
              "      <td>0.000007</td>\n",
              "      <td>0.028404</td>\n",
              "      <td>0.028545</td>\n",
              "      <td>-0.009795</td>\n",
              "      <td>0.009795</td>\n",
              "      <td>-0.000069</td>\n",
              "      <td>0.000073</td>\n",
              "      <td>-0.003619</td>\n",
              "      <td>0.006336</td>\n",
              "      <td>-0.004555</td>\n",
              "      <td>0.033842</td>\n",
              "      <td>-0.005651</td>\n",
              "      <td>0.006607</td>\n",
              "      <td>-0.001430</td>\n",
              "      <td>0.002317</td>\n",
              "      <td>0.016201</td>\n",
              "      <td>0.043349</td>\n",
              "      <td>0.004575</td>\n",
              "      <td>0.025248</td>\n",
              "      <td>0.000046</td>\n",
              "      <td>0.000745</td>\n",
              "      <td>-0.000194</td>\n",
              "      <td>0.001748</td>\n",
              "      <td>-0.001094</td>\n",
              "      <td>0.001174</td>\n",
              "      <td>-0.000378</td>\n",
              "      <td>0.001018</td>\n",
              "      <td>0.000013</td>\n",
              "      <td>0.000347</td>\n",
              "      <td>0.000025</td>\n",
              "      <td>0.000112</td>\n",
              "      <td>-0.001989</td>\n",
              "      <td>0.032222</td>\n",
              "      <td>0.044136</td>\n",
              "      <td>0.048268</td>\n",
              "      <td>-0.000810</td>\n",
              "      <td>0.022151</td>\n",
              "      <td>0.011049</td>\n",
              "      <td>0.012714</td>\n",
              "      <td>...</td>\n",
              "      <td>-0.003239</td>\n",
              "      <td>0.006339</td>\n",
              "      <td>-0.002970</td>\n",
              "      <td>0.007674</td>\n",
              "      <td>-0.001176</td>\n",
              "      <td>0.001942</td>\n",
              "      <td>-0.000470</td>\n",
              "      <td>0.002071</td>\n",
              "      <td>0.001961</td>\n",
              "      <td>0.003785</td>\n",
              "      <td>-0.000132</td>\n",
              "      <td>0.002127</td>\n",
              "      <td>0.000853</td>\n",
              "      <td>0.001242</td>\n",
              "      <td>-0.000199</td>\n",
              "      <td>0.001476</td>\n",
              "      <td>0.027220</td>\n",
              "      <td>0.044057</td>\n",
              "      <td>0.001561</td>\n",
              "      <td>0.037906</td>\n",
              "      <td>-0.000370</td>\n",
              "      <td>0.001430</td>\n",
              "      <td>-0.003746</td>\n",
              "      <td>0.005209</td>\n",
              "      <td>0.002968</td>\n",
              "      <td>0.022719</td>\n",
              "      <td>0.015750</td>\n",
              "      <td>0.032058</td>\n",
              "      <td>-0.002309</td>\n",
              "      <td>0.013073</td>\n",
              "      <td>-0.000389</td>\n",
              "      <td>0.014094</td>\n",
              "      <td>0.000016</td>\n",
              "      <td>0.000811</td>\n",
              "      <td>0.000412</td>\n",
              "      <td>0.001317</td>\n",
              "      <td>-0.000758</td>\n",
              "      <td>0.004408</td>\n",
              "      <td>0.000021</td>\n",
              "      <td>0.000789</td>\n",
              "    </tr>\n",
              "    <tr>\n",
              "      <th>83865</th>\n",
              "      <td>0.000104</td>\n",
              "      <td>0.000346</td>\n",
              "      <td>-0.000390</td>\n",
              "      <td>0.001283</td>\n",
              "      <td>-0.001074</td>\n",
              "      <td>0.001356</td>\n",
              "      <td>-0.000320</td>\n",
              "      <td>0.000850</td>\n",
              "      <td>0.012516</td>\n",
              "      <td>0.013242</td>\n",
              "      <td>0.007671</td>\n",
              "      <td>0.007845</td>\n",
              "      <td>-0.004317</td>\n",
              "      <td>0.011425</td>\n",
              "      <td>-0.001036</td>\n",
              "      <td>0.001575</td>\n",
              "      <td>0.061700</td>\n",
              "      <td>0.062840</td>\n",
              "      <td>0.015178</td>\n",
              "      <td>0.015178</td>\n",
              "      <td>0.007482</td>\n",
              "      <td>0.010998</td>\n",
              "      <td>0.000181</td>\n",
              "      <td>0.000181</td>\n",
              "      <td>-0.002104</td>\n",
              "      <td>0.006705</td>\n",
              "      <td>0.000386</td>\n",
              "      <td>0.000386</td>\n",
              "      <td>0.000465</td>\n",
              "      <td>0.001198</td>\n",
              "      <td>0.002717</td>\n",
              "      <td>0.002717</td>\n",
              "      <td>-0.008909</td>\n",
              "      <td>0.009746</td>\n",
              "      <td>-0.000466</td>\n",
              "      <td>0.000466</td>\n",
              "      <td>0.001577</td>\n",
              "      <td>0.001577</td>\n",
              "      <td>0.008740</td>\n",
              "      <td>0.009755</td>\n",
              "      <td>...</td>\n",
              "      <td>-0.025189</td>\n",
              "      <td>0.025189</td>\n",
              "      <td>0.011936</td>\n",
              "      <td>0.021631</td>\n",
              "      <td>-0.014473</td>\n",
              "      <td>0.014473</td>\n",
              "      <td>0.028590</td>\n",
              "      <td>0.031416</td>\n",
              "      <td>-0.001180</td>\n",
              "      <td>0.001931</td>\n",
              "      <td>0.000118</td>\n",
              "      <td>0.000118</td>\n",
              "      <td>0.001551</td>\n",
              "      <td>0.001607</td>\n",
              "      <td>0.001216</td>\n",
              "      <td>0.001216</td>\n",
              "      <td>0.046538</td>\n",
              "      <td>0.063066</td>\n",
              "      <td>-0.017208</td>\n",
              "      <td>0.017672</td>\n",
              "      <td>0.053552</td>\n",
              "      <td>0.054945</td>\n",
              "      <td>-0.010779</td>\n",
              "      <td>0.015549</td>\n",
              "      <td>0.021063</td>\n",
              "      <td>0.030022</td>\n",
              "      <td>0.015774</td>\n",
              "      <td>0.041192</td>\n",
              "      <td>-0.005950</td>\n",
              "      <td>0.024833</td>\n",
              "      <td>-0.010555</td>\n",
              "      <td>0.016933</td>\n",
              "      <td>-0.017122</td>\n",
              "      <td>0.021791</td>\n",
              "      <td>0.000691</td>\n",
              "      <td>0.004033</td>\n",
              "      <td>-0.001078</td>\n",
              "      <td>0.001217</td>\n",
              "      <td>0.009411</td>\n",
              "      <td>0.010914</td>\n",
              "    </tr>\n",
              "  </tbody>\n",
              "</table>\n",
              "<p>83866 rows × 128 columns</p>\n",
              "</div>"
            ],
            "text/plain": [
              "            0         1         2    ...       125       126       127\n",
              "0     -0.000467  0.000541 -0.000916  ...  0.001284  0.001272  0.001681\n",
              "1     -0.000064  0.000116  0.000102  ...  0.000047  0.000011  0.000011\n",
              "2     -0.005359  0.005522  0.000062  ...  0.000135  0.000275  0.000283\n",
              "3     -0.000628  0.000679 -0.001923  ...  0.000062  0.000078  0.000089\n",
              "4     -0.000752  0.001523 -0.002438  ...  0.003246  0.000590  0.001074\n",
              "...         ...       ...       ...  ...       ...       ...       ...\n",
              "83861 -0.000292  0.000500  0.004690  ...  0.000254  0.000103  0.000106\n",
              "83862 -0.000052  0.000403 -0.000082  ...  0.005363 -0.002587  0.010833\n",
              "83863 -0.000073  0.001454 -0.001764  ...  0.000415  0.000056  0.000089\n",
              "83864  0.000004  0.000007  0.028404  ...  0.004408  0.000021  0.000789\n",
              "83865  0.000104  0.000346 -0.000390  ...  0.001217  0.009411  0.010914\n",
              "\n",
              "[83866 rows x 128 columns]"
            ]
          },
          "metadata": {
            "tags": []
          },
          "execution_count": 38
        }
      ]
    },
    {
      "cell_type": "code",
      "metadata": {
        "colab": {
          "base_uri": "https://localhost:8080/"
        },
        "id": "B_GlZN55RpvW",
        "outputId": "9dfe9cef-5fc8-439f-fcd5-99fe00984cd7"
      },
      "source": [
        "from sklearn.model_selection import train_test_split\n",
        "\n",
        "x_train, x_test = train_test_split(df, test_size=0.05, random_state=42)\n",
        "x_train.shape, x_test.shape"
      ],
      "execution_count": null,
      "outputs": [
        {
          "output_type": "execute_result",
          "data": {
            "text/plain": [
              "((79672, 128), (4194, 128))"
            ]
          },
          "metadata": {
            "tags": []
          },
          "execution_count": 41
        }
      ]
    },
    {
      "cell_type": "code",
      "metadata": {
        "id": "y0abJF1rQtm5"
      },
      "source": [
        "import keras\n",
        "from keras import layers\n",
        "from keras import regularizers\n",
        "\n",
        "# This is the size of our encoded representations\n",
        "encoding_dim = 32  # 20 floats -> compression of factor 6.4, assuming the input is 128 floats\n",
        "\n",
        "# This is our input image\n",
        "input = keras.Input(shape=(128,))\n",
        "# \"encoded\" is the encoded representation of the input\n",
        "encoded = layers.Dense(encoding_dim, activation='relu')(input)\n",
        "#encoded = layers.Dense(encoding_dim, activation='relu',\n",
        "#                activity_regularizer=regularizers.l1(10e-5))(input)\n",
        "encoded = layers.Dense(64, activation='relu')(encoded)\n",
        "encoded = layers.Dense(32, activation='relu')(encoded)\n",
        "\n",
        "# \"decoded\" is the lossy reconstruction of the input\n",
        "decoded = layers.Dense(32, activation='relu')(encoded)\n",
        "decoded = layers.Dense(64, activation='relu')(decoded)\n",
        "decoded = layers.Dense(128, activation='tanh')(decoded)\n",
        "\n",
        "# This model maps an input to its reconstruction\n",
        "autoencoder = keras.Model(input, decoded)\n",
        "\n",
        "# This model maps an input to its encoded representation\n",
        "encoder = keras.Model(input, encoded)\n",
        "\n",
        "autoencoder.compile(optimizer='adam', loss='mse', metrics=['accuracy', 'mse'])\n",
        "\n",
        "n = 100\n",
        "m = 256"
      ],
      "execution_count": null,
      "outputs": []
    },
    {
      "cell_type": "code",
      "metadata": {
        "colab": {
          "base_uri": "https://localhost:8080/"
        },
        "id": "FFt9C5tVRai1",
        "outputId": "be2fe3a9-1a79-4958-ef22-e3ed17d2bdd3"
      },
      "source": [
        "history = autoencoder.fit(x_train, x_train,\n",
        "                epochs=n,\n",
        "                batch_size=m,\n",
        "                shuffle=True,\n",
        "                validation_data=(x_test, x_test))"
      ],
      "execution_count": null,
      "outputs": [
        {
          "output_type": "stream",
          "text": [
            "Epoch 1/100\n",
            "312/312 [==============================] - 2s 6ms/step - loss: 0.0034 - accuracy: 0.2134 - mse: 0.0034 - val_loss: 0.0010 - val_accuracy: 0.4542 - val_mse: 0.0010\n",
            "Epoch 2/100\n",
            "312/312 [==============================] - 1s 4ms/step - loss: 8.7079e-04 - accuracy: 0.4878 - mse: 8.7079e-04 - val_loss: 6.7647e-04 - val_accuracy: 0.5620 - val_mse: 6.7647e-04\n",
            "Epoch 3/100\n",
            "312/312 [==============================] - 1s 4ms/step - loss: 6.2467e-04 - accuracy: 0.5757 - mse: 6.2467e-04 - val_loss: 5.6922e-04 - val_accuracy: 0.6006 - val_mse: 5.6922e-04\n",
            "Epoch 4/100\n",
            "312/312 [==============================] - 1s 4ms/step - loss: 5.4725e-04 - accuracy: 0.6110 - mse: 5.4725e-04 - val_loss: 5.2172e-04 - val_accuracy: 0.6361 - val_mse: 5.2172e-04\n",
            "Epoch 5/100\n",
            "312/312 [==============================] - 1s 4ms/step - loss: 4.9905e-04 - accuracy: 0.6445 - mse: 4.9905e-04 - val_loss: 4.7517e-04 - val_accuracy: 0.6662 - val_mse: 4.7517e-04\n",
            "Epoch 6/100\n",
            "312/312 [==============================] - 1s 4ms/step - loss: 4.5985e-04 - accuracy: 0.6659 - mse: 4.5985e-04 - val_loss: 4.4843e-04 - val_accuracy: 0.6822 - val_mse: 4.4843e-04\n",
            "Epoch 7/100\n",
            "312/312 [==============================] - 1s 4ms/step - loss: 4.3717e-04 - accuracy: 0.6850 - mse: 4.3717e-04 - val_loss: 4.2865e-04 - val_accuracy: 0.7003 - val_mse: 4.2865e-04\n",
            "Epoch 8/100\n",
            "312/312 [==============================] - 1s 4ms/step - loss: 4.1287e-04 - accuracy: 0.7004 - mse: 4.1287e-04 - val_loss: 4.0109e-04 - val_accuracy: 0.7196 - val_mse: 4.0109e-04\n",
            "Epoch 9/100\n",
            "312/312 [==============================] - 1s 4ms/step - loss: 3.8470e-04 - accuracy: 0.7223 - mse: 3.8470e-04 - val_loss: 3.7486e-04 - val_accuracy: 0.7322 - val_mse: 3.7486e-04\n",
            "Epoch 10/100\n",
            "312/312 [==============================] - 1s 4ms/step - loss: 3.6581e-04 - accuracy: 0.7344 - mse: 3.6581e-04 - val_loss: 3.6625e-04 - val_accuracy: 0.7415 - val_mse: 3.6625e-04\n",
            "Epoch 11/100\n",
            "312/312 [==============================] - 1s 4ms/step - loss: 3.5816e-04 - accuracy: 0.7427 - mse: 3.5816e-04 - val_loss: 3.6018e-04 - val_accuracy: 0.7449 - val_mse: 3.6018e-04\n",
            "Epoch 12/100\n",
            "312/312 [==============================] - 1s 4ms/step - loss: 3.5282e-04 - accuracy: 0.7483 - mse: 3.5282e-04 - val_loss: 3.5768e-04 - val_accuracy: 0.7470 - val_mse: 3.5768e-04\n",
            "Epoch 13/100\n",
            "312/312 [==============================] - 1s 4ms/step - loss: 3.5119e-04 - accuracy: 0.7501 - mse: 3.5119e-04 - val_loss: 3.5753e-04 - val_accuracy: 0.7537 - val_mse: 3.5753e-04\n",
            "Epoch 14/100\n",
            "312/312 [==============================] - 1s 4ms/step - loss: 3.4704e-04 - accuracy: 0.7574 - mse: 3.4704e-04 - val_loss: 3.5448e-04 - val_accuracy: 0.7561 - val_mse: 3.5448e-04\n",
            "Epoch 15/100\n",
            "312/312 [==============================] - 1s 4ms/step - loss: 3.4655e-04 - accuracy: 0.7602 - mse: 3.4655e-04 - val_loss: 3.5304e-04 - val_accuracy: 0.7642 - val_mse: 3.5304e-04\n",
            "Epoch 16/100\n",
            "312/312 [==============================] - 1s 4ms/step - loss: 3.4440e-04 - accuracy: 0.7670 - mse: 3.4440e-04 - val_loss: 3.5168e-04 - val_accuracy: 0.7659 - val_mse: 3.5168e-04\n",
            "Epoch 17/100\n",
            "312/312 [==============================] - 1s 4ms/step - loss: 3.4322e-04 - accuracy: 0.7704 - mse: 3.4322e-04 - val_loss: 3.5253e-04 - val_accuracy: 0.7637 - val_mse: 3.5253e-04\n",
            "Epoch 18/100\n",
            "312/312 [==============================] - 1s 4ms/step - loss: 3.4379e-04 - accuracy: 0.7723 - mse: 3.4379e-04 - val_loss: 3.5158e-04 - val_accuracy: 0.7632 - val_mse: 3.5158e-04\n",
            "Epoch 19/100\n",
            "312/312 [==============================] - 1s 4ms/step - loss: 3.4262e-04 - accuracy: 0.7732 - mse: 3.4262e-04 - val_loss: 3.5049e-04 - val_accuracy: 0.7711 - val_mse: 3.5049e-04\n",
            "Epoch 20/100\n",
            "312/312 [==============================] - 1s 4ms/step - loss: 3.4127e-04 - accuracy: 0.7787 - mse: 3.4127e-04 - val_loss: 3.5097e-04 - val_accuracy: 0.7744 - val_mse: 3.5097e-04\n",
            "Epoch 21/100\n",
            "312/312 [==============================] - 1s 4ms/step - loss: 3.4033e-04 - accuracy: 0.7764 - mse: 3.4033e-04 - val_loss: 3.4671e-04 - val_accuracy: 0.7728 - val_mse: 3.4671e-04\n",
            "Epoch 22/100\n",
            "312/312 [==============================] - 1s 4ms/step - loss: 3.3789e-04 - accuracy: 0.7762 - mse: 3.3789e-04 - val_loss: 3.4498e-04 - val_accuracy: 0.7763 - val_mse: 3.4498e-04\n",
            "Epoch 23/100\n",
            "312/312 [==============================] - 1s 4ms/step - loss: 3.3478e-04 - accuracy: 0.7817 - mse: 3.3478e-04 - val_loss: 3.4158e-04 - val_accuracy: 0.7804 - val_mse: 3.4158e-04\n",
            "Epoch 24/100\n",
            "312/312 [==============================] - 1s 4ms/step - loss: 3.3303e-04 - accuracy: 0.7826 - mse: 3.3303e-04 - val_loss: 3.4197e-04 - val_accuracy: 0.7814 - val_mse: 3.4197e-04\n",
            "Epoch 25/100\n",
            "312/312 [==============================] - 1s 4ms/step - loss: 3.2929e-04 - accuracy: 0.7844 - mse: 3.2929e-04 - val_loss: 3.3559e-04 - val_accuracy: 0.7792 - val_mse: 3.3559e-04\n",
            "Epoch 26/100\n",
            "312/312 [==============================] - 1s 4ms/step - loss: 3.2780e-04 - accuracy: 0.7857 - mse: 3.2780e-04 - val_loss: 3.3563e-04 - val_accuracy: 0.7780 - val_mse: 3.3563e-04\n",
            "Epoch 27/100\n",
            "312/312 [==============================] - 1s 5ms/step - loss: 3.2555e-04 - accuracy: 0.7861 - mse: 3.2555e-04 - val_loss: 3.3582e-04 - val_accuracy: 0.7775 - val_mse: 3.3582e-04\n",
            "Epoch 28/100\n",
            "312/312 [==============================] - 1s 4ms/step - loss: 3.2625e-04 - accuracy: 0.7886 - mse: 3.2625e-04 - val_loss: 3.3217e-04 - val_accuracy: 0.7847 - val_mse: 3.3217e-04\n",
            "Epoch 29/100\n",
            "312/312 [==============================] - 1s 4ms/step - loss: 3.2345e-04 - accuracy: 0.7903 - mse: 3.2345e-04 - val_loss: 3.3456e-04 - val_accuracy: 0.7909 - val_mse: 3.3456e-04\n",
            "Epoch 30/100\n",
            "312/312 [==============================] - 1s 4ms/step - loss: 3.2076e-04 - accuracy: 0.7930 - mse: 3.2076e-04 - val_loss: 3.3046e-04 - val_accuracy: 0.7837 - val_mse: 3.3046e-04\n",
            "Epoch 31/100\n",
            "312/312 [==============================] - 1s 4ms/step - loss: 3.2004e-04 - accuracy: 0.7932 - mse: 3.2004e-04 - val_loss: 3.3092e-04 - val_accuracy: 0.7861 - val_mse: 3.3092e-04\n",
            "Epoch 32/100\n",
            "312/312 [==============================] - 1s 4ms/step - loss: 3.2076e-04 - accuracy: 0.7930 - mse: 3.2076e-04 - val_loss: 3.2962e-04 - val_accuracy: 0.7849 - val_mse: 3.2962e-04\n",
            "Epoch 33/100\n",
            "312/312 [==============================] - 1s 4ms/step - loss: 3.1974e-04 - accuracy: 0.7965 - mse: 3.1974e-04 - val_loss: 3.2785e-04 - val_accuracy: 0.7918 - val_mse: 3.2785e-04\n",
            "Epoch 34/100\n",
            "312/312 [==============================] - 1s 4ms/step - loss: 3.1996e-04 - accuracy: 0.7963 - mse: 3.1996e-04 - val_loss: 3.2742e-04 - val_accuracy: 0.7947 - val_mse: 3.2742e-04\n",
            "Epoch 35/100\n",
            "312/312 [==============================] - 1s 4ms/step - loss: 3.1823e-04 - accuracy: 0.8027 - mse: 3.1823e-04 - val_loss: 3.2910e-04 - val_accuracy: 0.7952 - val_mse: 3.2910e-04\n",
            "Epoch 36/100\n",
            "312/312 [==============================] - 1s 4ms/step - loss: 3.1751e-04 - accuracy: 0.8022 - mse: 3.1751e-04 - val_loss: 3.2628e-04 - val_accuracy: 0.7947 - val_mse: 3.2628e-04\n",
            "Epoch 37/100\n",
            "312/312 [==============================] - 1s 4ms/step - loss: 3.1710e-04 - accuracy: 0.8034 - mse: 3.1710e-04 - val_loss: 3.2718e-04 - val_accuracy: 0.7957 - val_mse: 3.2718e-04\n",
            "Epoch 38/100\n",
            "312/312 [==============================] - 1s 4ms/step - loss: 3.1606e-04 - accuracy: 0.8033 - mse: 3.1606e-04 - val_loss: 3.2328e-04 - val_accuracy: 0.7966 - val_mse: 3.2328e-04\n",
            "Epoch 39/100\n",
            "312/312 [==============================] - 1s 4ms/step - loss: 3.1470e-04 - accuracy: 0.8069 - mse: 3.1470e-04 - val_loss: 3.2276e-04 - val_accuracy: 0.8002 - val_mse: 3.2276e-04\n",
            "Epoch 40/100\n",
            "312/312 [==============================] - 1s 4ms/step - loss: 3.1405e-04 - accuracy: 0.8067 - mse: 3.1405e-04 - val_loss: 3.2245e-04 - val_accuracy: 0.8011 - val_mse: 3.2245e-04\n",
            "Epoch 41/100\n",
            "312/312 [==============================] - 1s 4ms/step - loss: 3.1357e-04 - accuracy: 0.8083 - mse: 3.1357e-04 - val_loss: 3.2387e-04 - val_accuracy: 0.7971 - val_mse: 3.2387e-04\n",
            "Epoch 42/100\n",
            "312/312 [==============================] - 1s 4ms/step - loss: 3.1216e-04 - accuracy: 0.8100 - mse: 3.1216e-04 - val_loss: 3.2006e-04 - val_accuracy: 0.8007 - val_mse: 3.2006e-04\n",
            "Epoch 43/100\n",
            "312/312 [==============================] - 1s 4ms/step - loss: 3.1204e-04 - accuracy: 0.8090 - mse: 3.1204e-04 - val_loss: 3.2063e-04 - val_accuracy: 0.8016 - val_mse: 3.2063e-04\n",
            "Epoch 44/100\n",
            "312/312 [==============================] - 1s 4ms/step - loss: 3.1232e-04 - accuracy: 0.8096 - mse: 3.1232e-04 - val_loss: 3.2154e-04 - val_accuracy: 0.8009 - val_mse: 3.2154e-04\n",
            "Epoch 45/100\n",
            "312/312 [==============================] - 1s 4ms/step - loss: 3.1163e-04 - accuracy: 0.8111 - mse: 3.1163e-04 - val_loss: 3.1937e-04 - val_accuracy: 0.8054 - val_mse: 3.1937e-04\n",
            "Epoch 46/100\n",
            "312/312 [==============================] - 1s 4ms/step - loss: 3.1137e-04 - accuracy: 0.8101 - mse: 3.1137e-04 - val_loss: 3.1841e-04 - val_accuracy: 0.7995 - val_mse: 3.1841e-04\n",
            "Epoch 47/100\n",
            "312/312 [==============================] - 1s 4ms/step - loss: 3.1170e-04 - accuracy: 0.8128 - mse: 3.1170e-04 - val_loss: 3.1920e-04 - val_accuracy: 0.8045 - val_mse: 3.1920e-04\n",
            "Epoch 48/100\n",
            "312/312 [==============================] - 1s 4ms/step - loss: 3.0925e-04 - accuracy: 0.8115 - mse: 3.0925e-04 - val_loss: 3.1911e-04 - val_accuracy: 0.8031 - val_mse: 3.1911e-04\n",
            "Epoch 49/100\n",
            "312/312 [==============================] - 1s 4ms/step - loss: 3.1008e-04 - accuracy: 0.8117 - mse: 3.1008e-04 - val_loss: 3.1788e-04 - val_accuracy: 0.8000 - val_mse: 3.1788e-04\n",
            "Epoch 50/100\n",
            "312/312 [==============================] - 1s 4ms/step - loss: 3.0918e-04 - accuracy: 0.8086 - mse: 3.0918e-04 - val_loss: 3.1755e-04 - val_accuracy: 0.8023 - val_mse: 3.1755e-04\n",
            "Epoch 51/100\n",
            "312/312 [==============================] - 1s 4ms/step - loss: 3.0870e-04 - accuracy: 0.8102 - mse: 3.0870e-04 - val_loss: 3.1526e-04 - val_accuracy: 0.8062 - val_mse: 3.1526e-04\n",
            "Epoch 52/100\n",
            "312/312 [==============================] - 1s 4ms/step - loss: 3.0774e-04 - accuracy: 0.8104 - mse: 3.0774e-04 - val_loss: 3.1719e-04 - val_accuracy: 0.8019 - val_mse: 3.1719e-04\n",
            "Epoch 53/100\n",
            "312/312 [==============================] - 1s 4ms/step - loss: 3.0730e-04 - accuracy: 0.8095 - mse: 3.0730e-04 - val_loss: 3.1592e-04 - val_accuracy: 0.8038 - val_mse: 3.1592e-04\n",
            "Epoch 54/100\n",
            "312/312 [==============================] - 1s 4ms/step - loss: 3.0683e-04 - accuracy: 0.8113 - mse: 3.0683e-04 - val_loss: 3.1686e-04 - val_accuracy: 0.8040 - val_mse: 3.1686e-04\n",
            "Epoch 55/100\n",
            "312/312 [==============================] - 1s 4ms/step - loss: 3.0693e-04 - accuracy: 0.8127 - mse: 3.0693e-04 - val_loss: 3.1358e-04 - val_accuracy: 0.8050 - val_mse: 3.1358e-04\n",
            "Epoch 56/100\n",
            "312/312 [==============================] - 1s 4ms/step - loss: 3.0652e-04 - accuracy: 0.8128 - mse: 3.0652e-04 - val_loss: 3.1336e-04 - val_accuracy: 0.8047 - val_mse: 3.1336e-04\n",
            "Epoch 57/100\n",
            "312/312 [==============================] - 1s 4ms/step - loss: 3.0424e-04 - accuracy: 0.8126 - mse: 3.0424e-04 - val_loss: 3.1544e-04 - val_accuracy: 0.8035 - val_mse: 3.1544e-04\n",
            "Epoch 58/100\n",
            "312/312 [==============================] - 1s 4ms/step - loss: 3.0530e-04 - accuracy: 0.8122 - mse: 3.0530e-04 - val_loss: 3.1295e-04 - val_accuracy: 0.8026 - val_mse: 3.1295e-04\n",
            "Epoch 59/100\n",
            "312/312 [==============================] - 1s 4ms/step - loss: 3.0399e-04 - accuracy: 0.8127 - mse: 3.0399e-04 - val_loss: 3.0851e-04 - val_accuracy: 0.8085 - val_mse: 3.0851e-04\n",
            "Epoch 60/100\n",
            "312/312 [==============================] - 1s 4ms/step - loss: 2.9475e-04 - accuracy: 0.8180 - mse: 2.9475e-04 - val_loss: 2.9544e-04 - val_accuracy: 0.8147 - val_mse: 2.9544e-04\n",
            "Epoch 61/100\n",
            "312/312 [==============================] - 1s 4ms/step - loss: 2.8548e-04 - accuracy: 0.8218 - mse: 2.8548e-04 - val_loss: 2.9536e-04 - val_accuracy: 0.8152 - val_mse: 2.9536e-04\n",
            "Epoch 62/100\n",
            "312/312 [==============================] - 1s 4ms/step - loss: 2.8727e-04 - accuracy: 0.8233 - mse: 2.8727e-04 - val_loss: 2.9396e-04 - val_accuracy: 0.8197 - val_mse: 2.9396e-04\n",
            "Epoch 63/100\n",
            "312/312 [==============================] - 1s 4ms/step - loss: 2.8688e-04 - accuracy: 0.8211 - mse: 2.8688e-04 - val_loss: 2.9649e-04 - val_accuracy: 0.8200 - val_mse: 2.9649e-04\n",
            "Epoch 64/100\n",
            "312/312 [==============================] - 1s 4ms/step - loss: 2.8676e-04 - accuracy: 0.8217 - mse: 2.8676e-04 - val_loss: 2.9555e-04 - val_accuracy: 0.8140 - val_mse: 2.9555e-04\n",
            "Epoch 65/100\n",
            "312/312 [==============================] - 1s 4ms/step - loss: 2.8576e-04 - accuracy: 0.8197 - mse: 2.8576e-04 - val_loss: 2.9396e-04 - val_accuracy: 0.8197 - val_mse: 2.9396e-04\n",
            "Epoch 66/100\n",
            "312/312 [==============================] - 1s 4ms/step - loss: 2.8647e-04 - accuracy: 0.8211 - mse: 2.8647e-04 - val_loss: 2.9393e-04 - val_accuracy: 0.8164 - val_mse: 2.9393e-04\n",
            "Epoch 67/100\n",
            "312/312 [==============================] - 1s 4ms/step - loss: 2.8755e-04 - accuracy: 0.8224 - mse: 2.8755e-04 - val_loss: 2.9433e-04 - val_accuracy: 0.8150 - val_mse: 2.9433e-04\n",
            "Epoch 68/100\n",
            "312/312 [==============================] - 1s 4ms/step - loss: 2.8708e-04 - accuracy: 0.8221 - mse: 2.8708e-04 - val_loss: 2.9543e-04 - val_accuracy: 0.8176 - val_mse: 2.9543e-04\n",
            "Epoch 69/100\n",
            "312/312 [==============================] - 1s 4ms/step - loss: 2.8735e-04 - accuracy: 0.8210 - mse: 2.8735e-04 - val_loss: 2.9586e-04 - val_accuracy: 0.8197 - val_mse: 2.9586e-04\n",
            "Epoch 70/100\n",
            "312/312 [==============================] - 1s 4ms/step - loss: 2.8521e-04 - accuracy: 0.8203 - mse: 2.8521e-04 - val_loss: 2.9456e-04 - val_accuracy: 0.8183 - val_mse: 2.9456e-04\n",
            "Epoch 71/100\n",
            "312/312 [==============================] - 1s 4ms/step - loss: 2.8559e-04 - accuracy: 0.8194 - mse: 2.8559e-04 - val_loss: 2.9369e-04 - val_accuracy: 0.8102 - val_mse: 2.9369e-04\n",
            "Epoch 72/100\n",
            "312/312 [==============================] - 1s 4ms/step - loss: 2.8710e-04 - accuracy: 0.8193 - mse: 2.8710e-04 - val_loss: 2.9424e-04 - val_accuracy: 0.8155 - val_mse: 2.9424e-04\n",
            "Epoch 73/100\n",
            "312/312 [==============================] - 1s 4ms/step - loss: 2.8619e-04 - accuracy: 0.8226 - mse: 2.8619e-04 - val_loss: 2.9462e-04 - val_accuracy: 0.8093 - val_mse: 2.9462e-04\n",
            "Epoch 74/100\n",
            "312/312 [==============================] - 1s 4ms/step - loss: 2.8544e-04 - accuracy: 0.8189 - mse: 2.8544e-04 - val_loss: 2.9508e-04 - val_accuracy: 0.8169 - val_mse: 2.9508e-04\n",
            "Epoch 75/100\n",
            "312/312 [==============================] - 1s 4ms/step - loss: 2.8568e-04 - accuracy: 0.8189 - mse: 2.8568e-04 - val_loss: 2.9432e-04 - val_accuracy: 0.8124 - val_mse: 2.9432e-04\n",
            "Epoch 76/100\n",
            "312/312 [==============================] - 1s 4ms/step - loss: 2.8638e-04 - accuracy: 0.8211 - mse: 2.8638e-04 - val_loss: 2.9755e-04 - val_accuracy: 0.8143 - val_mse: 2.9755e-04\n",
            "Epoch 77/100\n",
            "312/312 [==============================] - 1s 4ms/step - loss: 2.8526e-04 - accuracy: 0.8197 - mse: 2.8526e-04 - val_loss: 2.9362e-04 - val_accuracy: 0.8162 - val_mse: 2.9362e-04\n",
            "Epoch 78/100\n",
            "312/312 [==============================] - 1s 4ms/step - loss: 2.8564e-04 - accuracy: 0.8186 - mse: 2.8564e-04 - val_loss: 2.9362e-04 - val_accuracy: 0.8116 - val_mse: 2.9362e-04\n",
            "Epoch 79/100\n",
            "312/312 [==============================] - 1s 4ms/step - loss: 2.8408e-04 - accuracy: 0.8220 - mse: 2.8408e-04 - val_loss: 2.9515e-04 - val_accuracy: 0.8138 - val_mse: 2.9515e-04\n",
            "Epoch 80/100\n",
            "312/312 [==============================] - 1s 4ms/step - loss: 2.8685e-04 - accuracy: 0.8193 - mse: 2.8685e-04 - val_loss: 2.9329e-04 - val_accuracy: 0.8119 - val_mse: 2.9329e-04\n",
            "Epoch 81/100\n",
            "312/312 [==============================] - 1s 4ms/step - loss: 2.8567e-04 - accuracy: 0.8186 - mse: 2.8567e-04 - val_loss: 2.9748e-04 - val_accuracy: 0.8119 - val_mse: 2.9748e-04\n",
            "Epoch 82/100\n",
            "312/312 [==============================] - 1s 4ms/step - loss: 2.8448e-04 - accuracy: 0.8228 - mse: 2.8448e-04 - val_loss: 2.9402e-04 - val_accuracy: 0.8066 - val_mse: 2.9402e-04\n",
            "Epoch 83/100\n",
            "312/312 [==============================] - 1s 4ms/step - loss: 2.8450e-04 - accuracy: 0.8176 - mse: 2.8450e-04 - val_loss: 2.9401e-04 - val_accuracy: 0.8081 - val_mse: 2.9401e-04\n",
            "Epoch 84/100\n",
            "312/312 [==============================] - 1s 5ms/step - loss: 2.8324e-04 - accuracy: 0.8203 - mse: 2.8324e-04 - val_loss: 2.9202e-04 - val_accuracy: 0.8112 - val_mse: 2.9202e-04\n",
            "Epoch 85/100\n",
            "312/312 [==============================] - 1s 4ms/step - loss: 2.8322e-04 - accuracy: 0.8195 - mse: 2.8322e-04 - val_loss: 2.9066e-04 - val_accuracy: 0.8109 - val_mse: 2.9066e-04\n",
            "Epoch 86/100\n",
            "312/312 [==============================] - 1s 4ms/step - loss: 2.8235e-04 - accuracy: 0.8206 - mse: 2.8235e-04 - val_loss: 2.9133e-04 - val_accuracy: 0.8119 - val_mse: 2.9133e-04\n",
            "Epoch 87/100\n",
            "312/312 [==============================] - 1s 4ms/step - loss: 2.8404e-04 - accuracy: 0.8189 - mse: 2.8404e-04 - val_loss: 2.9032e-04 - val_accuracy: 0.8116 - val_mse: 2.9032e-04\n",
            "Epoch 88/100\n",
            "312/312 [==============================] - 1s 4ms/step - loss: 2.8320e-04 - accuracy: 0.8203 - mse: 2.8320e-04 - val_loss: 2.9060e-04 - val_accuracy: 0.8109 - val_mse: 2.9060e-04\n",
            "Epoch 89/100\n",
            "312/312 [==============================] - 1s 4ms/step - loss: 2.8303e-04 - accuracy: 0.8200 - mse: 2.8303e-04 - val_loss: 2.9116e-04 - val_accuracy: 0.8085 - val_mse: 2.9116e-04\n",
            "Epoch 90/100\n",
            "312/312 [==============================] - 1s 4ms/step - loss: 2.8226e-04 - accuracy: 0.8190 - mse: 2.8226e-04 - val_loss: 2.9067e-04 - val_accuracy: 0.8135 - val_mse: 2.9067e-04\n",
            "Epoch 91/100\n",
            "312/312 [==============================] - 1s 4ms/step - loss: 2.8260e-04 - accuracy: 0.8175 - mse: 2.8260e-04 - val_loss: 2.8923e-04 - val_accuracy: 0.8076 - val_mse: 2.8923e-04\n",
            "Epoch 92/100\n",
            "312/312 [==============================] - 1s 4ms/step - loss: 2.8233e-04 - accuracy: 0.8209 - mse: 2.8233e-04 - val_loss: 2.8997e-04 - val_accuracy: 0.8083 - val_mse: 2.8997e-04\n",
            "Epoch 93/100\n",
            "312/312 [==============================] - 1s 4ms/step - loss: 2.8199e-04 - accuracy: 0.8202 - mse: 2.8199e-04 - val_loss: 2.9054e-04 - val_accuracy: 0.8088 - val_mse: 2.9054e-04\n",
            "Epoch 94/100\n",
            "312/312 [==============================] - 1s 4ms/step - loss: 2.8214e-04 - accuracy: 0.8175 - mse: 2.8214e-04 - val_loss: 2.9051e-04 - val_accuracy: 0.8078 - val_mse: 2.9051e-04\n",
            "Epoch 95/100\n",
            "312/312 [==============================] - 1s 4ms/step - loss: 2.8231e-04 - accuracy: 0.8176 - mse: 2.8231e-04 - val_loss: 2.8956e-04 - val_accuracy: 0.8124 - val_mse: 2.8956e-04\n",
            "Epoch 96/100\n",
            "312/312 [==============================] - 1s 4ms/step - loss: 2.8224e-04 - accuracy: 0.8164 - mse: 2.8224e-04 - val_loss: 2.8964e-04 - val_accuracy: 0.8114 - val_mse: 2.8964e-04\n",
            "Epoch 97/100\n",
            "312/312 [==============================] - 1s 4ms/step - loss: 2.8279e-04 - accuracy: 0.8182 - mse: 2.8279e-04 - val_loss: 2.8934e-04 - val_accuracy: 0.8112 - val_mse: 2.8934e-04\n",
            "Epoch 98/100\n",
            "312/312 [==============================] - 1s 4ms/step - loss: 2.8280e-04 - accuracy: 0.8153 - mse: 2.8280e-04 - val_loss: 2.8861e-04 - val_accuracy: 0.8090 - val_mse: 2.8861e-04\n",
            "Epoch 99/100\n",
            "312/312 [==============================] - 1s 4ms/step - loss: 2.8259e-04 - accuracy: 0.8168 - mse: 2.8259e-04 - val_loss: 2.8904e-04 - val_accuracy: 0.8104 - val_mse: 2.8904e-04\n",
            "Epoch 100/100\n",
            "312/312 [==============================] - 1s 4ms/step - loss: 2.8263e-04 - accuracy: 0.8162 - mse: 2.8263e-04 - val_loss: 2.8888e-04 - val_accuracy: 0.8071 - val_mse: 2.8888e-04\n"
          ],
          "name": "stdout"
        }
      ]
    },
    {
      "cell_type": "code",
      "metadata": {
        "colab": {
          "base_uri": "https://localhost:8080/",
          "height": 295
        },
        "id": "rRv2M3iyRfgq",
        "outputId": "f3a1e262-0adf-46c1-cdb1-e728dbd0977f"
      },
      "source": [
        "import matplotlib.pyplot as plt\n",
        "\n",
        "# summarize history for accuracy\n",
        "plt.plot(history.history['accuracy'])\n",
        "plt.plot(history.history['val_accuracy'])\n",
        "plt.title('model accuracy')\n",
        "plt.ylabel('accuracy')\n",
        "plt.xlabel('epoch')\n",
        "plt.legend(['train', 'test'], loc='upper left')\n",
        "plt.show()"
      ],
      "execution_count": null,
      "outputs": [
        {
          "output_type": "display_data",
          "data": {
            "image/png": "[encoded data removed]",
            "text/plain": [
              "<Figure size 432x288 with 1 Axes>"
            ]
          },
          "metadata": {
            "tags": []
          }
        }
      ]
    },
    {
      "cell_type": "code",
      "metadata": {
        "colab": {
          "base_uri": "https://localhost:8080/"
        },
        "id": "KArHxiosSMXA",
        "outputId": "7ea25238-f8b7-4920-bd3b-90f9c4306508"
      },
      "source": [
        "autoencoder.evaluate(fd, fd)"
      ],
      "execution_count": null,
      "outputs": [
        {
          "output_type": "stream",
          "text": [
            "8848/8848 [==============================] - 10s 1ms/step - loss: 3.1866e-04 - accuracy: 0.8040 - mse: 3.1866e-04\n"
          ],
          "name": "stdout"
        },
        {
          "output_type": "execute_result",
          "data": {
            "text/plain": [
              "[0.0003186619724147022, 0.8040301203727722, 0.0003186619724147022]"
            ]
          },
          "metadata": {
            "tags": []
          },
          "execution_count": 56
        }
      ]
    },
    {
      "cell_type": "markdown",
      "metadata": {
        "id": "yUTPvBX7EuUj"
      },
      "source": [
        "No, the previous model was better."
      ]
    },
    {
      "cell_type": "markdown",
      "metadata": {
        "id": "wX9Fa5LpW92u"
      },
      "source": [
        "## Testing on Tiso and Fountain"
      ]
    },
    {
      "cell_type": "markdown",
      "metadata": {
        "id": "jRuA_Jlc6fey"
      },
      "source": [
        "from keras.models import load_model\n",
        "\n",
        "upload the model from folder\n",
        "\n",
        "ae = load_model(\"autoencoder_model_100_noreg.h5\")\n",
        "\n",
        "usage: ae.predict(data)"
      ]
    },
    {
      "cell_type": "code",
      "metadata": {
        "id": "y7Adu9NfSWvI"
      },
      "source": [
        "from keras.models import load_model"
      ],
      "execution_count": null,
      "outputs": []
    },
    {
      "cell_type": "code",
      "metadata": {
        "id": "3gMAkIebXE2y"
      },
      "source": [
        "ae = load_model(\"autoencoder_model_100_noreg.h5\")"
      ],
      "execution_count": null,
      "outputs": []
    },
    {
      "cell_type": "code",
      "metadata": {
        "colab": {
          "base_uri": "https://localhost:8080/"
        },
        "id": "P0mGbxvSbBn5",
        "outputId": "842c7b30-5544-47ae-904c-1dfbc4dd47d6"
      },
      "source": [
        "ls"
      ],
      "execution_count": null,
      "outputs": [
        {
          "output_type": "stream",
          "text": [
            "autoencoder_model_100_noreg.h5  fountain_data02.csv  fountain_data08.csv\n",
            "fountain_data00.csv             fountain_data03.csv  fountain_data10.csv\n",
            "fountain_data01.csv             fountain_data04.csv  \u001b[0m\u001b[01;34msample_data\u001b[0m/\n"
          ],
          "name": "stdout"
        }
      ]
    },
    {
      "cell_type": "code",
      "metadata": {
        "id": "l73s7oJzvxFg"
      },
      "source": [
        "import glob\n",
        "import pandas as pd\n",
        "\n",
        "path = glob.glob(\"/content/*.csv\")\n",
        "csvs = []\n",
        "for file in path:\n",
        "    #print(file)\n",
        "    csvs.append(pd.read_csv(file, header=None))"
      ],
      "execution_count": null,
      "outputs": []
    },
    {
      "cell_type": "code",
      "metadata": {
        "colab": {
          "base_uri": "https://localhost:8080/",
          "height": 590
        },
        "id": "dNcQTNWa0m70",
        "outputId": "a483b334-974d-49c2-bcf9-43732cd6c250"
      },
      "source": [
        "csvs[-1]"
      ],
      "execution_count": null,
      "outputs": [
        {
          "output_type": "execute_result",
          "data": {
            "text/html": [
              "<div>\n",
              "<style scoped>\n",
              "    .dataframe tbody tr th:only-of-type {\n",
              "        vertical-align: middle;\n",
              "    }\n",
              "\n",
              "    .dataframe tbody tr th {\n",
              "        vertical-align: top;\n",
              "    }\n",
              "\n",
              "    .dataframe thead th {\n",
              "        text-align: right;\n",
              "    }\n",
              "</style>\n",
              "<table border=\"1\" class=\"dataframe\">\n",
              "  <thead>\n",
              "    <tr style=\"text-align: right;\">\n",
              "      <th></th>\n",
              "      <th>0</th>\n",
              "      <th>1</th>\n",
              "      <th>2</th>\n",
              "      <th>3</th>\n",
              "      <th>4</th>\n",
              "      <th>5</th>\n",
              "      <th>6</th>\n",
              "      <th>7</th>\n",
              "      <th>8</th>\n",
              "      <th>9</th>\n",
              "      <th>10</th>\n",
              "      <th>11</th>\n",
              "      <th>12</th>\n",
              "      <th>13</th>\n",
              "      <th>14</th>\n",
              "      <th>15</th>\n",
              "      <th>16</th>\n",
              "      <th>17</th>\n",
              "      <th>18</th>\n",
              "      <th>19</th>\n",
              "      <th>20</th>\n",
              "      <th>21</th>\n",
              "      <th>22</th>\n",
              "      <th>23</th>\n",
              "      <th>24</th>\n",
              "      <th>25</th>\n",
              "      <th>26</th>\n",
              "      <th>27</th>\n",
              "      <th>28</th>\n",
              "      <th>29</th>\n",
              "      <th>30</th>\n",
              "      <th>31</th>\n",
              "      <th>32</th>\n",
              "      <th>33</th>\n",
              "      <th>34</th>\n",
              "      <th>35</th>\n",
              "      <th>36</th>\n",
              "      <th>37</th>\n",
              "      <th>38</th>\n",
              "      <th>39</th>\n",
              "      <th>...</th>\n",
              "      <th>88</th>\n",
              "      <th>89</th>\n",
              "      <th>90</th>\n",
              "      <th>91</th>\n",
              "      <th>92</th>\n",
              "      <th>93</th>\n",
              "      <th>94</th>\n",
              "      <th>95</th>\n",
              "      <th>96</th>\n",
              "      <th>97</th>\n",
              "      <th>98</th>\n",
              "      <th>99</th>\n",
              "      <th>100</th>\n",
              "      <th>101</th>\n",
              "      <th>102</th>\n",
              "      <th>103</th>\n",
              "      <th>104</th>\n",
              "      <th>105</th>\n",
              "      <th>106</th>\n",
              "      <th>107</th>\n",
              "      <th>108</th>\n",
              "      <th>109</th>\n",
              "      <th>110</th>\n",
              "      <th>111</th>\n",
              "      <th>112</th>\n",
              "      <th>113</th>\n",
              "      <th>114</th>\n",
              "      <th>115</th>\n",
              "      <th>116</th>\n",
              "      <th>117</th>\n",
              "      <th>118</th>\n",
              "      <th>119</th>\n",
              "      <th>120</th>\n",
              "      <th>121</th>\n",
              "      <th>122</th>\n",
              "      <th>123</th>\n",
              "      <th>124</th>\n",
              "      <th>125</th>\n",
              "      <th>126</th>\n",
              "      <th>127</th>\n",
              "    </tr>\n",
              "  </thead>\n",
              "  <tbody>\n",
              "    <tr>\n",
              "      <th>0</th>\n",
              "      <td>0.000101</td>\n",
              "      <td>0.000120</td>\n",
              "      <td>-0.000038</td>\n",
              "      <td>0.000518</td>\n",
              "      <td>-0.000128</td>\n",
              "      <td>0.000312</td>\n",
              "      <td>-3.950989e-04</td>\n",
              "      <td>4.139157e-04</td>\n",
              "      <td>0.000386</td>\n",
              "      <td>0.001510</td>\n",
              "      <td>-0.000544</td>\n",
              "      <td>0.000824</td>\n",
              "      <td>0.002116</td>\n",
              "      <td>0.002833</td>\n",
              "      <td>0.000437</td>\n",
              "      <td>0.001439</td>\n",
              "      <td>0.013549</td>\n",
              "      <td>0.013678</td>\n",
              "      <td>-0.004287</td>\n",
              "      <td>0.004287</td>\n",
              "      <td>0.026493</td>\n",
              "      <td>0.026493</td>\n",
              "      <td>-0.004185</td>\n",
              "      <td>0.004549</td>\n",
              "      <td>0.000198</td>\n",
              "      <td>0.000618</td>\n",
              "      <td>-0.001107</td>\n",
              "      <td>0.001210</td>\n",
              "      <td>0.000509</td>\n",
              "      <td>0.000570</td>\n",
              "      <td>-1.205272e-03</td>\n",
              "      <td>0.001992</td>\n",
              "      <td>-0.000772</td>\n",
              "      <td>0.001308</td>\n",
              "      <td>-0.000075</td>\n",
              "      <td>0.000145</td>\n",
              "      <td>0.000449</td>\n",
              "      <td>0.000658</td>\n",
              "      <td>0.001329</td>\n",
              "      <td>0.001550</td>\n",
              "      <td>...</td>\n",
              "      <td>-0.010054</td>\n",
              "      <td>0.010589</td>\n",
              "      <td>-0.011047</td>\n",
              "      <td>0.011810</td>\n",
              "      <td>-0.000824</td>\n",
              "      <td>0.000876</td>\n",
              "      <td>0.002368</td>\n",
              "      <td>0.027778</td>\n",
              "      <td>0.000088</td>\n",
              "      <td>0.000095</td>\n",
              "      <td>0.000001</td>\n",
              "      <td>0.000001</td>\n",
              "      <td>0.000030</td>\n",
              "      <td>0.000075</td>\n",
              "      <td>0.000004</td>\n",
              "      <td>0.000004</td>\n",
              "      <td>0.000099</td>\n",
              "      <td>0.000163</td>\n",
              "      <td>0.008866</td>\n",
              "      <td>0.008947</td>\n",
              "      <td>-0.008519</td>\n",
              "      <td>0.008785</td>\n",
              "      <td>-0.000090</td>\n",
              "      <td>0.000154</td>\n",
              "      <td>-0.007973</td>\n",
              "      <td>0.008151</td>\n",
              "      <td>0.003038</td>\n",
              "      <td>0.009949</td>\n",
              "      <td>-0.004440</td>\n",
              "      <td>0.004735</td>\n",
              "      <td>0.010303</td>\n",
              "      <td>0.012336</td>\n",
              "      <td>0.001116</td>\n",
              "      <td>0.001295</td>\n",
              "      <td>0.000003</td>\n",
              "      <td>0.000040</td>\n",
              "      <td>0.001374</td>\n",
              "      <td>0.001421</td>\n",
              "      <td>0.000124</td>\n",
              "      <td>0.000129</td>\n",
              "    </tr>\n",
              "    <tr>\n",
              "      <th>1</th>\n",
              "      <td>0.000140</td>\n",
              "      <td>0.000147</td>\n",
              "      <td>0.000310</td>\n",
              "      <td>0.000310</td>\n",
              "      <td>-0.000214</td>\n",
              "      <td>0.000358</td>\n",
              "      <td>1.674278e-05</td>\n",
              "      <td>1.674278e-05</td>\n",
              "      <td>0.000680</td>\n",
              "      <td>0.007393</td>\n",
              "      <td>0.001139</td>\n",
              "      <td>0.016593</td>\n",
              "      <td>-0.002164</td>\n",
              "      <td>0.011232</td>\n",
              "      <td>-0.011131</td>\n",
              "      <td>0.011610</td>\n",
              "      <td>0.000171</td>\n",
              "      <td>0.004995</td>\n",
              "      <td>0.002274</td>\n",
              "      <td>0.005035</td>\n",
              "      <td>-0.005563</td>\n",
              "      <td>0.012290</td>\n",
              "      <td>-0.000694</td>\n",
              "      <td>0.009509</td>\n",
              "      <td>-0.000438</td>\n",
              "      <td>0.000503</td>\n",
              "      <td>0.000612</td>\n",
              "      <td>0.001807</td>\n",
              "      <td>-0.001175</td>\n",
              "      <td>0.001344</td>\n",
              "      <td>-5.496184e-04</td>\n",
              "      <td>0.001535</td>\n",
              "      <td>0.003038</td>\n",
              "      <td>0.003063</td>\n",
              "      <td>0.000880</td>\n",
              "      <td>0.000880</td>\n",
              "      <td>0.000789</td>\n",
              "      <td>0.001116</td>\n",
              "      <td>0.000012</td>\n",
              "      <td>0.000012</td>\n",
              "      <td>...</td>\n",
              "      <td>-0.042710</td>\n",
              "      <td>0.062531</td>\n",
              "      <td>-0.004615</td>\n",
              "      <td>0.029540</td>\n",
              "      <td>-0.009546</td>\n",
              "      <td>0.011897</td>\n",
              "      <td>0.016760</td>\n",
              "      <td>0.019127</td>\n",
              "      <td>0.000079</td>\n",
              "      <td>0.000100</td>\n",
              "      <td>-0.000006</td>\n",
              "      <td>0.000034</td>\n",
              "      <td>0.000060</td>\n",
              "      <td>0.000151</td>\n",
              "      <td>0.000003</td>\n",
              "      <td>0.000030</td>\n",
              "      <td>0.000318</td>\n",
              "      <td>0.000503</td>\n",
              "      <td>0.028957</td>\n",
              "      <td>0.029229</td>\n",
              "      <td>-0.002879</td>\n",
              "      <td>0.003324</td>\n",
              "      <td>-0.000236</td>\n",
              "      <td>0.000320</td>\n",
              "      <td>-0.025436</td>\n",
              "      <td>0.032043</td>\n",
              "      <td>0.003564</td>\n",
              "      <td>0.005150</td>\n",
              "      <td>-0.001625</td>\n",
              "      <td>0.004526</td>\n",
              "      <td>0.002924</td>\n",
              "      <td>0.003369</td>\n",
              "      <td>-0.003421</td>\n",
              "      <td>0.003425</td>\n",
              "      <td>0.012538</td>\n",
              "      <td>0.012605</td>\n",
              "      <td>-0.004758</td>\n",
              "      <td>0.004763</td>\n",
              "      <td>0.001003</td>\n",
              "      <td>0.001189</td>\n",
              "    </tr>\n",
              "    <tr>\n",
              "      <th>2</th>\n",
              "      <td>-0.000024</td>\n",
              "      <td>0.000046</td>\n",
              "      <td>0.000289</td>\n",
              "      <td>0.000422</td>\n",
              "      <td>-0.000215</td>\n",
              "      <td>0.000288</td>\n",
              "      <td>-1.138593e-04</td>\n",
              "      <td>1.918668e-04</td>\n",
              "      <td>0.034857</td>\n",
              "      <td>0.034949</td>\n",
              "      <td>0.011232</td>\n",
              "      <td>0.016532</td>\n",
              "      <td>0.025895</td>\n",
              "      <td>0.047529</td>\n",
              "      <td>-0.008132</td>\n",
              "      <td>0.008407</td>\n",
              "      <td>-0.031148</td>\n",
              "      <td>0.031148</td>\n",
              "      <td>-0.015125</td>\n",
              "      <td>0.015153</td>\n",
              "      <td>-0.000141</td>\n",
              "      <td>0.000141</td>\n",
              "      <td>0.023423</td>\n",
              "      <td>0.040433</td>\n",
              "      <td>-0.000216</td>\n",
              "      <td>0.000301</td>\n",
              "      <td>-0.000332</td>\n",
              "      <td>0.000519</td>\n",
              "      <td>-0.000209</td>\n",
              "      <td>0.000254</td>\n",
              "      <td>2.287308e-07</td>\n",
              "      <td>0.000434</td>\n",
              "      <td>0.000322</td>\n",
              "      <td>0.000583</td>\n",
              "      <td>0.000498</td>\n",
              "      <td>0.000930</td>\n",
              "      <td>-0.000354</td>\n",
              "      <td>0.000820</td>\n",
              "      <td>-0.000014</td>\n",
              "      <td>0.000237</td>\n",
              "      <td>...</td>\n",
              "      <td>0.001534</td>\n",
              "      <td>0.019214</td>\n",
              "      <td>-0.010423</td>\n",
              "      <td>0.019098</td>\n",
              "      <td>0.008063</td>\n",
              "      <td>0.015382</td>\n",
              "      <td>-0.004242</td>\n",
              "      <td>0.024119</td>\n",
              "      <td>0.000021</td>\n",
              "      <td>0.000021</td>\n",
              "      <td>-0.000150</td>\n",
              "      <td>0.000327</td>\n",
              "      <td>-0.001335</td>\n",
              "      <td>0.001350</td>\n",
              "      <td>-0.000831</td>\n",
              "      <td>0.000831</td>\n",
              "      <td>0.005553</td>\n",
              "      <td>0.005553</td>\n",
              "      <td>0.011482</td>\n",
              "      <td>0.015157</td>\n",
              "      <td>-0.017988</td>\n",
              "      <td>0.021582</td>\n",
              "      <td>-0.011049</td>\n",
              "      <td>0.011049</td>\n",
              "      <td>-0.000754</td>\n",
              "      <td>0.004814</td>\n",
              "      <td>0.010280</td>\n",
              "      <td>0.011232</td>\n",
              "      <td>-0.048449</td>\n",
              "      <td>0.052087</td>\n",
              "      <td>0.007253</td>\n",
              "      <td>0.014384</td>\n",
              "      <td>-0.001354</td>\n",
              "      <td>0.001355</td>\n",
              "      <td>-0.002829</td>\n",
              "      <td>0.002829</td>\n",
              "      <td>-0.000009</td>\n",
              "      <td>0.000010</td>\n",
              "      <td>-0.000294</td>\n",
              "      <td>0.008429</td>\n",
              "    </tr>\n",
              "    <tr>\n",
              "      <th>3</th>\n",
              "      <td>0.000800</td>\n",
              "      <td>0.000801</td>\n",
              "      <td>0.000002</td>\n",
              "      <td>0.000002</td>\n",
              "      <td>0.000444</td>\n",
              "      <td>0.000448</td>\n",
              "      <td>7.294392e-07</td>\n",
              "      <td>7.294392e-07</td>\n",
              "      <td>0.008927</td>\n",
              "      <td>0.050185</td>\n",
              "      <td>-0.005692</td>\n",
              "      <td>0.006728</td>\n",
              "      <td>0.021647</td>\n",
              "      <td>0.022583</td>\n",
              "      <td>0.014522</td>\n",
              "      <td>0.018052</td>\n",
              "      <td>0.003195</td>\n",
              "      <td>0.030826</td>\n",
              "      <td>-0.005400</td>\n",
              "      <td>0.007797</td>\n",
              "      <td>0.014611</td>\n",
              "      <td>0.018981</td>\n",
              "      <td>0.007774</td>\n",
              "      <td>0.013345</td>\n",
              "      <td>0.000594</td>\n",
              "      <td>0.002188</td>\n",
              "      <td>0.000941</td>\n",
              "      <td>0.002166</td>\n",
              "      <td>-0.000285</td>\n",
              "      <td>0.001557</td>\n",
              "      <td>3.140773e-04</td>\n",
              "      <td>0.000877</td>\n",
              "      <td>0.000858</td>\n",
              "      <td>0.000869</td>\n",
              "      <td>0.002850</td>\n",
              "      <td>0.002850</td>\n",
              "      <td>-0.001956</td>\n",
              "      <td>0.002244</td>\n",
              "      <td>0.000006</td>\n",
              "      <td>0.000006</td>\n",
              "      <td>...</td>\n",
              "      <td>-0.000211</td>\n",
              "      <td>0.002274</td>\n",
              "      <td>0.001173</td>\n",
              "      <td>0.001647</td>\n",
              "      <td>-0.000331</td>\n",
              "      <td>0.002182</td>\n",
              "      <td>0.000843</td>\n",
              "      <td>0.001318</td>\n",
              "      <td>0.000058</td>\n",
              "      <td>0.000074</td>\n",
              "      <td>0.000665</td>\n",
              "      <td>0.000690</td>\n",
              "      <td>-0.000184</td>\n",
              "      <td>0.000218</td>\n",
              "      <td>0.000005</td>\n",
              "      <td>0.000040</td>\n",
              "      <td>-0.000062</td>\n",
              "      <td>0.000062</td>\n",
              "      <td>-0.005845</td>\n",
              "      <td>0.019616</td>\n",
              "      <td>-0.006376</td>\n",
              "      <td>0.006376</td>\n",
              "      <td>-0.005368</td>\n",
              "      <td>0.005492</td>\n",
              "      <td>-0.014786</td>\n",
              "      <td>0.014812</td>\n",
              "      <td>0.034121</td>\n",
              "      <td>0.054908</td>\n",
              "      <td>-0.018844</td>\n",
              "      <td>0.018857</td>\n",
              "      <td>-0.006025</td>\n",
              "      <td>0.007034</td>\n",
              "      <td>-0.000210</td>\n",
              "      <td>0.000210</td>\n",
              "      <td>-0.000189</td>\n",
              "      <td>0.000295</td>\n",
              "      <td>-0.000113</td>\n",
              "      <td>0.000113</td>\n",
              "      <td>-0.000115</td>\n",
              "      <td>0.000270</td>\n",
              "    </tr>\n",
              "    <tr>\n",
              "      <th>4</th>\n",
              "      <td>-0.000005</td>\n",
              "      <td>0.000158</td>\n",
              "      <td>0.000309</td>\n",
              "      <td>0.000322</td>\n",
              "      <td>0.000013</td>\n",
              "      <td>0.000438</td>\n",
              "      <td>4.533712e-05</td>\n",
              "      <td>4.972497e-05</td>\n",
              "      <td>0.002556</td>\n",
              "      <td>0.004005</td>\n",
              "      <td>0.020257</td>\n",
              "      <td>0.023600</td>\n",
              "      <td>-0.005281</td>\n",
              "      <td>0.011165</td>\n",
              "      <td>-0.002710</td>\n",
              "      <td>0.003746</td>\n",
              "      <td>0.002406</td>\n",
              "      <td>0.007545</td>\n",
              "      <td>-0.001341</td>\n",
              "      <td>0.001910</td>\n",
              "      <td>0.002607</td>\n",
              "      <td>0.004112</td>\n",
              "      <td>0.007061</td>\n",
              "      <td>0.008684</td>\n",
              "      <td>-0.000999</td>\n",
              "      <td>0.003443</td>\n",
              "      <td>-0.000565</td>\n",
              "      <td>0.000565</td>\n",
              "      <td>0.000363</td>\n",
              "      <td>0.000363</td>\n",
              "      <td>1.588344e-03</td>\n",
              "      <td>0.001856</td>\n",
              "      <td>0.007707</td>\n",
              "      <td>0.007898</td>\n",
              "      <td>-0.006830</td>\n",
              "      <td>0.014020</td>\n",
              "      <td>0.009242</td>\n",
              "      <td>0.011120</td>\n",
              "      <td>-0.011377</td>\n",
              "      <td>0.011801</td>\n",
              "      <td>...</td>\n",
              "      <td>-0.000490</td>\n",
              "      <td>0.002068</td>\n",
              "      <td>-0.002059</td>\n",
              "      <td>0.006129</td>\n",
              "      <td>-0.001835</td>\n",
              "      <td>0.003272</td>\n",
              "      <td>-0.009412</td>\n",
              "      <td>0.010628</td>\n",
              "      <td>0.001147</td>\n",
              "      <td>0.001317</td>\n",
              "      <td>0.001234</td>\n",
              "      <td>0.002095</td>\n",
              "      <td>-0.000332</td>\n",
              "      <td>0.001577</td>\n",
              "      <td>-0.001286</td>\n",
              "      <td>0.001638</td>\n",
              "      <td>0.015440</td>\n",
              "      <td>0.019059</td>\n",
              "      <td>0.019144</td>\n",
              "      <td>0.023309</td>\n",
              "      <td>-0.008800</td>\n",
              "      <td>0.020293</td>\n",
              "      <td>-0.000973</td>\n",
              "      <td>0.008982</td>\n",
              "      <td>-0.001354</td>\n",
              "      <td>0.001354</td>\n",
              "      <td>-0.003479</td>\n",
              "      <td>0.035363</td>\n",
              "      <td>-0.025360</td>\n",
              "      <td>0.025360</td>\n",
              "      <td>-0.013097</td>\n",
              "      <td>0.014131</td>\n",
              "      <td>-0.000360</td>\n",
              "      <td>0.000394</td>\n",
              "      <td>0.002692</td>\n",
              "      <td>0.002873</td>\n",
              "      <td>-0.006390</td>\n",
              "      <td>0.006436</td>\n",
              "      <td>0.000220</td>\n",
              "      <td>0.000334</td>\n",
              "    </tr>\n",
              "    <tr>\n",
              "      <th>...</th>\n",
              "      <td>...</td>\n",
              "      <td>...</td>\n",
              "      <td>...</td>\n",
              "      <td>...</td>\n",
              "      <td>...</td>\n",
              "      <td>...</td>\n",
              "      <td>...</td>\n",
              "      <td>...</td>\n",
              "      <td>...</td>\n",
              "      <td>...</td>\n",
              "      <td>...</td>\n",
              "      <td>...</td>\n",
              "      <td>...</td>\n",
              "      <td>...</td>\n",
              "      <td>...</td>\n",
              "      <td>...</td>\n",
              "      <td>...</td>\n",
              "      <td>...</td>\n",
              "      <td>...</td>\n",
              "      <td>...</td>\n",
              "      <td>...</td>\n",
              "      <td>...</td>\n",
              "      <td>...</td>\n",
              "      <td>...</td>\n",
              "      <td>...</td>\n",
              "      <td>...</td>\n",
              "      <td>...</td>\n",
              "      <td>...</td>\n",
              "      <td>...</td>\n",
              "      <td>...</td>\n",
              "      <td>...</td>\n",
              "      <td>...</td>\n",
              "      <td>...</td>\n",
              "      <td>...</td>\n",
              "      <td>...</td>\n",
              "      <td>...</td>\n",
              "      <td>...</td>\n",
              "      <td>...</td>\n",
              "      <td>...</td>\n",
              "      <td>...</td>\n",
              "      <td>...</td>\n",
              "      <td>...</td>\n",
              "      <td>...</td>\n",
              "      <td>...</td>\n",
              "      <td>...</td>\n",
              "      <td>...</td>\n",
              "      <td>...</td>\n",
              "      <td>...</td>\n",
              "      <td>...</td>\n",
              "      <td>...</td>\n",
              "      <td>...</td>\n",
              "      <td>...</td>\n",
              "      <td>...</td>\n",
              "      <td>...</td>\n",
              "      <td>...</td>\n",
              "      <td>...</td>\n",
              "      <td>...</td>\n",
              "      <td>...</td>\n",
              "      <td>...</td>\n",
              "      <td>...</td>\n",
              "      <td>...</td>\n",
              "      <td>...</td>\n",
              "      <td>...</td>\n",
              "      <td>...</td>\n",
              "      <td>...</td>\n",
              "      <td>...</td>\n",
              "      <td>...</td>\n",
              "      <td>...</td>\n",
              "      <td>...</td>\n",
              "      <td>...</td>\n",
              "      <td>...</td>\n",
              "      <td>...</td>\n",
              "      <td>...</td>\n",
              "      <td>...</td>\n",
              "      <td>...</td>\n",
              "      <td>...</td>\n",
              "      <td>...</td>\n",
              "      <td>...</td>\n",
              "      <td>...</td>\n",
              "      <td>...</td>\n",
              "      <td>...</td>\n",
              "    </tr>\n",
              "    <tr>\n",
              "      <th>25808</th>\n",
              "      <td>0.002221</td>\n",
              "      <td>0.003812</td>\n",
              "      <td>0.003768</td>\n",
              "      <td>0.005082</td>\n",
              "      <td>-0.002548</td>\n",
              "      <td>0.006027</td>\n",
              "      <td>1.670452e-06</td>\n",
              "      <td>1.951501e-03</td>\n",
              "      <td>0.009635</td>\n",
              "      <td>0.032597</td>\n",
              "      <td>-0.001232</td>\n",
              "      <td>0.013891</td>\n",
              "      <td>0.023531</td>\n",
              "      <td>0.045951</td>\n",
              "      <td>-0.015510</td>\n",
              "      <td>0.025175</td>\n",
              "      <td>-0.010880</td>\n",
              "      <td>0.024897</td>\n",
              "      <td>-0.003483</td>\n",
              "      <td>0.039210</td>\n",
              "      <td>-0.017840</td>\n",
              "      <td>0.041899</td>\n",
              "      <td>0.015157</td>\n",
              "      <td>0.056952</td>\n",
              "      <td>0.001443</td>\n",
              "      <td>0.002965</td>\n",
              "      <td>0.001896</td>\n",
              "      <td>0.004070</td>\n",
              "      <td>-0.001822</td>\n",
              "      <td>0.008980</td>\n",
              "      <td>6.027808e-04</td>\n",
              "      <td>0.003810</td>\n",
              "      <td>-0.007303</td>\n",
              "      <td>0.035143</td>\n",
              "      <td>0.001281</td>\n",
              "      <td>0.036644</td>\n",
              "      <td>0.004168</td>\n",
              "      <td>0.063281</td>\n",
              "      <td>-0.012032</td>\n",
              "      <td>0.057270</td>\n",
              "      <td>...</td>\n",
              "      <td>-0.001307</td>\n",
              "      <td>0.030659</td>\n",
              "      <td>-0.000398</td>\n",
              "      <td>0.031415</td>\n",
              "      <td>-0.003371</td>\n",
              "      <td>0.033759</td>\n",
              "      <td>0.008425</td>\n",
              "      <td>0.029880</td>\n",
              "      <td>-0.000831</td>\n",
              "      <td>0.006488</td>\n",
              "      <td>0.002614</td>\n",
              "      <td>0.004811</td>\n",
              "      <td>0.002986</td>\n",
              "      <td>0.006157</td>\n",
              "      <td>0.004753</td>\n",
              "      <td>0.006346</td>\n",
              "      <td>-0.008006</td>\n",
              "      <td>0.042655</td>\n",
              "      <td>-0.009086</td>\n",
              "      <td>0.028669</td>\n",
              "      <td>0.009580</td>\n",
              "      <td>0.025662</td>\n",
              "      <td>0.038984</td>\n",
              "      <td>0.065976</td>\n",
              "      <td>-0.003999</td>\n",
              "      <td>0.055548</td>\n",
              "      <td>0.016827</td>\n",
              "      <td>0.020284</td>\n",
              "      <td>-0.019528</td>\n",
              "      <td>0.057783</td>\n",
              "      <td>0.046135</td>\n",
              "      <td>0.050959</td>\n",
              "      <td>0.001036</td>\n",
              "      <td>0.002842</td>\n",
              "      <td>0.001601</td>\n",
              "      <td>0.002742</td>\n",
              "      <td>-0.000210</td>\n",
              "      <td>0.006901</td>\n",
              "      <td>0.000287</td>\n",
              "      <td>0.005661</td>\n",
              "    </tr>\n",
              "    <tr>\n",
              "      <th>25809</th>\n",
              "      <td>-0.003199</td>\n",
              "      <td>0.004457</td>\n",
              "      <td>0.001429</td>\n",
              "      <td>0.007505</td>\n",
              "      <td>-0.000996</td>\n",
              "      <td>0.001140</td>\n",
              "      <td>-4.163079e-04</td>\n",
              "      <td>1.837652e-03</td>\n",
              "      <td>-0.018178</td>\n",
              "      <td>0.045039</td>\n",
              "      <td>0.015608</td>\n",
              "      <td>0.025428</td>\n",
              "      <td>-0.000366</td>\n",
              "      <td>0.009899</td>\n",
              "      <td>0.003060</td>\n",
              "      <td>0.008768</td>\n",
              "      <td>-0.023333</td>\n",
              "      <td>0.040278</td>\n",
              "      <td>0.039223</td>\n",
              "      <td>0.054261</td>\n",
              "      <td>-0.007821</td>\n",
              "      <td>0.010474</td>\n",
              "      <td>0.006000</td>\n",
              "      <td>0.011259</td>\n",
              "      <td>-0.001568</td>\n",
              "      <td>0.004746</td>\n",
              "      <td>-0.003311</td>\n",
              "      <td>0.008447</td>\n",
              "      <td>-0.000497</td>\n",
              "      <td>0.002183</td>\n",
              "      <td>-1.552672e-03</td>\n",
              "      <td>0.006713</td>\n",
              "      <td>-0.002172</td>\n",
              "      <td>0.021888</td>\n",
              "      <td>0.011914</td>\n",
              "      <td>0.015783</td>\n",
              "      <td>-0.018634</td>\n",
              "      <td>0.036179</td>\n",
              "      <td>0.009645</td>\n",
              "      <td>0.010656</td>\n",
              "      <td>...</td>\n",
              "      <td>-0.025230</td>\n",
              "      <td>0.034589</td>\n",
              "      <td>0.032945</td>\n",
              "      <td>0.060200</td>\n",
              "      <td>-0.004127</td>\n",
              "      <td>0.010909</td>\n",
              "      <td>0.004975</td>\n",
              "      <td>0.011143</td>\n",
              "      <td>-0.003109</td>\n",
              "      <td>0.005699</td>\n",
              "      <td>0.000813</td>\n",
              "      <td>0.003219</td>\n",
              "      <td>-0.000715</td>\n",
              "      <td>0.001210</td>\n",
              "      <td>0.001753</td>\n",
              "      <td>0.003457</td>\n",
              "      <td>0.006060</td>\n",
              "      <td>0.033987</td>\n",
              "      <td>-0.014179</td>\n",
              "      <td>0.016881</td>\n",
              "      <td>0.015289</td>\n",
              "      <td>0.022127</td>\n",
              "      <td>0.003523</td>\n",
              "      <td>0.021817</td>\n",
              "      <td>-0.010306</td>\n",
              "      <td>0.016482</td>\n",
              "      <td>0.022051</td>\n",
              "      <td>0.026893</td>\n",
              "      <td>-0.007430</td>\n",
              "      <td>0.008046</td>\n",
              "      <td>0.005519</td>\n",
              "      <td>0.007631</td>\n",
              "      <td>-0.002235</td>\n",
              "      <td>0.006139</td>\n",
              "      <td>-0.000503</td>\n",
              "      <td>0.005997</td>\n",
              "      <td>-0.000173</td>\n",
              "      <td>0.001998</td>\n",
              "      <td>0.001587</td>\n",
              "      <td>0.005663</td>\n",
              "    </tr>\n",
              "    <tr>\n",
              "      <th>25810</th>\n",
              "      <td>0.002213</td>\n",
              "      <td>0.006563</td>\n",
              "      <td>-0.004018</td>\n",
              "      <td>0.004363</td>\n",
              "      <td>0.000576</td>\n",
              "      <td>0.001229</td>\n",
              "      <td>-3.675685e-03</td>\n",
              "      <td>8.417493e-03</td>\n",
              "      <td>0.015178</td>\n",
              "      <td>0.022756</td>\n",
              "      <td>0.027630</td>\n",
              "      <td>0.053560</td>\n",
              "      <td>-0.005657</td>\n",
              "      <td>0.012001</td>\n",
              "      <td>-0.004058</td>\n",
              "      <td>0.009622</td>\n",
              "      <td>-0.030638</td>\n",
              "      <td>0.042340</td>\n",
              "      <td>-0.014558</td>\n",
              "      <td>0.020529</td>\n",
              "      <td>0.003704</td>\n",
              "      <td>0.005277</td>\n",
              "      <td>0.019905</td>\n",
              "      <td>0.026731</td>\n",
              "      <td>-0.001104</td>\n",
              "      <td>0.001176</td>\n",
              "      <td>0.002291</td>\n",
              "      <td>0.003918</td>\n",
              "      <td>-0.003432</td>\n",
              "      <td>0.003445</td>\n",
              "      <td>8.655613e-04</td>\n",
              "      <td>0.001469</td>\n",
              "      <td>0.004044</td>\n",
              "      <td>0.037678</td>\n",
              "      <td>0.009813</td>\n",
              "      <td>0.070357</td>\n",
              "      <td>-0.003081</td>\n",
              "      <td>0.033613</td>\n",
              "      <td>-0.010971</td>\n",
              "      <td>0.023993</td>\n",
              "      <td>...</td>\n",
              "      <td>-0.004860</td>\n",
              "      <td>0.019651</td>\n",
              "      <td>-0.017204</td>\n",
              "      <td>0.039021</td>\n",
              "      <td>0.001317</td>\n",
              "      <td>0.008191</td>\n",
              "      <td>-0.002941</td>\n",
              "      <td>0.004748</td>\n",
              "      <td>0.000870</td>\n",
              "      <td>0.011182</td>\n",
              "      <td>0.001498</td>\n",
              "      <td>0.001928</td>\n",
              "      <td>-0.004177</td>\n",
              "      <td>0.006771</td>\n",
              "      <td>0.001697</td>\n",
              "      <td>0.001809</td>\n",
              "      <td>-0.006517</td>\n",
              "      <td>0.019904</td>\n",
              "      <td>-0.005290</td>\n",
              "      <td>0.011187</td>\n",
              "      <td>0.010746</td>\n",
              "      <td>0.018313</td>\n",
              "      <td>0.000816</td>\n",
              "      <td>0.024984</td>\n",
              "      <td>-0.008461</td>\n",
              "      <td>0.012988</td>\n",
              "      <td>0.016441</td>\n",
              "      <td>0.035193</td>\n",
              "      <td>-0.036037</td>\n",
              "      <td>0.037508</td>\n",
              "      <td>-0.000402</td>\n",
              "      <td>0.015500</td>\n",
              "      <td>-0.003064</td>\n",
              "      <td>0.005396</td>\n",
              "      <td>-0.000912</td>\n",
              "      <td>0.003326</td>\n",
              "      <td>-0.001072</td>\n",
              "      <td>0.001962</td>\n",
              "      <td>0.001860</td>\n",
              "      <td>0.004177</td>\n",
              "    </tr>\n",
              "    <tr>\n",
              "      <th>25811</th>\n",
              "      <td>-0.001247</td>\n",
              "      <td>0.014004</td>\n",
              "      <td>0.002621</td>\n",
              "      <td>0.003316</td>\n",
              "      <td>0.001221</td>\n",
              "      <td>0.004819</td>\n",
              "      <td>1.794873e-03</td>\n",
              "      <td>2.406151e-03</td>\n",
              "      <td>-0.024999</td>\n",
              "      <td>0.051782</td>\n",
              "      <td>0.045513</td>\n",
              "      <td>0.072177</td>\n",
              "      <td>-0.019869</td>\n",
              "      <td>0.034467</td>\n",
              "      <td>0.028633</td>\n",
              "      <td>0.030227</td>\n",
              "      <td>0.002242</td>\n",
              "      <td>0.019303</td>\n",
              "      <td>-0.001735</td>\n",
              "      <td>0.084803</td>\n",
              "      <td>-0.023408</td>\n",
              "      <td>0.037618</td>\n",
              "      <td>0.011181</td>\n",
              "      <td>0.036837</td>\n",
              "      <td>-0.000896</td>\n",
              "      <td>0.001975</td>\n",
              "      <td>0.000563</td>\n",
              "      <td>0.001315</td>\n",
              "      <td>-0.000334</td>\n",
              "      <td>0.000867</td>\n",
              "      <td>3.345647e-04</td>\n",
              "      <td>0.001744</td>\n",
              "      <td>-0.004931</td>\n",
              "      <td>0.061859</td>\n",
              "      <td>0.000204</td>\n",
              "      <td>0.016952</td>\n",
              "      <td>0.007594</td>\n",
              "      <td>0.028576</td>\n",
              "      <td>0.007767</td>\n",
              "      <td>0.037805</td>\n",
              "      <td>...</td>\n",
              "      <td>-0.009977</td>\n",
              "      <td>0.028214</td>\n",
              "      <td>0.023236</td>\n",
              "      <td>0.029909</td>\n",
              "      <td>-0.011806</td>\n",
              "      <td>0.021965</td>\n",
              "      <td>0.000460</td>\n",
              "      <td>0.011243</td>\n",
              "      <td>0.002822</td>\n",
              "      <td>0.005249</td>\n",
              "      <td>0.004534</td>\n",
              "      <td>0.008843</td>\n",
              "      <td>0.000801</td>\n",
              "      <td>0.006828</td>\n",
              "      <td>-0.001178</td>\n",
              "      <td>0.002359</td>\n",
              "      <td>-0.018416</td>\n",
              "      <td>0.035759</td>\n",
              "      <td>0.026500</td>\n",
              "      <td>0.038410</td>\n",
              "      <td>-0.013180</td>\n",
              "      <td>0.023838</td>\n",
              "      <td>0.002045</td>\n",
              "      <td>0.018840</td>\n",
              "      <td>-0.011010</td>\n",
              "      <td>0.024303</td>\n",
              "      <td>0.000702</td>\n",
              "      <td>0.090080</td>\n",
              "      <td>-0.009045</td>\n",
              "      <td>0.020731</td>\n",
              "      <td>-0.010778</td>\n",
              "      <td>0.025951</td>\n",
              "      <td>-0.004918</td>\n",
              "      <td>0.010569</td>\n",
              "      <td>0.003674</td>\n",
              "      <td>0.005423</td>\n",
              "      <td>0.001816</td>\n",
              "      <td>0.002865</td>\n",
              "      <td>0.001438</td>\n",
              "      <td>0.002853</td>\n",
              "    </tr>\n",
              "    <tr>\n",
              "      <th>25812</th>\n",
              "      <td>-0.015033</td>\n",
              "      <td>0.016339</td>\n",
              "      <td>-0.006485</td>\n",
              "      <td>0.011687</td>\n",
              "      <td>-0.001000</td>\n",
              "      <td>0.002670</td>\n",
              "      <td>1.460801e-04</td>\n",
              "      <td>2.211207e-03</td>\n",
              "      <td>0.000862</td>\n",
              "      <td>0.047489</td>\n",
              "      <td>0.049977</td>\n",
              "      <td>0.096611</td>\n",
              "      <td>-0.013686</td>\n",
              "      <td>0.025805</td>\n",
              "      <td>0.005260</td>\n",
              "      <td>0.017203</td>\n",
              "      <td>-0.010646</td>\n",
              "      <td>0.049378</td>\n",
              "      <td>0.017084</td>\n",
              "      <td>0.019343</td>\n",
              "      <td>0.004897</td>\n",
              "      <td>0.012137</td>\n",
              "      <td>0.047008</td>\n",
              "      <td>0.051128</td>\n",
              "      <td>0.000902</td>\n",
              "      <td>0.002766</td>\n",
              "      <td>-0.012437</td>\n",
              "      <td>0.013589</td>\n",
              "      <td>0.000775</td>\n",
              "      <td>0.000972</td>\n",
              "      <td>-1.235274e-03</td>\n",
              "      <td>0.002407</td>\n",
              "      <td>-0.048763</td>\n",
              "      <td>0.065654</td>\n",
              "      <td>-0.014382</td>\n",
              "      <td>0.044963</td>\n",
              "      <td>-0.014475</td>\n",
              "      <td>0.019909</td>\n",
              "      <td>-0.003106</td>\n",
              "      <td>0.097330</td>\n",
              "      <td>...</td>\n",
              "      <td>0.008323</td>\n",
              "      <td>0.033300</td>\n",
              "      <td>0.006790</td>\n",
              "      <td>0.016264</td>\n",
              "      <td>0.006408</td>\n",
              "      <td>0.016873</td>\n",
              "      <td>-0.000056</td>\n",
              "      <td>0.050071</td>\n",
              "      <td>0.002276</td>\n",
              "      <td>0.002561</td>\n",
              "      <td>0.001255</td>\n",
              "      <td>0.002518</td>\n",
              "      <td>-0.001215</td>\n",
              "      <td>0.003431</td>\n",
              "      <td>-0.001189</td>\n",
              "      <td>0.004146</td>\n",
              "      <td>-0.018365</td>\n",
              "      <td>0.031646</td>\n",
              "      <td>-0.005102</td>\n",
              "      <td>0.020509</td>\n",
              "      <td>0.006126</td>\n",
              "      <td>0.014363</td>\n",
              "      <td>0.007151</td>\n",
              "      <td>0.019801</td>\n",
              "      <td>-0.012778</td>\n",
              "      <td>0.028701</td>\n",
              "      <td>-0.004016</td>\n",
              "      <td>0.016853</td>\n",
              "      <td>0.002362</td>\n",
              "      <td>0.006459</td>\n",
              "      <td>0.004909</td>\n",
              "      <td>0.011929</td>\n",
              "      <td>0.000571</td>\n",
              "      <td>0.005795</td>\n",
              "      <td>-0.001193</td>\n",
              "      <td>0.007907</td>\n",
              "      <td>-0.002226</td>\n",
              "      <td>0.005689</td>\n",
              "      <td>0.001290</td>\n",
              "      <td>0.003134</td>\n",
              "    </tr>\n",
              "  </tbody>\n",
              "</table>\n",
              "<p>25813 rows × 128 columns</p>\n",
              "</div>"
            ],
            "text/plain": [
              "            0         1         2    ...       125       126       127\n",
              "0      0.000101  0.000120 -0.000038  ...  0.001421  0.000124  0.000129\n",
              "1      0.000140  0.000147  0.000310  ...  0.004763  0.001003  0.001189\n",
              "2     -0.000024  0.000046  0.000289  ...  0.000010 -0.000294  0.008429\n",
              "3      0.000800  0.000801  0.000002  ...  0.000113 -0.000115  0.000270\n",
              "4     -0.000005  0.000158  0.000309  ...  0.006436  0.000220  0.000334\n",
              "...         ...       ...       ...  ...       ...       ...       ...\n",
              "25808  0.002221  0.003812  0.003768  ...  0.006901  0.000287  0.005661\n",
              "25809 -0.003199  0.004457  0.001429  ...  0.001998  0.001587  0.005663\n",
              "25810  0.002213  0.006563 -0.004018  ...  0.001962  0.001860  0.004177\n",
              "25811 -0.001247  0.014004  0.002621  ...  0.002865  0.001438  0.002853\n",
              "25812 -0.015033  0.016339 -0.006485  ...  0.005689  0.001290  0.003134\n",
              "\n",
              "[25813 rows x 128 columns]"
            ]
          },
          "metadata": {
            "tags": []
          },
          "execution_count": 16
        }
      ]
    },
    {
      "cell_type": "code",
      "metadata": {
        "id": "lB7I9oTpYyJd"
      },
      "source": [
        "import glob\n",
        "import pandas as pd\n"
      ],
      "execution_count": null,
      "outputs": []
    },
    {
      "cell_type": "code",
      "metadata": {
        "id": "h54Zd2iMYUbo"
      },
      "source": [
        "#path = glob.glob(\"/content/*.csv\")\n",
        "csv2s = []\n",
        "for i in range(10):\n",
        "    csv2s.append(pd.read_csv('fountain_data0'+str(i)+'.csv', header=None))\n",
        "csv2s.append(pd.read_csv('fountain_data10.csv', header=None))"
      ],
      "execution_count": null,
      "outputs": []
    },
    {
      "cell_type": "code",
      "metadata": {
        "colab": {
          "base_uri": "https://localhost:8080/"
        },
        "id": "3hd1oS301kqq",
        "outputId": "3af124f2-55e4-408d-ab3e-0642c87a0f19"
      },
      "source": [
        "len(csv2s)"
      ],
      "execution_count": null,
      "outputs": [
        {
          "output_type": "execute_result",
          "data": {
            "text/plain": [
              "11"
            ]
          },
          "metadata": {
            "tags": []
          },
          "execution_count": 7
        }
      ]
    },
    {
      "cell_type": "code",
      "metadata": {
        "id": "N87IjY6T1pXb"
      },
      "source": [
        "descriptors = ae.predict(csvs[0])\n",
        "descriptors_next = ae.predict(csvs[1])"
      ],
      "execution_count": null,
      "outputs": []
    },
    {
      "cell_type": "code",
      "metadata": {
        "colab": {
          "base_uri": "https://localhost:8080/"
        },
        "id": "EwbgJVE33Dis",
        "outputId": "ab9c3ccb-4dc0-4818-aab1-42c8075809e5"
      },
      "source": [
        "#Packages to use SURF\n",
        "!pip install opencv-python==3.4.2.17\n",
        "!pip install opencv-contrib-python==3.4.2.17\n",
        "#Getting a SURF descriptor\n",
        "import cv2"
      ],
      "execution_count": null,
      "outputs": [
        {
          "output_type": "stream",
          "text": [
            "Collecting opencv-python==3.4.2.17\n",
            "\u001b[?25l  Downloading https://files.pythonhosted.org/packages/53/e0/21c8964fa8ef50842ebefaa7346a3cf0e37b56c8ecd97ed6bd2dbe577705/opencv_python-3.4.2.17-cp36-cp36m-manylinux1_x86_64.whl (25.0MB)\n",
            "\u001b[K     |████████████████████████████████| 25.0MB 1.3MB/s \n",
            "\u001b[?25hRequirement already satisfied: numpy>=1.11.3 in /usr/local/lib/python3.6/dist-packages (from opencv-python==3.4.2.17) (1.19.5)\n",
            "\u001b[31mERROR: albumentations 0.1.12 has requirement imgaug<0.2.7,>=0.2.5, but you'll have imgaug 0.2.9 which is incompatible.\u001b[0m\n",
            "Installing collected packages: opencv-python\n",
            "  Found existing installation: opencv-python 4.1.2.30\n",
            "    Uninstalling opencv-python-4.1.2.30:\n",
            "      Successfully uninstalled opencv-python-4.1.2.30\n",
            "Successfully installed opencv-python-3.4.2.17\n",
            "Collecting opencv-contrib-python==3.4.2.17\n",
            "\u001b[?25l  Downloading https://files.pythonhosted.org/packages/61/29/fc60b2de1713aa92946992544329f20ccb5e4ba26290f403e04b7da44105/opencv_contrib_python-3.4.2.17-cp36-cp36m-manylinux1_x86_64.whl (30.6MB)\n",
            "\u001b[K     |████████████████████████████████| 30.6MB 110kB/s \n",
            "\u001b[?25hRequirement already satisfied: numpy>=1.11.3 in /usr/local/lib/python3.6/dist-packages (from opencv-contrib-python==3.4.2.17) (1.19.5)\n",
            "Installing collected packages: opencv-contrib-python\n",
            "  Found existing installation: opencv-contrib-python 4.1.2.30\n",
            "    Uninstalling opencv-contrib-python-4.1.2.30:\n",
            "      Successfully uninstalled opencv-contrib-python-4.1.2.30\n",
            "Successfully installed opencv-contrib-python-3.4.2.17\n"
          ],
          "name": "stdout"
        }
      ]
    },
    {
      "cell_type": "code",
      "metadata": {
        "id": "VPmJxL1kanj0"
      },
      "source": [
        "from google.colab import files"
      ],
      "execution_count": null,
      "outputs": []
    },
    {
      "cell_type": "code",
      "metadata": {
        "colab": {
          "base_uri": "https://localhost:8080/",
          "height": 17
        },
        "id": "4mEKG9ENa26n",
        "outputId": "983c1725-b3b9-4c98-b53e-932e6909d439"
      },
      "source": [
        "bf = cv2.BFMatcher()\n",
        "m_file_name = \"mmm.txt\"\n",
        "File_object = open(m_file_name, \"w\")\n",
        "for k in range(len(csv2s)-1):\n",
        "  fontana = csv2s[k]\n",
        "  for i in range(k+1, len(csv2s)):\n",
        "    fontana_next = csv2s[i]\n",
        "    descriptors = ae.predict(fontana)\n",
        "    descriptors_next = ae.predict(fontana_next)\n",
        "    if(i>=10):\n",
        "      File_object.write(\"000\" + str(k) + \".jpg\" + \" 00\" + str(i) + \".jpg\" + \"\\n\")\n",
        "    else:\n",
        "      File_object.write(\"000\" + str(k) + \".jpg\" + \" 000\" + str(i) + \".jpg\" + \"\\n\")\n",
        "    matches = bf.knnMatch(descriptors,descriptors_next,k=2)\n",
        "    good = []\n",
        "    for m,n in matches:\n",
        "      if m.distance < 0.75*n.distance:\n",
        "        good.append(m)\n",
        "    for j in range(len(good)):\n",
        "      File_object.write(str(good[j].queryIdx) + \" \" + str(good[j].trainIdx)+ \"\\n\")\n",
        "    File_object.write(\"\\n\")\n",
        "File_object.close()\n",
        "File_object = open(m_file_name, \"r\")\n",
        "File_object.read()\n",
        "files.download(m_file_name)"
      ],
      "execution_count": null,
      "outputs": [
        {
          "output_type": "display_data",
          "data": {
            "application/javascript": [
              "\n",
              "    async function download(id, filename, size) {\n",
              "      if (!google.colab.kernel.accessAllowed) {\n",
              "        return;\n",
              "      }\n",
              "      const div = document.createElement('div');\n",
              "      const label = document.createElement('label');\n",
              "      label.textContent = `Downloading \"${filename}\": `;\n",
              "      div.appendChild(label);\n",
              "      const progress = document.createElement('progress');\n",
              "      progress.max = size;\n",
              "      div.appendChild(progress);\n",
              "      document.body.appendChild(div);\n",
              "\n",
              "      const buffers = [];\n",
              "      let downloaded = 0;\n",
              "\n",
              "      const channel = await google.colab.kernel.comms.open(id);\n",
              "      // Send a message to notify the kernel that we're ready.\n",
              "      channel.send({})\n",
              "\n",
              "      for await (const message of channel.messages) {\n",
              "        // Send a message to notify the kernel that we're ready.\n",
              "        channel.send({})\n",
              "        if (message.buffers) {\n",
              "          for (const buffer of message.buffers) {\n",
              "            buffers.push(buffer);\n",
              "            downloaded += buffer.byteLength;\n",
              "            progress.value = downloaded;\n",
              "          }\n",
              "        }\n",
              "      }\n",
              "      const blob = new Blob(buffers, {type: 'application/binary'});\n",
              "      const a = document.createElement('a');\n",
              "      a.href = window.URL.createObjectURL(blob);\n",
              "      a.download = filename;\n",
              "      div.appendChild(a);\n",
              "      a.click();\n",
              "      div.remove();\n",
              "    }\n",
              "  "
            ],
            "text/plain": [
              "<IPython.core.display.Javascript object>"
            ]
          },
          "metadata": {
            "tags": []
          }
        },
        {
          "output_type": "display_data",
          "data": {
            "application/javascript": [
              "download(\"download_f9534cf2-d00e-471f-be6d-6fa5b0cd439c\", \"mmm.txt\", 1232911)"
            ],
            "text/plain": [
              "<IPython.core.display.Javascript object>"
            ]
          },
          "metadata": {
            "tags": []
          }
        }
      ]
    },
    {
      "cell_type": "markdown",
      "metadata": {
        "id": "nqYuhIgYE9Tl"
      },
      "source": [
        "The resulting file was saved and used for reconstruction."
      ]
    },
    {
      "cell_type": "code",
      "metadata": {
        "id": "_P_LEgX25yCi"
      },
      "source": [
        ""
      ],
      "execution_count": null,
      "outputs": []
    }
  ]
}