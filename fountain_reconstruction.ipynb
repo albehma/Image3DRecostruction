{
  "nbformat": 4,
  "nbformat_minor": 0,
  "metadata": {
    "colab": {
      "name": "fountain_reconstruction.ipynb",
      "provenance": [],
      "collapsed_sections": [],
      "authorship_tag": "ABX9TyPlrtkwJLG8HApzmc7li7QB",
      "include_colab_link": true
    },
    "kernelspec": {
      "name": "python3",
      "display_name": "Python 3"
    }
  },
  "cells": [
    {
      "cell_type": "markdown",
      "metadata": {
        "id": "view-in-github",
        "colab_type": "text"
      },
      "source": [
        "<a href=\"https://colab.research.google.com/github/albehma/Image3DRecostruction/blob/main/fountain_reconstruction.ipynb\" target=\"_parent\"><img src=\"https://colab.research.google.com/assets/colab-badge.svg\" alt=\"Open In Colab\"/></a>"
      ]
    },
    {
      "cell_type": "markdown",
      "metadata": {
        "id": "uunscxnGBMz1"
      },
      "source": [
        "**3D-AR Project: Alberto Mautone and Arina Prostakova**"
      ]
    },
    {
      "cell_type": "markdown",
      "metadata": {
        "id": "tt2hvlddCebY"
      },
      "source": [
        "SfM: implementation of a SURF features extractors for test images (fountain and tiso) saved in a .txt file suitable for colmap, and features matching saved in a .txt file suitable for colmap."
      ]
    },
    {
      "cell_type": "code",
      "metadata": {
        "id": "FJPiHUnYGa69"
      },
      "source": [
        "import numpy as np\n",
        "import pandas as pd"
      ],
      "execution_count": null,
      "outputs": []
    },
    {
      "cell_type": "markdown",
      "metadata": {
        "id": "d84poTgEChco"
      },
      "source": [
        "FIRST PART: Recostruction on original SURF keypoints, descriptors"
      ]
    },
    {
      "cell_type": "code",
      "metadata": {
        "id": "ATbFXn8UArfy"
      },
      "source": [
        "fountain_link = 'https://raw.githubusercontent.com/openMVG/SfM_quality_evaluation/master/Benchmarking_Camera_Calibration_2008/fountain-P11/images'"
      ],
      "execution_count": null,
      "outputs": []
    },
    {
      "cell_type": "code",
      "metadata": {
        "colab": {
          "base_uri": "https://localhost:8080/"
        },
        "id": "xG4hCYTZBR-t",
        "outputId": "50e10f0a-1a3c-421b-8eaf-53106cb079f8"
      },
      "source": [
        "#Packages to use SURF\n",
        "!pip install opencv-python==3.4.2.17\n",
        "!pip install opencv-contrib-python==3.4.2.17"
      ],
      "execution_count": null,
      "outputs": [
        {
          "output_type": "stream",
          "text": [
            "Collecting opencv-python==3.4.2.17\n",
            "\u001b[?25l  Downloading https://files.pythonhosted.org/packages/53/e0/21c8964fa8ef50842ebefaa7346a3cf0e37b56c8ecd97ed6bd2dbe577705/opencv_python-3.4.2.17-cp36-cp36m-manylinux1_x86_64.whl (25.0MB)\n",
            "\u001b[K     |████████████████████████████████| 25.0MB 1.4MB/s \n",
            "\u001b[?25hRequirement already satisfied: numpy>=1.11.3 in /usr/local/lib/python3.6/dist-packages (from opencv-python==3.4.2.17) (1.19.5)\n",
            "\u001b[31mERROR: albumentations 0.1.12 has requirement imgaug<0.2.7,>=0.2.5, but you'll have imgaug 0.2.9 which is incompatible.\u001b[0m\n",
            "Installing collected packages: opencv-python\n",
            "  Found existing installation: opencv-python 4.1.2.30\n",
            "    Uninstalling opencv-python-4.1.2.30:\n",
            "      Successfully uninstalled opencv-python-4.1.2.30\n",
            "Successfully installed opencv-python-3.4.2.17\n",
            "Collecting opencv-contrib-python==3.4.2.17\n",
            "\u001b[?25l  Downloading https://files.pythonhosted.org/packages/61/29/fc60b2de1713aa92946992544329f20ccb5e4ba26290f403e04b7da44105/opencv_contrib_python-3.4.2.17-cp36-cp36m-manylinux1_x86_64.whl (30.6MB)\n",
            "\u001b[K     |████████████████████████████████| 30.6MB 158kB/s \n",
            "\u001b[?25hRequirement already satisfied: numpy>=1.11.3 in /usr/local/lib/python3.6/dist-packages (from opencv-contrib-python==3.4.2.17) (1.19.5)\n",
            "Installing collected packages: opencv-contrib-python\n",
            "  Found existing installation: opencv-contrib-python 4.1.2.30\n",
            "    Uninstalling opencv-contrib-python-4.1.2.30:\n",
            "      Successfully uninstalled opencv-contrib-python-4.1.2.30\n",
            "Successfully installed opencv-contrib-python-3.4.2.17\n"
          ],
          "name": "stdout"
        }
      ]
    },
    {
      "cell_type": "markdown",
      "metadata": {
        "id": "UYGblSnpBWPX"
      },
      "source": [
        "Obtaining **fountain** images from online and storing them in a list."
      ]
    },
    {
      "cell_type": "code",
      "metadata": {
        "colab": {
          "base_uri": "https://localhost:8080/"
        },
        "id": "eCOwnet6BSow",
        "outputId": "1697384f-1228-405f-cb02-e50ae093f6d0"
      },
      "source": [
        "from skimage import io\n",
        "fountain_imgs = []\n",
        "for i in range(11):\n",
        "  if(i>10):\n",
        "    link = fountain_link+'/{:03}.jpg'.format(i)+'?raw=true'\n",
        "  link = fountain_link+'/0{:03}.jpg'.format(i)+'?raw=true'\n",
        "  print(link) #just for debugging\n",
        "  img = io.imread(link)\n",
        "  fountain_imgs.append(img)"
      ],
      "execution_count": null,
      "outputs": [
        {
          "output_type": "stream",
          "text": [
            "https://raw.githubusercontent.com/openMVG/SfM_quality_evaluation/master/Benchmarking_Camera_Calibration_2008/fountain-P11/images/0000.jpg?raw=true\n",
            "https://raw.githubusercontent.com/openMVG/SfM_quality_evaluation/master/Benchmarking_Camera_Calibration_2008/fountain-P11/images/0001.jpg?raw=true\n",
            "https://raw.githubusercontent.com/openMVG/SfM_quality_evaluation/master/Benchmarking_Camera_Calibration_2008/fountain-P11/images/0002.jpg?raw=true\n",
            "https://raw.githubusercontent.com/openMVG/SfM_quality_evaluation/master/Benchmarking_Camera_Calibration_2008/fountain-P11/images/0003.jpg?raw=true\n",
            "https://raw.githubusercontent.com/openMVG/SfM_quality_evaluation/master/Benchmarking_Camera_Calibration_2008/fountain-P11/images/0004.jpg?raw=true\n",
            "https://raw.githubusercontent.com/openMVG/SfM_quality_evaluation/master/Benchmarking_Camera_Calibration_2008/fountain-P11/images/0005.jpg?raw=true\n",
            "https://raw.githubusercontent.com/openMVG/SfM_quality_evaluation/master/Benchmarking_Camera_Calibration_2008/fountain-P11/images/0006.jpg?raw=true\n",
            "https://raw.githubusercontent.com/openMVG/SfM_quality_evaluation/master/Benchmarking_Camera_Calibration_2008/fountain-P11/images/0007.jpg?raw=true\n",
            "https://raw.githubusercontent.com/openMVG/SfM_quality_evaluation/master/Benchmarking_Camera_Calibration_2008/fountain-P11/images/0008.jpg?raw=true\n",
            "https://raw.githubusercontent.com/openMVG/SfM_quality_evaluation/master/Benchmarking_Camera_Calibration_2008/fountain-P11/images/0009.jpg?raw=true\n",
            "https://raw.githubusercontent.com/openMVG/SfM_quality_evaluation/master/Benchmarking_Camera_Calibration_2008/fountain-P11/images/0010.jpg?raw=true\n"
          ],
          "name": "stdout"
        }
      ]
    },
    {
      "cell_type": "code",
      "metadata": {
        "colab": {
          "base_uri": "https://localhost:8080/"
        },
        "id": "tXs745cLBjvd",
        "outputId": "4599952b-4cda-49d6-c6c3-f313f8870388"
      },
      "source": [
        "print(len(fountain_imgs)) #just for debugging"
      ],
      "execution_count": null,
      "outputs": [
        {
          "output_type": "stream",
          "text": [
            "11\n"
          ],
          "name": "stdout"
        }
      ]
    },
    {
      "cell_type": "code",
      "metadata": {
        "id": "JsIwsSDeBoQn"
      },
      "source": [
        "#Getting a SURF descriptor\n",
        "import cv2\n",
        "surf = cv2.xfeatures2d.SURF_create() #for fountain dataset, we don't use any threshold, because they are only 11 images\n",
        "surf.setExtended(True)\n",
        "\n",
        "from google.colab import files"
      ],
      "execution_count": null,
      "outputs": []
    },
    {
      "cell_type": "markdown",
      "metadata": {
        "id": "2Ow-8QneBsML"
      },
      "source": [
        "Obtaining the .txt files for each SURF features in the format requested by Colmap"
      ]
    },
    {
      "cell_type": "code",
      "metadata": {
        "id": "Jf1clnFrBs2w"
      },
      "source": [
        "for k in range(len(fountain_imgs)):\n",
        "  fontana = fountain_imgs[k]\n",
        "  keypoints_surf, descriptors = surf.detectAndCompute(fontana, None)\n",
        "  if(k>=10):\n",
        "    file_name = \"00\" + str(k) + \".jpg\" + \".txt\"\n",
        "  else:\n",
        "    file_name = \"000\" + str(k) + \".jpg\" + \".txt\"\n",
        "  File_object = open(file_name, \"w\")\n",
        "  File_object.write(str(descriptors.shape[0]) + \" \" + str(descriptors.shape[1]) + \"\\n\")\n",
        "  for i in range(descriptors.shape[0]):\n",
        "    File_object.write(str(keypoints_surf[i].pt[0]) +  \" \" + str(keypoints_surf[i].pt[1]) + \" \" + str(keypoints_surf[i].size) + \" \" + str(keypoints_surf[i].angle) + \" \")\n",
        "    for j in range(descriptors.shape[1]):\n",
        "      if (j==descriptors.shape[1]-1):\n",
        "        File_object.write(\"0\")\n",
        "      else:\n",
        "        File_object.write(\"0 \")\n",
        "    File_object.write(\"\\n\")\n",
        "  File_object.close()\n",
        "  File_object = open(file_name, \"r\")\n",
        "  File_object.read()\n",
        "  files.download(file_name)"
      ],
      "execution_count": null,
      "outputs": []
    },
    {
      "cell_type": "markdown",
      "metadata": {
        "id": "UpGw3joxB1Wu"
      },
      "source": [
        "Obtaining the .txt file of the matchings as requested by Colmap"
      ]
    },
    {
      "cell_type": "code",
      "metadata": {
        "id": "jHH0eI9VB2ao"
      },
      "source": [
        "bf = cv2.BFMatcher()\n",
        "m_file_name = \"mmm.txt\"\n",
        "File_object = open(m_file_name, \"w\")\n",
        "for k in range(len(fountain_imgs)-1):\n",
        "  fontana = fountain_imgs[k]\n",
        "  for i in range(k+1, len(fountain_imgs)):\n",
        "    fontana_next = fountain_imgs[i]\n",
        "    keypoints_surf, descriptors = surf.detectAndCompute(fontana, None)\n",
        "    keypoints_surf_next, descriptors_next = surf.detectAndCompute(fontana_next, None)\n",
        "    if(i>=10):\n",
        "      File_object.write(\"000\" + str(k) + \".jpg\" + \" 00\" + str(i) + \".jpg\" + \"\\n\")\n",
        "    else:\n",
        "      File_object.write(\"000\" + str(k) + \".jpg\" + \" 000\" + str(i) + \".jpg\" + \"\\n\")\n",
        "    matches = bf.knnMatch(descriptors,descriptors_next,k=2)\n",
        "    good = []\n",
        "    for m,n in matches:\n",
        "      if m.distance < 0.75*n.distance:\n",
        "        good.append(m)\n",
        "    for j in range(len(good)):\n",
        "      File_object.write(str(good[j].queryIdx) + \" \" + str(good[j].trainIdx)+ \"\\n\")\n",
        "    File_object.write(\"\\n\")\n",
        "File_object.close()\n",
        "File_object = open(m_file_name, \"r\")\n",
        "File_object.read()\n",
        "files.download(m_file_name)"
      ],
      "execution_count": null,
      "outputs": []
    },
    {
      "cell_type": "markdown",
      "metadata": {
        "id": "izMc9WacDHUK"
      },
      "source": [
        "Now the original images analysis has finished: we can proceed with the reconstruction of the fountain and tiso with the original descriptors on Colmap. (See drive folder for the results)"
      ]
    },
    {
      "cell_type": "markdown",
      "metadata": {
        "id": "W-ZDjneYDHwZ"
      },
      "source": [
        "**SECOND PART:** Let's proceed with the compression of the features and the new 3D reconstruction.\n",
        "\n",
        "**First step:** producing the .csv files for each image to be given to the autoencoder."
      ]
    },
    {
      "cell_type": "code",
      "metadata": {
        "colab": {
          "base_uri": "https://localhost:8080/",
          "height": 17
        },
        "id": "mSqKgZGlDM9i",
        "outputId": "358ec1b1-e383-45e0-e52d-23b15164809a"
      },
      "source": [
        "import csv\n",
        "for k in range(len(fountain_imgs)):\n",
        "  if(k<10):\n",
        "    title = 'fountain_data' + str(0) + str(k) + '.csv';\n",
        "  else:\n",
        "    title = 'fountain_data' + str(k) + '.csv';\n",
        "  with open(title, mode='w') as td:\n",
        "    t_writer = csv.writer(td, delimiter=',')\n",
        "    fountain = fountain_imgs[k]\n",
        "    keypoints_surf, descriptors = surf.detectAndCompute(fountain, None)\n",
        "    for d in descriptors:\n",
        "      t_writer.writerow(d)\n",
        "  files.download(title) "
      ],
      "execution_count": null,
      "outputs": [
        {
          "output_type": "display_data",
          "data": {
            "application/javascript": [
              "\n",
              "    async function download(id, filename, size) {\n",
              "      if (!google.colab.kernel.accessAllowed) {\n",
              "        return;\n",
              "      }\n",
              "      const div = document.createElement('div');\n",
              "      const label = document.createElement('label');\n",
              "      label.textContent = `Downloading \"${filename}\": `;\n",
              "      div.appendChild(label);\n",
              "      const progress = document.createElement('progress');\n",
              "      progress.max = size;\n",
              "      div.appendChild(progress);\n",
              "      document.body.appendChild(div);\n",
              "\n",
              "      const buffers = [];\n",
              "      let downloaded = 0;\n",
              "\n",
              "      const channel = await google.colab.kernel.comms.open(id);\n",
              "      // Send a message to notify the kernel that we're ready.\n",
              "      channel.send({})\n",
              "\n",
              "      for await (const message of channel.messages) {\n",
              "        // Send a message to notify the kernel that we're ready.\n",
              "        channel.send({})\n",
              "        if (message.buffers) {\n",
              "          for (const buffer of message.buffers) {\n",
              "            buffers.push(buffer);\n",
              "            downloaded += buffer.byteLength;\n",
              "            progress.value = downloaded;\n",
              "          }\n",
              "        }\n",
              "      }\n",
              "      const blob = new Blob(buffers, {type: 'application/binary'});\n",
              "      const a = document.createElement('a');\n",
              "      a.href = window.URL.createObjectURL(blob);\n",
              "      a.download = filename;\n",
              "      div.appendChild(a);\n",
              "      a.click();\n",
              "      div.remove();\n",
              "    }\n",
              "  "
            ],
            "text/plain": [
              "<IPython.core.display.Javascript object>"
            ]
          },
          "metadata": {
            "tags": []
          }
        },
        {
          "output_type": "display_data",
          "data": {
            "application/javascript": [
              "download(\"download_a3c60fc8-20ee-4285-b70a-a9878b0d8c50\", \"fountain_data00.csv\", 33613077)"
            ],
            "text/plain": [
              "<IPython.core.display.Javascript object>"
            ]
          },
          "metadata": {
            "tags": []
          }
        },
        {
          "output_type": "display_data",
          "data": {
            "application/javascript": [
              "\n",
              "    async function download(id, filename, size) {\n",
              "      if (!google.colab.kernel.accessAllowed) {\n",
              "        return;\n",
              "      }\n",
              "      const div = document.createElement('div');\n",
              "      const label = document.createElement('label');\n",
              "      label.textContent = `Downloading \"${filename}\": `;\n",
              "      div.appendChild(label);\n",
              "      const progress = document.createElement('progress');\n",
              "      progress.max = size;\n",
              "      div.appendChild(progress);\n",
              "      document.body.appendChild(div);\n",
              "\n",
              "      const buffers = [];\n",
              "      let downloaded = 0;\n",
              "\n",
              "      const channel = await google.colab.kernel.comms.open(id);\n",
              "      // Send a message to notify the kernel that we're ready.\n",
              "      channel.send({})\n",
              "\n",
              "      for await (const message of channel.messages) {\n",
              "        // Send a message to notify the kernel that we're ready.\n",
              "        channel.send({})\n",
              "        if (message.buffers) {\n",
              "          for (const buffer of message.buffers) {\n",
              "            buffers.push(buffer);\n",
              "            downloaded += buffer.byteLength;\n",
              "            progress.value = downloaded;\n",
              "          }\n",
              "        }\n",
              "      }\n",
              "      const blob = new Blob(buffers, {type: 'application/binary'});\n",
              "      const a = document.createElement('a');\n",
              "      a.href = window.URL.createObjectURL(blob);\n",
              "      a.download = filename;\n",
              "      div.appendChild(a);\n",
              "      a.click();\n",
              "      div.remove();\n",
              "    }\n",
              "  "
            ],
            "text/plain": [
              "<IPython.core.display.Javascript object>"
            ]
          },
          "metadata": {
            "tags": []
          }
        },
        {
          "output_type": "display_data",
          "data": {
            "application/javascript": [
              "download(\"download_d3a413de-47ed-40ae-b332-8e818b8f5ced\", \"fountain_data01.csv\", 39424670)"
            ],
            "text/plain": [
              "<IPython.core.display.Javascript object>"
            ]
          },
          "metadata": {
            "tags": []
          }
        },
        {
          "output_type": "display_data",
          "data": {
            "application/javascript": [
              "\n",
              "    async function download(id, filename, size) {\n",
              "      if (!google.colab.kernel.accessAllowed) {\n",
              "        return;\n",
              "      }\n",
              "      const div = document.createElement('div');\n",
              "      const label = document.createElement('label');\n",
              "      label.textContent = `Downloading \"${filename}\": `;\n",
              "      div.appendChild(label);\n",
              "      const progress = document.createElement('progress');\n",
              "      progress.max = size;\n",
              "      div.appendChild(progress);\n",
              "      document.body.appendChild(div);\n",
              "\n",
              "      const buffers = [];\n",
              "      let downloaded = 0;\n",
              "\n",
              "      const channel = await google.colab.kernel.comms.open(id);\n",
              "      // Send a message to notify the kernel that we're ready.\n",
              "      channel.send({})\n",
              "\n",
              "      for await (const message of channel.messages) {\n",
              "        // Send a message to notify the kernel that we're ready.\n",
              "        channel.send({})\n",
              "        if (message.buffers) {\n",
              "          for (const buffer of message.buffers) {\n",
              "            buffers.push(buffer);\n",
              "            downloaded += buffer.byteLength;\n",
              "            progress.value = downloaded;\n",
              "          }\n",
              "        }\n",
              "      }\n",
              "      const blob = new Blob(buffers, {type: 'application/binary'});\n",
              "      const a = document.createElement('a');\n",
              "      a.href = window.URL.createObjectURL(blob);\n",
              "      a.download = filename;\n",
              "      div.appendChild(a);\n",
              "      a.click();\n",
              "      div.remove();\n",
              "    }\n",
              "  "
            ],
            "text/plain": [
              "<IPython.core.display.Javascript object>"
            ]
          },
          "metadata": {
            "tags": []
          }
        },
        {
          "output_type": "display_data",
          "data": {
            "application/javascript": [
              "download(\"download_474a0e60-d2c0-4170-bcc2-fc008edd380a\", \"fountain_data02.csv\", 40052372)"
            ],
            "text/plain": [
              "<IPython.core.display.Javascript object>"
            ]
          },
          "metadata": {
            "tags": []
          }
        },
        {
          "output_type": "display_data",
          "data": {
            "application/javascript": [
              "\n",
              "    async function download(id, filename, size) {\n",
              "      if (!google.colab.kernel.accessAllowed) {\n",
              "        return;\n",
              "      }\n",
              "      const div = document.createElement('div');\n",
              "      const label = document.createElement('label');\n",
              "      label.textContent = `Downloading \"${filename}\": `;\n",
              "      div.appendChild(label);\n",
              "      const progress = document.createElement('progress');\n",
              "      progress.max = size;\n",
              "      div.appendChild(progress);\n",
              "      document.body.appendChild(div);\n",
              "\n",
              "      const buffers = [];\n",
              "      let downloaded = 0;\n",
              "\n",
              "      const channel = await google.colab.kernel.comms.open(id);\n",
              "      // Send a message to notify the kernel that we're ready.\n",
              "      channel.send({})\n",
              "\n",
              "      for await (const message of channel.messages) {\n",
              "        // Send a message to notify the kernel that we're ready.\n",
              "        channel.send({})\n",
              "        if (message.buffers) {\n",
              "          for (const buffer of message.buffers) {\n",
              "            buffers.push(buffer);\n",
              "            downloaded += buffer.byteLength;\n",
              "            progress.value = downloaded;\n",
              "          }\n",
              "        }\n",
              "      }\n",
              "      const blob = new Blob(buffers, {type: 'application/binary'});\n",
              "      const a = document.createElement('a');\n",
              "      a.href = window.URL.createObjectURL(blob);\n",
              "      a.download = filename;\n",
              "      div.appendChild(a);\n",
              "      a.click();\n",
              "      div.remove();\n",
              "    }\n",
              "  "
            ],
            "text/plain": [
              "<IPython.core.display.Javascript object>"
            ]
          },
          "metadata": {
            "tags": []
          }
        },
        {
          "output_type": "display_data",
          "data": {
            "application/javascript": [
              "download(\"download_1771f3ef-db14-4096-a255-172c4bb67f2e\", \"fountain_data03.csv\", 42882132)"
            ],
            "text/plain": [
              "<IPython.core.display.Javascript object>"
            ]
          },
          "metadata": {
            "tags": []
          }
        },
        {
          "output_type": "display_data",
          "data": {
            "application/javascript": [
              "\n",
              "    async function download(id, filename, size) {\n",
              "      if (!google.colab.kernel.accessAllowed) {\n",
              "        return;\n",
              "      }\n",
              "      const div = document.createElement('div');\n",
              "      const label = document.createElement('label');\n",
              "      label.textContent = `Downloading \"${filename}\": `;\n",
              "      div.appendChild(label);\n",
              "      const progress = document.createElement('progress');\n",
              "      progress.max = size;\n",
              "      div.appendChild(progress);\n",
              "      document.body.appendChild(div);\n",
              "\n",
              "      const buffers = [];\n",
              "      let downloaded = 0;\n",
              "\n",
              "      const channel = await google.colab.kernel.comms.open(id);\n",
              "      // Send a message to notify the kernel that we're ready.\n",
              "      channel.send({})\n",
              "\n",
              "      for await (const message of channel.messages) {\n",
              "        // Send a message to notify the kernel that we're ready.\n",
              "        channel.send({})\n",
              "        if (message.buffers) {\n",
              "          for (const buffer of message.buffers) {\n",
              "            buffers.push(buffer);\n",
              "            downloaded += buffer.byteLength;\n",
              "            progress.value = downloaded;\n",
              "          }\n",
              "        }\n",
              "      }\n",
              "      const blob = new Blob(buffers, {type: 'application/binary'});\n",
              "      const a = document.createElement('a');\n",
              "      a.href = window.URL.createObjectURL(blob);\n",
              "      a.download = filename;\n",
              "      div.appendChild(a);\n",
              "      a.click();\n",
              "      div.remove();\n",
              "    }\n",
              "  "
            ],
            "text/plain": [
              "<IPython.core.display.Javascript object>"
            ]
          },
          "metadata": {
            "tags": []
          }
        },
        {
          "output_type": "display_data",
          "data": {
            "application/javascript": [
              "download(\"download_ab8605d2-b262-4a5d-a0e4-7538ac5a13ae\", \"fountain_data04.csv\", 41448306)"
            ],
            "text/plain": [
              "<IPython.core.display.Javascript object>"
            ]
          },
          "metadata": {
            "tags": []
          }
        },
        {
          "output_type": "display_data",
          "data": {
            "application/javascript": [
              "\n",
              "    async function download(id, filename, size) {\n",
              "      if (!google.colab.kernel.accessAllowed) {\n",
              "        return;\n",
              "      }\n",
              "      const div = document.createElement('div');\n",
              "      const label = document.createElement('label');\n",
              "      label.textContent = `Downloading \"${filename}\": `;\n",
              "      div.appendChild(label);\n",
              "      const progress = document.createElement('progress');\n",
              "      progress.max = size;\n",
              "      div.appendChild(progress);\n",
              "      document.body.appendChild(div);\n",
              "\n",
              "      const buffers = [];\n",
              "      let downloaded = 0;\n",
              "\n",
              "      const channel = await google.colab.kernel.comms.open(id);\n",
              "      // Send a message to notify the kernel that we're ready.\n",
              "      channel.send({})\n",
              "\n",
              "      for await (const message of channel.messages) {\n",
              "        // Send a message to notify the kernel that we're ready.\n",
              "        channel.send({})\n",
              "        if (message.buffers) {\n",
              "          for (const buffer of message.buffers) {\n",
              "            buffers.push(buffer);\n",
              "            downloaded += buffer.byteLength;\n",
              "            progress.value = downloaded;\n",
              "          }\n",
              "        }\n",
              "      }\n",
              "      const blob = new Blob(buffers, {type: 'application/binary'});\n",
              "      const a = document.createElement('a');\n",
              "      a.href = window.URL.createObjectURL(blob);\n",
              "      a.download = filename;\n",
              "      div.appendChild(a);\n",
              "      a.click();\n",
              "      div.remove();\n",
              "    }\n",
              "  "
            ],
            "text/plain": [
              "<IPython.core.display.Javascript object>"
            ]
          },
          "metadata": {
            "tags": []
          }
        },
        {
          "output_type": "display_data",
          "data": {
            "application/javascript": [
              "download(\"download_5679bbfc-ec97-462b-acf7-606ce749b01f\", \"fountain_data05.csv\", 40907911)"
            ],
            "text/plain": [
              "<IPython.core.display.Javascript object>"
            ]
          },
          "metadata": {
            "tags": []
          }
        },
        {
          "output_type": "display_data",
          "data": {
            "application/javascript": [
              "\n",
              "    async function download(id, filename, size) {\n",
              "      if (!google.colab.kernel.accessAllowed) {\n",
              "        return;\n",
              "      }\n",
              "      const div = document.createElement('div');\n",
              "      const label = document.createElement('label');\n",
              "      label.textContent = `Downloading \"${filename}\": `;\n",
              "      div.appendChild(label);\n",
              "      const progress = document.createElement('progress');\n",
              "      progress.max = size;\n",
              "      div.appendChild(progress);\n",
              "      document.body.appendChild(div);\n",
              "\n",
              "      const buffers = [];\n",
              "      let downloaded = 0;\n",
              "\n",
              "      const channel = await google.colab.kernel.comms.open(id);\n",
              "      // Send a message to notify the kernel that we're ready.\n",
              "      channel.send({})\n",
              "\n",
              "      for await (const message of channel.messages) {\n",
              "        // Send a message to notify the kernel that we're ready.\n",
              "        channel.send({})\n",
              "        if (message.buffers) {\n",
              "          for (const buffer of message.buffers) {\n",
              "            buffers.push(buffer);\n",
              "            downloaded += buffer.byteLength;\n",
              "            progress.value = downloaded;\n",
              "          }\n",
              "        }\n",
              "      }\n",
              "      const blob = new Blob(buffers, {type: 'application/binary'});\n",
              "      const a = document.createElement('a');\n",
              "      a.href = window.URL.createObjectURL(blob);\n",
              "      a.download = filename;\n",
              "      div.appendChild(a);\n",
              "      a.click();\n",
              "      div.remove();\n",
              "    }\n",
              "  "
            ],
            "text/plain": [
              "<IPython.core.display.Javascript object>"
            ]
          },
          "metadata": {
            "tags": []
          }
        },
        {
          "output_type": "display_data",
          "data": {
            "application/javascript": [
              "download(\"download_5533e38f-56d0-4d4c-bfd5-53f2c15e2181\", \"fountain_data06.csv\", 42401742)"
            ],
            "text/plain": [
              "<IPython.core.display.Javascript object>"
            ]
          },
          "metadata": {
            "tags": []
          }
        },
        {
          "output_type": "display_data",
          "data": {
            "application/javascript": [
              "\n",
              "    async function download(id, filename, size) {\n",
              "      if (!google.colab.kernel.accessAllowed) {\n",
              "        return;\n",
              "      }\n",
              "      const div = document.createElement('div');\n",
              "      const label = document.createElement('label');\n",
              "      label.textContent = `Downloading \"${filename}\": `;\n",
              "      div.appendChild(label);\n",
              "      const progress = document.createElement('progress');\n",
              "      progress.max = size;\n",
              "      div.appendChild(progress);\n",
              "      document.body.appendChild(div);\n",
              "\n",
              "      const buffers = [];\n",
              "      let downloaded = 0;\n",
              "\n",
              "      const channel = await google.colab.kernel.comms.open(id);\n",
              "      // Send a message to notify the kernel that we're ready.\n",
              "      channel.send({})\n",
              "\n",
              "      for await (const message of channel.messages) {\n",
              "        // Send a message to notify the kernel that we're ready.\n",
              "        channel.send({})\n",
              "        if (message.buffers) {\n",
              "          for (const buffer of message.buffers) {\n",
              "            buffers.push(buffer);\n",
              "            downloaded += buffer.byteLength;\n",
              "            progress.value = downloaded;\n",
              "          }\n",
              "        }\n",
              "      }\n",
              "      const blob = new Blob(buffers, {type: 'application/binary'});\n",
              "      const a = document.createElement('a');\n",
              "      a.href = window.URL.createObjectURL(blob);\n",
              "      a.download = filename;\n",
              "      div.appendChild(a);\n",
              "      a.click();\n",
              "      div.remove();\n",
              "    }\n",
              "  "
            ],
            "text/plain": [
              "<IPython.core.display.Javascript object>"
            ]
          },
          "metadata": {
            "tags": []
          }
        },
        {
          "output_type": "display_data",
          "data": {
            "application/javascript": [
              "download(\"download_9d640d10-f96f-4688-a40e-a1c21d0daedc\", \"fountain_data07.csv\", 39977866)"
            ],
            "text/plain": [
              "<IPython.core.display.Javascript object>"
            ]
          },
          "metadata": {
            "tags": []
          }
        },
        {
          "output_type": "display_data",
          "data": {
            "application/javascript": [
              "\n",
              "    async function download(id, filename, size) {\n",
              "      if (!google.colab.kernel.accessAllowed) {\n",
              "        return;\n",
              "      }\n",
              "      const div = document.createElement('div');\n",
              "      const label = document.createElement('label');\n",
              "      label.textContent = `Downloading \"${filename}\": `;\n",
              "      div.appendChild(label);\n",
              "      const progress = document.createElement('progress');\n",
              "      progress.max = size;\n",
              "      div.appendChild(progress);\n",
              "      document.body.appendChild(div);\n",
              "\n",
              "      const buffers = [];\n",
              "      let downloaded = 0;\n",
              "\n",
              "      const channel = await google.colab.kernel.comms.open(id);\n",
              "      // Send a message to notify the kernel that we're ready.\n",
              "      channel.send({})\n",
              "\n",
              "      for await (const message of channel.messages) {\n",
              "        // Send a message to notify the kernel that we're ready.\n",
              "        channel.send({})\n",
              "        if (message.buffers) {\n",
              "          for (const buffer of message.buffers) {\n",
              "            buffers.push(buffer);\n",
              "            downloaded += buffer.byteLength;\n",
              "            progress.value = downloaded;\n",
              "          }\n",
              "        }\n",
              "      }\n",
              "      const blob = new Blob(buffers, {type: 'application/binary'});\n",
              "      const a = document.createElement('a');\n",
              "      a.href = window.URL.createObjectURL(blob);\n",
              "      a.download = filename;\n",
              "      div.appendChild(a);\n",
              "      a.click();\n",
              "      div.remove();\n",
              "    }\n",
              "  "
            ],
            "text/plain": [
              "<IPython.core.display.Javascript object>"
            ]
          },
          "metadata": {
            "tags": []
          }
        },
        {
          "output_type": "display_data",
          "data": {
            "application/javascript": [
              "download(\"download_e28f11e0-512c-404b-a075-8ebf438350b6\", \"fountain_data08.csv\", 41116464)"
            ],
            "text/plain": [
              "<IPython.core.display.Javascript object>"
            ]
          },
          "metadata": {
            "tags": []
          }
        },
        {
          "output_type": "display_data",
          "data": {
            "application/javascript": [
              "\n",
              "    async function download(id, filename, size) {\n",
              "      if (!google.colab.kernel.accessAllowed) {\n",
              "        return;\n",
              "      }\n",
              "      const div = document.createElement('div');\n",
              "      const label = document.createElement('label');\n",
              "      label.textContent = `Downloading \"${filename}\": `;\n",
              "      div.appendChild(label);\n",
              "      const progress = document.createElement('progress');\n",
              "      progress.max = size;\n",
              "      div.appendChild(progress);\n",
              "      document.body.appendChild(div);\n",
              "\n",
              "      const buffers = [];\n",
              "      let downloaded = 0;\n",
              "\n",
              "      const channel = await google.colab.kernel.comms.open(id);\n",
              "      // Send a message to notify the kernel that we're ready.\n",
              "      channel.send({})\n",
              "\n",
              "      for await (const message of channel.messages) {\n",
              "        // Send a message to notify the kernel that we're ready.\n",
              "        channel.send({})\n",
              "        if (message.buffers) {\n",
              "          for (const buffer of message.buffers) {\n",
              "            buffers.push(buffer);\n",
              "            downloaded += buffer.byteLength;\n",
              "            progress.value = downloaded;\n",
              "          }\n",
              "        }\n",
              "      }\n",
              "      const blob = new Blob(buffers, {type: 'application/binary'});\n",
              "      const a = document.createElement('a');\n",
              "      a.href = window.URL.createObjectURL(blob);\n",
              "      a.download = filename;\n",
              "      div.appendChild(a);\n",
              "      a.click();\n",
              "      div.remove();\n",
              "    }\n",
              "  "
            ],
            "text/plain": [
              "<IPython.core.display.Javascript object>"
            ]
          },
          "metadata": {
            "tags": []
          }
        },
        {
          "output_type": "display_data",
          "data": {
            "application/javascript": [
              "download(\"download_842ef8fa-7895-4170-9f42-9c8087c3c8c3\", \"fountain_data09.csv\", 43874286)"
            ],
            "text/plain": [
              "<IPython.core.display.Javascript object>"
            ]
          },
          "metadata": {
            "tags": []
          }
        },
        {
          "output_type": "display_data",
          "data": {
            "application/javascript": [
              "\n",
              "    async function download(id, filename, size) {\n",
              "      if (!google.colab.kernel.accessAllowed) {\n",
              "        return;\n",
              "      }\n",
              "      const div = document.createElement('div');\n",
              "      const label = document.createElement('label');\n",
              "      label.textContent = `Downloading \"${filename}\": `;\n",
              "      div.appendChild(label);\n",
              "      const progress = document.createElement('progress');\n",
              "      progress.max = size;\n",
              "      div.appendChild(progress);\n",
              "      document.body.appendChild(div);\n",
              "\n",
              "      const buffers = [];\n",
              "      let downloaded = 0;\n",
              "\n",
              "      const channel = await google.colab.kernel.comms.open(id);\n",
              "      // Send a message to notify the kernel that we're ready.\n",
              "      channel.send({})\n",
              "\n",
              "      for await (const message of channel.messages) {\n",
              "        // Send a message to notify the kernel that we're ready.\n",
              "        channel.send({})\n",
              "        if (message.buffers) {\n",
              "          for (const buffer of message.buffers) {\n",
              "            buffers.push(buffer);\n",
              "            downloaded += buffer.byteLength;\n",
              "            progress.value = downloaded;\n",
              "          }\n",
              "        }\n",
              "      }\n",
              "      const blob = new Blob(buffers, {type: 'application/binary'});\n",
              "      const a = document.createElement('a');\n",
              "      a.href = window.URL.createObjectURL(blob);\n",
              "      a.download = filename;\n",
              "      div.appendChild(a);\n",
              "      a.click();\n",
              "      div.remove();\n",
              "    }\n",
              "  "
            ],
            "text/plain": [
              "<IPython.core.display.Javascript object>"
            ]
          },
          "metadata": {
            "tags": []
          }
        },
        {
          "output_type": "display_data",
          "data": {
            "application/javascript": [
              "download(\"download_0ffe226e-72fd-47e3-840c-7841d04c8bbb\", \"fountain_data10.csv\", 43578243)"
            ],
            "text/plain": [
              "<IPython.core.display.Javascript object>"
            ]
          },
          "metadata": {
            "tags": []
          }
        }
      ]
    },
    {
      "cell_type": "code",
      "metadata": {
        "id": "VhcTJuORFh6E"
      },
      "source": [
        "#Uploading the most accurate model\n",
        "from keras.models import load_model\n",
        "ae100 = load_model('autoencoder_model_100_noreg.h5')"
      ],
      "execution_count": null,
      "outputs": []
    },
    {
      "cell_type": "markdown",
      "metadata": {
        "id": "EOLbtRhLGvAJ"
      },
      "source": [
        "**Second step:** data prepapration. We include all the .csv files in a list, as we did for the original images at the beginning."
      ]
    },
    {
      "cell_type": "code",
      "metadata": {
        "id": "hgObeWOSF-A4"
      },
      "source": [
        "csvs = []\n",
        "csvs.append(pd.read_csv('/content/fountain_data00.csv', header=None))\n",
        "csvs.append(pd.read_csv('/content/fountain_data01.csv', header=None))\n",
        "csvs.append(pd.read_csv('/content/fountain_data02.csv', header=None))\n",
        "csvs.append(pd.read_csv('/content/fountain_data03.csv', header=None))\n",
        "csvs.append(pd.read_csv('/content/fountain_data04.csv', header=None))\n",
        "csvs.append(pd.read_csv('/content/fountain_data05.csv', header=None))\n",
        "csvs.append(pd.read_csv('/content/fountain_data06.csv', header=None))\n",
        "csvs.append(pd.read_csv('/content/fountain_data07.csv', header=None))\n",
        "csvs.append(pd.read_csv('/content/fountain_data08.csv', header=None))\n",
        "csvs.append(pd.read_csv('/content/fountain_data09.csv', header=None))\n",
        "csvs.append(pd.read_csv('/content/fountain_data10.csv', header=None))"
      ],
      "execution_count": null,
      "outputs": []
    },
    {
      "cell_type": "code",
      "metadata": {
        "colab": {
          "base_uri": "https://localhost:8080/"
        },
        "id": "UcVKl9DRGj9U",
        "outputId": "054c6b65-2af5-48d3-b3b9-5126399dd4d3"
      },
      "source": [
        "print(len(csvs)) #just for debugging"
      ],
      "execution_count": null,
      "outputs": [
        {
          "output_type": "stream",
          "text": [
            "11\n"
          ],
          "name": "stdout"
        }
      ]
    },
    {
      "cell_type": "markdown",
      "metadata": {
        "id": "oktjeH6lGnWW"
      },
      "source": [
        "**Third step:** the last step consist in creating the matching with the compressed descriptors. This is done the same way as before, with the difference that, instead of using detectandcompute(....jpg), we use predict(....csv)"
      ]
    },
    {
      "cell_type": "code",
      "metadata": {
        "colab": {
          "base_uri": "https://localhost:8080/",
          "height": 17
        },
        "id": "wxbV_F5JGwYy",
        "outputId": "3897b1a7-912d-4777-b4ba-093af31afc7c"
      },
      "source": [
        "bf = cv2.BFMatcher()\n",
        "m_file_name = \"mmm.txt\"\n",
        "File_object = open(m_file_name, \"w\")\n",
        "for k in range(len(csvs)-1):\n",
        "  fontana = csvs[k]\n",
        "  for i in range(k+1, len(csvs)):\n",
        "    fontana_next = csvs[i]\n",
        "    descriptors = ae100.predict(fontana)\n",
        "    descriptors_next = ae100.predict(fontana_next)\n",
        "    if(i>=10):\n",
        "      File_object.write(\"000\" + str(k) + \".jpg\" + \" 00\" + str(i) + \".jpg\" + \"\\n\")\n",
        "    else:\n",
        "      File_object.write(\"000\" + str(k) + \".jpg\" + \" 000\" + str(i) + \".jpg\" + \"\\n\")\n",
        "    matches = bf.knnMatch(descriptors,descriptors_next,k=2)\n",
        "    good = []\n",
        "    for m,n in matches:\n",
        "      if m.distance < 0.75*n.distance:\n",
        "        good.append(m)\n",
        "    for j in range(len(good)):\n",
        "      File_object.write(str(good[j].queryIdx) + \" \" + str(good[j].trainIdx)+ \"\\n\")\n",
        "    File_object.write(\"\\n\")\n",
        "File_object.close()\n",
        "File_object = open(m_file_name, \"r\")\n",
        "File_object.read()\n",
        "files.download(m_file_name)"
      ],
      "execution_count": null,
      "outputs": [
        {
          "output_type": "display_data",
          "data": {
            "application/javascript": [
              "\n",
              "    async function download(id, filename, size) {\n",
              "      if (!google.colab.kernel.accessAllowed) {\n",
              "        return;\n",
              "      }\n",
              "      const div = document.createElement('div');\n",
              "      const label = document.createElement('label');\n",
              "      label.textContent = `Downloading \"${filename}\": `;\n",
              "      div.appendChild(label);\n",
              "      const progress = document.createElement('progress');\n",
              "      progress.max = size;\n",
              "      div.appendChild(progress);\n",
              "      document.body.appendChild(div);\n",
              "\n",
              "      const buffers = [];\n",
              "      let downloaded = 0;\n",
              "\n",
              "      const channel = await google.colab.kernel.comms.open(id);\n",
              "      // Send a message to notify the kernel that we're ready.\n",
              "      channel.send({})\n",
              "\n",
              "      for await (const message of channel.messages) {\n",
              "        // Send a message to notify the kernel that we're ready.\n",
              "        channel.send({})\n",
              "        if (message.buffers) {\n",
              "          for (const buffer of message.buffers) {\n",
              "            buffers.push(buffer);\n",
              "            downloaded += buffer.byteLength;\n",
              "            progress.value = downloaded;\n",
              "          }\n",
              "        }\n",
              "      }\n",
              "      const blob = new Blob(buffers, {type: 'application/binary'});\n",
              "      const a = document.createElement('a');\n",
              "      a.href = window.URL.createObjectURL(blob);\n",
              "      a.download = filename;\n",
              "      div.appendChild(a);\n",
              "      a.click();\n",
              "      div.remove();\n",
              "    }\n",
              "  "
            ],
            "text/plain": [
              "<IPython.core.display.Javascript object>"
            ]
          },
          "metadata": {
            "tags": []
          }
        },
        {
          "output_type": "display_data",
          "data": {
            "application/javascript": [
              "download(\"download_0ce8b660-a549-417c-9399-9bdacfe7def5\", \"mmm.txt\", 1187999)"
            ],
            "text/plain": [
              "<IPython.core.display.Javascript object>"
            ]
          },
          "metadata": {
            "tags": []
          }
        }
      ]
    }
  ]
}